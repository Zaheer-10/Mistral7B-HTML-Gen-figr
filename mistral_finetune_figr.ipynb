{
  "cells": [
    {
      "cell_type": "markdown",
      "metadata": {
        "id": "E2CkxsA43m15"
      },
      "source": [
        "# FINETUNING `Mistral-7B-v0.1` ON CUSTOM DATASET NOTEBOOK [`figr`]:"
      ]
    },
    {
      "cell_type": "markdown",
      "source": [
        "![image.png](data:image/png;base64,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)"
      ],
      "metadata": {
        "id": "xLsCDN3XBUeW"
      }
    },
    {
      "cell_type": "markdown",
      "metadata": {
        "id": "E3yNBAk2ufS1"
      },
      "source": [
        "## **Installation**"
      ]
    },
    {
      "cell_type": "code",
      "execution_count": null,
      "metadata": {
        "colab": {
          "base_uri": "https://localhost:8080/"
        },
        "id": "FuXIFTFapAMI",
        "outputId": "9f0bcd7a-8554-43b5-9d46-1a1c3f9b3204"
      },
      "outputs": [
        {
          "output_type": "stream",
          "name": "stdout",
          "text": [
            "  Installing build dependencies ... \u001b[?25l\u001b[?25hdone\n",
            "  Getting requirements to build wheel ... \u001b[?25l\u001b[?25hdone\n",
            "  Preparing metadata (pyproject.toml) ... \u001b[?25l\u001b[?25hdone\n",
            "  Installing build dependencies ... \u001b[?25l\u001b[?25hdone\n",
            "  Getting requirements to build wheel ... \u001b[?25l\u001b[?25hdone\n",
            "  Preparing metadata (pyproject.toml) ... \u001b[?25l\u001b[?25hdone\n",
            "  Installing build dependencies ... \u001b[?25l\u001b[?25hdone\n",
            "  Getting requirements to build wheel ... \u001b[?25l\u001b[?25hdone\n",
            "  Preparing metadata (pyproject.toml) ... \u001b[?25l\u001b[?25hdone\n"
          ]
        }
      ],
      "source": [
        "# You only need to run this once per machine\n",
        "!pip install -q -U bitsandbytes\n",
        "!pip install -q -U git+https://github.com/huggingface/transformers.git\n",
        "!pip install -q -U git+https://github.com/huggingface/peft.git\n",
        "!pip install -q -U git+https://github.com/huggingface/accelerate.git\n",
        "!pip install -q -U datasets scipy ipywidgets matplotlib\n",
        "!pip install langchain -q\n",
        "!pip install trl  -q\n",
        "!pip install -q wandb -U"
      ]
    },
    {
      "cell_type": "markdown",
      "metadata": {
        "id": "Iy7Mo7tjujE6"
      },
      "source": [
        "## Imports"
      ]
    },
    {
      "cell_type": "code",
      "execution_count": null,
      "metadata": {
        "id": "wyVQ1flBRclQ"
      },
      "outputs": [],
      "source": [
        "import pandas as pd\n",
        "import matplotlib.pyplot as plt\n",
        "from google.colab import output\n",
        "output.enable_custom_widget_manager()\n",
        "from datasets import load_dataset"
      ]
    },
    {
      "cell_type": "markdown",
      "source": [
        "## **Load Data**"
      ],
      "metadata": {
        "id": "rEIOan67FRBg"
      }
    },
    {
      "cell_type": "code",
      "execution_count": null,
      "metadata": {
        "id": "s6f4z8EYmcJ6"
      },
      "outputs": [],
      "source": [
        "html_dataset = load_dataset('jawerty/html_dataset')"
      ]
    },
    {
      "cell_type": "code",
      "execution_count": null,
      "metadata": {
        "colab": {
          "base_uri": "https://localhost:8080/"
        },
        "id": "-D2XV9m_raRp",
        "outputId": "6a7f3f5c-b4b7-4c95-c76d-24167768e8d0"
      },
      "outputs": [
        {
          "output_type": "execute_result",
          "data": {
            "text/plain": [
              "dict_keys(['train'])"
            ]
          },
          "metadata": {},
          "execution_count": 4
        }
      ],
      "source": [
        "html_dataset.keys()"
      ]
    },
    {
      "cell_type": "code",
      "execution_count": null,
      "metadata": {
        "colab": {
          "base_uri": "https://localhost:8080/"
        },
        "id": "aLGG43ZYrdSU",
        "outputId": "a9231c63-7235-4c5e-8117-7c59836bea79"
      },
      "outputs": [
        {
          "output_type": "execute_result",
          "data": {
            "text/plain": [
              "Dataset({\n",
              "    features: ['html', 'label'],\n",
              "    num_rows: 43\n",
              "})"
            ]
          },
          "metadata": {},
          "execution_count": 5
        }
      ],
      "source": [
        "html_dataset['train']"
      ]
    },
    {
      "cell_type": "code",
      "execution_count": null,
      "metadata": {
        "id": "4beY_LCDvH2c"
      },
      "outputs": [],
      "source": [
        "dataset = html_dataset"
      ]
    },
    {
      "cell_type": "code",
      "execution_count": null,
      "metadata": {
        "id": "x57Ww80LrghK"
      },
      "outputs": [],
      "source": [
        "import pandas as pd\n",
        "df_html = pd.DataFrame(dataset['train'])"
      ]
    },
    {
      "cell_type": "code",
      "execution_count": null,
      "metadata": {
        "colab": {
          "base_uri": "https://localhost:8080/",
          "height": 206
        },
        "id": "EjKsyL8Krrul",
        "outputId": "f4267bd5-3a77-450b-975e-3c5f2ba80cbd"
      },
      "outputs": [
        {
          "output_type": "execute_result",
          "data": {
            "text/plain": [
              "                                                html  \\\n",
              "0  <div class=\"absolute top-2 left-2 z-50\"><a cla...   \n",
              "1  <div id=\"shopify-section-top-hat\" class=\"shopi...   \n",
              "2  <div id=\"__next\" data-reactroot=\"\"><div data-d...   \n",
              "3  <div class=\"main-wrapper\" role=\"main\">\\n    <d...   \n",
              "4  <div class=\"site\">\\n\\t\\t<div class=\"center\">\\n...   \n",
              "\n",
              "                                               label  \n",
              "0  this is a basic landing page with a email sign up  \n",
              "1                            a colorful landing page  \n",
              "2  this is a colorful landing page with a search bar  \n",
              "3  this is a colorful landing page with a search bar  \n",
              "4  a minimalist landing page that has a download ...  "
            ],
            "text/html": [
              "\n",
              "  <div id=\"df-1488fbb8-ed3c-4e3e-8468-90bc1e4ef838\" class=\"colab-df-container\">\n",
              "    <div>\n",
              "<style scoped>\n",
              "    .dataframe tbody tr th:only-of-type {\n",
              "        vertical-align: middle;\n",
              "    }\n",
              "\n",
              "    .dataframe tbody tr th {\n",
              "        vertical-align: top;\n",
              "    }\n",
              "\n",
              "    .dataframe thead th {\n",
              "        text-align: right;\n",
              "    }\n",
              "</style>\n",
              "<table border=\"1\" class=\"dataframe\">\n",
              "  <thead>\n",
              "    <tr style=\"text-align: right;\">\n",
              "      <th></th>\n",
              "      <th>html</th>\n",
              "      <th>label</th>\n",
              "    </tr>\n",
              "  </thead>\n",
              "  <tbody>\n",
              "    <tr>\n",
              "      <th>0</th>\n",
              "      <td>&lt;div class=\"absolute top-2 left-2 z-50\"&gt;&lt;a cla...</td>\n",
              "      <td>this is a basic landing page with a email sign up</td>\n",
              "    </tr>\n",
              "    <tr>\n",
              "      <th>1</th>\n",
              "      <td>&lt;div id=\"shopify-section-top-hat\" class=\"shopi...</td>\n",
              "      <td>a colorful landing page</td>\n",
              "    </tr>\n",
              "    <tr>\n",
              "      <th>2</th>\n",
              "      <td>&lt;div id=\"__next\" data-reactroot=\"\"&gt;&lt;div data-d...</td>\n",
              "      <td>this is a colorful landing page with a search bar</td>\n",
              "    </tr>\n",
              "    <tr>\n",
              "      <th>3</th>\n",
              "      <td>&lt;div class=\"main-wrapper\" role=\"main\"&gt;\\n    &lt;d...</td>\n",
              "      <td>this is a colorful landing page with a search bar</td>\n",
              "    </tr>\n",
              "    <tr>\n",
              "      <th>4</th>\n",
              "      <td>&lt;div class=\"site\"&gt;\\n\\t\\t&lt;div class=\"center\"&gt;\\n...</td>\n",
              "      <td>a minimalist landing page that has a download ...</td>\n",
              "    </tr>\n",
              "  </tbody>\n",
              "</table>\n",
              "</div>\n",
              "    <div class=\"colab-df-buttons\">\n",
              "\n",
              "  <div class=\"colab-df-container\">\n",
              "    <button class=\"colab-df-convert\" onclick=\"convertToInteractive('df-1488fbb8-ed3c-4e3e-8468-90bc1e4ef838')\"\n",
              "            title=\"Convert this dataframe to an interactive table.\"\n",
              "            style=\"display:none;\">\n",
              "\n",
              "  <svg xmlns=\"http://www.w3.org/2000/svg\" height=\"24px\" viewBox=\"0 -960 960 960\">\n",
              "    <path d=\"M120-120v-720h720v720H120Zm60-500h600v-160H180v160Zm220 220h160v-160H400v160Zm0 220h160v-160H400v160ZM180-400h160v-160H180v160Zm440 0h160v-160H620v160ZM180-180h160v-160H180v160Zm440 0h160v-160H620v160Z\"/>\n",
              "  </svg>\n",
              "    </button>\n",
              "\n",
              "  <style>\n",
              "    .colab-df-container {\n",
              "      display:flex;\n",
              "      gap: 12px;\n",
              "    }\n",
              "\n",
              "    .colab-df-convert {\n",
              "      background-color: #E8F0FE;\n",
              "      border: none;\n",
              "      border-radius: 50%;\n",
              "      cursor: pointer;\n",
              "      display: none;\n",
              "      fill: #1967D2;\n",
              "      height: 32px;\n",
              "      padding: 0 0 0 0;\n",
              "      width: 32px;\n",
              "    }\n",
              "\n",
              "    .colab-df-convert:hover {\n",
              "      background-color: #E2EBFA;\n",
              "      box-shadow: 0px 1px 2px rgba(60, 64, 67, 0.3), 0px 1px 3px 1px rgba(60, 64, 67, 0.15);\n",
              "      fill: #174EA6;\n",
              "    }\n",
              "\n",
              "    .colab-df-buttons div {\n",
              "      margin-bottom: 4px;\n",
              "    }\n",
              "\n",
              "    [theme=dark] .colab-df-convert {\n",
              "      background-color: #3B4455;\n",
              "      fill: #D2E3FC;\n",
              "    }\n",
              "\n",
              "    [theme=dark] .colab-df-convert:hover {\n",
              "      background-color: #434B5C;\n",
              "      box-shadow: 0px 1px 3px 1px rgba(0, 0, 0, 0.15);\n",
              "      filter: drop-shadow(0px 1px 2px rgba(0, 0, 0, 0.3));\n",
              "      fill: #FFFFFF;\n",
              "    }\n",
              "  </style>\n",
              "\n",
              "    <script>\n",
              "      const buttonEl =\n",
              "        document.querySelector('#df-1488fbb8-ed3c-4e3e-8468-90bc1e4ef838 button.colab-df-convert');\n",
              "      buttonEl.style.display =\n",
              "        google.colab.kernel.accessAllowed ? 'block' : 'none';\n",
              "\n",
              "      async function convertToInteractive(key) {\n",
              "        const element = document.querySelector('#df-1488fbb8-ed3c-4e3e-8468-90bc1e4ef838');\n",
              "        const dataTable =\n",
              "          await google.colab.kernel.invokeFunction('convertToInteractive',\n",
              "                                                    [key], {});\n",
              "        if (!dataTable) return;\n",
              "\n",
              "        const docLinkHtml = 'Like what you see? Visit the ' +\n",
              "          '<a target=\"_blank\" href=https://colab.research.google.com/notebooks/data_table.ipynb>data table notebook</a>'\n",
              "          + ' to learn more about interactive tables.';\n",
              "        element.innerHTML = '';\n",
              "        dataTable['output_type'] = 'display_data';\n",
              "        await google.colab.output.renderOutput(dataTable, element);\n",
              "        const docLink = document.createElement('div');\n",
              "        docLink.innerHTML = docLinkHtml;\n",
              "        element.appendChild(docLink);\n",
              "      }\n",
              "    </script>\n",
              "  </div>\n",
              "\n",
              "\n",
              "<div id=\"df-df33ab37-1441-41ca-82e4-084d006bb517\">\n",
              "  <button class=\"colab-df-quickchart\" onclick=\"quickchart('df-df33ab37-1441-41ca-82e4-084d006bb517')\"\n",
              "            title=\"Suggest charts\"\n",
              "            style=\"display:none;\">\n",
              "\n",
              "<svg xmlns=\"http://www.w3.org/2000/svg\" height=\"24px\"viewBox=\"0 0 24 24\"\n",
              "     width=\"24px\">\n",
              "    <g>\n",
              "        <path d=\"M19 3H5c-1.1 0-2 .9-2 2v14c0 1.1.9 2 2 2h14c1.1 0 2-.9 2-2V5c0-1.1-.9-2-2-2zM9 17H7v-7h2v7zm4 0h-2V7h2v10zm4 0h-2v-4h2v4z\"/>\n",
              "    </g>\n",
              "</svg>\n",
              "  </button>\n",
              "\n",
              "<style>\n",
              "  .colab-df-quickchart {\n",
              "      --bg-color: #E8F0FE;\n",
              "      --fill-color: #1967D2;\n",
              "      --hover-bg-color: #E2EBFA;\n",
              "      --hover-fill-color: #174EA6;\n",
              "      --disabled-fill-color: #AAA;\n",
              "      --disabled-bg-color: #DDD;\n",
              "  }\n",
              "\n",
              "  [theme=dark] .colab-df-quickchart {\n",
              "      --bg-color: #3B4455;\n",
              "      --fill-color: #D2E3FC;\n",
              "      --hover-bg-color: #434B5C;\n",
              "      --hover-fill-color: #FFFFFF;\n",
              "      --disabled-bg-color: #3B4455;\n",
              "      --disabled-fill-color: #666;\n",
              "  }\n",
              "\n",
              "  .colab-df-quickchart {\n",
              "    background-color: var(--bg-color);\n",
              "    border: none;\n",
              "    border-radius: 50%;\n",
              "    cursor: pointer;\n",
              "    display: none;\n",
              "    fill: var(--fill-color);\n",
              "    height: 32px;\n",
              "    padding: 0;\n",
              "    width: 32px;\n",
              "  }\n",
              "\n",
              "  .colab-df-quickchart:hover {\n",
              "    background-color: var(--hover-bg-color);\n",
              "    box-shadow: 0 1px 2px rgba(60, 64, 67, 0.3), 0 1px 3px 1px rgba(60, 64, 67, 0.15);\n",
              "    fill: var(--button-hover-fill-color);\n",
              "  }\n",
              "\n",
              "  .colab-df-quickchart-complete:disabled,\n",
              "  .colab-df-quickchart-complete:disabled:hover {\n",
              "    background-color: var(--disabled-bg-color);\n",
              "    fill: var(--disabled-fill-color);\n",
              "    box-shadow: none;\n",
              "  }\n",
              "\n",
              "  .colab-df-spinner {\n",
              "    border: 2px solid var(--fill-color);\n",
              "    border-color: transparent;\n",
              "    border-bottom-color: var(--fill-color);\n",
              "    animation:\n",
              "      spin 1s steps(1) infinite;\n",
              "  }\n",
              "\n",
              "  @keyframes spin {\n",
              "    0% {\n",
              "      border-color: transparent;\n",
              "      border-bottom-color: var(--fill-color);\n",
              "      border-left-color: var(--fill-color);\n",
              "    }\n",
              "    20% {\n",
              "      border-color: transparent;\n",
              "      border-left-color: var(--fill-color);\n",
              "      border-top-color: var(--fill-color);\n",
              "    }\n",
              "    30% {\n",
              "      border-color: transparent;\n",
              "      border-left-color: var(--fill-color);\n",
              "      border-top-color: var(--fill-color);\n",
              "      border-right-color: var(--fill-color);\n",
              "    }\n",
              "    40% {\n",
              "      border-color: transparent;\n",
              "      border-right-color: var(--fill-color);\n",
              "      border-top-color: var(--fill-color);\n",
              "    }\n",
              "    60% {\n",
              "      border-color: transparent;\n",
              "      border-right-color: var(--fill-color);\n",
              "    }\n",
              "    80% {\n",
              "      border-color: transparent;\n",
              "      border-right-color: var(--fill-color);\n",
              "      border-bottom-color: var(--fill-color);\n",
              "    }\n",
              "    90% {\n",
              "      border-color: transparent;\n",
              "      border-bottom-color: var(--fill-color);\n",
              "    }\n",
              "  }\n",
              "</style>\n",
              "\n",
              "  <script>\n",
              "    async function quickchart(key) {\n",
              "      const quickchartButtonEl =\n",
              "        document.querySelector('#' + key + ' button');\n",
              "      quickchartButtonEl.disabled = true;  // To prevent multiple clicks.\n",
              "      quickchartButtonEl.classList.add('colab-df-spinner');\n",
              "      try {\n",
              "        const charts = await google.colab.kernel.invokeFunction(\n",
              "            'suggestCharts', [key], {});\n",
              "      } catch (error) {\n",
              "        console.error('Error during call to suggestCharts:', error);\n",
              "      }\n",
              "      quickchartButtonEl.classList.remove('colab-df-spinner');\n",
              "      quickchartButtonEl.classList.add('colab-df-quickchart-complete');\n",
              "    }\n",
              "    (() => {\n",
              "      let quickchartButtonEl =\n",
              "        document.querySelector('#df-df33ab37-1441-41ca-82e4-084d006bb517 button');\n",
              "      quickchartButtonEl.style.display =\n",
              "        google.colab.kernel.accessAllowed ? 'block' : 'none';\n",
              "    })();\n",
              "  </script>\n",
              "</div>\n",
              "\n",
              "    </div>\n",
              "  </div>\n"
            ]
          },
          "metadata": {},
          "execution_count": 8
        }
      ],
      "source": [
        "df_html.head()"
      ]
    },
    {
      "cell_type": "code",
      "execution_count": null,
      "metadata": {
        "colab": {
          "base_uri": "https://localhost:8080/",
          "height": 1000
        },
        "id": "13_KgWlVSIM3",
        "outputId": "29032697-75b9-452c-e192-dae764c8f88f"
      },
      "outputs": [
        {
          "output_type": "execute_result",
          "data": {
            "text/plain": [
              "                                                 html  \\\n",
              "0   <div class=\"absolute top-2 left-2 z-50\"><a cla...   \n",
              "1   <div id=\"shopify-section-top-hat\" class=\"shopi...   \n",
              "2   <div id=\"__next\" data-reactroot=\"\"><div data-d...   \n",
              "3   <div class=\"main-wrapper\" role=\"main\">\\n    <d...   \n",
              "4   <div class=\"site\">\\n\\t\\t<div class=\"center\">\\n...   \n",
              "5   <div class=\"site\">\\n\\t\\t<div class=\"center\">\\n...   \n",
              "6   <div id=\"__next\"><div class=\"np-theme-light\"><...   \n",
              "7   <div id=\"site-skip-links\"><span id=\"popups-eve...   \n",
              "8   <div id=\"site-skip-links\"><span id=\"popups-eve...   \n",
              "9   <div id=\"__next\" data-reactroot=\"\"><div class=...   \n",
              "10  <div class=\"page-css-embed w-embed\">\\n      \\n...   \n",
              "11  <div class=\"w-embed w-iframe\">\\n<noscript><ifr...   \n",
              "12  <section id=\"header-hero\">\\n\\t<div class=\"top-...   \n",
              "13  <div id=\"root\"><div style=\"background-color: w...   \n",
              "14  <div id=\"app\" class=\"min-h-screen flex\">\\n<mai...   \n",
              "15  <div id=\"optin-monster-app\" class=\"site-contai...   \n",
              "16  <div class=\"container\">\\n\\t\\t\\t\\t<div class=\"c...   \n",
              "17  <div class=\"container\">\\n\\t\\t\\t\\t<div class=\"c...   \n",
              "18  <div id=\"__next\"><div data-testid=\"site-header...   \n",
              "19  <header class=\"header-global\">\\n      <div cla...   \n",
              "20  <div class=\"uxa-modal\" id=\"modal-behind\" style...   \n",
              "21                              <div id=\"root\"></div>   \n",
              "22  <div style=\"display: none;\"><!--?xml version=\"...   \n",
              "23  <main role=\"main\">\\n\\n\\n<div class=\"AuthFormCo...   \n",
              "24  <div id=\"root\"><noscript></noscript><div displ...   \n",
              "25  <div id=\"content-wrapper\">\\n<div id=\"content\">...   \n",
              "26  <div id=\"content-wrapper\">\\n<div id=\"content\">...   \n",
              "27  <div id=\"hs-feedback-fetcher\" title=\"submit hu...   \n",
              "28  <svg xmlns=\"http://www.w3.org/2000/svg\" viewBo...   \n",
              "29  <div aria-hidden=\"true\">\\n\\n\\n\\n\\n</div>\\n\\n\\n...   \n",
              "30  <div id=\"__next\"><div class=\"cookie-consent-ar...   \n",
              "31  <div id=\"app-element-mountpoint\"><div dir=\"ltr...   \n",
              "32  <center><h1>502 Bad Gateway</h1></center>\\n<hr...   \n",
              "33  <div id=\"cf-wrapper\">\\n\\n    \\n\\n    <div id=\"...   \n",
              "34  <svg xmlns=\"http://www.w3.org/2000/svg\" viewBo...   \n",
              "35  <img style=\"pointer-events: none; position: ab...   \n",
              "36  <div class=\"page-background-video page-backgro...   \n",
              "37  <div class=\"overlay\" style=\"display: none;\"><d...   \n",
              "38  <div id=\"moz-icons\" style=\"display: none;\"><!-...   \n",
              "39  <div id=\"hs-eu-cookie-confirmation\" class=\"hs-...   \n",
              "40  <div id=\"__next\" data-reactroot=\"\"><button cla...   \n",
              "41  <div id=\"__next\" data-reactroot=\"\"><button cla...   \n",
              "42  <a id=\"SkipToContent\" class=\"PageSkipLink u-vi...   \n",
              "\n",
              "                                                label  \n",
              "0   this is a basic landing page with a email sign up  \n",
              "1                             a colorful landing page  \n",
              "2   this is a colorful landing page with a search bar  \n",
              "3   this is a colorful landing page with a search bar  \n",
              "4   a minimalist landing page that has a download ...  \n",
              "5   this is a minimalist landing page that contain...  \n",
              "6                              this is a landing page  \n",
              "7                               a simple landing page  \n",
              "8                                 simple landing page  \n",
              "9                                  basic landing page  \n",
              "10                                a bold landing page  \n",
              "11                                       landing page  \n",
              "12  professional landing page that contains a down...  \n",
              "13                         this is a basic login page  \n",
              "14              colorful login page with a lead image  \n",
              "15           a basic login page that contains a video  \n",
              "16       simple login page that includes a lead image  \n",
              "17          a simple login page that has a lead image  \n",
              "18               fun login page with a social buttons  \n",
              "19                                 a clean login page  \n",
              "20                            a minimalist login page  \n",
              "21        a login page that has a only social buttons  \n",
              "22                                       a login page  \n",
              "23                                simple sign up page  \n",
              "24                                       sign up page  \n",
              "25                            a colorful sign up page  \n",
              "26                              colorful sign up page  \n",
              "27      a sign up page that has a only an email field  \n",
              "28                                 basic sign up page  \n",
              "29                        a professional sign up page  \n",
              "30  a professional sign up page that contains a on...  \n",
              "31     a sign up page that includes a onboarding flow  \n",
              "32  a fun sign up page that includes a newsletter ...  \n",
              "33                           this is a fun about page  \n",
              "34  basic about page that includes a services section  \n",
              "35          professional about page with a lead video  \n",
              "36  this is a clean about page that has a image tiles  \n",
              "37  this is a professional about page that include...  \n",
              "38                               this is a about page  \n",
              "39                          a professional about page  \n",
              "40                  bold about page with a animations  \n",
              "41         bold about page that includes a animations  \n",
              "42                      this is a colorful about page  "
            ],
            "text/html": [
              "\n",
              "  <div id=\"df-907c1ca0-fa33-4b6c-bcfb-7b3dc3063d26\" class=\"colab-df-container\">\n",
              "    <div>\n",
              "<style scoped>\n",
              "    .dataframe tbody tr th:only-of-type {\n",
              "        vertical-align: middle;\n",
              "    }\n",
              "\n",
              "    .dataframe tbody tr th {\n",
              "        vertical-align: top;\n",
              "    }\n",
              "\n",
              "    .dataframe thead th {\n",
              "        text-align: right;\n",
              "    }\n",
              "</style>\n",
              "<table border=\"1\" class=\"dataframe\">\n",
              "  <thead>\n",
              "    <tr style=\"text-align: right;\">\n",
              "      <th></th>\n",
              "      <th>html</th>\n",
              "      <th>label</th>\n",
              "    </tr>\n",
              "  </thead>\n",
              "  <tbody>\n",
              "    <tr>\n",
              "      <th>0</th>\n",
              "      <td>&lt;div class=\"absolute top-2 left-2 z-50\"&gt;&lt;a cla...</td>\n",
              "      <td>this is a basic landing page with a email sign up</td>\n",
              "    </tr>\n",
              "    <tr>\n",
              "      <th>1</th>\n",
              "      <td>&lt;div id=\"shopify-section-top-hat\" class=\"shopi...</td>\n",
              "      <td>a colorful landing page</td>\n",
              "    </tr>\n",
              "    <tr>\n",
              "      <th>2</th>\n",
              "      <td>&lt;div id=\"__next\" data-reactroot=\"\"&gt;&lt;div data-d...</td>\n",
              "      <td>this is a colorful landing page with a search bar</td>\n",
              "    </tr>\n",
              "    <tr>\n",
              "      <th>3</th>\n",
              "      <td>&lt;div class=\"main-wrapper\" role=\"main\"&gt;\\n    &lt;d...</td>\n",
              "      <td>this is a colorful landing page with a search bar</td>\n",
              "    </tr>\n",
              "    <tr>\n",
              "      <th>4</th>\n",
              "      <td>&lt;div class=\"site\"&gt;\\n\\t\\t&lt;div class=\"center\"&gt;\\n...</td>\n",
              "      <td>a minimalist landing page that has a download ...</td>\n",
              "    </tr>\n",
              "    <tr>\n",
              "      <th>5</th>\n",
              "      <td>&lt;div class=\"site\"&gt;\\n\\t\\t&lt;div class=\"center\"&gt;\\n...</td>\n",
              "      <td>this is a minimalist landing page that contain...</td>\n",
              "    </tr>\n",
              "    <tr>\n",
              "      <th>6</th>\n",
              "      <td>&lt;div id=\"__next\"&gt;&lt;div class=\"np-theme-light\"&gt;&lt;...</td>\n",
              "      <td>this is a landing page</td>\n",
              "    </tr>\n",
              "    <tr>\n",
              "      <th>7</th>\n",
              "      <td>&lt;div id=\"site-skip-links\"&gt;&lt;span id=\"popups-eve...</td>\n",
              "      <td>a simple landing page</td>\n",
              "    </tr>\n",
              "    <tr>\n",
              "      <th>8</th>\n",
              "      <td>&lt;div id=\"site-skip-links\"&gt;&lt;span id=\"popups-eve...</td>\n",
              "      <td>simple landing page</td>\n",
              "    </tr>\n",
              "    <tr>\n",
              "      <th>9</th>\n",
              "      <td>&lt;div id=\"__next\" data-reactroot=\"\"&gt;&lt;div class=...</td>\n",
              "      <td>basic landing page</td>\n",
              "    </tr>\n",
              "    <tr>\n",
              "      <th>10</th>\n",
              "      <td>&lt;div class=\"page-css-embed w-embed\"&gt;\\n      \\n...</td>\n",
              "      <td>a bold landing page</td>\n",
              "    </tr>\n",
              "    <tr>\n",
              "      <th>11</th>\n",
              "      <td>&lt;div class=\"w-embed w-iframe\"&gt;\\n&lt;noscript&gt;&lt;ifr...</td>\n",
              "      <td>landing page</td>\n",
              "    </tr>\n",
              "    <tr>\n",
              "      <th>12</th>\n",
              "      <td>&lt;section id=\"header-hero\"&gt;\\n\\t&lt;div class=\"top-...</td>\n",
              "      <td>professional landing page that contains a down...</td>\n",
              "    </tr>\n",
              "    <tr>\n",
              "      <th>13</th>\n",
              "      <td>&lt;div id=\"root\"&gt;&lt;div style=\"background-color: w...</td>\n",
              "      <td>this is a basic login page</td>\n",
              "    </tr>\n",
              "    <tr>\n",
              "      <th>14</th>\n",
              "      <td>&lt;div id=\"app\" class=\"min-h-screen flex\"&gt;\\n&lt;mai...</td>\n",
              "      <td>colorful login page with a lead image</td>\n",
              "    </tr>\n",
              "    <tr>\n",
              "      <th>15</th>\n",
              "      <td>&lt;div id=\"optin-monster-app\" class=\"site-contai...</td>\n",
              "      <td>a basic login page that contains a video</td>\n",
              "    </tr>\n",
              "    <tr>\n",
              "      <th>16</th>\n",
              "      <td>&lt;div class=\"container\"&gt;\\n\\t\\t\\t\\t&lt;div class=\"c...</td>\n",
              "      <td>simple login page that includes a lead image</td>\n",
              "    </tr>\n",
              "    <tr>\n",
              "      <th>17</th>\n",
              "      <td>&lt;div class=\"container\"&gt;\\n\\t\\t\\t\\t&lt;div class=\"c...</td>\n",
              "      <td>a simple login page that has a lead image</td>\n",
              "    </tr>\n",
              "    <tr>\n",
              "      <th>18</th>\n",
              "      <td>&lt;div id=\"__next\"&gt;&lt;div data-testid=\"site-header...</td>\n",
              "      <td>fun login page with a social buttons</td>\n",
              "    </tr>\n",
              "    <tr>\n",
              "      <th>19</th>\n",
              "      <td>&lt;header class=\"header-global\"&gt;\\n      &lt;div cla...</td>\n",
              "      <td>a clean login page</td>\n",
              "    </tr>\n",
              "    <tr>\n",
              "      <th>20</th>\n",
              "      <td>&lt;div class=\"uxa-modal\" id=\"modal-behind\" style...</td>\n",
              "      <td>a minimalist login page</td>\n",
              "    </tr>\n",
              "    <tr>\n",
              "      <th>21</th>\n",
              "      <td>&lt;div id=\"root\"&gt;&lt;/div&gt;</td>\n",
              "      <td>a login page that has a only social buttons</td>\n",
              "    </tr>\n",
              "    <tr>\n",
              "      <th>22</th>\n",
              "      <td>&lt;div style=\"display: none;\"&gt;&lt;!--?xml version=\"...</td>\n",
              "      <td>a login page</td>\n",
              "    </tr>\n",
              "    <tr>\n",
              "      <th>23</th>\n",
              "      <td>&lt;main role=\"main\"&gt;\\n\\n\\n&lt;div class=\"AuthFormCo...</td>\n",
              "      <td>simple sign up page</td>\n",
              "    </tr>\n",
              "    <tr>\n",
              "      <th>24</th>\n",
              "      <td>&lt;div id=\"root\"&gt;&lt;noscript&gt;&lt;/noscript&gt;&lt;div displ...</td>\n",
              "      <td>sign up page</td>\n",
              "    </tr>\n",
              "    <tr>\n",
              "      <th>25</th>\n",
              "      <td>&lt;div id=\"content-wrapper\"&gt;\\n&lt;div id=\"content\"&gt;...</td>\n",
              "      <td>a colorful sign up page</td>\n",
              "    </tr>\n",
              "    <tr>\n",
              "      <th>26</th>\n",
              "      <td>&lt;div id=\"content-wrapper\"&gt;\\n&lt;div id=\"content\"&gt;...</td>\n",
              "      <td>colorful sign up page</td>\n",
              "    </tr>\n",
              "    <tr>\n",
              "      <th>27</th>\n",
              "      <td>&lt;div id=\"hs-feedback-fetcher\" title=\"submit hu...</td>\n",
              "      <td>a sign up page that has a only an email field</td>\n",
              "    </tr>\n",
              "    <tr>\n",
              "      <th>28</th>\n",
              "      <td>&lt;svg xmlns=\"http://www.w3.org/2000/svg\" viewBo...</td>\n",
              "      <td>basic sign up page</td>\n",
              "    </tr>\n",
              "    <tr>\n",
              "      <th>29</th>\n",
              "      <td>&lt;div aria-hidden=\"true\"&gt;\\n\\n\\n\\n\\n&lt;/div&gt;\\n\\n\\n...</td>\n",
              "      <td>a professional sign up page</td>\n",
              "    </tr>\n",
              "    <tr>\n",
              "      <th>30</th>\n",
              "      <td>&lt;div id=\"__next\"&gt;&lt;div class=\"cookie-consent-ar...</td>\n",
              "      <td>a professional sign up page that contains a on...</td>\n",
              "    </tr>\n",
              "    <tr>\n",
              "      <th>31</th>\n",
              "      <td>&lt;div id=\"app-element-mountpoint\"&gt;&lt;div dir=\"ltr...</td>\n",
              "      <td>a sign up page that includes a onboarding flow</td>\n",
              "    </tr>\n",
              "    <tr>\n",
              "      <th>32</th>\n",
              "      <td>&lt;center&gt;&lt;h1&gt;502 Bad Gateway&lt;/h1&gt;&lt;/center&gt;\\n&lt;hr...</td>\n",
              "      <td>a fun sign up page that includes a newsletter ...</td>\n",
              "    </tr>\n",
              "    <tr>\n",
              "      <th>33</th>\n",
              "      <td>&lt;div id=\"cf-wrapper\"&gt;\\n\\n    \\n\\n    &lt;div id=\"...</td>\n",
              "      <td>this is a fun about page</td>\n",
              "    </tr>\n",
              "    <tr>\n",
              "      <th>34</th>\n",
              "      <td>&lt;svg xmlns=\"http://www.w3.org/2000/svg\" viewBo...</td>\n",
              "      <td>basic about page that includes a services section</td>\n",
              "    </tr>\n",
              "    <tr>\n",
              "      <th>35</th>\n",
              "      <td>&lt;img style=\"pointer-events: none; position: ab...</td>\n",
              "      <td>professional about page with a lead video</td>\n",
              "    </tr>\n",
              "    <tr>\n",
              "      <th>36</th>\n",
              "      <td>&lt;div class=\"page-background-video page-backgro...</td>\n",
              "      <td>this is a clean about page that has a image tiles</td>\n",
              "    </tr>\n",
              "    <tr>\n",
              "      <th>37</th>\n",
              "      <td>&lt;div class=\"overlay\" style=\"display: none;\"&gt;&lt;d...</td>\n",
              "      <td>this is a professional about page that include...</td>\n",
              "    </tr>\n",
              "    <tr>\n",
              "      <th>38</th>\n",
              "      <td>&lt;div id=\"moz-icons\" style=\"display: none;\"&gt;&lt;!-...</td>\n",
              "      <td>this is a about page</td>\n",
              "    </tr>\n",
              "    <tr>\n",
              "      <th>39</th>\n",
              "      <td>&lt;div id=\"hs-eu-cookie-confirmation\" class=\"hs-...</td>\n",
              "      <td>a professional about page</td>\n",
              "    </tr>\n",
              "    <tr>\n",
              "      <th>40</th>\n",
              "      <td>&lt;div id=\"__next\" data-reactroot=\"\"&gt;&lt;button cla...</td>\n",
              "      <td>bold about page with a animations</td>\n",
              "    </tr>\n",
              "    <tr>\n",
              "      <th>41</th>\n",
              "      <td>&lt;div id=\"__next\" data-reactroot=\"\"&gt;&lt;button cla...</td>\n",
              "      <td>bold about page that includes a animations</td>\n",
              "    </tr>\n",
              "    <tr>\n",
              "      <th>42</th>\n",
              "      <td>&lt;a id=\"SkipToContent\" class=\"PageSkipLink u-vi...</td>\n",
              "      <td>this is a colorful about page</td>\n",
              "    </tr>\n",
              "  </tbody>\n",
              "</table>\n",
              "</div>\n",
              "    <div class=\"colab-df-buttons\">\n",
              "\n",
              "  <div class=\"colab-df-container\">\n",
              "    <button class=\"colab-df-convert\" onclick=\"convertToInteractive('df-907c1ca0-fa33-4b6c-bcfb-7b3dc3063d26')\"\n",
              "            title=\"Convert this dataframe to an interactive table.\"\n",
              "            style=\"display:none;\">\n",
              "\n",
              "  <svg xmlns=\"http://www.w3.org/2000/svg\" height=\"24px\" viewBox=\"0 -960 960 960\">\n",
              "    <path d=\"M120-120v-720h720v720H120Zm60-500h600v-160H180v160Zm220 220h160v-160H400v160Zm0 220h160v-160H400v160ZM180-400h160v-160H180v160Zm440 0h160v-160H620v160ZM180-180h160v-160H180v160Zm440 0h160v-160H620v160Z\"/>\n",
              "  </svg>\n",
              "    </button>\n",
              "\n",
              "  <style>\n",
              "    .colab-df-container {\n",
              "      display:flex;\n",
              "      gap: 12px;\n",
              "    }\n",
              "\n",
              "    .colab-df-convert {\n",
              "      background-color: #E8F0FE;\n",
              "      border: none;\n",
              "      border-radius: 50%;\n",
              "      cursor: pointer;\n",
              "      display: none;\n",
              "      fill: #1967D2;\n",
              "      height: 32px;\n",
              "      padding: 0 0 0 0;\n",
              "      width: 32px;\n",
              "    }\n",
              "\n",
              "    .colab-df-convert:hover {\n",
              "      background-color: #E2EBFA;\n",
              "      box-shadow: 0px 1px 2px rgba(60, 64, 67, 0.3), 0px 1px 3px 1px rgba(60, 64, 67, 0.15);\n",
              "      fill: #174EA6;\n",
              "    }\n",
              "\n",
              "    .colab-df-buttons div {\n",
              "      margin-bottom: 4px;\n",
              "    }\n",
              "\n",
              "    [theme=dark] .colab-df-convert {\n",
              "      background-color: #3B4455;\n",
              "      fill: #D2E3FC;\n",
              "    }\n",
              "\n",
              "    [theme=dark] .colab-df-convert:hover {\n",
              "      background-color: #434B5C;\n",
              "      box-shadow: 0px 1px 3px 1px rgba(0, 0, 0, 0.15);\n",
              "      filter: drop-shadow(0px 1px 2px rgba(0, 0, 0, 0.3));\n",
              "      fill: #FFFFFF;\n",
              "    }\n",
              "  </style>\n",
              "\n",
              "    <script>\n",
              "      const buttonEl =\n",
              "        document.querySelector('#df-907c1ca0-fa33-4b6c-bcfb-7b3dc3063d26 button.colab-df-convert');\n",
              "      buttonEl.style.display =\n",
              "        google.colab.kernel.accessAllowed ? 'block' : 'none';\n",
              "\n",
              "      async function convertToInteractive(key) {\n",
              "        const element = document.querySelector('#df-907c1ca0-fa33-4b6c-bcfb-7b3dc3063d26');\n",
              "        const dataTable =\n",
              "          await google.colab.kernel.invokeFunction('convertToInteractive',\n",
              "                                                    [key], {});\n",
              "        if (!dataTable) return;\n",
              "\n",
              "        const docLinkHtml = 'Like what you see? Visit the ' +\n",
              "          '<a target=\"_blank\" href=https://colab.research.google.com/notebooks/data_table.ipynb>data table notebook</a>'\n",
              "          + ' to learn more about interactive tables.';\n",
              "        element.innerHTML = '';\n",
              "        dataTable['output_type'] = 'display_data';\n",
              "        await google.colab.output.renderOutput(dataTable, element);\n",
              "        const docLink = document.createElement('div');\n",
              "        docLink.innerHTML = docLinkHtml;\n",
              "        element.appendChild(docLink);\n",
              "      }\n",
              "    </script>\n",
              "  </div>\n",
              "\n",
              "\n",
              "<div id=\"df-dce3325b-6c68-4167-85b6-f34b66caaf37\">\n",
              "  <button class=\"colab-df-quickchart\" onclick=\"quickchart('df-dce3325b-6c68-4167-85b6-f34b66caaf37')\"\n",
              "            title=\"Suggest charts\"\n",
              "            style=\"display:none;\">\n",
              "\n",
              "<svg xmlns=\"http://www.w3.org/2000/svg\" height=\"24px\"viewBox=\"0 0 24 24\"\n",
              "     width=\"24px\">\n",
              "    <g>\n",
              "        <path d=\"M19 3H5c-1.1 0-2 .9-2 2v14c0 1.1.9 2 2 2h14c1.1 0 2-.9 2-2V5c0-1.1-.9-2-2-2zM9 17H7v-7h2v7zm4 0h-2V7h2v10zm4 0h-2v-4h2v4z\"/>\n",
              "    </g>\n",
              "</svg>\n",
              "  </button>\n",
              "\n",
              "<style>\n",
              "  .colab-df-quickchart {\n",
              "      --bg-color: #E8F0FE;\n",
              "      --fill-color: #1967D2;\n",
              "      --hover-bg-color: #E2EBFA;\n",
              "      --hover-fill-color: #174EA6;\n",
              "      --disabled-fill-color: #AAA;\n",
              "      --disabled-bg-color: #DDD;\n",
              "  }\n",
              "\n",
              "  [theme=dark] .colab-df-quickchart {\n",
              "      --bg-color: #3B4455;\n",
              "      --fill-color: #D2E3FC;\n",
              "      --hover-bg-color: #434B5C;\n",
              "      --hover-fill-color: #FFFFFF;\n",
              "      --disabled-bg-color: #3B4455;\n",
              "      --disabled-fill-color: #666;\n",
              "  }\n",
              "\n",
              "  .colab-df-quickchart {\n",
              "    background-color: var(--bg-color);\n",
              "    border: none;\n",
              "    border-radius: 50%;\n",
              "    cursor: pointer;\n",
              "    display: none;\n",
              "    fill: var(--fill-color);\n",
              "    height: 32px;\n",
              "    padding: 0;\n",
              "    width: 32px;\n",
              "  }\n",
              "\n",
              "  .colab-df-quickchart:hover {\n",
              "    background-color: var(--hover-bg-color);\n",
              "    box-shadow: 0 1px 2px rgba(60, 64, 67, 0.3), 0 1px 3px 1px rgba(60, 64, 67, 0.15);\n",
              "    fill: var(--button-hover-fill-color);\n",
              "  }\n",
              "\n",
              "  .colab-df-quickchart-complete:disabled,\n",
              "  .colab-df-quickchart-complete:disabled:hover {\n",
              "    background-color: var(--disabled-bg-color);\n",
              "    fill: var(--disabled-fill-color);\n",
              "    box-shadow: none;\n",
              "  }\n",
              "\n",
              "  .colab-df-spinner {\n",
              "    border: 2px solid var(--fill-color);\n",
              "    border-color: transparent;\n",
              "    border-bottom-color: var(--fill-color);\n",
              "    animation:\n",
              "      spin 1s steps(1) infinite;\n",
              "  }\n",
              "\n",
              "  @keyframes spin {\n",
              "    0% {\n",
              "      border-color: transparent;\n",
              "      border-bottom-color: var(--fill-color);\n",
              "      border-left-color: var(--fill-color);\n",
              "    }\n",
              "    20% {\n",
              "      border-color: transparent;\n",
              "      border-left-color: var(--fill-color);\n",
              "      border-top-color: var(--fill-color);\n",
              "    }\n",
              "    30% {\n",
              "      border-color: transparent;\n",
              "      border-left-color: var(--fill-color);\n",
              "      border-top-color: var(--fill-color);\n",
              "      border-right-color: var(--fill-color);\n",
              "    }\n",
              "    40% {\n",
              "      border-color: transparent;\n",
              "      border-right-color: var(--fill-color);\n",
              "      border-top-color: var(--fill-color);\n",
              "    }\n",
              "    60% {\n",
              "      border-color: transparent;\n",
              "      border-right-color: var(--fill-color);\n",
              "    }\n",
              "    80% {\n",
              "      border-color: transparent;\n",
              "      border-right-color: var(--fill-color);\n",
              "      border-bottom-color: var(--fill-color);\n",
              "    }\n",
              "    90% {\n",
              "      border-color: transparent;\n",
              "      border-bottom-color: var(--fill-color);\n",
              "    }\n",
              "  }\n",
              "</style>\n",
              "\n",
              "  <script>\n",
              "    async function quickchart(key) {\n",
              "      const quickchartButtonEl =\n",
              "        document.querySelector('#' + key + ' button');\n",
              "      quickchartButtonEl.disabled = true;  // To prevent multiple clicks.\n",
              "      quickchartButtonEl.classList.add('colab-df-spinner');\n",
              "      try {\n",
              "        const charts = await google.colab.kernel.invokeFunction(\n",
              "            'suggestCharts', [key], {});\n",
              "      } catch (error) {\n",
              "        console.error('Error during call to suggestCharts:', error);\n",
              "      }\n",
              "      quickchartButtonEl.classList.remove('colab-df-spinner');\n",
              "      quickchartButtonEl.classList.add('colab-df-quickchart-complete');\n",
              "    }\n",
              "    (() => {\n",
              "      let quickchartButtonEl =\n",
              "        document.querySelector('#df-dce3325b-6c68-4167-85b6-f34b66caaf37 button');\n",
              "      quickchartButtonEl.style.display =\n",
              "        google.colab.kernel.accessAllowed ? 'block' : 'none';\n",
              "    })();\n",
              "  </script>\n",
              "</div>\n",
              "\n",
              "    </div>\n",
              "  </div>\n"
            ]
          },
          "metadata": {},
          "execution_count": 9
        }
      ],
      "source": [
        "html_dataset['train'].to_pandas()"
      ]
    },
    {
      "cell_type": "markdown",
      "metadata": {
        "id": "shz8Xdv-yRgf"
      },
      "source": [
        "### 2. Load Base Model"
      ]
    },
    {
      "cell_type": "markdown",
      "metadata": {
        "id": "MJ-5idQwzvg-"
      },
      "source": [
        "Let's now load Mistral - mistralai/Mistral-7B-v0.1 - using 4-bit quantization!"
      ]
    },
    {
      "cell_type": "code",
      "execution_count": null,
      "metadata": {
        "colab": {
          "base_uri": "https://localhost:8080/",
          "height": 17,
          "referenced_widgets": [
            "f00e6f2177ad43e0940a485249ee5638",
            "9300f28d2a814b7a8249ce775fdddf3f",
            "0c0c95ac84bd46f3b9e0c2dafd243770",
            "926463d60c754ddf97cc866ca6854532",
            "f61a735055264c8db23bad6358d8310b",
            "51d863f9e00c439da1b4287c7e2df721",
            "db586ec1b10b497bb02bdec304b5212c",
            "271017fc88c240b4ad7036a8e1b55bd3",
            "82ab891d0199481bb62a75b30365b3db",
            "413bed58396c49e4b8d59a2465c1fea3",
            "59ebe33845d34da6b15e582cce4a8308",
            "8412101bfd47432f8b937877325c4b06",
            "db1f1a2c6a0a496fb37991197b6a2a20",
            "b83c8b6e0988411a99d751e15b52ea31",
            "216ad25ec9c8463799b9aa3bcd17f151",
            "53474573a02f4a039a146ca55b709ef5",
            "f1e7733e021c4b439a7b0c86d853f3cc",
            "336464e871de4bb3b0e854887fab1043",
            "099a40deed0e4c2f895d76319acb5105",
            "aeaaaa3a8e7c4aafa0fd0ecfd3439d3b",
            "ce884e6083654eb0817af81bf4f45a6b",
            "74b78eb36d9145929cd78d6f6ba24bcf",
            "ca1b1b38318b4543a494315d5193ad36",
            "2a00fa6edf624791892647565dede0a2",
            "fef50dfa3b6e4436bb1ad1a53c6e86e5",
            "54adeb5015a741e3a4d83f357adb8322",
            "2a7bcb0a360c4d91aad03b52affc0b48",
            "2a16a31d9ce947fba8fad980ef97e21e",
            "28e672c91e0a48ca8b63674e6b68d176",
            "603b69da0a9a47098a43ed358b9001cd",
            "7f314121d5aa47c598391562efe327da",
            "c8786b8d3a1646c2a3d4c40fbf0062d7",
            "e7c30a4ff985403db53f3656922496c1",
            "15da3c87bf4f4774bc6e563068dcab5b",
            "efc33ad845024cb6a988e9c00b5943bb",
            "928cf9514568447cbd079b2b00763ba7",
            "0de11959050d49c29e5358ad92b3bd86",
            "5170bcedbb0f4a439feb4c07e3be8b7e",
            "eebf9c4809054933947a9461eb81f321",
            "0c1d5430247e4078bafd20ab81018eaf",
            "355a8712a2c244a8ac87c7f3a15c86f3",
            "d992591fcffc4fb399de78f94d9521d4",
            "6dce3239093f4b0dab7e717c8075eaba",
            "8a256ea2c26b471d95d8712540563bf5",
            "76a8de8b7dd74f13b56ecf8815e0e383",
            "05e432bf92fd415aa85a27ec5923304f",
            "35c64e8469934313a47f8ea5c8254659",
            "616bab5a2c3146dea48fc05c1b72f737",
            "22593a5566e64857abeabba418e7efe1",
            "8d36c86d4cdd42ddb36ff0b58f5adc4f",
            "ae65c70a5d224bdb9bc89a18e6dbd1dc",
            "8da1f23199d74ea1b226b437a8d6ad69",
            "ff2bed372c7448c79cf3562f9e11d90a",
            "29555acfc08840b38d1559a122565a9c",
            "8e58842f155948e19a670a419ed8c027",
            "de81d397c25b4a14873c10161bc643a4",
            "bede2bfd4c5344bea962326e4fa958a0",
            "63140855b90947b6a9eb3dc3b2bd1e29",
            "004ec65ff2a64aca83aed1534695256b",
            "4c4e78db952a495a8f3072c49b1f74e1",
            "b383a0d1d96543f682886075059a2a8b",
            "520326d8d5b24533af1c185ca995f7ae",
            "405f7b63f46f4929bf52b2f44a831103",
            "ae9a4d9ffbde4056a9f2002bb7ddc613",
            "dc287df30ea943c7b503b3ceff967f2a",
            "07ddc9e2cef44717bdd06a0a4bf5e274"
          ]
        },
        "id": "E0Nl5mWL0k2T",
        "outputId": "c56b063d-357b-4719-e698-10788d4fbc21"
      },
      "outputs": [
        {
          "output_type": "display_data",
          "data": {
            "text/plain": [
              "model.safetensors.index.json:   0%|          | 0.00/25.1k [00:00<?, ?B/s]"
            ],
            "application/vnd.jupyter.widget-view+json": {
              "version_major": 2,
              "version_minor": 0,
              "model_id": "f00e6f2177ad43e0940a485249ee5638"
            }
          },
          "metadata": {
            "application/vnd.jupyter.widget-view+json": {
              "colab": {
                "custom_widget_manager": {
                  "url": "https://ssl.gstatic.com/colaboratory-static/widgets/colab-cdn-widget-manager/b3e629b1971e1542/manager.min.js"
                }
              }
            }
          }
        },
        {
          "output_type": "display_data",
          "data": {
            "text/plain": [
              "Downloading shards:   0%|          | 0/2 [00:00<?, ?it/s]"
            ],
            "application/vnd.jupyter.widget-view+json": {
              "version_major": 2,
              "version_minor": 0,
              "model_id": "74b78eb36d9145929cd78d6f6ba24bcf"
            }
          },
          "metadata": {
            "application/vnd.jupyter.widget-view+json": {
              "colab": {
                "custom_widget_manager": {
                  "url": "https://ssl.gstatic.com/colaboratory-static/widgets/colab-cdn-widget-manager/b3e629b1971e1542/manager.min.js"
                }
              }
            }
          }
        },
        {
          "output_type": "display_data",
          "data": {
            "text/plain": [
              "model-00001-of-00002.safetensors:   0%|          | 0.00/9.94G [00:00<?, ?B/s]"
            ],
            "application/vnd.jupyter.widget-view+json": {
              "version_major": 2,
              "version_minor": 0,
              "model_id": "e7c30a4ff985403db53f3656922496c1"
            }
          },
          "metadata": {
            "application/vnd.jupyter.widget-view+json": {
              "colab": {
                "custom_widget_manager": {
                  "url": "https://ssl.gstatic.com/colaboratory-static/widgets/colab-cdn-widget-manager/b3e629b1971e1542/manager.min.js"
                }
              }
            }
          }
        },
        {
          "output_type": "display_data",
          "data": {
            "text/plain": [
              "model-00002-of-00002.safetensors:   0%|          | 0.00/4.54G [00:00<?, ?B/s]"
            ],
            "application/vnd.jupyter.widget-view+json": {
              "version_major": 2,
              "version_minor": 0,
              "model_id": "8a256ea2c26b471d95d8712540563bf5"
            }
          },
          "metadata": {
            "application/vnd.jupyter.widget-view+json": {
              "colab": {
                "custom_widget_manager": {
                  "url": "https://ssl.gstatic.com/colaboratory-static/widgets/colab-cdn-widget-manager/b3e629b1971e1542/manager.min.js"
                }
              }
            }
          }
        },
        {
          "output_type": "display_data",
          "data": {
            "text/plain": [
              "Loading checkpoint shards:   0%|          | 0/2 [00:00<?, ?it/s]"
            ],
            "application/vnd.jupyter.widget-view+json": {
              "version_major": 2,
              "version_minor": 0,
              "model_id": "8e58842f155948e19a670a419ed8c027"
            }
          },
          "metadata": {
            "application/vnd.jupyter.widget-view+json": {
              "colab": {
                "custom_widget_manager": {
                  "url": "https://ssl.gstatic.com/colaboratory-static/widgets/colab-cdn-widget-manager/b3e629b1971e1542/manager.min.js"
                }
              }
            }
          }
        },
        {
          "output_type": "display_data",
          "data": {
            "text/plain": [
              "generation_config.json:   0%|          | 0.00/116 [00:00<?, ?B/s]"
            ],
            "application/vnd.jupyter.widget-view+json": {
              "version_major": 2,
              "version_minor": 0,
              "model_id": "07ddc9e2cef44717bdd06a0a4bf5e274"
            }
          },
          "metadata": {
            "application/vnd.jupyter.widget-view+json": {
              "colab": {
                "custom_widget_manager": {
                  "url": "https://ssl.gstatic.com/colaboratory-static/widgets/colab-cdn-widget-manager/b3e629b1971e1542/manager.min.js"
                }
              }
            }
          }
        }
      ],
      "source": [
        "import torch\n",
        "from transformers import AutoTokenizer, AutoModelForCausalLM, BitsAndBytesConfig\n",
        "\n",
        "base_model_id = \"mistralai/Mistral-7B-v0.1\"\n",
        "bnb_config = BitsAndBytesConfig(\n",
        "    load_in_4bit=True,\n",
        "    bnb_4bit_use_double_quant=True,\n",
        "    bnb_4bit_quant_type=\"nf4\",\n",
        "    bnb_4bit_compute_dtype=torch.bfloat16\n",
        ")\n",
        "\n",
        "model = AutoModelForCausalLM.from_pretrained(base_model_id, quantization_config=bnb_config )"
      ]
    },
    {
      "cell_type": "markdown",
      "metadata": {
        "id": "UjNdXolqyRgf"
      },
      "source": [
        "### 3. Tokenization\n",
        "\n"
      ]
    },
    {
      "cell_type": "code",
      "execution_count": null,
      "metadata": {
        "colab": {
          "base_uri": "https://localhost:8080/"
        },
        "id": "wz8fYOKwsFFZ",
        "outputId": "12b4cc1b-128b-4ab2-9ab5-33913cef4fdf"
      },
      "outputs": [
        {
          "output_type": "execute_result",
          "data": {
            "text/plain": [
              "(102565, 108512)"
            ]
          },
          "metadata": {},
          "execution_count": 11
        }
      ],
      "source": [
        "len(df_html['html'].max()) , len(df_html['html'].min())"
      ]
    },
    {
      "cell_type": "code",
      "execution_count": null,
      "metadata": {
        "colab": {
          "base_uri": "https://localhost:8080/",
          "height": 17,
          "referenced_widgets": [
            "de545d47d61444e1b7d5d7c869ed0d22",
            "7b40b71e50c5446799848c02d88ee8f9",
            "700b51e557724c0a948a9a713bb2db4d",
            "be260137e5054b01a76344b11c85ef09",
            "ec350955f1ce4d4986f44a8d27db9e04",
            "edda9b8caa1c466d98af3a61cf9bbe9d",
            "8de4cabd0d2d4e649351950a816d1c1e",
            "0fca115832704ed7ab126f08cd186f58",
            "c45d28d5d2eb47059c47b43b1fa182ec",
            "e31416dafe5c4d89a4e953fd52942800",
            "07bbab63e474438f99b6ec0c855649e0",
            "956440284eee415db8e0337b87b5de06",
            "2830f206cedf4622a87eb343b9648568",
            "432b4e8c64eb43feb20457b73b3383a7",
            "9c20b77c3621428d96e9c60f6bbf0192",
            "77ac287a66784060b76f0e10803106f5",
            "7f4c4fd8c719416d87949435aeefdd0f",
            "6cc78e71777545dc82d9d90d22c54c62",
            "eed935756d8c4e28a44fd2131573bb3e",
            "55df6fdbb62b4c37891bdcd8e6469008",
            "368a7ba092e346c6b488e011a88673f6",
            "5abd283671544ae8b46d14090a343424",
            "a599901f1a0e438aa8978e2456556976",
            "00464f5250c542fb8b4e84d3ec0ce16d",
            "93e2f54f90974947b666a3657c028de4",
            "1e5bc37945c148c79c22f19044524746",
            "3746d80b7cd845e4b507708d64b9c21e",
            "0f2bf968b45646a1b05f9defc414aaad",
            "8b1a6654675e47cbbb6909af95e1bf10",
            "d22f4486414340b484b5a47f2598e54f",
            "ec61d0130cdb4f46bd113113abe0874c",
            "1dd4cd0adc864b2c84d194dc2ed20620",
            "db085226c2fc4a2d855b4816308ad5cf",
            "92b9a5360d01436b86f6a92200257a4e",
            "dbc857d924a54048851d27fa5518c768",
            "d4b076e868504f2e91bcecf17592d6f1",
            "7e002f38bc304d229ad0ee1f2f0716e1",
            "63d3d06c970a4a74a0e6ecbbaf576b4e",
            "cce1d25898aa473887975fafaaf812ae",
            "6fc34dd761c64c17920b5cc2c6be2493",
            "acb3ab32965b4b038ad7d89719e22dda",
            "f35ca22f21984eb69eaca6e73e8f0bac",
            "31d6683f41f541618247b56c0849221c",
            "0f8a783c9599410388be5d1d85573cc9"
          ]
        },
        "id": "zn3DodjmtX8A",
        "outputId": "99f0db50-d00d-4858-9ec9-0d86073b99f2"
      },
      "outputs": [
        {
          "output_type": "display_data",
          "data": {
            "text/plain": [
              "tokenizer_config.json:   0%|          | 0.00/967 [00:00<?, ?B/s]"
            ],
            "application/vnd.jupyter.widget-view+json": {
              "version_major": 2,
              "version_minor": 0,
              "model_id": "de545d47d61444e1b7d5d7c869ed0d22"
            }
          },
          "metadata": {
            "application/vnd.jupyter.widget-view+json": {
              "colab": {
                "custom_widget_manager": {
                  "url": "https://ssl.gstatic.com/colaboratory-static/widgets/colab-cdn-widget-manager/b3e629b1971e1542/manager.min.js"
                }
              }
            }
          }
        },
        {
          "output_type": "display_data",
          "data": {
            "text/plain": [
              "tokenizer.model:   0%|          | 0.00/493k [00:00<?, ?B/s]"
            ],
            "application/vnd.jupyter.widget-view+json": {
              "version_major": 2,
              "version_minor": 0,
              "model_id": "5abd283671544ae8b46d14090a343424"
            }
          },
          "metadata": {
            "application/vnd.jupyter.widget-view+json": {
              "colab": {
                "custom_widget_manager": {
                  "url": "https://ssl.gstatic.com/colaboratory-static/widgets/colab-cdn-widget-manager/b3e629b1971e1542/manager.min.js"
                }
              }
            }
          }
        },
        {
          "output_type": "display_data",
          "data": {
            "text/plain": [
              "tokenizer.json:   0%|          | 0.00/1.80M [00:00<?, ?B/s]"
            ],
            "application/vnd.jupyter.widget-view+json": {
              "version_major": 2,
              "version_minor": 0,
              "model_id": "db085226c2fc4a2d855b4816308ad5cf"
            }
          },
          "metadata": {
            "application/vnd.jupyter.widget-view+json": {
              "colab": {
                "custom_widget_manager": {
                  "url": "https://ssl.gstatic.com/colaboratory-static/widgets/colab-cdn-widget-manager/b3e629b1971e1542/manager.min.js"
                }
              }
            }
          }
        },
        {
          "output_type": "display_data",
          "data": {
            "text/plain": [
              "special_tokens_map.json:   0%|          | 0.00/72.0 [00:00<?, ?B/s]"
            ],
            "application/vnd.jupyter.widget-view+json": {
              "version_major": 2,
              "version_minor": 0,
              "model_id": "0f8a783c9599410388be5d1d85573cc9"
            }
          },
          "metadata": {
            "application/vnd.jupyter.widget-view+json": {
              "colab": {
                "custom_widget_manager": {
                  "url": "https://ssl.gstatic.com/colaboratory-static/widgets/colab-cdn-widget-manager/b3e629b1971e1542/manager.min.js"
                }
              }
            }
          }
        }
      ],
      "source": [
        "max_chunk_length = 4096\n",
        "tokenizer = AutoTokenizer.from_pretrained(\"mistralai/Mistral-7B-v0.1\")"
      ]
    },
    {
      "cell_type": "markdown",
      "metadata": {
        "id": "bszXgX4ivcL_"
      },
      "source": [
        "## Pre-Process the data"
      ]
    },
    {
      "cell_type": "code",
      "execution_count": null,
      "metadata": {
        "colab": {
          "base_uri": "https://localhost:8080/"
        },
        "id": "7vP6m0uEcB-Y",
        "outputId": "6129e318-1144-4010-c612-c7102a5212a4"
      },
      "outputs": [
        {
          "output_type": "stream",
          "name": "stdout",
          "text": [
            "<div class=\"absolute top-2 left-2 z-50\"><a class=\"text-shopifysans font-bold inline-block leading-none overflow-hidden max-w-full transition-all focus-visible:outline-4 focus-visible:outline-focus focus-visible:outline-offset-[-2px] border-solid border-2 rounded-[30px] focus-visible:outline-none tracking-ff-tight border-[transparent] text-shade-100 bg-white hover:bg-shade-30 active:bg-shade-50 disabled:bg-shade-70 disabled:text-shade-90 text-body-sm px-[1.375rem] py-[0.875rem] transition-transform duration-300 translate-y-[-200%] motion-reduce:transition-none focus:translate-y-0 focus:z-[100]\" data-component-name=\"\" href=\"#main\">Skip to Content</a></div><div class=\"relative\"><section aria-label=\"Announcement\" class=\"relative inset-x-0 top-0 flex h-[72px] items-center justify-center overflow-hidden z-20 deafult:text-black default:bg-shopify-green-10\" data-section-name=\"butter-bar\"><p class=\"p-4 pr-16 sm:pl-16 md:py-5 md:px-20 text-xs sm:text-sm md:text-base lg:text-lg sm:text-center font-normal [&amp;>a]:hover:no-underline [&amp;>a]:font-bold [&amp;>a]:underline [&amp;>a]:active:text-shade-70 [&amp;>a]:focus-visible:outline-none arrow-animation richtext\">Start a free trial and enjoy 3 months of Shopify for $1/month on select plans. <a data-component-name=\"start-free-trial\" href=\"https://accounts.shopify.com/store-create?locale=en&amp;language=en&amp;signup_page=https%3A%2F%2Fwww.shopify.com%2Ffree-trial%3Firclickid%3D1VmXxiWJQxyNWXX1ttVyI1-pUkA38Wz4ex9xVk0%26irgwc%3D1%26partner%3D415312%26affpt%3Dexcluded&amp;signup_types%5B%5D=paid_trial_experience&amp;signup_currency=USD\">Sign up now</a></p><button type=\"button\" aria-label=\"Close announcement\" class=\"absolute right-0 mr-4 hover:text-black/50\" data-component-name=\"close\"><svg width=\"20\" height=\"20\" viewBox=\"0 0 20 20\" fill=\"none\" xmlns=\"http://www.w3.org/2000/svg\"><path d=\"M15.811 4.189L4.19 15.811m0-11.622l11.622 11.622\" stroke=\"currentColor\" stroke-width=\"2\" stroke-linecap=\"round\" stroke-linejoin=\"round\"></path></svg></button></section></div><div class=\"relative\"><main role=\"main\" id=\"main\" tabindex=\"-1\" class=\"bg-[#f1fff9] overflow-x-clip\"><header class=\"[&amp;_a[href]]:text-[12px] [&amp;_a[href]]:py-3 w-full top-0 absolute z-20 h-auto legacy-tablet:h-[63px] flex justify-center items-center py-4 legacy-tablet:py-0 hidden\" data-component-name=\"header-light\" data-viewable-component=\"true\" style=\"animation-duration:0.3s\"><div class=\"grid-margin relative\"><div class=\"gap-x-gutter legacy-tablet:flex-row mx-auto flex flex-col items-center justify-center\"><h2 class=\"legacy-tablet:mb-0 legacy-tablet:mr-10 mb-4 align-middle text-base font-bold richtext\">Start your free-trial today</h2><div class=\"gap-x-gutter flex flex-row\"><a class=\"text-shopifysans font-bold inline-block leading-none overflow-hidden max-w-full transition-all focus-visible:outline-4 focus-visible:outline-focus focus-visible:outline-offset-[-2px] border-solid border-2 rounded-[30px] focus-visible:outline-none tracking-ff-tight border-[transparent] text-white bg-shade-100 hover:bg-shade-70 active:bg-shade-50 disabled:bg-shade-20 disabled:text-shade-30 text-body-sm px-[1.375rem] py-[0.875rem]\" data-component-name=\"start-free-trial\" href=\"https://accounts.shopify.com/store-create?locale=en&amp;language=en&amp;signup_page=https%3A%2F%2Fwww.shopify.com%2Ffree-trial%3Firclickid%3D1VmXxiWJQxyNWXX1ttVyI1-pUkA38Wz4ex9xVk0%26irgwc%3D1%26partner%3D415312%26affpt%3Dexcluded&amp;signup_types%5B%5D=paid_trial_experience&amp;signup_currency=USD\">Get started</a><a class=\"text-shopifysans font-bold inline-block leading-none overflow-hidden max-w-full transition-all focus-visible:outline-4 focus-visible:outline-focus focus-visible:outline-offset-[-2px] border-solid border-2 rounded-[30px] focus-visible:outline-none tracking-ff-tight relative border-shade-100 text-shade-100 before:absolute before:inset-[-2px] before:transition-all hover:before:border-[3px] before:rounded-[30px] before:border-shade-70 hover:border-shade-70 active:border-shade-60 focus-visible:outline-4 focus-visible:outline-focus focus-visible:outline-offset-[-2px] disabled:text-shade-50 disabled:border-shade-50 text-body-sm px-[1.375rem] py-[0.875rem]\" data-component-name=\"learn-more\" href=\"/blog\">Learn more</a></div></div></div><button type=\"button\" class=\"legacy-tablet:top-1/2 legacy-tablet:right-4 legacy-tablet:-translate-y-1/2 absolute top-2 right-2 h-7 w-7 transition-all hover:scale-105 hover:opacity-80\" data-component-name=\"cancel\"><svg width=\"14\" height=\"14\" viewBox=\"0 0 14 14\" fill=\"none\" aria-label=\"Dismiss banner\" role=\"button\" xmlns=\"http://www.w3.org/2000/svg\" class=\"text-legacy-gray-90\"><path d=\"M12.811 1.189L1.19 12.811m0-11.622l11.622 11.622\" stroke=\"currentColor\" stroke-width=\"2\" stroke-linecap=\"round\" stroke-linejoin=\"round\"></path></svg></button></header><section class=\"bg-color-[#F1FFF9] bg-free-trial-conversion\" data-section-name=\"conversion\" data-section-index=\"2\" data-component-name=\"hero\" id=\"cGFnZTpjR0ZuWlRveE1EcGxiZz09OmVuOnNlY3Rpb246Y29udmVyc2lvbl8x\"><div class=\"container flex flex-col items-center text-center\"><div class=\"h-md w-full\"></div><div data-partial-name=\"shopifyLogoTitle\"><svg aria-labelledby=\"shopifyLogoTitle\" fill=\"none\" role=\"img\" viewBox=\"0 0 56 64\" xmlns=\"http://www.w3.org/2000/svg\" class=\"legacy-tablet:hidden block h-[48px]\" height=\"64\"><title id=\"shopifyLogoTitle\">Shopify Logo</title><g clip-path=\"url(#clip0_198_267)\"><path d=\"M48.33 12.1452C48.285 11.8315 48.015 11.6522 47.79 11.6522C47.565 11.6522 43.11 11.5626 43.11 11.5626C43.11 11.5626 39.375 7.97718 39.015 7.57382C38.655 7.21527 37.935 7.30491 37.665 7.39454C37.665 7.39454 36.945 7.61863 35.775 7.97718C35.595 7.34973 35.28 6.58782 34.875 5.7811C33.57 3.27129 31.59 1.92676 29.25 1.92676C29.07 1.92676 28.935 1.92676 28.755 1.97157C28.665 1.88194 28.62 1.7923 28.53 1.74749C27.495 0.671855 26.19 0.13404 24.615 0.178858C21.6 0.268494 18.585 2.46457 16.11 6.31891C14.4 9.05281 13.095 12.459 12.69 15.1032C9.225 16.1789 6.795 16.9408 6.705 16.9408C4.95 17.4786 4.905 17.5234 4.68 19.1817C4.59 20.4366 0 55.7979 0 55.7979L38.52 62.431L55.215 58.3077C55.17 58.3077 48.375 12.459 48.33 12.1452ZM33.84 8.60463C32.94 8.87354 31.95 9.18726 30.87 9.5458C30.87 8.02199 30.645 5.87073 29.97 4.07802C32.265 4.43656 33.39 7.036 33.84 8.60463ZM28.845 10.1284C26.82 10.7559 24.615 11.4282 22.41 12.1004C23.04 9.72508 24.21 7.39454 25.65 5.82592C26.19 5.24328 26.955 4.61583 27.81 4.25729C28.71 6.00519 28.89 8.47017 28.845 10.1284ZM24.705 2.19566C25.425 2.19566 26.01 2.33012 26.505 2.68866C25.695 3.09202 24.885 3.71947 24.165 4.5262C22.23 6.58782 20.745 9.76989 20.16 12.8623C18.315 13.445 16.515 13.9828 14.895 14.4758C15.975 9.59062 20.07 2.33012 24.705 2.19566Z\" fill=\"#95BF47\"></path><path d=\"M47.7895 11.6526C47.5645 11.6526 43.1095 11.563 43.1095 11.563C43.1095 11.563 39.3745 7.97755 39.0145 7.57419C38.8795 7.43973 38.6995 7.3501 38.5195 7.3501V62.4313L55.2145 58.3081C55.2145 58.3081 48.4195 12.4593 48.3745 12.1456C48.2845 11.8319 48.0145 11.6526 47.7895 11.6526Z\" fill=\"#5E8E3E\"></path><path d=\"M29.2498 20.2129L27.3148 27.4286C27.3148 27.4286 25.1548 26.4426 22.5898 26.6218C18.8098 26.8459 18.8098 29.2213 18.8098 29.8039C19.0348 33.0308 27.5398 33.7479 28.0348 41.3221C28.3948 47.2829 24.8848 51.3613 19.7548 51.6751C13.6348 51.9888 10.2598 48.4034 10.2598 48.4034L11.5648 42.8907C11.5648 42.8907 14.9848 45.4454 17.6848 45.2661C19.4398 45.1765 20.1148 43.6975 20.0248 42.7115C19.7548 38.4986 12.8248 38.7675 12.3748 31.8207C12.0148 25.9944 15.8398 20.1232 24.2998 19.5854C27.5848 19.3613 29.2498 20.2129 29.2498 20.2129Z\" fill=\"white\"></path></g><defs><clipPath id=\"clip0_198_267\"><rect width=\"225\" height=\"64\" fill=\"white\"></rect></clipPath></defs></svg><svg aria-labelledby=\"shopifyLogoTitle\" fill=\"none\" role=\"img\" viewBox=\"0 0 225 64\" xmlns=\"http://www.w3.org/2000/svg\" class=\"legacy-tablet:block hidden h-[48px]\" height=\"64\"><title id=\"shopifyLogoTitle\">Shopify Logo</title><g clip-path=\"url(#clip0_198_267)\"><path d=\"M77.8396 35.5887C75.9238 34.5346 74.9155 33.6813 74.9155 32.4766C74.9155 30.9205 76.2767 29.9668 78.4446 29.9668C80.9653 29.9668 83.1835 31.0209 83.1835 31.0209L84.948 25.6499C84.948 25.6499 83.3348 24.395 78.5454 24.395C71.8907 24.395 67.2525 28.2099 67.2525 33.5307C67.2525 36.5425 69.4204 38.8515 72.294 40.508C74.6131 41.8131 75.4197 42.7668 75.4197 44.1221C75.4197 45.5778 74.2602 46.7323 72.0923 46.7323C68.8658 46.7323 65.8409 45.0758 65.8409 45.0758L63.9756 50.4468C63.9756 50.4468 66.7988 52.304 71.4874 52.304C78.3437 52.304 83.2339 48.9409 83.2339 42.9174C83.3348 39.6044 80.814 37.2954 77.8396 35.5887Z\" fill=\"black\"></path><path d=\"M105.165 24.2946C101.787 24.2946 99.1654 25.9009 97.0984 28.3103L96.9976 28.2601L99.9216 13.0005H92.2586L84.8477 51.8021H92.4602L94.981 38.5503C95.9893 33.5307 98.5604 30.4687 100.98 30.4687C102.694 30.4687 103.35 31.6232 103.35 33.2797C103.35 34.3338 103.249 35.5887 102.997 36.6428L100.123 51.8523H107.736L110.71 36.1911C111.063 34.5346 111.265 32.577 111.265 31.2217C111.366 26.8546 109.147 24.2946 105.165 24.2946Z\" fill=\"black\"></path><path d=\"M128.607 24.2944C119.431 24.2944 113.331 32.5266 113.331 41.7125C113.331 47.5854 116.961 52.354 123.817 52.354C132.841 52.354 138.891 44.3227 138.891 34.936C138.942 29.4646 135.766 24.2944 128.607 24.2944ZM124.876 46.4811C122.254 46.4811 121.196 44.2725 121.196 41.5117C121.196 37.1446 123.464 30.067 127.598 30.067C130.321 30.067 131.178 32.376 131.178 34.6348C131.178 39.3533 128.909 46.4811 124.876 46.4811Z\" fill=\"black\"></path><path d=\"M158.452 24.2944C153.31 24.2944 150.386 28.8121 150.386 28.8121H150.285L150.739 24.7462H143.983C143.63 27.507 143.025 31.6733 142.42 34.8356L137.127 62.5438H144.74L146.857 51.2999H147.008C147.008 51.2999 148.571 52.3038 151.495 52.3038C160.469 52.3038 166.317 43.1682 166.317 33.9321C166.317 28.8623 164.048 24.2944 158.452 24.2944ZM151.193 46.6317C149.226 46.6317 148.067 45.5274 148.067 45.5274L149.327 38.4497C150.235 33.7313 152.705 30.5689 155.327 30.5689C157.646 30.5689 158.351 32.7274 158.351 34.7352C158.351 39.6042 155.427 46.6317 151.193 46.6317Z\" fill=\"black\"></path><path d=\"M177.206 13.4019C174.786 13.4019 172.82 15.3093 172.82 17.8191C172.82 20.0779 174.232 21.634 176.4 21.634H176.501C178.87 21.634 180.937 20.0277 180.987 17.2168C181.038 14.9579 179.525 13.4019 177.206 13.4019Z\" fill=\"black\"></path><path d=\"M166.519 51.8021H174.182L179.374 24.897H171.661L166.519 51.8021Z\" fill=\"black\"></path><path d=\"M198.734 24.8468H193.44L193.692 23.5919C194.146 20.9817 195.658 18.6727 198.23 18.6727C199.591 18.6727 200.649 19.0742 200.649 19.0742L202.162 13.1511C202.162 13.1511 200.851 12.4985 198.028 12.4985C195.306 12.4985 192.634 13.2515 190.567 15.0083C187.945 17.217 186.735 20.3793 186.13 23.5919L185.928 24.8468H182.399L181.29 30.5691H184.819L180.786 51.8021H188.399L192.432 30.5691H197.675L198.734 24.8468Z\" fill=\"black\"></path><path d=\"M217.084 24.897C217.084 24.897 212.295 36.8436 210.178 43.3691H210.077C209.926 41.2609 208.212 24.897 208.212 24.897H200.196L204.783 49.5934C204.884 50.1456 204.834 50.497 204.632 50.8483C203.725 52.555 202.263 54.2115 200.498 55.4162C199.087 56.4703 197.473 57.1229 196.213 57.5746L198.33 63.9997C199.893 63.6483 203.069 62.3934 205.792 59.8836C209.27 56.6209 212.497 51.6515 215.774 44.8248L225.1 24.897H217.084Z\" fill=\"black\"></path><path d=\"M48.33 12.1452C48.285 11.8315 48.015 11.6522 47.79 11.6522C47.565 11.6522 43.11 11.5626 43.11 11.5626C43.11 11.5626 39.375 7.97718 39.015 7.57382C38.655 7.21527 37.935 7.30491 37.665 7.39454C37.665 7.39454 36.945 7.61863 35.775 7.97718C35.595 7.34973 35.28 6.58782 34.875 5.7811C33.57 3.27129 31.59 1.92676 29.25 1.92676C29.07 1.92676 28.935 1.92676 28.755 1.97157C28.665 1.88194 28.62 1.7923 28.53 1.74749C27.495 0.671855 26.19 0.13404 24.615 0.178858C21.6 0.268494 18.585 2.46457 16.11 6.31891C14.4 9.05281 13.095 12.459 12.69 15.1032C9.225 16.1789 6.795 16.9408 6.705 16.9408C4.95 17.4786 4.905 17.5234 4.68 19.1817C4.59 20.4366 0 55.7979 0 55.7979L38.52 62.431L55.215 58.3077C55.17 58.3077 48.375 12.459 48.33 12.1452ZM33.84 8.60463C32.94 8.87354 31.95 9.18726 30.87 9.5458C30.87 8.02199 30.645 5.87073 29.97 4.07802C32.265 4.43656 33.39 7.036 33.84 8.60463ZM28.845 10.1284C26.82 10.7559 24.615 11.4282 22.41 12.1004C23.04 9.72508 24.21 7.39454 25.65 5.82592C26.19 5.24328 26.955 4.61583 27.81 4.25729C28.71 6.00519 28.89 8.47017 28.845 10.1284ZM24.705 2.19566C25.425 2.19566 26.01 2.33012 26.505 2.68866C25.695 3.09202 24.885 3.71947 24.165 4.5262C22.23 6.58782 20.745 9.76989 20.16 12.8623C18.315 13.445 16.515 13.9828 14.895 14.4758C15.975 9.59062 20.07 2.33012 24.705 2.19566Z\" fill=\"#95BF47\"></path><path d=\"M47.7895 11.6526C47.5645 11.6526 43.1095 11.563 43.1095 11.563C43.1095 11.563 39.3745 7.97755 39.0145 7.57419C38.8795 7.43973 38.6995 7.3501 38.5195 7.3501V62.4313L55.2145 58.3081C55.2145 58.3081 48.4195 12.4593 48.3745 12.1456C48.2845 11.8319 48.0145 11.6526 47.7895 11.6526Z\" fill=\"#5E8E3E\"></path><path d=\"M29.2498 20.2129L27.3148 27.4286C27.3148 27.4286 25.1548 26.4426 22.5898 26.6218C18.8098 26.8459 18.8098 29.2213 18.8098 29.8039C19.0348 33.0308 27.5398 33.7479 28.0348 41.3221C28.3948 47.2829 24.8848 51.3613 19.7548 51.6751C13.6348 51.9888 10.2598 48.4034 10.2598 48.4034L11.5648 42.8907C11.5648 42.8907 14.9848 45.4454 17.6848 45.2661C19.4398 45.1765 20.1148 43.6975 20.0248 42.7115C19.7548 38.4986 12.8248 38.7675 12.3748 31.8207C12.0148 25.9944 15.8398 20.1232 24.2998 19.5854C27.5848 19.3613 29.2498 20.2129 29.2498 20.2129Z\" fill=\"white\"></path></g><defs><clipPath id=\"clip0_198_267\"><rect width=\"225\" height=\"64\" fill=\"white\"></rect></clipPath></defs></svg></div><div class=\"h-lg w-full\"></div><h1 class=\"font-bold text-t1 max-w-3xl richtext\">Bring your ideas to life for $1/month<span class=\"sr-only\"> with Shopify</span></h1><div class=\"h-lg w-full\"></div><p class=\"text-body-lg max-w-4xl\">The future of business is yours to shape. Sign up for a free trial and enjoy 3 months of Shopify for $1/month on select plans.</p><div class=\"h-lg w-full\"></div><div class=\"w-11/12 sm:w-full\"><div class=\"flex justify-center\"><h3 class=\"sr-only\">Start free trial</h3><form action=\"https://accounts.shopify.com/store-create\" novalidate=\"\" class=\"flex w-full flex-col justify-center items-center\"><input type=\"hidden\" name=\"locale\" value=\"en\"><input type=\"hidden\" name=\"language\" value=\"en\"><input type=\"hidden\" name=\"signup_page\" value=\"https://www.shopify.com/free-trial?irclickid=1VmXxiWJQxyNWXX1ttVyI1-pUkA38Wz4ex9xVk0&amp;irgwc=1&amp;partner=415312&amp;affpt=excluded\"><input type=\"hidden\" name=\"signup_types[]\" value=\"paid_trial_experience\"><input type=\"hidden\" name=\"signup_currency\" value=\"USD\"><div data-component-name=\"email-form-input-wrapper\" class=\"box-border flex h-16 w-full items-center justify-between rounded-full border-2 pl-6 pr-1 sm:w-[498px] border-black bg-transparent\"><input class=\"text-shade-70 h-14 w-full bg-transparent sm:w-72 outline-none\" type=\"email\" spellcheck=\"false\" autocomplete=\"email\" placeholder=\"Enter your email address\"><div class=\"hidden sm:block\"><button class=\"text-shopifysans font-bold inline-block leading-none overflow-hidden max-w-full transition-all focus-visible:outline-4 focus-visible:outline-focus focus-visible:outline-offset-[-2px] border-solid border-2 rounded-[30px] focus-visible:outline-none tracking-ff-tight border-[transparent] text-white bg-shade-100 hover:bg-shade-70 active:bg-shade-50 disabled:bg-shade-20 disabled:text-shade-30 text-body-base px-[1.75rem] py-[1.1875rem] whitespace-nowrap\" name=\"button\" style=\"padding-top:16px;padding-bottom:16px\" type=\"submit\" data-component-name=\"start-free-trial\">Start free trial</button></div></div><div class=\"block w-full sm:hidden\"><button class=\"text-shopifysans font-bold inline-block leading-none overflow-hidden max-w-full transition-all focus-visible:outline-4 focus-visible:outline-focus focus-visible:outline-offset-[-2px] border-solid border-2 rounded-[30px] focus-visible:outline-none tracking-ff-tight border-[transparent] text-white bg-shade-100 hover:bg-shade-70 active:bg-shade-50 disabled:bg-shade-20 disabled:text-shade-30 text-body-base px-[1.75rem] py-[1.1875rem] whitespace-nowrap\" name=\"button\" style=\"width:100%;margin-top:1rem\" type=\"submit\" data-component-name=\"start-free-trial\">Start free trial</button></div></form></div></div><div class=\"h-lg w-full\"></div><p class=\"max-w-xl text-xs\">Try Shopify free for 3 days, no credit card&nbsp;required. By entering your email, you agree to receive marketing emails&nbsp;from&nbsp;Shopify.</p><div class=\"h-2xl w-full\"></div></div></section><section class=\"\" data-section-name=\"image\" data-section-index=\"3\" data-component-name=\"image\"><div class=\"container flex justify-center\"><div class=\"h-md w-full\"></div><img class=\"w-3/4 sm:w-1/3\" alt=\"An illustration of a laptop with an open lid, with a shopping cart and mouse arrow depicted on the screen. There is a green shop awning across the top of the laptop screen, to suggest that users can do their small business shopping right from their computer.\" sizes=\"100vw\" srcset=\"https://cdn.shopify.com/shopifycloud/brochure/assets/free-trial/market-be57f30bfb32b297a04a00e2cf2f1adbaecfbde7a8816827f1d8f2a219727bea.svg\" loading=\"lazy\"><div class=\"h-md w-full\"></div></div></section><section class=\"[&amp;>div:first-child]:h-12 [&amp;>div:last-child]:h-8 max-sm:[&amp;>div:last-child]:h-12\" data-section-name=\"outcomes\" data-section-index=\"4\" data-component-name=\"outcomes\"><div class=\"h-3xl w-full\"></div><div class=\"container\"><div class=\"sm:px-gutter sm:mx-[12.5%] md:mx-0 md:px-0\"><div class=\"gap-y-2xl flex flex-wrap default:gap-x-gutter\"><div class=\"basis-full md:basis-1/3-gutter\"><img src=\"https://cdn.shopify.com/shopifycloud/brochure/assets/free-trial/icons/template2-b5046e879e5b48d1cd95d1bdb18920d52309a1a17ce8255d3b5d9c295f69236c.svg\" alt=\"Templates\" loading=\"lazy\" class=\"block h-16 w-16 rounded-md object-contain\" sizes=\"100vw\"><div class=\"\"><div class=\"h-sm w-full\"></div><h3 class=\"font-bold text-t6\">Customizable templates</h3><div class=\"h-sm w-full\"></div><p class=\"text-body-base richtext richtext\">Free website designs to launch your store quickly and easily.</p></div></div><div class=\"basis-full md:basis-1/3-gutter\"><img src=\"https://cdn.shopify.com/shopifycloud/brochure/assets/free-trial/icons/box2-effe369359f293039eecbac0bf07622de2435381bdfb36be0b54fc918bd6398f.svg\" alt=\"Shipping Box\" loading=\"lazy\" class=\"block h-16 w-16 rounded-md object-contain\" sizes=\"100vw\"><div class=\"\"><div class=\"h-sm w-full\"></div><h3 class=\"font-bold text-t6\">All in one</h3><div class=\"h-sm w-full\"></div><p class=\"text-body-base richtext richtext\">Shopify takes care of everything from marketing and payments to secure transactions and shipping.</p></div></div><div class=\"basis-full md:basis-1/3-gutter\"><img src=\"https://cdn.shopify.com/shopifycloud/brochure/assets/free-trial/icons/lock2-d8b10d2f1f364887c8d4cfdedadaf151a9f2f4a775fbb03f6e05cd74a031675c.svg\" alt=\"Security Lock\" loading=\"lazy\" class=\"block h-16 w-16 rounded-md object-contain\" sizes=\"100vw\"><div class=\"\"><div class=\"h-sm w-full\"></div><h3 class=\"font-bold text-t6\">A safe and efficient platform</h3><div class=\"h-sm w-full\"></div><p class=\"text-body-base richtext richtext\">Millions of users trust Shopify to manage their online stores.</p></div></div></div></div></div><div class=\"h-3xl w-full\"></div></section><section class=\"[&amp;>div:first-child]:h-8 [&amp;>div:last-child]:h-8 max-sm:[&amp;>div:first-child]:h-12 max-sm:[&amp;>div:last-child]:h-12\" data-section-name=\"logo-soup\" data-section-index=\"5\" data-component-name=\"logo-soup\" id=\"cGFnZTpjR0ZuWlRveE1EcGxiZz09OmVuOnNlY3Rpb246bG9nb19zb3Vw\"><div class=\"h-3xl w-full\"></div><div class=\"container grid gap-[30px] justify-center items-center gap-x-4 lg:gap-x-6 gap-y-8 md:gap-y-10 py-10 border-y-2 grid-cols-[repeat(2,auto)] sm:grid-cols-[repeat(8,auto)] lg:grid-cols-[repeat(5,auto)]\"><div class=\"w-full h-[90px] flex items-center col-span-1 sm:col-span-2 lg:col-span-1\"><img alt=\"Allbirds\" class=\"w-full h-[90px]\" sizes=\"100vw\" srcset=\"https://cdn.shopify.com/shopifycloud/brochure/assets/cms/logo-soup/en/allbirds-en-32a9094fcaa4ba7a127ff52a9a8a051a501bee2dbc853e77b58347239eba2e31.svg\" loading=\"lazy\"></div><div class=\"w-full h-[90px] flex items-center col-span-1 sm:col-span-2 lg:col-span-1\"><img alt=\"Gymshark\" class=\"w-full h-[90px]\" sizes=\"100vw\" srcset=\"https://cdn.shopify.com/shopifycloud/brochure/assets/cms/logo-soup/en/gymshark-6dee5a0bce30830832bb264c6abe948259f5fbc3fae496363d65b93285c0def0.svg\" loading=\"lazy\"></div><div class=\"w-full h-[90px] flex items-center col-span-1 sm:col-span-2 lg:col-span-1\"><img alt=\"Brooklinen\" class=\"w-full h-[90px]\" sizes=\"100vw\" srcset=\"https://cdn.shopify.com/shopifycloud/brochure/assets/cms/logo-soup/en/brooklinen-en-97e99d6b63701f9e8e01fa31088abea5471e0bffbc5399249d88efab78f09ad7.svg\" loading=\"lazy\"></div><div class=\"w-full h-[90px] flex items-center col-span-1 sm:col-span-2 lg:col-span-1\"><img alt=\"Leesa\" class=\"w-full h-[90px]\" sizes=\"100vw\" srcset=\"https://cdn.shopify.com/shopifycloud/brochure/assets/cms/logo-soup/en/leesa-en-2b8ff54cd3589e8f971a15bec9d18d284f341e021f6d3b5342e5df0b99f90aa6.svg\" loading=\"lazy\"></div><div class=\"w-full h-[90px] flex items-center col-span-1 sm:col-span-2 lg:col-span-1\"><img alt=\"Kylie Cosmetics\" class=\"w-full h-[90px]\" sizes=\"100vw\" srcset=\"https://cdn.shopify.com/shopifycloud/brochure/assets/cms/logo-soup/en/kylie-cosmetics-260bf2e2e655124c9331d97c26967ee10d71bd7384265e76013422c1d1386f84.svg\" loading=\"lazy\"></div><div class=\"w-full h-[90px] flex items-center col-span-1 sm:col-span-2 lg:col-span-1\"><img alt=\"Telfar Est. 2005, NYC\" class=\"w-full h-[90px]\" sizes=\"100vw\" srcset=\"https://cdn.shopify.com/shopifycloud/brochure/assets/cms/logo-soup/en/telfar-5ad6221e7d86aeb6db1f6ece956ba85dd7f46ca1b54cef63dbec91d8cee62fbf.svg\" loading=\"lazy\"></div><div class=\"w-full h-[90px] flex items-center col-span-1 sm:col-span-2 lg:col-span-1\"><img alt=\"UNTUCKit\" class=\"w-full h-[90px]\" sizes=\"100vw\" srcset=\"https://cdn.shopify.com/shopifycloud/brochure/assets/cms/logo-soup/en/untuckit-en-ec6d2da1666f7817bd38320be4500cee061c9f2b1868f0bcf141e2cecbf4f876.svg\" loading=\"lazy\"></div><div class=\"w-full h-[90px] flex items-center col-span-1 sm:col-span-2 lg:col-span-1\"><img alt=\"Death Wish Coffee\" class=\"w-full h-[90px]\" sizes=\"100vw\" srcset=\"https://cdn.shopify.com/shopifycloud/brochure/assets/cms/logo-soup/en/death-wish-coffee-9512e9d17fdeedebb9abfce9ce082598ee47d470fd0f0272ccac128044b7fc70.svg\" loading=\"lazy\"></div><div class=\"w-full h-[90px] flex items-center col-span-1 sm:col-span-2 lg:col-span-1 sm:col-start-3 lg:col-start-4\"><img alt=\"Jungalow\" class=\"w-full h-[90px]\" sizes=\"100vw\" srcset=\"https://cdn.shopify.com/shopifycloud/brochure/assets/cms/logo-soup/en/jungalow-en-db026f34f2a0e403d05c12364aa7e8525c04a1bee09adfc20b794c1badec72d7.svg\" loading=\"lazy\"></div><div class=\"w-full h-[90px] flex items-center col-span-1 sm:col-span-2 lg:col-span-1\"><img alt=\"Rebecca Minkoff\" class=\"w-full h-[90px]\" sizes=\"100vw\" srcset=\"https://cdn.shopify.com/shopifycloud/brochure/assets/cms/logo-soup/en/rebecca-minkoff-3d13302faef2bb4815be8aa24b005dc5969f51f8b46eabf5cc397b526f2b5e8e.svg\" loading=\"lazy\"></div></div><div class=\"h-3xl w-full\"></div></section><section class=\"relative bg-transparent text-center [&amp;>div:first-child]:h-12 [&amp;>div:nth-child(3)]:h-12 [@media(max-width:640px)]:[&amp;>div:first-child]:h-8 [@media(max-width:640px)]:[&amp;>div:nth-child(3)]:h-8\" data-section-name=\"conversion\" data-section-index=\"6\" data-component-name=\"conversion\" id=\"cGFnZTpjR0ZuWlRveE1EcGxiZz09OmVuOnNlY3Rpb246Y29udmVyc2lvbl8y\"><div class=\"h-4xl w-full\"></div><div class=\"container\"><div class=\"gap-y-0 md:items-center flex flex-wrap default:gap-x-gutter\"><div class=\"basis-full md:basis-full\"><h2 class=\"font-bold text-t2 mb-sm richtext\">\"Shopify is better than any other platform we've played with, and we've played with them all.\"</h2></div><div class=\"basis-full md:basis-full\"><div class=\"md:mx-24\"><div class=\"h-md w-full\"></div><p class=\"text-body-lg mb-xl\">Jonathon Bayme, CEO of Theory11</p></div></div></div></div><div class=\"h-4xl w-full\"></div></section><section class=\"relative text-center relative text-white bg-color-[#054a49] bg-free-trial-conversion-last md:bg-free-trial-conversion-last-md bg-no-repeat bg-position-[top_20%_left] before:absolute default:before:content-free-trial-conversion-last-before default:before:-top-[70px] default:before:-right-1 default:[@media(max-width:640px)]:before:-right-[29px] [@media(max-width:640px)]:before:scale-70 after:absolute default:after:content-free-trial-conversion-last-after default:after:-bottom-[70px] default:after:left-[35px] default:[@media(max-width:640px)]:after:-left-[22px] [@media(max-width:640px)]:after:scale-70\" data-section-name=\"conversion\" data-section-index=\"7\" data-component-name=\"conversion\" id=\"cGFnZTpjR0ZuWlRveE1EcGxiZz09OmVuOnNlY3Rpb246Y29udmVyc2lvbl8z\"><div class=\"h-4xl w-full\"></div><div class=\"container\"><div class=\"gap-y-0 md:items-center flex flex-wrap default:gap-x-gutter\"><div class=\"basis-full md:basis-full\"><h2 class=\"font-bold text-t2 mb-sm richtext\">Build your dream business for $1/month</h2></div><div class=\"basis-full md:basis-full\"><div class=\"md:mx-24\"><div class=\"h-md w-full\"></div><p class=\"text-body-lg text-body-lg mb-xl\">Start your free trial and enjoy 3 months of Shopify for $1/month on select plans.</p></div></div><div class=\"basis-full md:basis-full\"><div class=\"flex justify-center\"><h3 class=\"sr-only\">Start free trial</h3><form action=\"https://accounts.shopify.com/store-create\" novalidate=\"\" class=\"[&amp;_button]:text-black [&amp;_button]:bg-white [&amp;_button]:hover:text-black [&amp;_button]:hover:bg-shade-30 flex w-full flex-col justify-center items-center\"><input type=\"hidden\" name=\"locale\" value=\"en\"><input type=\"hidden\" name=\"language\" value=\"en\"><input type=\"hidden\" name=\"signup_page\" value=\"https://www.shopify.com/free-trial?irclickid=1VmXxiWJQxyNWXX1ttVyI1-pUkA38Wz4ex9xVk0&amp;irgwc=1&amp;partner=415312&amp;affpt=excluded\"><input type=\"hidden\" name=\"signup_types[]\" value=\"paid_trial_experience\"><input type=\"hidden\" name=\"signup_currency\" value=\"USD\"><div data-component-name=\"email-form-input-wrapper\" class=\"box-border flex h-16 w-full items-center justify-between rounded-full border-2 pl-6 pr-1 sm:w-[498px] bg-transparent border border-white [&amp;_input[type=&quot;email&quot;]]:text-white [&amp;_input[type=&quot;email&quot;]]:placeholder:text-shade-30 bg-white\"><input class=\"text-shade-70 h-14 w-full bg-transparent sm:w-72 outline-none\" type=\"email\" spellcheck=\"false\" autocomplete=\"email\" placeholder=\"Enter your email address\"><div class=\"hidden sm:block\"><button class=\"text-shopifysans font-bold inline-block leading-none overflow-hidden max-w-full transition-all focus-visible:outline-4 focus-visible:outline-focus focus-visible:outline-offset-[-2px] border-solid border-2 rounded-[30px] focus-visible:outline-none tracking-ff-tight border-[transparent] text-white bg-shade-100 hover:bg-shade-70 active:bg-shade-50 disabled:bg-shade-20 disabled:text-shade-30 text-body-base px-[1.75rem] py-[1.1875rem] whitespace-nowrap\" name=\"button\" style=\"padding-top:16px;padding-bottom:16px\" type=\"submit\" data-component-name=\"start-free-trial\">Start free trial</button></div></div><div class=\"block w-full sm:hidden\"><button class=\"text-shopifysans font-bold inline-block leading-none overflow-hidden max-w-full transition-all focus-visible:outline-4 focus-visible:outline-focus focus-visible:outline-offset-[-2px] border-solid border-2 rounded-[30px] focus-visible:outline-none tracking-ff-tight border-[transparent] text-white bg-shade-100 hover:bg-shade-70 active:bg-shade-50 disabled:bg-shade-20 disabled:text-shade-30 text-body-base px-[1.75rem] py-[1.1875rem] whitespace-nowrap\" name=\"button\" style=\"width:100%;margin-top:1rem\" type=\"submit\" data-component-name=\"start-free-trial\">Start free trial</button></div></form></div></div><div class=\"basis-full md:basis-full\"><small class=\"block mt-5 text-body-sm w-full sm:w-[498px] mx-auto richtext\">Try Shopify free for 3 days, no credit card&nbsp;required. By entering your email, you agree to receive marketing emails&nbsp;from&nbsp;Shopify.</small></div></div></div><div class=\"h-4xl w-full\"></div></section><section class=\"\" data-section-name=\"faq\" data-section-index=\"8\" data-component-name=\"faq\" id=\"cGFnZTpjR0ZuWlRveE1EcGxiZz09OmVuOnNlY3Rpb246ZmFx\"><div class=\"container grid grid-cols-4 sm:grid-cols-8 md:grid-cols-12 gap-x-gutter gap-y-0\"><div class=\"col-span-8 col-start-1\"><div class=\"h-3xl w-full\"></div><h2 class=\"font-bold text-t2\">FAQ</h2><div class=\"h-2xl w-full\"></div></div></div><div itemscope=\"\" itemtype=\"https://schema.org/FAQPage\"><div class=\"container grid grid-cols-4 sm:grid-cols-8 md:grid-cols-12 gap-x-gutter gap-y-0\"><div class=\"col-span-9 sm:col-span-6 md:col-span-9 col-start-1 sm:col-start-2 md:col-start-3\"><ul class=\"\" id=\"faq\"><li class=\"mb-4 border-0 last:border-0 border-b border-solid border-legacy-gray-30 pb-2 leading-[1.6] border-shade-25 list-none py-xl first:pt-0 mb-0 pt-8 pb-8 md:p-10 border-b-2 border-shade-20 md:last:border-0\" data-component-name=\"aq--0\" itemscope=\"\" itemprop=\"mainEntity\" itemtype=\"https://schema.org/Question\"><h3><button aria-controls=\"faq-0\" aria-expanded=\"false\" class=\"flex w-full cursor-pointer items-center justify-between gap-2 border-0 p-0 after:w-4 after:h-4 after:ml-4 after:mb-4 flex-none group after:hidden text-black hover:text-shade-70 active:text-shade-50\" data-component-name=\"faq-btn-0-hide\" id=\"faq-btn-0\" type=\"button\"><div class=\"w-full text-left flex justify-between align-center relative pr-16\"><span class=\"text-left font-bold text-2xl leading-[1.625rem] md:text-[2rem] md:leading-9\" itemprop=\"name\">What is Shopify and how does it work?</span><span class=\"absolute right-0 top-0\" aria-hidden=\"true\"><svg xmlns=\"http://www.w3.org/2000/svg\" viewBox=\"0 0 20 20\" class=\"rounded-full p-1.5 w-[44px] h-[44px] bg-white text-black group-hover:bg-shade-30 group-active:bg-shade-50 group-focus-visible:outline group-focus-visible:outline-2 group-focus-visible:outline-focus\"><path d=\"M10 4a1 1 0 0 0-1 1v4H5a1 1 0 1 0 0 2h4v4a1 1 0 1 0 2 0v-4h4a1 1 0 1 0 0-2h-4V5a1 1 0 0 0-1-1Z\" fill=\"currentColor\"></path></svg></span></div></button></h3><div aria-hidden=\"true\" class=\"after:content-[&quot;&quot;] overflow-hidden after:[transition:height_400ms_linear,max-height_0s_400ms_linear] [&amp;>*]:[transition:margin-bottom_400ms_cubic-bezier(1,0,1,1),visibility_0s_400ms,max-height_0s_400ms] after:h-0 after:max-h-[50px] [&amp;>*]:max-h-0 [&amp;>*]:invisible [&amp;>*]:-mb-[2000px]\" id=\"faq-0\" aria-labelledby=\"faq-btn-0\" role=\"region\"><div itemprop=\"acceptedAnswer\" itemscope=\"\" itemtype=\"https://schema.org/Answer\"><div class=\"richtext mt-sm mr-16 md:w-4/5 text-xl leading-7 md:text-[1.125rem] md:leading-[1.625rem] richtext\" itemprop=\"text\"><p>Shopify is a complete commerce platform that lets you start, grow, and manage a business.</p>\n",
            "\n",
            "<p>With Shopify, you can:</p>\n",
            "\n",
            "<ul>\n",
            "<li>Create and customize an online store</li>\n",
            "<li>Sell in multiple places, including web, mobile, social media, online marketplaces, brick-and-mortar locations, and pop-up shops</li>\n",
            "<li>Manage products, inventory, payments, and shipping</li>\n",
            "</ul>\n",
            "\n",
            "<p><br>\n",
            "Shopify is completely cloud-based and hosted, which means you don't have to worry about upgrading or maintaining software or web\n",
            "servers. This gives you the flexibility to access and run your business from almost anywhere, including your mobile device.</p>\n",
            "</div></div></div></li><li class=\"mb-4 border-0 last:border-0 border-b border-solid border-legacy-gray-30 pb-2 leading-[1.6] border-shade-25 list-none py-xl first:pt-0 mb-0 pt-8 pb-8 md:p-10 border-b-2 border-shade-20 md:last:border-0\" data-component-name=\"aq--1\" itemscope=\"\" itemprop=\"mainEntity\" itemtype=\"https://schema.org/Question\"><h3><button aria-controls=\"faq-1\" aria-expanded=\"false\" class=\"flex w-full cursor-pointer items-center justify-between gap-2 border-0 p-0 after:w-4 after:h-4 after:ml-4 after:mb-4 flex-none group after:hidden text-black hover:text-shade-70 active:text-shade-50\" data-component-name=\"faq-btn-1-hide\" id=\"faq-btn-1\" type=\"button\"><div class=\"w-full text-left flex justify-between align-center relative pr-16\"><span class=\"text-left font-bold text-2xl leading-[1.625rem] md:text-[2rem] md:leading-9\" itemprop=\"name\">How much does Shopify cost?</span><span class=\"absolute right-0 top-0\" aria-hidden=\"true\"><svg xmlns=\"http://www.w3.org/2000/svg\" viewBox=\"0 0 20 20\" class=\"rounded-full p-1.5 w-[44px] h-[44px] bg-white text-black group-hover:bg-shade-30 group-active:bg-shade-50 group-focus-visible:outline group-focus-visible:outline-2 group-focus-visible:outline-focus\"><path d=\"M10 4a1 1 0 0 0-1 1v4H5a1 1 0 1 0 0 2h4v4a1 1 0 1 0 2 0v-4h4a1 1 0 1 0 0-2h-4V5a1 1 0 0 0-1-1Z\" fill=\"currentColor\"></path></svg></span></div></button></h3><div aria-hidden=\"true\" class=\"after:content-[&quot;&quot;] overflow-hidden after:[transition:height_400ms_linear,max-height_0s_400ms_linear] [&amp;>*]:[transition:margin-bottom_400ms_cubic-bezier(1,0,1,1),visibility_0s_400ms,max-height_0s_400ms] after:h-0 after:max-h-[50px] [&amp;>*]:max-h-0 [&amp;>*]:invisible [&amp;>*]:-mb-[2000px]\" id=\"faq-1\" aria-labelledby=\"faq-btn-1\" role=\"region\"><div itemprop=\"acceptedAnswer\" itemscope=\"\" itemtype=\"https://schema.org/Answer\"><div class=\"richtext mt-sm mr-16 md:w-4/5 text-xl leading-7 md:text-[1.125rem] md:leading-[1.625rem] richtext\" itemprop=\"text\"><p>Try Shopify free for 3 days, no credit card required.</p>\n",
            "\n",
            "<p>After your trial expires, choose a pricing plan that suits the size and stage of your business.</p>\n",
            "</div></div></div></li><li class=\"mb-4 border-0 last:border-0 border-b border-solid border-legacy-gray-30 pb-2 leading-[1.6] border-shade-25 list-none py-xl first:pt-0 mb-0 pt-8 pb-8 md:p-10 border-b-2 border-shade-20 md:last:border-0\" data-component-name=\"aq--2\" itemscope=\"\" itemprop=\"mainEntity\" itemtype=\"https://schema.org/Question\"><h3><button aria-controls=\"faq-2\" aria-expanded=\"false\" class=\"flex w-full cursor-pointer items-center justify-between gap-2 border-0 p-0 after:w-4 after:h-4 after:ml-4 after:mb-4 flex-none group after:hidden text-black hover:text-shade-70 active:text-shade-50\" data-component-name=\"faq-btn-2-hide\" id=\"faq-btn-2\" type=\"button\"><div class=\"w-full text-left flex justify-between align-center relative pr-16\"><span class=\"text-left font-bold text-2xl leading-[1.625rem] md:text-[2rem] md:leading-9\" itemprop=\"name\">Can I use my own domain name with Shopify?</span><span class=\"absolute right-0 top-0\" aria-hidden=\"true\"><svg xmlns=\"http://www.w3.org/2000/svg\" viewBox=\"0 0 20 20\" class=\"rounded-full p-1.5 w-[44px] h-[44px] bg-white text-black group-hover:bg-shade-30 group-active:bg-shade-50 group-focus-visible:outline group-focus-visible:outline-2 group-focus-visible:outline-focus\"><path d=\"M10 4a1 1 0 0 0-1 1v4H5a1 1 0 1 0 0 2h4v4a1 1 0 1 0 2 0v-4h4a1 1 0 1 0 0-2h-4V5a1 1 0 0 0-1-1Z\" fill=\"currentColor\"></path></svg></span></div></button></h3><div aria-hidden=\"true\" class=\"after:content-[&quot;&quot;] overflow-hidden after:[transition:height_400ms_linear,max-height_0s_400ms_linear] [&amp;>*]:[transition:margin-bottom_400ms_cubic-bezier(1,0,1,1),visibility_0s_400ms,max-height_0s_400ms] after:h-0 after:max-h-[50px] [&amp;>*]:max-h-0 [&amp;>*]:invisible [&amp;>*]:-mb-[2000px]\" id=\"faq-2\" aria-labelledby=\"faq-btn-2\" role=\"region\"><div itemprop=\"acceptedAnswer\" itemscope=\"\" itemtype=\"https://schema.org/Answer\"><div class=\"richtext mt-sm mr-16 md:w-4/5 text-xl leading-7 md:text-[1.125rem] md:leading-[1.625rem] richtext\" itemprop=\"text\"><p>Yes, you can use your own domain name with Shopify.</p>\n",
            "\n",
            "<p>If you have an existing domain name, you can connect it to Shopify from your store's admin.</p>\n",
            "\n",
            "<p>If you don't have a domain name yet, you can either buy one through Shopify or a third-party provider.</p>\n",
            "</div></div></div></li><li class=\"mb-4 border-0 last:border-0 border-b border-solid border-legacy-gray-30 pb-2 leading-[1.6] border-shade-25 list-none py-xl first:pt-0 mb-0 pt-8 pb-8 md:p-10 border-b-2 border-shade-20 md:last:border-0\" data-component-name=\"aq--3\" itemscope=\"\" itemprop=\"mainEntity\" itemtype=\"https://schema.org/Question\"><h3><button aria-controls=\"faq-3\" aria-expanded=\"false\" class=\"flex w-full cursor-pointer items-center justify-between gap-2 border-0 p-0 after:w-4 after:h-4 after:ml-4 after:mb-4 flex-none group after:hidden text-black hover:text-shade-70 active:text-shade-50\" data-component-name=\"faq-btn-3-hide\" id=\"faq-btn-3\" type=\"button\"><div class=\"w-full text-left flex justify-between align-center relative pr-16\"><span class=\"text-left font-bold text-2xl leading-[1.625rem] md:text-[2rem] md:leading-9\" itemprop=\"name\">Do I need to be a designer or developer to use Shopify?</span><span class=\"absolute right-0 top-0\" aria-hidden=\"true\"><svg xmlns=\"http://www.w3.org/2000/svg\" viewBox=\"0 0 20 20\" class=\"rounded-full p-1.5 w-[44px] h-[44px] bg-white text-black group-hover:bg-shade-30 group-active:bg-shade-50 group-focus-visible:outline group-focus-visible:outline-2 group-focus-visible:outline-focus\"><path d=\"M10 4a1 1 0 0 0-1 1v4H5a1 1 0 1 0 0 2h4v4a1 1 0 1 0 2 0v-4h4a1 1 0 1 0 0-2h-4V5a1 1 0 0 0-1-1Z\" fill=\"currentColor\"></path></svg></span></div></button></h3><div aria-hidden=\"true\" class=\"after:content-[&quot;&quot;] overflow-hidden after:[transition:height_400ms_linear,max-height_0s_400ms_linear] [&amp;>*]:[transition:margin-bottom_400ms_cubic-bezier(1,0,1,1),visibility_0s_400ms,max-height_0s_400ms] after:h-0 after:max-h-[50px] [&amp;>*]:max-h-0 [&amp;>*]:invisible [&amp;>*]:-mb-[2000px]\" id=\"faq-3\" aria-labelledby=\"faq-btn-3\" role=\"region\"><div itemprop=\"acceptedAnswer\" itemscope=\"\" itemtype=\"https://schema.org/Answer\"><div class=\"richtext mt-sm mr-16 md:w-4/5 text-xl leading-7 md:text-[1.125rem] md:leading-[1.625rem] richtext\" itemprop=\"text\"><p>No, you don't need to be a designer or developer to use Shopify.</p>\n",
            "\n",
            "<p>Signing up for Shopify allows you to:</p>\n",
            "\n",
            "<ul>\n",
            "<li>Customize the look and feel of your store with the online store builder and themes.</li>\n",
            "<li>Add features and functionality to your store with apps.</li>\n",
            "</ul>\n",
            "\n",
            "<p><br>\n",
            "If you need extra help, you can contact our support team, or visit the Shopify Expert Marketplace to search for and hire a certified Shopify expert.</p>\n",
            "</div></div></div></li></ul></div></div></div><div class=\"h-3xl w-full\"></div></section></main><section class=\"bg-[#f1fff9] [&amp;_[data-spacer-size=&quot;5xl&quot;]]:h-[3.75rem]\" data-section-name=\"footer\" data-section-index=\"1\" data-component-name=\"footer\"><div class=\"container flex justify-end\"><a class=\"ml-3 sm:ml-8 md:ml-12 lg:ml-28 link text-shade-100 active:text-shade-70 text-body-base\" data-component-name=\"\" href=\"/legal/terms\">Terms of Service</a><a class=\"ml-3 sm:ml-8 md:ml-12 lg:ml-28 link text-shade-100 active:text-shade-70 text-body-base\" data-component-name=\"\" href=\"/legal/privacy\">Privacy Policy</a></div><div class=\"h-5xl w-full\"></div></section></div><link rel=\"modulepreload\" href=\"https://cdn.shopify.com/shopifycloud/brochure2/production/manifest-AE3C9449.js\"><link rel=\"modulepreload\" href=\"https://cdn.shopify.com/shopifycloud/brochure2/production/entry.client-YNVSJRDU.js\"><link rel=\"modulepreload\" href=\"https://cdn.shopify.com/shopifycloud/brochure2/production/_shared/chunk-GVJ6UA5N.js\"><link rel=\"modulepreload\" href=\"https://cdn.shopify.com/shopifycloud/brochure2/production/_shared/chunk-ERIQFGIH.js\"><link rel=\"modulepreload\" href=\"https://cdn.shopify.com/shopifycloud/brochure2/production/_shared/chunk-BPJIXTBL.js\"><link rel=\"modulepreload\" href=\"https://cdn.shopify.com/shopifycloud/brochure2/production/_shared/chunk-PBVTETL2.js\"><link rel=\"modulepreload\" href=\"https://cdn.shopify.com/shopifycloud/brochure2/production/_shared/chunk-X3NLMQZL.js\"><link rel=\"modulepreload\" href=\"https://cdn.shopify.com/shopifycloud/brochure2/production/_shared/chunk-G6AF7AEJ.js\"><link rel=\"modulepreload\" href=\"https://cdn.shopify.com/shopifycloud/brochure2/production/_shared/chunk-2TDZ4XAI.js\"><link rel=\"modulepreload\" href=\"https://cdn.shopify.com/shopifycloud/brochure2/production/_shared/chunk-IJG6PW7Q.js\"><link rel=\"modulepreload\" href=\"https://cdn.shopify.com/shopifycloud/brochure2/production/_shared/chunk-HAZWQ5TO.js\"><link rel=\"modulepreload\" href=\"https://cdn.shopify.com/shopifycloud/brochure2/production/_shared/chunk-OFYQ3KFD.js\"><link rel=\"modulepreload\" href=\"https://cdn.shopify.com/shopifycloud/brochure2/production/_shared/chunk-QATMHRIX.js\"><link rel=\"modulepreload\" href=\"https://cdn.shopify.com/shopifycloud/brochure2/production/_shared/chunk-ERVKZKIC.js\"><link rel=\"modulepreload\" href=\"https://cdn.shopify.com/shopifycloud/brochure2/production/_shared/chunk-J3544FYU.js\"><link rel=\"modulepreload\" href=\"https://cdn.shopify.com/shopifycloud/brochure2/production/_shared/chunk-JKT4EDFW.js\"><link rel=\"modulepreload\" href=\"https://cdn.shopify.com/shopifycloud/brochure2/production/_shared/chunk-RRT2VQNF.js\"><link rel=\"modulepreload\" href=\"https://cdn.shopify.com/shopifycloud/brochure2/production/_shared/chunk-II7EGU2L.js\"><link rel=\"modulepreload\" href=\"https://cdn.shopify.com/shopifycloud/brochure2/production/_shared/chunk-NUXZZKHI.js\"><link rel=\"modulepreload\" href=\"https://cdn.shopify.com/shopifycloud/brochure2/production/_shared/chunk-LX5442J3.js\"><link rel=\"modulepreload\" href=\"https://cdn.shopify.com/shopifycloud/brochure2/production/_shared/chunk-53ZRKCHW.js\"><link rel=\"modulepreload\" href=\"https://cdn.shopify.com/shopifycloud/brochure2/production/_shared/chunk-4LECWZEA.js\"><link rel=\"modulepreload\" href=\"https://cdn.shopify.com/shopifycloud/brochure2/production/_shared/chunk-PM6MLRIE.js\"><link rel=\"modulepreload\" href=\"https://cdn.shopify.com/shopifycloud/brochure2/production/_shared/chunk-T3MDJAQA.js\"><link rel=\"modulepreload\" href=\"https://cdn.shopify.com/shopifycloud/brochure2/production/_shared/chunk-SI2MSZTT.js\"><link rel=\"modulepreload\" href=\"https://cdn.shopify.com/shopifycloud/brochure2/production/_shared/chunk-YOH3Z5Y5.js\"><link rel=\"modulepreload\" href=\"https://cdn.shopify.com/shopifycloud/brochure2/production/_shared/chunk-QRNUYMQ3.js\"><link rel=\"modulepreload\" href=\"https://cdn.shopify.com/shopifycloud/brochure2/production/_shared/chunk-ISVTTWWX.js\"><link rel=\"modulepreload\" href=\"https://cdn.shopify.com/shopifycloud/brochure2/production/_shared/chunk-ZCVW3Z3X.js\"><link rel=\"modulepreload\" href=\"https://cdn.shopify.com/shopifycloud/brochure2/production/_shared/chunk-EGRJ2UQY.js\"><link rel=\"modulepreload\" href=\"https://cdn.shopify.com/shopifycloud/brochure2/production/_shared/chunk-YVBRZSFT.js\"><link rel=\"modulepreload\" href=\"https://cdn.shopify.com/shopifycloud/brochure2/production/_shared/chunk-7BXW6HE3.js\"><link rel=\"modulepreload\" href=\"https://cdn.shopify.com/shopifycloud/brochure2/production/_shared/chunk-SWDUGQXD.js\"><link rel=\"modulepreload\" href=\"https://cdn.shopify.com/shopifycloud/brochure2/production/_shared/chunk-BSYPH6KI.js\"><link rel=\"modulepreload\" href=\"https://cdn.shopify.com/shopifycloud/brochure2/production/root-KLYSP5WN.js\"><link rel=\"modulepreload\" href=\"https://cdn.shopify.com/shopifycloud/brochure2/production/_shared/chunk-VLBG3UGY.js\"><link rel=\"modulepreload\" href=\"https://cdn.shopify.com/shopifycloud/brochure2/production/_shared/chunk-PQ3VOT4U.js\"><link rel=\"modulepreload\" href=\"https://cdn.shopify.com/shopifycloud/brochure2/production/routes/($locale)/free-trial/index-336QPWK7.js\">\n"
          ]
        }
      ],
      "source": [
        "print(df_html['html'][0])"
      ]
    },
    {
      "cell_type": "code",
      "execution_count": null,
      "metadata": {
        "colab": {
          "base_uri": "https://localhost:8080/"
        },
        "id": "bcU-O1MlUCmt",
        "outputId": "a1eff789-2d5b-4f9a-d016-ad2a55e41581"
      },
      "outputs": [
        {
          "output_type": "stream",
          "name": "stdout",
          "text": [
            "MAX HTML TOKEN COUNTS  165075\n"
          ]
        }
      ],
      "source": [
        "html_token_counts= [len(tokenizer.tokenize(example['html'])) for example in dataset['train']]\n",
        "\n",
        "print(\"MAX HTML TOKEN COUNTS \" , max(html_token_counts))"
      ]
    },
    {
      "cell_type": "code",
      "execution_count": null,
      "metadata": {
        "id": "yuciIf4CtX5H"
      },
      "outputs": [],
      "source": [
        "query_token_count = [len(tokenizer.tokenize(example['label'])) for example in dataset['train']]"
      ]
    },
    {
      "cell_type": "code",
      "execution_count": null,
      "metadata": {
        "colab": {
          "base_uri": "https://localhost:8080/"
        },
        "id": "0guU7WwhV3Tq",
        "outputId": "181841e4-c6e8-4424-95b7-b107458bf8ab"
      },
      "outputs": [
        {
          "output_type": "execute_result",
          "data": {
            "text/plain": [
              "12"
            ]
          },
          "metadata": {},
          "execution_count": 16
        }
      ],
      "source": [
        "max(query_token_count)"
      ]
    },
    {
      "cell_type": "code",
      "execution_count": null,
      "metadata": {
        "colab": {
          "base_uri": "https://localhost:8080/",
          "height": 607
        },
        "id": "h2VSby9DVg87",
        "outputId": "e83ddd31-174a-4839-adcf-d3d0f1435c2c"
      },
      "outputs": [
        {
          "output_type": "display_data",
          "data": {
            "text/plain": [
              "<Figure size 1500x600 with 1 Axes>"
            ],
            "image/png": "[encoded data removed]"
          },
          "metadata": {}
        }
      ],
      "source": [
        "import seaborn as sns\n",
        "\n",
        "def plot_distribution(token_counts, title):\n",
        "  sns.set_style('whitegrid')\n",
        "  plt.figure(figsize=(15,6))\n",
        "  plt.hist(token_counts , bins=30 , color='red' , edgecolor='black')\n",
        "  plt.title(title, fontsize=14)\n",
        "  plt.xlabel('No. of tokens' , fontsize=14)\n",
        "  plt.ylabel('No. of examples ' , fontsize=14)\n",
        "  plt.xticks(fontsize=12)\n",
        "  plt.yticks(fontsize=12)\n",
        "  plt.tight_layout()\n",
        "  plt.show()\n",
        "\n",
        "plot_distribution(html_token_counts , 'Distribution of token counts for the html only')"
      ]
    },
    {
      "cell_type": "code",
      "execution_count": null,
      "metadata": {
        "colab": {
          "base_uri": "https://localhost:8080/"
        },
        "id": "9XlElDf0a046",
        "outputId": "94f984c1-057a-4800-a705-9fa6b3dab199"
      },
      "outputs": [
        {
          "output_type": "stream",
          "name": "stdout",
          "text": [
            "Average html code length is :  26960\n"
          ]
        }
      ],
      "source": [
        "print(\"Average html code length is : \" , int(sum(html_token_counts) / len(html_token_counts)))"
      ]
    },
    {
      "cell_type": "code",
      "execution_count": null,
      "metadata": {
        "colab": {
          "base_uri": "https://localhost:8080/",
          "height": 607
        },
        "id": "nwJYFhrtXgYm",
        "outputId": "215d9709-c617-4347-9636-a7aade357dab"
      },
      "outputs": [
        {
          "output_type": "display_data",
          "data": {
            "text/plain": [
              "<Figure size 1500x600 with 1 Axes>"
            ],
            "image/png": "[encoded data removed]"
          },
          "metadata": {}
        }
      ],
      "source": [
        "plot_distribution(query_token_count , 'Distribution of token counts for the label/query only')"
      ]
    },
    {
      "cell_type": "markdown",
      "metadata": {
        "id": "KElP0ikgvr9z"
      },
      "source": [
        "### Splitting/ Chunking"
      ]
    },
    {
      "cell_type": "code",
      "execution_count": null,
      "metadata": {
        "id": "ekDO4c81tX1j"
      },
      "outputs": [],
      "source": [
        "from langchain.text_splitter import RecursiveCharacterTextSplitter\n",
        "\n",
        "text_splitter = RecursiveCharacterTextSplitter(\n",
        "    chunk_size=4096,\n",
        "    chunk_overlap = 256,\n",
        "    separators=['</p>' ,'</div>']\n",
        ")"
      ]
    },
    {
      "cell_type": "code",
      "execution_count": null,
      "metadata": {
        "colab": {
          "base_uri": "https://localhost:8080/"
        },
        "id": "cGdsVrU_ch1v",
        "outputId": "287ed165-7996-4eaa-cbf7-71791049e91c"
      },
      "outputs": [
        {
          "output_type": "execute_result",
          "data": {
            "text/plain": [
              "16"
            ]
          },
          "metadata": {},
          "execution_count": 21
        }
      ],
      "source": [
        "chunks = text_splitter.split_text(df_html['html'][0])\n",
        "len(chunks)"
      ]
    },
    {
      "cell_type": "code",
      "execution_count": null,
      "metadata": {
        "colab": {
          "base_uri": "https://localhost:8080/"
        },
        "id": "-Ddb8JHmcsek",
        "outputId": "d004fb5b-590f-45af-adb4-0a71663fc8d1"
      },
      "outputs": [
        {
          "output_type": "stream",
          "name": "stdout",
          "text": [
            "<div class=\"absolute top-2 left-2 z-50\"><a class=\"text-shopifysans font-bold inline-block leading-none overflow-hidden max-w-full transition-all focus-visible:outline-4 focus-visible:outline-focus focus-visible:outline-offset-[-2px] border-solid border-2 rounded-[30px] focus-visible:outline-none tracking-ff-tight border-[transparent] text-shade-100 bg-white hover:bg-shade-30 active:bg-shade-50 disabled:bg-shade-70 disabled:text-shade-90 text-body-sm px-[1.375rem] py-[0.875rem] transition-transform duration-300 translate-y-[-200%] motion-reduce:transition-none focus:translate-y-0 focus:z-[100]\" data-component-name=\"\" href=\"#main\">Skip to Content</a></div><div class=\"relative\"><section aria-label=\"Announcement\" class=\"relative inset-x-0 top-0 flex h-[72px] items-center justify-center overflow-hidden z-20 deafult:text-black default:bg-shopify-green-10\" data-section-name=\"butter-bar\"><p class=\"p-4 pr-16 sm:pl-16 md:py-5 md:px-20 text-xs sm:text-sm md:text-base lg:text-lg sm:text-center font-normal [&amp;>a]:hover:no-underline [&amp;>a]:font-bold [&amp;>a]:underline [&amp;>a]:active:text-shade-70 [&amp;>a]:focus-visible:outline-none arrow-animation richtext\">Start a free trial and enjoy 3 months of Shopify for $1/month on select plans. <a data-component-name=\"start-free-trial\" href=\"https://accounts.shopify.com/store-create?locale=en&amp;language=en&amp;signup_page=https%3A%2F%2Fwww.shopify.com%2Ffree-trial%3Firclickid%3D1VmXxiWJQxyNWXX1ttVyI1-pUkA38Wz4ex9xVk0%26irgwc%3D1%26partner%3D415312%26affpt%3Dexcluded&amp;signup_types%5B%5D=paid_trial_experience&amp;signup_currency=USD\">Sign up now</a>\n"
          ]
        }
      ],
      "source": [
        "print(chunks[0])"
      ]
    },
    {
      "cell_type": "code",
      "execution_count": null,
      "metadata": {
        "colab": {
          "base_uri": "https://localhost:8080/"
        },
        "id": "-Ud8yGGmdTQB",
        "outputId": "7174cecc-0b12-44d2-e32e-a951a15e66ab"
      },
      "outputs": [
        {
          "output_type": "stream",
          "name": "stdout",
          "text": [
            "Test Generated Short UUID: 1867d8a9-28f\n"
          ]
        }
      ],
      "source": [
        "## generate uuid for the labels\n",
        "\n",
        "import uuid\n",
        "\n",
        "def generate_short_uuid():\n",
        "    full_uuid = str(uuid.uuid4())\n",
        "    return full_uuid[:12]\n",
        "\n",
        "short_uuid = generate_short_uuid()\n",
        "print(\"Test Generated Short UUID:\", short_uuid)"
      ]
    },
    {
      "cell_type": "code",
      "execution_count": null,
      "metadata": {
        "colab": {
          "base_uri": "https://localhost:8080/",
          "height": 122
        },
        "id": "sIX8NEgkd10v",
        "outputId": "0ca10548-548a-4fd1-98d8-53f63f42929b"
      },
      "outputs": [
        {
          "output_type": "execute_result",
          "data": {
            "text/plain": [
              "'<div class=\"absolute top-2 left-2 z-50\"><a class=\"text-shopifysans font-bold inline-block leading-none overflow-hidden max-w-full transition-all focus-visible:outline-4 focus-visible:outline-focus focus-visible:outline-offset-[-2px] border-solid border-2 rounded-[30px] focus-visible:outline-none tracking-ff-tight border-[transparent] text-shade-100 bg-white hover:bg-shade-30 active:bg-shade-50 disabled:bg-shade-70 disabled:text-shade-90 text-body-sm px-[1.375rem] py-[0.875rem] transition-transform duration-300 translate-y-[-200%] motion-reduce:transition-none focus:translate-y-0 focus:z-[100]\" data-component-name=\"\" href=\"#main\">Skip to Content</a></div><div class=\"relative\"><section aria-label=\"Announcement\" class=\"relative inset-x-0 top-0 flex h-[72px] items-center justify-center overflow-hidden z-20 deafult:text-black default:bg-shopify-green-10\" data-section-name=\"butter-bar\"><p class=\"p-4 pr-16 sm:pl-16 md:py-5 md:px-20 text-xs sm:text-sm md:text-base lg:text-lg sm:text-center font-normal [&amp;>a]:hover:no-underline [&amp;>a]:font-bold [&amp;>a]:underline [&amp;>a]:active:text-shade-70 [&amp;>a]:focus-visible:outline-none arrow-animation richtext\">Start a free trial and enjoy 3 months of Shopify for $1/month on select plans. <a data-component-name=\"start-free-trial\" href=\"https://accounts.shopify.com/store-create?locale=en&amp;language=en&amp;signup_page=https%3A%2F%2Fwww.shopify.com%2Ffree-trial%3Firclickid%3D1VmXxiWJQxyNWXX1ttVyI1-pUkA38Wz4ex9xVk0%26irgwc%3D1%26partner%3D415312%26affpt%3Dexcluded&amp;signup_types%5B%5D=paid_trial_experience&amp;signup_currency=USD\">Sign up now</a></p><button type=\"button\" aria-label=\"Close announcement\" class=\"absolute right-0 mr-4 hover:text-black/50\" data-component-name=\"close\"><svg width=\"20\" height=\"20\" viewBox=\"0 0 20 20\" fill=\"none\" xmlns=\"http://www.w3.org/2000/svg\"><path d=\"M15.811 4.189L4.19 15.811m0-11.622l11.622 11.622\" stroke=\"currentColor\" stroke-width=\"2\" stroke-linecap=\"round\" stroke-linejoin=\"round\"></path></svg></button></section></div><div class=\"relative\"><main role=\"main\" id=\"main\" tabindex=\"-1\" class=\"bg-[#f1fff9] overflow-x-clip\"><header class=\"[&amp;_a[href]]:text-[12px] [&amp;_a[href]]:py-3 w-full top-0 absolute z-20 h-auto legacy-tablet:h-[63px] flex justify-center items-center py-4 legacy-tablet:py-0 hidden\" data-component-name=\"header-light\" data-viewable-component=\"true\" style=\"animation-duration:0.3s\"><div class=\"grid-margin relative\"><div class=\"gap-x-gutter legacy-tablet:flex-row mx-auto flex flex-col items-center justify-center\"><h2 class=\"legacy-tablet:mb-0 legacy-tablet:mr-10 mb-4 align-middle text-base font-bold richtext\">Start your free-trial today</h2><div class=\"gap-x-gutter flex flex-row\"><a class=\"text-shopifysans font-bold inline-block leading-none overflow-hidden max-w-full transition-all focus-visible:outline-4 focus-visible:outline-focus focus-visible:outline-offset-[-2px] border-solid border-2 rounded-[30px] focus-visible:outline-none tracking-ff-tight border-[transparent] text-white bg-shade-100 hover:bg-shade-70 active:bg-shade-50 disabled:bg-shade-20 disabled:text-shade-30 text-body-sm px-[1.375rem] py-[0.875rem]\" data-component-name=\"start-free-trial\" href=\"https://accounts.shopify.com/store-create?locale=en&amp;language=en&amp;signup_page=https%3A%2F%2Fwww.shopify.com%2Ffree-trial%3Firclickid%3D1VmXxiWJQxyNWXX1ttVyI1-pUkA38Wz4ex9xVk0%26irgwc%3D1%26partner%3D415312%26affpt%3Dexcluded&amp;signup_types%5B%5D=paid_trial_experience&amp;signup_currency=USD\">Get started</a><a class=\"text-shopifysans font-bold inline-block leading-none overflow-hidden max-w-full transition-all focus-visible:outline-4 focus-visible:outline-focus focus-visible:outline-offset-[-2px] border-solid border-2 rounded-[30px] focus-visible:outline-none tracking-ff-tight relative border-shade-100 text-shade-100 before:absolute before:inset-[-2px] before:transition-all hover:before:border-[3px] before:rounded-[30px] before:border-shade-70 hover:border-shade-70 active:border-shade-60 focus-visible:outline-4 focus-visible:outline-focus focus-visible:outline-offset-[-2px] disabled:text-shade-50 disabled:border-shade-50 text-body-sm px-[1.375rem] py-[0.875rem]\" data-component-name=\"learn-more\" href=\"/blog\">Learn more</a></div></div></div><button type=\"button\" class=\"legacy-tablet:top-1/2 legacy-tablet:right-4 legacy-tablet:-translate-y-1/2 absolute top-2 right-2 h-7 w-7 transition-all hover:scale-105 hover:opacity-80\" data-component-name=\"cancel\"><svg width=\"14\" height=\"14\" viewBox=\"0 0 14 14\" fill=\"none\" aria-label=\"Dismiss banner\" role=\"button\" xmlns=\"http://www.w3.org/2000/svg\" class=\"text-legacy-gray-90\"><path d=\"M12.811 1.189L1.19 12.811m0-11.622l11.622 11.622\" stroke=\"currentColor\" stroke-width=\"2\" stroke-linecap=\"round\" stroke-linejoin=\"round\"></path></svg></button></header><section class=\"bg-color-[#F1FFF9] bg-free-trial-conversion\" data-section-name=\"conversion\" data-section-index=\"2\" data-component-name=\"hero\" id=\"cGFnZTpjR0ZuWlRveE1EcGxiZz09OmVuOnNlY3Rpb246Y29udmVyc2lvbl8x\"><div class=\"container flex flex-col items-center text-center\"><div class=\"h-md w-full\"></div><div data-partial-name=\"shopifyLogoTitle\"><svg aria-labelledby=\"shopifyLogoTitle\" fill=\"none\" role=\"img\" viewBox=\"0 0 56 64\" xmlns=\"http://www.w3.org/2000/svg\" class=\"legacy-tablet:hidden block h-[48px]\" height=\"64\"><title id=\"shopifyLogoTitle\">Shopify Logo</title><g clip-path=\"url(#clip0_198_267)\"><path d=\"M48.33 12.1452C48.285 11.8315 48.015 11.6522 47.79 11.6522C47.565 11.6522 43.11 11.5626 43.11 11.5626C43.11 11.5626 39.375 7.97718 39.015 7.57382C38.655 7.21527 37.935 7.30491 37.665 7.39454C37.665 7.39454 36.945 7.61863 35.775 7.97718C35.595 7.34973 35.28 6.58782 34.875 5.7811C33.57 3.27129 31.59 1.92676 29.25 1.92676C29.07 1.92676 28.935 1.92676 28.755 1.97157C28.665 1.88194 28.62 1.7923 28.53 1.74749C27.495 0.671855 26.19 0.13404 24.615 0.178858C21.6 0.268494 18.585 2.46457 16.11 6.31891C14.4 9.05281 13.095 12.459 12.69 15.1032C9.225 16.1789 6.795 16.9408 6.705 16.9408C4.95 17.4786 4.905 17.5234 4.68 19.1817C4.59 20.4366 0 55.7979 0 55.7979L38.52 62.431L55.215 58.3077C55.17 58.3077 48.375 12.459 48.33 12.1452ZM33.84 8.60463C32.94 8.87354 31.95 9.18726 30.87 9.5458C30.87 8.02199 30.645 5.87073 29.97 4.07802C32.265 4.43656 33.39 7.036 33.84 8.60463ZM28.845 10.1284C26.82 10.7559 24.615 11.4282 22.41 12.1004C23.04 9.72508 24.21 7.39454 25.65 5.82592C26.19 5.24328 26.955 4.61583 27.81 4.25729C28.71 6.00519 28.89 8.47017 28.845 10.1284ZM24.705 2.19566C25.425 2.19566 26.01 2.33012 26.505 2.68866C25.695 3.09202 24.885 3.71947 24.165 4.5262C22.23 6.58782 20.745 9.76989 20.16 12.8623C18.315 13.445 16.515 13.9828 14.895 14.4758C15.975 9.59062 20.07 2.33012 24.705 2.19566Z\" fill=\"#95BF47\"></path><path d=\"M47.7895 11.6526C47.5645 11.6526 43.1095 11.563 43.1095 11.563C43.1095 11.563 39.3745 7.97755 39.0145 7.57419C38.8795 7.43973 38.6995 7.3501 38.5195 7.3501V62.4313L55.2145 58.3081C55.2145 58.3081 48.4195 12.4593 48.3745 12.1456C48.2845 11.8319 48.0145 11.6526 47.7895 11.6526Z\" fill=\"#5E8E3E\"></path><path d=\"M29.2498 20.2129L27.3148 27.4286C27.3148 27.4286 25.1548 26.4426 22.5898 26.6218C18.8098 26.8459 18.8098 29.2213 18.8098 29.8039C19.0348 33.0308 27.5398 33.7479 28.0348 41.3221C28.3948 47.2829 24.8848 51.3613 19.7548 51.6751C13.6348 51.9888 10.2598 48.4034 10.2598 48.4034L11.5648 42.8907C11.5648 42.8907 14.9848 45.4454 17.6848 45.2661C19.4398 45.1765 20.1148 43.6975 20.0248 42.7115C19.7548 38.4986 12.8248 38.7675 12.3748 31.8207C12.0148 25.9944 15.8398 20.1232 24.2998 19.5854C27.5848 19.3613 29.2498 20.2129 29.2498 20.2129Z\" fill=\"white\"></path></g><defs><clipPath id=\"clip0_198_267\"><rect width=\"225\" height=\"64\" fill=\"white\"></rect></clipPath></defs></svg><svg aria-labelledby=\"shopifyLogoTitle\" fill=\"none\" role=\"img\" viewBox=\"0 0 225 64\" xmlns=\"http://www.w3.org/2000/svg\" class=\"legacy-tablet:block hidden h-[48px]\" height=\"64\"><title id=\"shopifyLogoTitle\">Shopify Logo</title><g clip-path=\"url(#clip0_198_267)\"><path d=\"M77.8396 35.5887C75.9238 34.5346 74.9155 33.6813 74.9155 32.4766C74.9155 30.9205 76.2767 29.9668 78.4446 29.9668C80.9653 29.9668 83.1835 31.0209 83.1835 31.0209L84.948 25.6499C84.948 25.6499 83.3348 24.395 78.5454 24.395C71.8907 24.395 67.2525 28.2099 67.2525 33.5307C67.2525 36.5425 69.4204 38.8515 72.294 40.508C74.6131 41.8131 75.4197 42.7668 75.4197 44.1221C75.4197 45.5778 74.2602 46.7323 72.0923 46.7323C68.8658 46.7323 65.8409 45.0758 65.8409 45.0758L63.9756 50.4468C63.9756 50.4468 66.7988 52.304 71.4874 52.304C78.3437 52.304 83.2339 48.9409 83.2339 42.9174C83.3348 39.6044 80.814 37.2954 77.8396 35.5887Z\" fill=\"black\"></path><path d=\"M105.165 24.2946C101.787 24.2946 99.1654 25.9009 97.0984 28.3103L96.9976 28.2601L99.9216 13.0005H92.2586L84.8477 51.8021H92.4602L94.981 38.5503C95.9893 33.5307 98.5604 30.4687 100.98 30.4687C102.694 30.4687 103.35 31.6232 103.35 33.2797C103.35 34.3338 103.249 35.5887 102.997 36.6428L100.123 51.8523H107.736L110.71 36.1911C111.063 34.5346 111.265 32.577 111.265 31.2217C111.366 26.8546 109.147 24.2946 105.165 24.2946Z\" fill=\"black\"></path><path d=\"M128.607 24.2944C119.431 24.2944 113.331 32.5266 113.331 41.7125C113.331 47.5854 116.961 52.354 123.817 52.354C132.841 52.354 138.891 44.3227 138.891 34.936C138.942 29.4646 135.766 24.2944 128.607 24.2944ZM124.876 46.4811C122.254 46.4811 121.196 44.2725 121.196 41.5117C121.196 37.1446 123.464 30.067 127.598 30.067C130.321 30.067 131.178 32.376 131.178 34.6348C131.178 39.3533 128.909 46.4811 124.876 46.4811Z\" fill=\"black\"></path><path d=\"M158.452 24.2944C153.31 24.2944 150.386 28.8121 150.386 28.8121H150.285L150.739 24.7462H143.983C143.63 27.507 143.025 31.6733 142.42 34.8356L137.127 62.5438H144.74L146.857 51.2999H147.008C147.008 51.2999 148.571 52.3038 151.495 52.3038C160.469 52.3038 166.317 43.1682 166.317 33.9321C166.317 28.8623 164.048 24.2944 158.452 24.2944ZM151.193 46.6317C149.226 46.6317 148.067 45.5274 148.067 45.5274L149.327 38.4497C150.235 33.7313 152.705 30.5689 155.327 30.5689C157.646 30.5689 158.351 32.7274 158.351 34.7352C158.351 39.6042 155.427 46.6317 151.193 46.6317Z\" fill=\"black\"></path><path d=\"M177.206 13.4019C174.786 13.4019 172.82 15.3093 172.82 17.8191C172.82 20.0779 174.232 21.634 176.4 21.634H176.501C178.87 21.634 180.937 20.0277 180.987 17.2168C181.038 14.9579 179.525 13.4019 177.206 13.4019Z\" fill=\"black\"></path><path d=\"M166.519 51.8021H174.182L179.374 24.897H171.661L166.519 51.8021Z\" fill=\"black\"></path><path d=\"M198.734 24.8468H193.44L193.692 23.5919C194.146 20.9817 195.658 18.6727 198.23 18.6727C199.591 18.6727 200.649 19.0742 200.649 19.0742L202.162 13.1511C202.162 13.1511 200.851 12.4985 198.028 12.4985C195.306 12.4985 192.634 13.2515 190.567 15.0083C187.945 17.217 186.735 20.3793 186.13 23.5919L185.928 24.8468H182.399L181.29 30.5691H184.819L180.786 51.8021H188.399L192.432 30.5691H197.675L198.734 24.8468Z\" fill=\"black\"></path><path d=\"M217.084 24.897C217.084 24.897 212.295 36.8436 210.178 43.3691H210.077C209.926 41.2609 208.212 24.897 208.212 24.897H200.196L204.783 49.5934C204.884 50.1456 204.834 50.497 204.632 50.8483C203.725 52.555 202.263 54.2115 200.498 55.4162C199.087 56.4703 197.473 57.1229 196.213 57.5746L198.33 63.9997C199.893 63.6483 203.069 62.3934 205.792 59.8836C209.27 56.6209 212.497 51.6515 215.774 44.8248L225.1 24.897H217.084Z\" fill=\"black\"></path><path d=\"M48.33 12.1452C48.285 11.8315 48.015 11.6522 47.79 11.6522C47.565 11.6522 43.11 11.5626 43.11 11.5626C43.11 11.5626 39.375 7.97718 39.015 7.57382C38.655 7.21527 37.935 7.30491 37.665 7.39454C37.665 7.39454 36.945 7.61863 35.775 7.97718C35.595 7.34973 35.28 6.58782 34.875 5.7811C33.57 3.27129 31.59 1.92676 29.25 1.92676C29.07 1.92676 28.935 1.92676 28.755 1.97157C28.665 1.88194 28.62 1.7923 28.53 1.74749C27.495 0.671855 26.19 0.13404 24.615 0.178858C21.6 0.268494 18.585 2.46457 16.11 6.31891C14.4 9.05281 13.095 12.459 12.69 15.1032C9.225 16.1789 6.795 16.9408 6.705 16.9408C4.95 17.4786 4.905 17.5234 4.68 19.1817C4.59 20.4366 0 55.7979 0 55.7979L38.52 62.431L55.215 58.3077C55.17 58.3077 48.375 12.459 48.33 12.1452ZM33.84 8.60463C32.94 8.87354 31.95 9.18726 30.87 9.5458C30.87 8.02199 30.645 5.87073 29.97 4.07802C32.265 4.43656 33.39 7.036 33.84 8.60463ZM28.845 10.1284C26.82 10.7559 24.615 11.4282 22.41 12.1004C23.04 9.72508 24.21 7.39454 25.65 5.82592C26.19 5.24328 26.955 4.61583 27.81 4.25729C28.71 6.00519 28.89 8.47017 28.845 10.1284ZM24.705 2.19566C25.425 2.19566 26.01 2.33012 26.505 2.68866C25.695 3.09202 24.885 3.71947 24.165 4.5262C22.23 6.58782 20.745 9.76989 20.16 12.8623C18.315 13.445 16.515 13.9828 14.895 14.4758C15.975 9.59062 20.07 2.33012 24.705 2.19566Z\" fill=\"#95BF47\"></path><path d=\"M47.7895 11.6526C47.5645 11.6526 43.1095 11.563 43.1095 11.563C43.1095 11.563 39.3745 7.97755 39.0145 7.57419C38.8795 7.43973 38.6995 7.3501 38.5195 7.3501V62.4313L55.2145 58.3081C55.2145 58.3081 48.4195 12.4593 48.3745 12.1456C48.2845 11.8319 48.0145 11.6526 47.7895 11.6526Z\" fill=\"#5E8E3E\"></path><path d=\"M29.2498 20.2129L27.3148 27.4286C27.3148 27.4286 25.1548 26.4426 22.5898 26.6218C18.8098 26.8459 18.8098 29.2213 18.8098 29.8039C19.0348 33.0308 27.5398 33.7479 28.0348 41.3221C28.3948 47.2829 24.8848 51.3613 19.7548 51.6751C13.6348 51.9888 10.2598 48.4034 10.2598 48.4034L11.5648 42.8907C11.5648 42.8907 14.9848 45.4454 17.6848 45.2661C19.4398 45.1765 20.1148 43.6975 20.0248 42.7115C19.7548 38.4986 12.8248 38.7675 12.3748 31.8207C12.0148 25.9944 15.8398 20.1232 24.2998 19.5854C27.5848 19.3613 29.2498 20.2129 29.2498 20.2129Z\" fill=\"white\"></path></g><defs><clipPath id=\"clip0_198_267\"><rect width=\"225\" height=\"64\" fill=\"white\"></rect></clipPath></defs></svg></div><div class=\"h-lg w-full\"></div><h1 class=\"font-bold text-t1 max-w-3xl richtext\">Bring your ideas to life for $1/month<span class=\"sr-only\"> with Shopify</span></h1><div class=\"h-lg w-full\"></div><p class=\"text-body-lg max-w-4xl\">The future of business is yours to shape. Sign up for a free trial and enjoy 3 months of Shopify for $1/month on select plans.</p><div class=\"h-lg w-full\"></div><div class=\"w-11/12 sm:w-full\"><div class=\"flex justify-center\"><h3 class=\"sr-only\">Start free trial</h3><form action=\"https://accounts.shopify.com/store-create\" novalidate=\"\" class=\"flex w-full flex-col justify-center items-center\"><input type=\"hidden\" name=\"locale\" value=\"en\"><input type=\"hidden\" name=\"language\" value=\"en\"><input type=\"hidden\" name=\"signup_page\" value=\"https://www.shopify.com/free-trial?irclickid=1VmXxiWJQxyNWXX1ttVyI1-pUkA38Wz4ex9xVk0&amp;irgwc=1&amp;partner=415312&amp;affpt=excluded\"><input type=\"hidden\" name=\"signup_types[]\" value=\"paid_trial_experience\"><input type=\"hidden\" name=\"signup_currency\" value=\"USD\"><div data-component-name=\"email-form-input-wrapper\" class=\"box-border flex h-16 w-full items-center justify-between rounded-full border-2 pl-6 pr-1 sm:w-[498px] border-black bg-transparent\"><input class=\"text-shade-70 h-14 w-full bg-transparent sm:w-72 outline-none\" type=\"email\" spellcheck=\"false\" autocomplete=\"email\" placeholder=\"Enter your email address\"><div class=\"hidden sm:block\"><button class=\"text-shopifysans font-bold inline-block leading-none overflow-hidden max-w-full transition-all focus-visible:outline-4 focus-visible:outline-focus focus-visible:outline-offset-[-2px] border-solid border-2 rounded-[30px] focus-visible:outline-none tracking-ff-tight border-[transparent] text-white bg-shade-100 hover:bg-shade-70 active:bg-shade-50 disabled:bg-shade-20 disabled:text-shade-30 text-body-base px-[1.75rem] py-[1.1875rem] whitespace-nowrap\" name=\"button\" style=\"padding-top:16px;padding-bottom:16px\" type=\"submit\" data-component-name=\"start-free-trial\">Start free trial</button></div></div><div class=\"block w-full sm:hidden\"><button class=\"text-shopifysans font-bold inline-block leading-none overflow-hidden max-w-full transition-all focus-visible:outline-4 focus-visible:outline-focus focus-visible:outline-offset-[-2px] border-solid border-2 rounded-[30px] focus-visible:outline-none tracking-ff-tight border-[transparent] text-white bg-shade-100 hover:bg-shade-70 active:bg-shade-50 disabled:bg-shade-20 disabled:text-shade-30 text-body-base px-[1.75rem] py-[1.1875rem] whitespace-nowrap\" name=\"button\" style=\"width:100%;margin-top:1rem\" type=\"submit\" data-component-name=\"start-free-trial\">Start free trial</button></div></form></div></div><div class=\"h-lg w-full\"></div><p class=\"max-w-xl text-xs\">Try Shopify free for 3 days, no credit card&nbsp;required. By entering your email, you agree to receive marketing emails&nbsp;from&nbsp;Shopify.</p><div class=\"h-2xl w-full\"></div></div></section><section class=\"\" data-section-name=\"image\" data-section-index=\"3\" data-component-name=\"image\"><div class=\"container flex justify-center\"><div class=\"h-md w-full\"></div><img class=\"w-3/4 sm:w-1/3\" alt=\"An illustration of a laptop with an open lid, with a shopping cart and mouse arrow depicted on the screen. There is a green shop awning across the top of the laptop screen, to suggest that users can do their small business shopping right from their computer.\" sizes=\"100vw\" srcset=\"https://cdn.shopify.com/shopifycloud/brochure/assets/free-trial/market-be57f30bfb32b297a04a00e2cf2f1adbaecfbde7a8816827f1d8f2a219727bea.svg\" loading=\"lazy\"><div class=\"h-md w-full\"></div></div></section><section class=\"[&amp;>div:first-child]:h-12 [&amp;>div:last-child]:h-8 max-sm:[&amp;>div:last-child]:h-12\" data-section-name=\"outcomes\" data-section-index=\"4\" data-component-name=\"outcomes\"><div class=\"h-3xl w-full\"></div><div class=\"container\"><div class=\"sm:px-gutter sm:mx-[12.5%] md:mx-0 md:px-0\"><div class=\"gap-y-2xl flex flex-wrap default:gap-x-gutter\"><div class=\"basis-full md:basis-1/3-gutter\"><img src=\"https://cdn.shopify.com/shopifycloud/brochure/assets/free-trial/icons/template2-b5046e879e5b48d1cd95d1bdb18920d52309a1a17ce8255d3b5d9c295f69236c.svg\" alt=\"Templates\" loading=\"lazy\" class=\"block h-16 w-16 rounded-md object-contain\" sizes=\"100vw\"><div class=\"\"><div class=\"h-sm w-full\"></div><h3 class=\"font-bold text-t6\">Customizable templates</h3><div class=\"h-sm w-full\"></div><p class=\"text-body-base richtext richtext\">Free website designs to launch your store quickly and easily.</p></div></div><div class=\"basis-full md:basis-1/3-gutter\"><img src=\"https://cdn.shopify.com/shopifycloud/brochure/assets/free-trial/icons/box2-effe369359f293039eecbac0bf07622de2435381bdfb36be0b54fc918bd6398f.svg\" alt=\"Shipping Box\" loading=\"lazy\" class=\"block h-16 w-16 rounded-md object-contain\" sizes=\"100vw\"><div class=\"\"><div class=\"h-sm w-full\"></div><h3 class=\"font-bold text-t6\">All in one</h3><div class=\"h-sm w-full\"></div><p class=\"text-body-base richtext richtext\">Shopify takes care of everything from marketing and payments to secure transactions and shipping.</p></div></div><div class=\"basis-full md:basis-1/3-gutter\"><img src=\"https://cdn.shopify.com/shopifycloud/brochure/assets/free-trial/icons/lock2-d8b10d2f1f364887c8d4cfdedadaf151a9f2f4a775fbb03f6e05cd74a031675c.svg\" alt=\"Security Lock\" loading=\"lazy\" class=\"block h-16 w-16 rounded-md object-contain\" sizes=\"100vw\"><div class=\"\"><div class=\"h-sm w-full\"></div><h3 class=\"font-bold text-t6\">A safe and efficient platform</h3><div class=\"h-sm w-full\"></div><p class=\"text-body-base richtext richtext\">Millions of users trust Shopify to manage their online stores.</p></div></div></div></div></div><div class=\"h-3xl w-full\"></div></section><section class=\"[&amp;>div:first-child]:h-8 [&amp;>div:last-child]:h-8 max-sm:[&amp;>div:first-child]:h-12 max-sm:[&amp;>div:last-child]:h-12\" data-section-name=\"logo-soup\" data-section-index=\"5\" data-component-name=\"logo-soup\" id=\"cGFnZTpjR0ZuWlRveE1EcGxiZz09OmVuOnNlY3Rpb246bG9nb19zb3Vw\"><div class=\"h-3xl w-full\"></div><div class=\"container grid gap-[30px] justify-center items-center gap-x-4 lg:gap-x-6 gap-y-8 md:gap-y-10 py-10 border-y-2 grid-cols-[repeat(2,auto)] sm:grid-cols-[repeat(8,auto)] lg:grid-cols-[repeat(5,auto)]\"><div class=\"w-full h-[90px] flex items-center col-span-1 sm:col-span-2 lg:col-span-1\"><img alt=\"Allbirds\" class=\"w-full h-[90px]\" sizes=\"100vw\" srcset=\"https://cdn.shopify.com/shopifycloud/brochure/assets/cms/logo-soup/en/allbirds-en-32a9094fcaa4ba7a127ff52a9a8a051a501bee2dbc853e77b58347239eba2e31.svg\" loading=\"lazy\"></div><div class=\"w-full h-[90px] flex items-center col-span-1 sm:col-span-2 lg:col-span-1\"><img alt=\"Gymshark\" class=\"w-full h-[90px]\" sizes=\"100vw\" srcset=\"https://cdn.shopify.com/shopifycloud/brochure/assets/cms/logo-soup/en/gymshark-6dee5a0bce30830832bb264c6abe948259f5fbc3fae496363d65b93285c0def0.svg\" loading=\"lazy\"></div><div class=\"w-full h-[90px] flex items-center col-span-1 sm:col-span-2 lg:col-span-1\"><img alt=\"Brooklinen\" class=\"w-full h-[90px]\" sizes=\"100vw\" srcset=\"https://cdn.shopify.com/shopifycloud/brochure/assets/cms/logo-soup/en/brooklinen-en-97e99d6b63701f9e8e01fa31088abea5471e0bffbc5399249d88efab78f09ad7.svg\" loading=\"lazy\"></div><div class=\"w-full h-[90px] flex items-center col-span-1 sm:col-span-2 lg:col-span-1\"><img alt=\"Leesa\" class=\"w-full h-[90px]\" sizes=\"100vw\" srcset=\"https://cdn.shopify.com/shopifycloud/brochure/assets/cms/logo-soup/en/leesa-en-2b8ff54cd3589e8f971a15bec9d18d284f341e021f6d3b5342e5df0b99f90aa6.svg\" loading=\"lazy\"></div><div class=\"w-full h-[90px] flex items-center col-span-1 sm:col-span-2 lg:col-span-1\"><img alt=\"Kylie Cosmetics\" class=\"w-full h-[90px]\" sizes=\"100vw\" srcset=\"https://cdn.shopify.com/shopifycloud/brochure/assets/cms/logo-soup/en/kylie-cosmetics-260bf2e2e655124c9331d97c26967ee10d71bd7384265e76013422c1d1386f84.svg\" loading=\"lazy\"></div><div class=\"w-full h-[90px] flex items-center col-span-1 sm:col-span-2 lg:col-span-1\"><img alt=\"Telfar Est. 2005, NYC\" class=\"w-full h-[90px]\" sizes=\"100vw\" srcset=\"https://cdn.shopify.com/shopifycloud/brochure/assets/cms/logo-soup/en/telfar-5ad6221e7d86aeb6db1f6ece956ba85dd7f46ca1b54cef63dbec91d8cee62fbf.svg\" loading=\"lazy\"></div><div class=\"w-full h-[90px] flex items-center col-span-1 sm:col-span-2 lg:col-span-1\"><img alt=\"UNTUCKit\" class=\"w-full h-[90px]\" sizes=\"100vw\" srcset=\"https://cdn.shopify.com/shopifycloud/brochure/assets/cms/logo-soup/en/untuckit-en-ec6d2da1666f7817bd38320be4500cee061c9f2b1868f0bcf141e2cecbf4f876.svg\" loading=\"lazy\"></div><div class=\"w-full h-[90px] flex items-center col-span-1 sm:col-span-2 lg:col-span-1\"><img alt=\"Death Wish Coffee\" class=\"w-full h-[90px]\" sizes=\"100vw\" srcset=\"https://cdn.shopify.com/shopifycloud/brochure/assets/cms/logo-soup/en/death-wish-coffee-9512e9d17fdeedebb9abfce9ce082598ee47d470fd0f0272ccac128044b7fc70.svg\" loading=\"lazy\"></div><div class=\"w-full h-[90px] flex items-center col-span-1 sm:col-span-2 lg:col-span-1 sm:col-start-3 lg:col-start-4\"><img alt=\"Jungalow\" class=\"w-full h-[90px]\" sizes=\"100vw\" srcset=\"https://cdn.shopify.com/shopifycloud/brochure/assets/cms/logo-soup/en/jungalow-en-db026f34f2a0e403d05c12364aa7e8525c04a1bee09adfc20b794c1badec72d7.svg\" loading=\"lazy\"></div><div class=\"w-full h-[90px] flex items-center col-span-1 sm:col-span-2 lg:col-span-1\"><img alt=\"Rebecca Minkoff\" class=\"w-full h-[90px]\" sizes=\"100vw\" srcset=\"https://cdn.shopify.com/shopifycloud/brochure/assets/cms/logo-soup/en/rebecca-minkoff-3d13302faef2bb4815be8aa24b005dc5969f51f8b46eabf5cc397b526f2b5e8e.svg\" loading=\"lazy\"></div></div><div class=\"h-3xl w-full\"></div></section><section class=\"relative bg-transparent text-center [&amp;>div:first-child]:h-12 [&amp;>div:nth-child(3)]:h-12 [@media(max-width:640px)]:[&amp;>div:first-child]:h-8 [@media(max-width:640px)]:[&amp;>div:nth-child(3)]:h-8\" data-section-name=\"conversion\" data-section-index=\"6\" data-component-name=\"conversion\" id=\"cGFnZTpjR0ZuWlRveE1EcGxiZz09OmVuOnNlY3Rpb246Y29udmVyc2lvbl8y\"><div class=\"h-4xl w-full\"></div><div class=\"container\"><div class=\"gap-y-0 md:items-center flex flex-wrap default:gap-x-gutter\"><div class=\"basis-full md:basis-full\"><h2 class=\"font-bold text-t2 mb-sm richtext\">\"Shopify is better than any other platform we\\'ve played with, and we\\'ve played with them all.\"</h2></div><div class=\"basis-full md:basis-full\"><div class=\"md:mx-24\"><div class=\"h-md w-full\"></div><p class=\"text-body-lg mb-xl\">Jonathon Bayme, CEO of Theory11</p></div></div></div></div><div class=\"h-4xl w-full\"></div></section><section class=\"relative text-center relative text-white bg-color-[#054a49] bg-free-trial-conversion-last md:bg-free-trial-conversion-last-md bg-no-repeat bg-position-[top_20%_left] before:absolute default:before:content-free-trial-conversion-last-before default:before:-top-[70px] default:before:-right-1 default:[@media(max-width:640px)]:before:-right-[29px] [@media(max-width:640px)]:before:scale-70 after:absolute default:after:content-free-trial-conversion-last-after default:after:-bottom-[70px] default:after:left-[35px] default:[@media(max-width:640px)]:after:-left-[22px] [@media(max-width:640px)]:after:scale-70\" data-section-name=\"conversion\" data-section-index=\"7\" data-component-name=\"conversion\" id=\"cGFnZTpjR0ZuWlRveE1EcGxiZz09OmVuOnNlY3Rpb246Y29udmVyc2lvbl8z\"><div class=\"h-4xl w-full\"></div><div class=\"container\"><div class=\"gap-y-0 md:items-center flex flex-wrap default:gap-x-gutter\"><div class=\"basis-full md:basis-full\"><h2 class=\"font-bold text-t2 mb-sm richtext\">Build your dream business for $1/month</h2></div><div class=\"basis-full md:basis-full\"><div class=\"md:mx-24\"><div class=\"h-md w-full\"></div><p class=\"text-body-lg text-body-lg mb-xl\">Start your free trial and enjoy 3 months of Shopify for $1/month on select plans.</p></div></div><div class=\"basis-full md:basis-full\"><div class=\"flex justify-center\"><h3 class=\"sr-only\">Start free trial</h3><form action=\"https://accounts.shopify.com/store-create\" novalidate=\"\" class=\"[&amp;_button]:text-black [&amp;_button]:bg-white [&amp;_button]:hover:text-black [&amp;_button]:hover:bg-shade-30 flex w-full flex-col justify-center items-center\"><input type=\"hidden\" name=\"locale\" value=\"en\"><input type=\"hidden\" name=\"language\" value=\"en\"><input type=\"hidden\" name=\"signup_page\" value=\"https://www.shopify.com/free-trial?irclickid=1VmXxiWJQxyNWXX1ttVyI1-pUkA38Wz4ex9xVk0&amp;irgwc=1&amp;partner=415312&amp;affpt=excluded\"><input type=\"hidden\" name=\"signup_types[]\" value=\"paid_trial_experience\"><input type=\"hidden\" name=\"signup_currency\" value=\"USD\"><div data-component-name=\"email-form-input-wrapper\" class=\"box-border flex h-16 w-full items-center justify-between rounded-full border-2 pl-6 pr-1 sm:w-[498px] bg-transparent border border-white [&amp;_input[type=&quot;email&quot;]]:text-white [&amp;_input[type=&quot;email&quot;]]:placeholder:text-shade-30 bg-white\"><input class=\"text-shade-70 h-14 w-full bg-transparent sm:w-72 outline-none\" type=\"email\" spellcheck=\"false\" autocomplete=\"email\" placeholder=\"Enter your email address\"><div class=\"hidden sm:block\"><button class=\"text-shopifysans font-bold inline-block leading-none overflow-hidden max-w-full transition-all focus-visible:outline-4 focus-visible:outline-focus focus-visible:outline-offset-[-2px] border-solid border-2 rounded-[30px] focus-visible:outline-none tracking-ff-tight border-[transparent] text-white bg-shade-100 hover:bg-shade-70 active:bg-shade-50 disabled:bg-shade-20 disabled:text-shade-30 text-body-base px-[1.75rem] py-[1.1875rem] whitespace-nowrap\" name=\"button\" style=\"padding-top:16px;padding-bottom:16px\" type=\"submit\" data-component-name=\"start-free-trial\">Start free trial</button></div></div><div class=\"block w-full sm:hidden\"><button class=\"text-shopifysans font-bold inline-block leading-none overflow-hidden max-w-full transition-all focus-visible:outline-4 focus-visible:outline-focus focus-visible:outline-offset-[-2px] border-solid border-2 rounded-[30px] focus-visible:outline-none tracking-ff-tight border-[transparent] text-white bg-shade-100 hover:bg-shade-70 active:bg-shade-50 disabled:bg-shade-20 disabled:text-shade-30 text-body-base px-[1.75rem] py-[1.1875rem] whitespace-nowrap\" name=\"button\" style=\"width:100%;margin-top:1rem\" type=\"submit\" data-component-name=\"start-free-trial\">Start free trial</button></div></form></div></div><div class=\"basis-full md:basis-full\"><small class=\"block mt-5 text-body-sm w-full sm:w-[498px] mx-auto richtext\">Try Shopify free for 3 days, no credit card&nbsp;required. By entering your email, you agree to receive marketing emails&nbsp;from&nbsp;Shopify.</small></div></div></div><div class=\"h-4xl w-full\"></div></section><section class=\"\" data-section-name=\"faq\" data-section-index=\"8\" data-component-name=\"faq\" id=\"cGFnZTpjR0ZuWlRveE1EcGxiZz09OmVuOnNlY3Rpb246ZmFx\"><div class=\"container grid grid-cols-4 sm:grid-cols-8 md:grid-cols-12 gap-x-gutter gap-y-0\"><div class=\"col-span-8 col-start-1\"><div class=\"h-3xl w-full\"></div><h2 class=\"font-bold text-t2\">FAQ</h2><div class=\"h-2xl w-full\"></div></div></div><div itemscope=\"\" itemtype=\"https://schema.org/FAQPage\"><div class=\"container grid grid-cols-4 sm:grid-cols-8 md:grid-cols-12 gap-x-gutter gap-y-0\"><div class=\"col-span-9 sm:col-span-6 md:col-span-9 col-start-1 sm:col-start-2 md:col-start-3\"><ul class=\"\" id=\"faq\"><li class=\"mb-4 border-0 last:border-0 border-b border-solid border-legacy-gray-30 pb-2 leading-[1.6] border-shade-25 list-none py-xl first:pt-0 mb-0 pt-8 pb-8 md:p-10 border-b-2 border-shade-20 md:last:border-0\" data-component-name=\"aq--0\" itemscope=\"\" itemprop=\"mainEntity\" itemtype=\"https://schema.org/Question\"><h3><button aria-controls=\"faq-0\" aria-expanded=\"false\" class=\"flex w-full cursor-pointer items-center justify-between gap-2 border-0 p-0 after:w-4 after:h-4 after:ml-4 after:mb-4 flex-none group after:hidden text-black hover:text-shade-70 active:text-shade-50\" data-component-name=\"faq-btn-0-hide\" id=\"faq-btn-0\" type=\"button\"><div class=\"w-full text-left flex justify-between align-center relative pr-16\"><span class=\"text-left font-bold text-2xl leading-[1.625rem] md:text-[2rem] md:leading-9\" itemprop=\"name\">What is Shopify and how does it work?</span><span class=\"absolute right-0 top-0\" aria-hidden=\"true\"><svg xmlns=\"http://www.w3.org/2000/svg\" viewBox=\"0 0 20 20\" class=\"rounded-full p-1.5 w-[44px] h-[44px] bg-white text-black group-hover:bg-shade-30 group-active:bg-shade-50 group-focus-visible:outline group-focus-visible:outline-2 group-focus-visible:outline-focus\"><path d=\"M10 4a1 1 0 0 0-1 1v4H5a1 1 0 1 0 0 2h4v4a1 1 0 1 0 2 0v-4h4a1 1 0 1 0 0-2h-4V5a1 1 0 0 0-1-1Z\" fill=\"currentColor\"></path></svg></span></div></button></h3><div aria-hidden=\"true\" class=\"after:content-[&quot;&quot;] overflow-hidden after:[transition:height_400ms_linear,max-height_0s_400ms_linear] [&amp;>*]:[transition:margin-bottom_400ms_cubic-bezier(1,0,1,1),visibility_0s_400ms,max-height_0s_400ms] after:h-0 after:max-h-[50px] [&amp;>*]:max-h-0 [&amp;>*]:invisible [&amp;>*]:-mb-[2000px]\" id=\"faq-0\" aria-labelledby=\"faq-btn-0\" role=\"region\"><div itemprop=\"acceptedAnswer\" itemscope=\"\" itemtype=\"https://schema.org/Answer\"><div class=\"richtext mt-sm mr-16 md:w-4/5 text-xl leading-7 md:text-[1.125rem] md:leading-[1.625rem] richtext\" itemprop=\"text\"><p>Shopify is a complete commerce platform that lets you start, grow, and manage a business.</p>\\n\\n<p>With Shopify, you can:</p>\\n\\n<ul>\\n<li>Create and customize an online store</li>\\n<li>Sell in multiple places, including web, mobile, social media, online marketplaces, brick-and-mortar locations, and pop-up shops</li>\\n<li>Manage products, inventory, payments, and shipping</li>\\n</ul>\\n\\n<p><br>\\nShopify is completely cloud-based and hosted, which means you don\\'t have to worry about upgrading or maintaining software or web\\nservers. This gives you the flexibility to access and run your business from almost anywhere, including your mobile device.</p>\\n</div></div></div></li><li class=\"mb-4 border-0 last:border-0 border-b border-solid border-legacy-gray-30 pb-2 leading-[1.6] border-shade-25 list-none py-xl first:pt-0 mb-0 pt-8 pb-8 md:p-10 border-b-2 border-shade-20 md:last:border-0\" data-component-name=\"aq--1\" itemscope=\"\" itemprop=\"mainEntity\" itemtype=\"https://schema.org/Question\"><h3><button aria-controls=\"faq-1\" aria-expanded=\"false\" class=\"flex w-full cursor-pointer items-center justify-between gap-2 border-0 p-0 after:w-4 after:h-4 after:ml-4 after:mb-4 flex-none group after:hidden text-black hover:text-shade-70 active:text-shade-50\" data-component-name=\"faq-btn-1-hide\" id=\"faq-btn-1\" type=\"button\"><div class=\"w-full text-left flex justify-between align-center relative pr-16\"><span class=\"text-left font-bold text-2xl leading-[1.625rem] md:text-[2rem] md:leading-9\" itemprop=\"name\">How much does Shopify cost?</span><span class=\"absolute right-0 top-0\" aria-hidden=\"true\"><svg xmlns=\"http://www.w3.org/2000/svg\" viewBox=\"0 0 20 20\" class=\"rounded-full p-1.5 w-[44px] h-[44px] bg-white text-black group-hover:bg-shade-30 group-active:bg-shade-50 group-focus-visible:outline group-focus-visible:outline-2 group-focus-visible:outline-focus\"><path d=\"M10 4a1 1 0 0 0-1 1v4H5a1 1 0 1 0 0 2h4v4a1 1 0 1 0 2 0v-4h4a1 1 0 1 0 0-2h-4V5a1 1 0 0 0-1-1Z\" fill=\"currentColor\"></path></svg></span></div></button></h3><div aria-hidden=\"true\" class=\"after:content-[&quot;&quot;] overflow-hidden after:[transition:height_400ms_linear,max-height_0s_400ms_linear] [&amp;>*]:[transition:margin-bottom_400ms_cubic-bezier(1,0,1,1),visibility_0s_400ms,max-height_0s_400ms] after:h-0 after:max-h-[50px] [&amp;>*]:max-h-0 [&amp;>*]:invisible [&amp;>*]:-mb-[2000px]\" id=\"faq-1\" aria-labelledby=\"faq-btn-1\" role=\"region\"><div itemprop=\"acceptedAnswer\" itemscope=\"\" itemtype=\"https://schema.org/Answer\"><div class=\"richtext mt-sm mr-16 md:w-4/5 text-xl leading-7 md:text-[1.125rem] md:leading-[1.625rem] richtext\" itemprop=\"text\"><p>Try Shopify free for 3 days, no credit card required.</p>\\n\\n<p>After your trial expires, choose a pricing plan that suits the size and stage of your business.</p>\\n</div></div></div></li><li class=\"mb-4 border-0 last:border-0 border-b border-solid border-legacy-gray-30 pb-2 leading-[1.6] border-shade-25 list-none py-xl first:pt-0 mb-0 pt-8 pb-8 md:p-10 border-b-2 border-shade-20 md:last:border-0\" data-component-name=\"aq--2\" itemscope=\"\" itemprop=\"mainEntity\" itemtype=\"https://schema.org/Question\"><h3><button aria-controls=\"faq-2\" aria-expanded=\"false\" class=\"flex w-full cursor-pointer items-center justify-between gap-2 border-0 p-0 after:w-4 after:h-4 after:ml-4 after:mb-4 flex-none group after:hidden text-black hover:text-shade-70 active:text-shade-50\" data-component-name=\"faq-btn-2-hide\" id=\"faq-btn-2\" type=\"button\"><div class=\"w-full text-left flex justify-between align-center relative pr-16\"><span class=\"text-left font-bold text-2xl leading-[1.625rem] md:text-[2rem] md:leading-9\" itemprop=\"name\">Can I use my own domain name with Shopify?</span><span class=\"absolute right-0 top-0\" aria-hidden=\"true\"><svg xmlns=\"http://www.w3.org/2000/svg\" viewBox=\"0 0 20 20\" class=\"rounded-full p-1.5 w-[44px] h-[44px] bg-white text-black group-hover:bg-shade-30 group-active:bg-shade-50 group-focus-visible:outline group-focus-visible:outline-2 group-focus-visible:outline-focus\"><path d=\"M10 4a1 1 0 0 0-1 1v4H5a1 1 0 1 0 0 2h4v4a1 1 0 1 0 2 0v-4h4a1 1 0 1 0 0-2h-4V5a1 1 0 0 0-1-1Z\" fill=\"currentColor\"></path></svg></span></div></button></h3><div aria-hidden=\"true\" class=\"after:content-[&quot;&quot;] overflow-hidden after:[transition:height_400ms_linear,max-height_0s_400ms_linear] [&amp;>*]:[transition:margin-bottom_400ms_cubic-bezier(1,0,1,1),visibility_0s_400ms,max-height_0s_400ms] after:h-0 after:max-h-[50px] [&amp;>*]:max-h-0 [&amp;>*]:invisible [&amp;>*]:-mb-[2000px]\" id=\"faq-2\" aria-labelledby=\"faq-btn-2\" role=\"region\"><div itemprop=\"acceptedAnswer\" itemscope=\"\" itemtype=\"https://schema.org/Answer\"><div class=\"richtext mt-sm mr-16 md:w-4/5 text-xl leading-7 md:text-[1.125rem] md:leading-[1.625rem] richtext\" itemprop=\"text\"><p>Yes, you can use your own domain name with Shopify.</p>\\n\\n<p>If you have an existing domain name, you can connect it to Shopify from your store\\'s admin.</p>\\n\\n<p>If you don\\'t have a domain name yet, you can either buy one through Shopify or a third-party provider.</p>\\n</div></div></div></li><li class=\"mb-4 border-0 last:border-0 border-b border-solid border-legacy-gray-30 pb-2 leading-[1.6] border-shade-25 list-none py-xl first:pt-0 mb-0 pt-8 pb-8 md:p-10 border-b-2 border-shade-20 md:last:border-0\" data-component-name=\"aq--3\" itemscope=\"\" itemprop=\"mainEntity\" itemtype=\"https://schema.org/Question\"><h3><button aria-controls=\"faq-3\" aria-expanded=\"false\" class=\"flex w-full cursor-pointer items-center justify-between gap-2 border-0 p-0 after:w-4 after:h-4 after:ml-4 after:mb-4 flex-none group after:hidden text-black hover:text-shade-70 active:text-shade-50\" data-component-name=\"faq-btn-3-hide\" id=\"faq-btn-3\" type=\"button\"><div class=\"w-full text-left flex justify-between align-center relative pr-16\"><span class=\"text-left font-bold text-2xl leading-[1.625rem] md:text-[2rem] md:leading-9\" itemprop=\"name\">Do I need to be a designer or developer to use Shopify?</span><span class=\"absolute right-0 top-0\" aria-hidden=\"true\"><svg xmlns=\"http://www.w3.org/2000/svg\" viewBox=\"0 0 20 20\" class=\"rounded-full p-1.5 w-[44px] h-[44px] bg-white text-black group-hover:bg-shade-30 group-active:bg-shade-50 group-focus-visible:outline group-focus-visible:outline-2 group-focus-visible:outline-focus\"><path d=\"M10 4a1 1 0 0 0-1 1v4H5a1 1 0 1 0 0 2h4v4a1 1 0 1 0 2 0v-4h4a1 1 0 1 0 0-2h-4V5a1 1 0 0 0-1-1Z\" fill=\"currentColor\"></path></svg></span></div></button></h3><div aria-hidden=\"true\" class=\"after:content-[&quot;&quot;] overflow-hidden after:[transition:height_400ms_linear,max-height_0s_400ms_linear] [&amp;>*]:[transition:margin-bottom_400ms_cubic-bezier(1,0,1,1),visibility_0s_400ms,max-height_0s_400ms] after:h-0 after:max-h-[50px] [&amp;>*]:max-h-0 [&amp;>*]:invisible [&amp;>*]:-mb-[2000px]\" id=\"faq-3\" aria-labelledby=\"faq-btn-3\" role=\"region\"><div itemprop=\"acceptedAnswer\" itemscope=\"\" itemtype=\"https://schema.org/Answer\"><div class=\"richtext mt-sm mr-16 md:w-4/5 text-xl leading-7 md:text-[1.125rem] md:leading-[1.625rem] richtext\" itemprop=\"text\"><p>No, you don\\'t need to be a designer or developer to use Shopify.</p>\\n\\n<p>Signing up for Shopify allows you to:</p>\\n\\n<ul>\\n<li>Customize the look and feel of your store with the online store builder and themes.</li>\\n<li>Add features and functionality to your store with apps.</li>\\n</ul>\\n\\n<p><br>\\nIf you need extra help, you can contact our support team, or visit the Shopify Expert Marketplace to search for and hire a certified Shopify expert.</p>\\n</div></div></div></li></ul></div></div></div><div class=\"h-3xl w-full\"></div></section></main><section class=\"bg-[#f1fff9] [&amp;_[data-spacer-size=&quot;5xl&quot;]]:h-[3.75rem]\" data-section-name=\"footer\" data-section-index=\"1\" data-component-name=\"footer\"><div class=\"container flex justify-end\"><a class=\"ml-3 sm:ml-8 md:ml-12 lg:ml-28 link text-shade-100 active:text-shade-70 text-body-base\" data-component-name=\"\" href=\"/legal/terms\">Terms of Service</a><a class=\"ml-3 sm:ml-8 md:ml-12 lg:ml-28 link text-shade-100 active:text-shade-70 text-body-base\" data-component-name=\"\" href=\"/legal/privacy\">Privacy Policy</a></div><div class=\"h-5xl w-full\"></div></section></div><link rel=\"modulepreload\" href=\"https://cdn.shopify.com/shopifycloud/brochure2/production/manifest-AE3C9449.js\"><link rel=\"modulepreload\" href=\"https://cdn.shopify.com/shopifycloud/brochure2/production/entry.client-YNVSJRDU.js\"><link rel=\"modulepreload\" href=\"https://cdn.shopify.com/shopifycloud/brochure2/production/_shared/chunk-GVJ6UA5N.js\"><link rel=\"modulepreload\" href=\"https://cdn.shopify.com/shopifycloud/brochure2/production/_shared/chunk-ERIQFGIH.js\"><link rel=\"modulepreload\" href=\"https://cdn.shopify.com/shopifycloud/brochure2/production/_shared/chunk-BPJIXTBL.js\"><link rel=\"modulepreload\" href=\"https://cdn.shopify.com/shopifycloud/brochure2/production/_shared/chunk-PBVTETL2.js\"><link rel=\"modulepreload\" href=\"https://cdn.shopify.com/shopifycloud/brochure2/production/_shared/chunk-X3NLMQZL.js\"><link rel=\"modulepreload\" href=\"https://cdn.shopify.com/shopifycloud/brochure2/production/_shared/chunk-G6AF7AEJ.js\"><link rel=\"modulepreload\" href=\"https://cdn.shopify.com/shopifycloud/brochure2/production/_shared/chunk-2TDZ4XAI.js\"><link rel=\"modulepreload\" href=\"https://cdn.shopify.com/shopifycloud/brochure2/production/_shared/chunk-IJG6PW7Q.js\"><link rel=\"modulepreload\" href=\"https://cdn.shopify.com/shopifycloud/brochure2/production/_shared/chunk-HAZWQ5TO.js\"><link rel=\"modulepreload\" href=\"https://cdn.shopify.com/shopifycloud/brochure2/production/_shared/chunk-OFYQ3KFD.js\"><link rel=\"modulepreload\" href=\"https://cdn.shopify.com/shopifycloud/brochure2/production/_shared/chunk-QATMHRIX.js\"><link rel=\"modulepreload\" href=\"https://cdn.shopify.com/shopifycloud/brochure2/production/_shared/chunk-ERVKZKIC.js\"><link rel=\"modulepreload\" href=\"https://cdn.shopify.com/shopifycloud/brochure2/production/_shared/chunk-J3544FYU.js\"><link rel=\"modulepreload\" href=\"https://cdn.shopify.com/shopifycloud/brochure2/production/_shared/chunk-JKT4EDFW.js\"><link rel=\"modulepreload\" href=\"https://cdn.shopify.com/shopifycloud/brochure2/production/_shared/chunk-RRT2VQNF.js\"><link rel=\"modulepreload\" href=\"https://cdn.shopify.com/shopifycloud/brochure2/production/_shared/chunk-II7EGU2L.js\"><link rel=\"modulepreload\" href=\"https://cdn.shopify.com/shopifycloud/brochure2/production/_shared/chunk-NUXZZKHI.js\"><link rel=\"modulepreload\" href=\"https://cdn.shopify.com/shopifycloud/brochure2/production/_shared/chunk-LX5442J3.js\"><link rel=\"modulepreload\" href=\"https://cdn.shopify.com/shopifycloud/brochure2/production/_shared/chunk-53ZRKCHW.js\"><link rel=\"modulepreload\" href=\"https://cdn.shopify.com/shopifycloud/brochure2/production/_shared/chunk-4LECWZEA.js\"><link rel=\"modulepreload\" href=\"https://cdn.shopify.com/shopifycloud/brochure2/production/_shared/chunk-PM6MLRIE.js\"><link rel=\"modulepreload\" href=\"https://cdn.shopify.com/shopifycloud/brochure2/production/_shared/chunk-T3MDJAQA.js\"><link rel=\"modulepreload\" href=\"https://cdn.shopify.com/shopifycloud/brochure2/production/_shared/chunk-SI2MSZTT.js\"><link rel=\"modulepreload\" href=\"https://cdn.shopify.com/shopifycloud/brochure2/production/_shared/chunk-YOH3Z5Y5.js\"><link rel=\"modulepreload\" href=\"https://cdn.shopify.com/shopifycloud/brochure2/production/_shared/chunk-QRNUYMQ3.js\"><link rel=\"modulepreload\" href=\"https://cdn.shopify.com/shopifycloud/brochure2/production/_shared/chunk-ISVTTWWX.js\"><link rel=\"modulepreload\" href=\"https://cdn.shopify.com/shopifycloud/brochure2/production/_shared/chunk-ZCVW3Z3X.js\"><link rel=\"modulepreload\" href=\"https://cdn.shopify.com/shopifycloud/brochure2/production/_shared/chunk-EGRJ2UQY.js\"><link rel=\"modulepreload\" href=\"https://cdn.shopify.com/shopifycloud/brochure2/production/_shared/chunk-YVBRZSFT.js\"><link rel=\"modulepreload\" href=\"https://cdn.shopify.com/shopifycloud/brochure2/production/_shared/chunk-7BXW6HE3.js\"><link rel=\"modulepreload\" href=\"https://cdn.shopify.com/shopifycloud/brochure2/production/_shared/chunk-SWDUGQXD.js\"><link rel=\"modulepreload\" href=\"https://cdn.shopify.com/shopifycloud/brochure2/production/_shared/chunk-BSYPH6KI.js\"><link rel=\"modulepreload\" href=\"https://cdn.shopify.com/shopifycloud/brochure2/production/root-KLYSP5WN.js\"><link rel=\"modulepreload\" href=\"https://cdn.shopify.com/shopifycloud/brochure2/production/_shared/chunk-VLBG3UGY.js\"><link rel=\"modulepreload\" href=\"https://cdn.shopify.com/shopifycloud/brochure2/production/_shared/chunk-PQ3VOT4U.js\"><link rel=\"modulepreload\" href=\"https://cdn.shopify.com/shopifycloud/brochure2/production/routes/($locale)/free-trial/index-336QPWK7.js\">'"
            ],
            "application/vnd.google.colaboratory.intrinsic+json": {
              "type": "string"
            }
          },
          "metadata": {},
          "execution_count": 24
        }
      ],
      "source": [
        "dataset['train']['html'][0]"
      ]
    },
    {
      "cell_type": "code",
      "execution_count": null,
      "metadata": {
        "colab": {
          "base_uri": "https://localhost:8080/"
        },
        "id": "wVGoIMTfeHES",
        "outputId": "bb6e6b9d-91a8-4431-fb5e-d2ac0e8b47b6"
      },
      "outputs": [
        {
          "output_type": "execute_result",
          "data": {
            "text/plain": [
              "108512"
            ]
          },
          "metadata": {},
          "execution_count": 25
        }
      ],
      "source": [
        "len(dataset['train']['html'][42])"
      ]
    },
    {
      "cell_type": "code",
      "execution_count": null,
      "metadata": {
        "colab": {
          "base_uri": "https://localhost:8080/"
        },
        "id": "EQW1GweDeNEz",
        "outputId": "4c0dcaeb-099b-4522-854e-64030b32a2e5"
      },
      "outputs": [
        {
          "output_type": "execute_result",
          "data": {
            "text/plain": [
              "43"
            ]
          },
          "metadata": {},
          "execution_count": 26
        }
      ],
      "source": [
        "len(dataset['train']['html'])"
      ]
    },
    {
      "cell_type": "code",
      "execution_count": null,
      "metadata": {
        "colab": {
          "base_uri": "https://localhost:8080/"
        },
        "id": "HXTdDUpFmqUS",
        "outputId": "d371c07f-eea1-452e-cc4c-6c7125b5574e"
      },
      "outputs": [
        {
          "output_type": "execute_result",
          "data": {
            "text/plain": [
              "['this is a basic landing page with a email sign up',\n",
              " 'a colorful landing page',\n",
              " 'this is a colorful landing page with a search bar',\n",
              " 'this is a colorful landing page with a search bar',\n",
              " 'a minimalist landing page that has a download button',\n",
              " 'this is a minimalist landing page that contains a download button',\n",
              " 'this is a landing page',\n",
              " 'a simple landing page',\n",
              " 'simple landing page',\n",
              " 'basic landing page',\n",
              " 'a bold landing page',\n",
              " 'landing page',\n",
              " 'professional landing page that contains a download form',\n",
              " 'this is a basic login page',\n",
              " 'colorful login page with a lead image',\n",
              " 'a basic login page that contains a video',\n",
              " 'simple login page that includes a lead image',\n",
              " 'a simple login page that has a lead image',\n",
              " 'fun login page with a social buttons',\n",
              " 'a clean login page',\n",
              " 'a minimalist login page',\n",
              " 'a login page that has a only social buttons',\n",
              " 'a login page',\n",
              " 'simple sign up page',\n",
              " 'sign up page',\n",
              " 'a colorful sign up page',\n",
              " 'colorful sign up page',\n",
              " 'a sign up page that has a only an email field',\n",
              " 'basic sign up page',\n",
              " 'a professional sign up page',\n",
              " 'a professional sign up page that contains a only social buttons',\n",
              " 'a sign up page that includes a onboarding flow',\n",
              " 'a fun sign up page that includes a newsletter sign up',\n",
              " 'this is a fun about page',\n",
              " 'basic about page that includes a services section',\n",
              " 'professional about page with a lead video',\n",
              " 'this is a clean about page that has a image tiles',\n",
              " 'this is a professional about page that includes a people list',\n",
              " 'this is a about page',\n",
              " 'a professional about page',\n",
              " 'bold about page with a animations',\n",
              " 'bold about page that includes a animations',\n",
              " 'this is a colorful about page']"
            ]
          },
          "metadata": {},
          "execution_count": 27
        }
      ],
      "source": [
        "dataset['train']['label']"
      ]
    },
    {
      "cell_type": "code",
      "execution_count": null,
      "metadata": {
        "colab": {
          "base_uri": "https://localhost:8080/"
        },
        "id": "JGDixKSRdlWP",
        "outputId": "9b16998e-13ac-484c-c6e7-a78cbb852e02"
      },
      "outputs": [
        {
          "output_type": "stream",
          "name": "stderr",
          "text": [
            "100%|██████████| 43/43 [00:00<00:00, 278.38it/s]\n"
          ]
        },
        {
          "output_type": "execute_result",
          "data": {
            "text/plain": [
              "678"
            ]
          },
          "metadata": {},
          "execution_count": 28
        }
      ],
      "source": [
        "import tqdm\n",
        "import uuid\n",
        "\n",
        "documents = []\n",
        "\n",
        "for code in tqdm.tqdm(range(len(dataset['train']['html']))):\n",
        "    unique_id = generate_short_uuid()\n",
        "    chunks = text_splitter.split_text(dataset['train']['html'][code])\n",
        "\n",
        "    for i, chunk in enumerate(chunks):\n",
        "        documents.append({\n",
        "            'id': f'{unique_id}',\n",
        "            'html': chunk,\n",
        "            'label' : dataset['train']['label'][code]\n",
        "        })\n",
        "\n",
        "len(documents)\n"
      ]
    },
    {
      "cell_type": "code",
      "execution_count": null,
      "metadata": {
        "colab": {
          "base_uri": "https://localhost:8080/"
        },
        "id": "6099sD2Rdr8M",
        "outputId": "6ab35c99-c04b-4e67-bb6c-385b57576b05"
      },
      "outputs": [
        {
          "output_type": "execute_result",
          "data": {
            "text/plain": [
              "list"
            ]
          },
          "metadata": {},
          "execution_count": 29
        }
      ],
      "source": [
        "type(documents)"
      ]
    },
    {
      "cell_type": "code",
      "execution_count": null,
      "metadata": {
        "colab": {
          "base_uri": "https://localhost:8080/"
        },
        "id": "2d66yOM3nOIL",
        "outputId": "c277600b-aace-4af1-f203-0529d0b10198"
      },
      "outputs": [
        {
          "output_type": "execute_result",
          "data": {
            "text/plain": [
              "{'id': 'edb75c48-35c',\n",
              " 'html': '<div class=\"absolute top-2 left-2 z-50\"><a class=\"text-shopifysans font-bold inline-block leading-none overflow-hidden max-w-full transition-all focus-visible:outline-4 focus-visible:outline-focus focus-visible:outline-offset-[-2px] border-solid border-2 rounded-[30px] focus-visible:outline-none tracking-ff-tight border-[transparent] text-shade-100 bg-white hover:bg-shade-30 active:bg-shade-50 disabled:bg-shade-70 disabled:text-shade-90 text-body-sm px-[1.375rem] py-[0.875rem] transition-transform duration-300 translate-y-[-200%] motion-reduce:transition-none focus:translate-y-0 focus:z-[100]\" data-component-name=\"\" href=\"#main\">Skip to Content</a></div><div class=\"relative\"><section aria-label=\"Announcement\" class=\"relative inset-x-0 top-0 flex h-[72px] items-center justify-center overflow-hidden z-20 deafult:text-black default:bg-shopify-green-10\" data-section-name=\"butter-bar\"><p class=\"p-4 pr-16 sm:pl-16 md:py-5 md:px-20 text-xs sm:text-sm md:text-base lg:text-lg sm:text-center font-normal [&amp;>a]:hover:no-underline [&amp;>a]:font-bold [&amp;>a]:underline [&amp;>a]:active:text-shade-70 [&amp;>a]:focus-visible:outline-none arrow-animation richtext\">Start a free trial and enjoy 3 months of Shopify for $1/month on select plans. <a data-component-name=\"start-free-trial\" href=\"https://accounts.shopify.com/store-create?locale=en&amp;language=en&amp;signup_page=https%3A%2F%2Fwww.shopify.com%2Ffree-trial%3Firclickid%3D1VmXxiWJQxyNWXX1ttVyI1-pUkA38Wz4ex9xVk0%26irgwc%3D1%26partner%3D415312%26affpt%3Dexcluded&amp;signup_types%5B%5D=paid_trial_experience&amp;signup_currency=USD\">Sign up now</a>',\n",
              " 'label': 'this is a basic landing page with a email sign up'}"
            ]
          },
          "metadata": {},
          "execution_count": 30
        }
      ],
      "source": [
        "documents[0]"
      ]
    },
    {
      "cell_type": "code",
      "execution_count": null,
      "metadata": {
        "colab": {
          "base_uri": "https://localhost:8080/"
        },
        "id": "5xe54R8D7rCf",
        "outputId": "af879afc-fef2-4f38-ce43-71d13a0d33de"
      },
      "outputs": [
        {
          "output_type": "execute_result",
          "data": {
            "text/plain": [
              "[{'id': 'edb75c48-35c',\n",
              "  'html': '<div class=\"absolute top-2 left-2 z-50\"><a class=\"text-shopifysans font-bold inline-block leading-none overflow-hidden max-w-full transition-all focus-visible:outline-4 focus-visible:outline-focus focus-visible:outline-offset-[-2px] border-solid border-2 rounded-[30px] focus-visible:outline-none tracking-ff-tight border-[transparent] text-shade-100 bg-white hover:bg-shade-30 active:bg-shade-50 disabled:bg-shade-70 disabled:text-shade-90 text-body-sm px-[1.375rem] py-[0.875rem] transition-transform duration-300 translate-y-[-200%] motion-reduce:transition-none focus:translate-y-0 focus:z-[100]\" data-component-name=\"\" href=\"#main\">Skip to Content</a></div><div class=\"relative\"><section aria-label=\"Announcement\" class=\"relative inset-x-0 top-0 flex h-[72px] items-center justify-center overflow-hidden z-20 deafult:text-black default:bg-shopify-green-10\" data-section-name=\"butter-bar\"><p class=\"p-4 pr-16 sm:pl-16 md:py-5 md:px-20 text-xs sm:text-sm md:text-base lg:text-lg sm:text-center font-normal [&amp;>a]:hover:no-underline [&amp;>a]:font-bold [&amp;>a]:underline [&amp;>a]:active:text-shade-70 [&amp;>a]:focus-visible:outline-none arrow-animation richtext\">Start a free trial and enjoy 3 months of Shopify for $1/month on select plans. <a data-component-name=\"start-free-trial\" href=\"https://accounts.shopify.com/store-create?locale=en&amp;language=en&amp;signup_page=https%3A%2F%2Fwww.shopify.com%2Ffree-trial%3Firclickid%3D1VmXxiWJQxyNWXX1ttVyI1-pUkA38Wz4ex9xVk0%26irgwc%3D1%26partner%3D415312%26affpt%3Dexcluded&amp;signup_types%5B%5D=paid_trial_experience&amp;signup_currency=USD\">Sign up now</a>',\n",
              "  'label': 'this is a basic landing page with a email sign up'},\n",
              " {'id': 'edb75c48-35c',\n",
              "  'html': '</p><button type=\"button\" aria-label=\"Close announcement\" class=\"absolute right-0 mr-4 hover:text-black/50\" data-component-name=\"close\"><svg width=\"20\" height=\"20\" viewBox=\"0 0 20 20\" fill=\"none\" xmlns=\"http://www.w3.org/2000/svg\"><path d=\"M15.811 4.189L4.19 15.811m0-11.622l11.622 11.622\" stroke=\"currentColor\" stroke-width=\"2\" stroke-linecap=\"round\" stroke-linejoin=\"round\"></path></svg></button></section></div><div class=\"relative\"><main role=\"main\" id=\"main\" tabindex=\"-1\" class=\"bg-[#f1fff9] overflow-x-clip\"><header class=\"[&amp;_a[href]]:text-[12px] [&amp;_a[href]]:py-3 w-full top-0 absolute z-20 h-auto legacy-tablet:h-[63px] flex justify-center items-center py-4 legacy-tablet:py-0 hidden\" data-component-name=\"header-light\" data-viewable-component=\"true\" style=\"animation-duration:0.3s\"><div class=\"grid-margin relative\"><div class=\"gap-x-gutter legacy-tablet:flex-row mx-auto flex flex-col items-center justify-center\"><h2 class=\"legacy-tablet:mb-0 legacy-tablet:mr-10 mb-4 align-middle text-base font-bold richtext\">Start your free-trial today</h2><div class=\"gap-x-gutter flex flex-row\"><a class=\"text-shopifysans font-bold inline-block leading-none overflow-hidden max-w-full transition-all focus-visible:outline-4 focus-visible:outline-focus focus-visible:outline-offset-[-2px] border-solid border-2 rounded-[30px] focus-visible:outline-none tracking-ff-tight border-[transparent] text-white bg-shade-100 hover:bg-shade-70 active:bg-shade-50 disabled:bg-shade-20 disabled:text-shade-30 text-body-sm px-[1.375rem] py-[0.875rem]\" data-component-name=\"start-free-trial\" href=\"https://accounts.shopify.com/store-create?locale=en&amp;language=en&amp;signup_page=https%3A%2F%2Fwww.shopify.com%2Ffree-trial%3Firclickid%3D1VmXxiWJQxyNWXX1ttVyI1-pUkA38Wz4ex9xVk0%26irgwc%3D1%26partner%3D415312%26affpt%3Dexcluded&amp;signup_types%5B%5D=paid_trial_experience&amp;signup_currency=USD\">Get started</a><a class=\"text-shopifysans font-bold inline-block leading-none overflow-hidden max-w-full transition-all focus-visible:outline-4 focus-visible:outline-focus focus-visible:outline-offset-[-2px] border-solid border-2 rounded-[30px] focus-visible:outline-none tracking-ff-tight relative border-shade-100 text-shade-100 before:absolute before:inset-[-2px] before:transition-all hover:before:border-[3px] before:rounded-[30px] before:border-shade-70 hover:border-shade-70 active:border-shade-60 focus-visible:outline-4 focus-visible:outline-focus focus-visible:outline-offset-[-2px] disabled:text-shade-50 disabled:border-shade-50 text-body-sm px-[1.375rem] py-[0.875rem]\" data-component-name=\"learn-more\" href=\"/blog\">Learn more</a></div></div></div><button type=\"button\" class=\"legacy-tablet:top-1/2 legacy-tablet:right-4 legacy-tablet:-translate-y-1/2 absolute top-2 right-2 h-7 w-7 transition-all hover:scale-105 hover:opacity-80\" data-component-name=\"cancel\"><svg width=\"14\" height=\"14\" viewBox=\"0 0 14 14\" fill=\"none\" aria-label=\"Dismiss banner\" role=\"button\" xmlns=\"http://www.w3.org/2000/svg\" class=\"text-legacy-gray-90\"><path d=\"M12.811 1.189L1.19 12.811m0-11.622l11.622 11.622\" stroke=\"currentColor\" stroke-width=\"2\" stroke-linecap=\"round\" stroke-linejoin=\"round\"></path></svg></button></header><section class=\"bg-color-[#F1FFF9] bg-free-trial-conversion\" data-section-name=\"conversion\" data-section-index=\"2\" data-component-name=\"hero\" id=\"cGFnZTpjR0ZuWlRveE1EcGxiZz09OmVuOnNlY3Rpb246Y29udmVyc2lvbl8x\"><div class=\"container flex flex-col items-center text-center\"><div class=\"h-md w-full\">',\n",
              "  'label': 'this is a basic landing page with a email sign up'},\n",
              " {'id': 'edb75c48-35c',\n",
              "  'html': '</div><div data-partial-name=\"shopifyLogoTitle\"><svg aria-labelledby=\"shopifyLogoTitle\" fill=\"none\" role=\"img\" viewBox=\"0 0 56 64\" xmlns=\"http://www.w3.org/2000/svg\" class=\"legacy-tablet:hidden block h-[48px]\" height=\"64\"><title id=\"shopifyLogoTitle\">Shopify Logo</title><g clip-path=\"url(#clip0_198_267)\"><path d=\"M48.33 12.1452C48.285 11.8315 48.015 11.6522 47.79 11.6522C47.565 11.6522 43.11 11.5626 43.11 11.5626C43.11 11.5626 39.375 7.97718 39.015 7.57382C38.655 7.21527 37.935 7.30491 37.665 7.39454C37.665 7.39454 36.945 7.61863 35.775 7.97718C35.595 7.34973 35.28 6.58782 34.875 5.7811C33.57 3.27129 31.59 1.92676 29.25 1.92676C29.07 1.92676 28.935 1.92676 28.755 1.97157C28.665 1.88194 28.62 1.7923 28.53 1.74749C27.495 0.671855 26.19 0.13404 24.615 0.178858C21.6 0.268494 18.585 2.46457 16.11 6.31891C14.4 9.05281 13.095 12.459 12.69 15.1032C9.225 16.1789 6.795 16.9408 6.705 16.9408C4.95 17.4786 4.905 17.5234 4.68 19.1817C4.59 20.4366 0 55.7979 0 55.7979L38.52 62.431L55.215 58.3077C55.17 58.3077 48.375 12.459 48.33 12.1452ZM33.84 8.60463C32.94 8.87354 31.95 9.18726 30.87 9.5458C30.87 8.02199 30.645 5.87073 29.97 4.07802C32.265 4.43656 33.39 7.036 33.84 8.60463ZM28.845 10.1284C26.82 10.7559 24.615 11.4282 22.41 12.1004C23.04 9.72508 24.21 7.39454 25.65 5.82592C26.19 5.24328 26.955 4.61583 27.81 4.25729C28.71 6.00519 28.89 8.47017 28.845 10.1284ZM24.705 2.19566C25.425 2.19566 26.01 2.33012 26.505 2.68866C25.695 3.09202 24.885 3.71947 24.165 4.5262C22.23 6.58782 20.745 9.76989 20.16 12.8623C18.315 13.445 16.515 13.9828 14.895 14.4758C15.975 9.59062 20.07 2.33012 24.705 2.19566Z\" fill=\"#95BF47\"></path><path d=\"M47.7895 11.6526C47.5645 11.6526 43.1095 11.563 43.1095 11.563C43.1095 11.563 39.3745 7.97755 39.0145 7.57419C38.8795 7.43973 38.6995 7.3501 38.5195 7.3501V62.4313L55.2145 58.3081C55.2145 58.3081 48.4195 12.4593 48.3745 12.1456C48.2845 11.8319 48.0145 11.6526 47.7895 11.6526Z\" fill=\"#5E8E3E\"></path><path d=\"M29.2498 20.2129L27.3148 27.4286C27.3148 27.4286 25.1548 26.4426 22.5898 26.6218C18.8098 26.8459 18.8098 29.2213 18.8098 29.8039C19.0348 33.0308 27.5398 33.7479 28.0348 41.3221C28.3948 47.2829 24.8848 51.3613 19.7548 51.6751C13.6348 51.9888 10.2598 48.4034 10.2598 48.4034L11.5648 42.8907C11.5648 42.8907 14.9848 45.4454 17.6848 45.2661C19.4398 45.1765 20.1148 43.6975 20.0248 42.7115C19.7548 38.4986 12.8248 38.7675 12.3748 31.8207C12.0148 25.9944 15.8398 20.1232 24.2998 19.5854C27.5848 19.3613 29.2498 20.2129 29.2498 20.2129Z\" fill=\"white\"></path></g><defs><clipPath id=\"clip0_198_267\"><rect width=\"225\" height=\"64\" fill=\"white\"></rect></clipPath></defs></svg><svg aria-labelledby=\"shopifyLogoTitle\" fill=\"none\" role=\"img\" viewBox=\"0 0 225 64\" xmlns=\"http://www.w3.org/2000/svg\" class=\"legacy-tablet:block hidden h-[48px]\" height=\"64\"><title id=\"shopifyLogoTitle\">Shopify Logo</title><g clip-path=\"url(#clip0_198_267)\"><path d=\"M77.8396 35.5887C75.9238 34.5346 74.9155 33.6813 74.9155 32.4766C74.9155 30.9205 76.2767 29.9668 78.4446 29.9668C80.9653 29.9668 83.1835 31.0209 83.1835 31.0209L84.948 25.6499C84.948 25.6499 83.3348 24.395 78.5454 24.395C71.8907 24.395 67.2525 28.2099 67.2525 33.5307C67.2525 36.5425 69.4204 38.8515 72.294 40.508C74.6131 41.8131 75.4197 42.7668 75.4197 44.1221C75.4197 45.5778 74.2602 46.7323 72.0923 46.7323C68.8658 46.7323 65.8409 45.0758 65.8409 45.0758L63.9756 50.4468C63.9756 50.4468 66.7988 52.304 71.4874 52.304C78.3437 52.304 83.2339 48.9409 83.2339 42.9174C83.3348 39.6044 80.814 37.2954 77.8396 35.5887Z\" fill=\"black\"></path><path d=\"M105.165 24.2946C101.787 24.2946 99.1654 25.9009 97.0984 28.3103L96.9976 28.2601L99.9216 13.0005H92.2586L84.8477 51.8021H92.4602L94.981 38.5503C95.9893 33.5307 98.5604 30.4687 100.98 30.4687C102.694 30.4687 103.35 31.6232 103.35 33.2797C103.35 34.3338 103.249 35.5887 102.997 36.6428L100.123 51.8523H107.736L110.71 36.1911C111.063 34.5346 111.265 32.577 111.265 31.2217C111.366 26.8546 109.147 24.2946 105.165 24.2946Z\" fill=\"black\"></path><path d=\"M128.607 24.2944C119.431 24.2944 113.331 32.5266 113.331 41.7125C113.331 47.5854 116.961 52.354 123.817 52.354C132.841 52.354 138.891 44.3227 138.891 34.936C138.942 29.4646 135.766 24.2944 128.607 24.2944ZM124.876 46.4811C122.254 46.4811 121.196 44.2725 121.196 41.5117C121.196 37.1446 123.464 30.067 127.598 30.067C130.321 30.067 131.178 32.376 131.178 34.6348C131.178 39.3533 128.909 46.4811 124.876 46.4811Z\" fill=\"black\"></path><path d=\"M158.452 24.2944C153.31 24.2944 150.386 28.8121 150.386 28.8121H150.285L150.739 24.7462H143.983C143.63 27.507 143.025 31.6733 142.42 34.8356L137.127 62.5438H144.74L146.857 51.2999H147.008C147.008 51.2999 148.571 52.3038 151.495 52.3038C160.469 52.3038 166.317 43.1682 166.317 33.9321C166.317 28.8623 164.048 24.2944 158.452 24.2944ZM151.193 46.6317C149.226 46.6317 148.067 45.5274 148.067 45.5274L149.327 38.4497C150.235 33.7313 152.705 30.5689 155.327 30.5689C157.646 30.5689 158.351 32.7274 158.351 34.7352C158.351 39.6042 155.427 46.6317 151.193 46.6317Z\" fill=\"black\"></path><path d=\"M177.206 13.4019C174.786 13.4019 172.82 15.3093 172.82 17.8191C172.82 20.0779 174.232 21.634 176.4 21.634H176.501C178.87 21.634 180.937 20.0277 180.987 17.2168C181.038 14.9579 179.525 13.4019 177.206 13.4019Z\" fill=\"black\"></path><path d=\"M166.519 51.8021H174.182L179.374 24.897H171.661L166.519 51.8021Z\" fill=\"black\"></path><path d=\"M198.734 24.8468H193.44L193.692 23.5919C194.146 20.9817 195.658 18.6727 198.23 18.6727C199.591 18.6727 200.649 19.0742 200.649 19.0742L202.162 13.1511C202.162 13.1511 200.851 12.4985 198.028 12.4985C195.306 12.4985 192.634 13.2515 190.567 15.0083C187.945 17.217 186.735 20.3793 186.13 23.5919L185.928 24.8468H182.399L181.29 30.5691H184.819L180.786 51.8021H188.399L192.432 30.5691H197.675L198.734 24.8468Z\" fill=\"black\"></path><path d=\"M217.084 24.897C217.084 24.897 212.295 36.8436 210.178 43.3691H210.077C209.926 41.2609 208.212 24.897 208.212 24.897H200.196L204.783 49.5934C204.884 50.1456 204.834 50.497 204.632 50.8483C203.725 52.555 202.263 54.2115 200.498 55.4162C199.087 56.4703 197.473 57.1229 196.213 57.5746L198.33 63.9997C199.893 63.6483 203.069 62.3934 205.792 59.8836C209.27 56.6209 212.497 51.6515 215.774 44.8248L225.1 24.897H217.084Z\" fill=\"black\"></path><path d=\"M48.33 12.1452C48.285 11.8315 48.015 11.6522 47.79 11.6522C47.565 11.6522 43.11 11.5626 43.11 11.5626C43.11 11.5626 39.375 7.97718 39.015 7.57382C38.655 7.21527 37.935 7.30491 37.665 7.39454C37.665 7.39454 36.945 7.61863 35.775 7.97718C35.595 7.34973 35.28 6.58782 34.875 5.7811C33.57 3.27129 31.59 1.92676 29.25 1.92676C29.07 1.92676 28.935 1.92676 28.755 1.97157C28.665 1.88194 28.62 1.7923 28.53 1.74749C27.495 0.671855 26.19 0.13404 24.615 0.178858C21.6 0.268494 18.585 2.46457 16.11 6.31891C14.4 9.05281 13.095 12.459 12.69 15.1032C9.225 16.1789 6.795 16.9408 6.705 16.9408C4.95 17.4786 4.905 17.5234 4.68 19.1817C4.59 20.4366 0 55.7979 0 55.7979L38.52 62.431L55.215 58.3077C55.17 58.3077 48.375 12.459 48.33 12.1452ZM33.84 8.60463C32.94 8.87354 31.95 9.18726 30.87 9.5458C30.87 8.02199 30.645 5.87073 29.97 4.07802C32.265 4.43656 33.39 7.036 33.84 8.60463ZM28.845 10.1284C26.82 10.7559 24.615 11.4282 22.41 12.1004C23.04 9.72508 24.21 7.39454 25.65 5.82592C26.19 5.24328 26.955 4.61583 27.81 4.25729C28.71 6.00519 28.89 8.47017 28.845 10.1284ZM24.705 2.19566C25.425 2.19566 26.01 2.33012 26.505 2.68866C25.695 3.09202 24.885 3.71947 24.165 4.5262C22.23 6.58782 20.745 9.76989 20.16 12.8623C18.315 13.445 16.515 13.9828 14.895 14.4758C15.975 9.59062 20.07 2.33012 24.705 2.19566Z\" fill=\"#95BF47\"></path><path d=\"M47.7895 11.6526C47.5645 11.6526 43.1095 11.563 43.1095 11.563C43.1095 11.563 39.3745 7.97755 39.0145 7.57419C38.8795 7.43973 38.6995 7.3501 38.5195 7.3501V62.4313L55.2145 58.3081C55.2145 58.3081 48.4195 12.4593 48.3745 12.1456C48.2845 11.8319 48.0145 11.6526 47.7895 11.6526Z\" fill=\"#5E8E3E\"></path><path d=\"M29.2498 20.2129L27.3148 27.4286C27.3148 27.4286 25.1548 26.4426 22.5898 26.6218C18.8098 26.8459 18.8098 29.2213 18.8098 29.8039C19.0348 33.0308 27.5398 33.7479 28.0348 41.3221C28.3948 47.2829 24.8848 51.3613 19.7548 51.6751C13.6348 51.9888 10.2598 48.4034 10.2598 48.4034L11.5648 42.8907C11.5648 42.8907 14.9848 45.4454 17.6848 45.2661C19.4398 45.1765 20.1148 43.6975 20.0248 42.7115C19.7548 38.4986 12.8248 38.7675 12.3748 31.8207C12.0148 25.9944 15.8398 20.1232 24.2998 19.5854C27.5848 19.3613 29.2498 20.2129 29.2498 20.2129Z\" fill=\"white\"></path></g><defs><clipPath id=\"clip0_198_267\"><rect width=\"225\" height=\"64\" fill=\"white\"></rect></clipPath></defs></svg>',\n",
              "  'label': 'this is a basic landing page with a email sign up'},\n",
              " {'id': 'edb75c48-35c',\n",
              "  'html': '</div><div class=\"h-lg w-full\"></div><h1 class=\"font-bold text-t1 max-w-3xl richtext\">Bring your ideas to life for $1/month<span class=\"sr-only\"> with Shopify</span></h1><div class=\"h-lg w-full\"></div><p class=\"text-body-lg max-w-4xl\">The future of business is yours to shape. Sign up for a free trial and enjoy 3 months of Shopify for $1/month on select plans.',\n",
              "  'label': 'this is a basic landing page with a email sign up'},\n",
              " {'id': 'edb75c48-35c',\n",
              "  'html': '</p><div class=\"h-lg w-full\"></div><div class=\"w-11/12 sm:w-full\"><div class=\"flex justify-center\"><h3 class=\"sr-only\">Start free trial</h3><form action=\"https://accounts.shopify.com/store-create\" novalidate=\"\" class=\"flex w-full flex-col justify-center items-center\"><input type=\"hidden\" name=\"locale\" value=\"en\"><input type=\"hidden\" name=\"language\" value=\"en\"><input type=\"hidden\" name=\"signup_page\" value=\"https://www.shopify.com/free-trial?irclickid=1VmXxiWJQxyNWXX1ttVyI1-pUkA38Wz4ex9xVk0&amp;irgwc=1&amp;partner=415312&amp;affpt=excluded\"><input type=\"hidden\" name=\"signup_types[]\" value=\"paid_trial_experience\"><input type=\"hidden\" name=\"signup_currency\" value=\"USD\"><div data-component-name=\"email-form-input-wrapper\" class=\"box-border flex h-16 w-full items-center justify-between rounded-full border-2 pl-6 pr-1 sm:w-[498px] border-black bg-transparent\"><input class=\"text-shade-70 h-14 w-full bg-transparent sm:w-72 outline-none\" type=\"email\" spellcheck=\"false\" autocomplete=\"email\" placeholder=\"Enter your email address\"><div class=\"hidden sm:block\"><button class=\"text-shopifysans font-bold inline-block leading-none overflow-hidden max-w-full transition-all focus-visible:outline-4 focus-visible:outline-focus focus-visible:outline-offset-[-2px] border-solid border-2 rounded-[30px] focus-visible:outline-none tracking-ff-tight border-[transparent] text-white bg-shade-100 hover:bg-shade-70 active:bg-shade-50 disabled:bg-shade-20 disabled:text-shade-30 text-body-base px-[1.75rem] py-[1.1875rem] whitespace-nowrap\" name=\"button\" style=\"padding-top:16px;padding-bottom:16px\" type=\"submit\" data-component-name=\"start-free-trial\">Start free trial</button></div></div><div class=\"block w-full sm:hidden\"><button class=\"text-shopifysans font-bold inline-block leading-none overflow-hidden max-w-full transition-all focus-visible:outline-4 focus-visible:outline-focus focus-visible:outline-offset-[-2px] border-solid border-2 rounded-[30px] focus-visible:outline-none tracking-ff-tight border-[transparent] text-white bg-shade-100 hover:bg-shade-70 active:bg-shade-50 disabled:bg-shade-20 disabled:text-shade-30 text-body-base px-[1.75rem] py-[1.1875rem] whitespace-nowrap\" name=\"button\" style=\"width:100%;margin-top:1rem\" type=\"submit\" data-component-name=\"start-free-trial\">Start free trial</button></div></form></div></div><div class=\"h-lg w-full\"></div><p class=\"max-w-xl text-xs\">Try Shopify free for 3 days, no credit card&nbsp;required. By entering your email, you agree to receive marketing emails&nbsp;from&nbsp;Shopify.',\n",
              "  'label': 'this is a basic landing page with a email sign up'},\n",
              " {'id': 'edb75c48-35c',\n",
              "  'html': '</p><div class=\"h-2xl w-full\"></div></div></section><section class=\"\" data-section-name=\"image\" data-section-index=\"3\" data-component-name=\"image\"><div class=\"container flex justify-center\"><div class=\"h-md w-full\"></div><img class=\"w-3/4 sm:w-1/3\" alt=\"An illustration of a laptop with an open lid, with a shopping cart and mouse arrow depicted on the screen. There is a green shop awning across the top of the laptop screen, to suggest that users can do their small business shopping right from their computer.\" sizes=\"100vw\" srcset=\"https://cdn.shopify.com/shopifycloud/brochure/assets/free-trial/market-be57f30bfb32b297a04a00e2cf2f1adbaecfbde7a8816827f1d8f2a219727bea.svg\" loading=\"lazy\"><div class=\"h-md w-full\"></div></div></section><section class=\"[&amp;>div:first-child]:h-12 [&amp;>div:last-child]:h-8 max-sm:[&amp;>div:last-child]:h-12\" data-section-name=\"outcomes\" data-section-index=\"4\" data-component-name=\"outcomes\"><div class=\"h-3xl w-full\"></div><div class=\"container\"><div class=\"sm:px-gutter sm:mx-[12.5%] md:mx-0 md:px-0\"><div class=\"gap-y-2xl flex flex-wrap default:gap-x-gutter\"><div class=\"basis-full md:basis-1/3-gutter\"><img src=\"https://cdn.shopify.com/shopifycloud/brochure/assets/free-trial/icons/template2-b5046e879e5b48d1cd95d1bdb18920d52309a1a17ce8255d3b5d9c295f69236c.svg\" alt=\"Templates\" loading=\"lazy\" class=\"block h-16 w-16 rounded-md object-contain\" sizes=\"100vw\"><div class=\"\"><div class=\"h-sm w-full\"></div><h3 class=\"font-bold text-t6\">Customizable templates</h3><div class=\"h-sm w-full\"></div><p class=\"text-body-base richtext richtext\">Free website designs to launch your store quickly and easily.</p></div></div><div class=\"basis-full md:basis-1/3-gutter\"><img src=\"https://cdn.shopify.com/shopifycloud/brochure/assets/free-trial/icons/box2-effe369359f293039eecbac0bf07622de2435381bdfb36be0b54fc918bd6398f.svg\" alt=\"Shipping Box\" loading=\"lazy\" class=\"block h-16 w-16 rounded-md object-contain\" sizes=\"100vw\"><div class=\"\"><div class=\"h-sm w-full\"></div><h3 class=\"font-bold text-t6\">All in one</h3><div class=\"h-sm w-full\"></div><p class=\"text-body-base richtext richtext\">Shopify takes care of everything from marketing and payments to secure transactions and shipping.</p></div></div><div class=\"basis-full md:basis-1/3-gutter\"><img src=\"https://cdn.shopify.com/shopifycloud/brochure/assets/free-trial/icons/lock2-d8b10d2f1f364887c8d4cfdedadaf151a9f2f4a775fbb03f6e05cd74a031675c.svg\" alt=\"Security Lock\" loading=\"lazy\" class=\"block h-16 w-16 rounded-md object-contain\" sizes=\"100vw\"><div class=\"\"><div class=\"h-sm w-full\"></div><h3 class=\"font-bold text-t6\">A safe and efficient platform</h3><div class=\"h-sm w-full\"></div><p class=\"text-body-base richtext richtext\">Millions of users trust Shopify to manage their online stores.',\n",
              "  'label': 'this is a basic landing page with a email sign up'},\n",
              " {'id': 'edb75c48-35c',\n",
              "  'html': '</p></div></div></div></div></div><div class=\"h-3xl w-full\"></div></section><section class=\"[&amp;>div:first-child]:h-8 [&amp;>div:last-child]:h-8 max-sm:[&amp;>div:first-child]:h-12 max-sm:[&amp;>div:last-child]:h-12\" data-section-name=\"logo-soup\" data-section-index=\"5\" data-component-name=\"logo-soup\" id=\"cGFnZTpjR0ZuWlRveE1EcGxiZz09OmVuOnNlY3Rpb246bG9nb19zb3Vw\"><div class=\"h-3xl w-full\"></div><div class=\"container grid gap-[30px] justify-center items-center gap-x-4 lg:gap-x-6 gap-y-8 md:gap-y-10 py-10 border-y-2 grid-cols-[repeat(2,auto)] sm:grid-cols-[repeat(8,auto)] lg:grid-cols-[repeat(5,auto)]\"><div class=\"w-full h-[90px] flex items-center col-span-1 sm:col-span-2 lg:col-span-1\"><img alt=\"Allbirds\" class=\"w-full h-[90px]\" sizes=\"100vw\" srcset=\"https://cdn.shopify.com/shopifycloud/brochure/assets/cms/logo-soup/en/allbirds-en-32a9094fcaa4ba7a127ff52a9a8a051a501bee2dbc853e77b58347239eba2e31.svg\" loading=\"lazy\"></div><div class=\"w-full h-[90px] flex items-center col-span-1 sm:col-span-2 lg:col-span-1\"><img alt=\"Gymshark\" class=\"w-full h-[90px]\" sizes=\"100vw\" srcset=\"https://cdn.shopify.com/shopifycloud/brochure/assets/cms/logo-soup/en/gymshark-6dee5a0bce30830832bb264c6abe948259f5fbc3fae496363d65b93285c0def0.svg\" loading=\"lazy\"></div><div class=\"w-full h-[90px] flex items-center col-span-1 sm:col-span-2 lg:col-span-1\"><img alt=\"Brooklinen\" class=\"w-full h-[90px]\" sizes=\"100vw\" srcset=\"https://cdn.shopify.com/shopifycloud/brochure/assets/cms/logo-soup/en/brooklinen-en-97e99d6b63701f9e8e01fa31088abea5471e0bffbc5399249d88efab78f09ad7.svg\" loading=\"lazy\"></div><div class=\"w-full h-[90px] flex items-center col-span-1 sm:col-span-2 lg:col-span-1\"><img alt=\"Leesa\" class=\"w-full h-[90px]\" sizes=\"100vw\" srcset=\"https://cdn.shopify.com/shopifycloud/brochure/assets/cms/logo-soup/en/leesa-en-2b8ff54cd3589e8f971a15bec9d18d284f341e021f6d3b5342e5df0b99f90aa6.svg\" loading=\"lazy\"></div><div class=\"w-full h-[90px] flex items-center col-span-1 sm:col-span-2 lg:col-span-1\"><img alt=\"Kylie Cosmetics\" class=\"w-full h-[90px]\" sizes=\"100vw\" srcset=\"https://cdn.shopify.com/shopifycloud/brochure/assets/cms/logo-soup/en/kylie-cosmetics-260bf2e2e655124c9331d97c26967ee10d71bd7384265e76013422c1d1386f84.svg\" loading=\"lazy\"></div><div class=\"w-full h-[90px] flex items-center col-span-1 sm:col-span-2 lg:col-span-1\"><img alt=\"Telfar Est. 2005, NYC\" class=\"w-full h-[90px]\" sizes=\"100vw\" srcset=\"https://cdn.shopify.com/shopifycloud/brochure/assets/cms/logo-soup/en/telfar-5ad6221e7d86aeb6db1f6ece956ba85dd7f46ca1b54cef63dbec91d8cee62fbf.svg\" loading=\"lazy\"></div><div class=\"w-full h-[90px] flex items-center col-span-1 sm:col-span-2 lg:col-span-1\"><img alt=\"UNTUCKit\" class=\"w-full h-[90px]\" sizes=\"100vw\" srcset=\"https://cdn.shopify.com/shopifycloud/brochure/assets/cms/logo-soup/en/untuckit-en-ec6d2da1666f7817bd38320be4500cee061c9f2b1868f0bcf141e2cecbf4f876.svg\" loading=\"lazy\"></div><div class=\"w-full h-[90px] flex items-center col-span-1 sm:col-span-2 lg:col-span-1\"><img alt=\"Death Wish Coffee\" class=\"w-full h-[90px]\" sizes=\"100vw\" srcset=\"https://cdn.shopify.com/shopifycloud/brochure/assets/cms/logo-soup/en/death-wish-coffee-9512e9d17fdeedebb9abfce9ce082598ee47d470fd0f0272ccac128044b7fc70.svg\" loading=\"lazy\"></div><div class=\"w-full h-[90px] flex items-center col-span-1 sm:col-span-2 lg:col-span-1 sm:col-start-3 lg:col-start-4\"><img alt=\"Jungalow\" class=\"w-full h-[90px]\" sizes=\"100vw\" srcset=\"https://cdn.shopify.com/shopifycloud/brochure/assets/cms/logo-soup/en/jungalow-en-db026f34f2a0e403d05c12364aa7e8525c04a1bee09adfc20b794c1badec72d7.svg\" loading=\"lazy\"></div><div class=\"w-full h-[90px] flex items-center col-span-1 sm:col-span-2 lg:col-span-1\"><img alt=\"Rebecca Minkoff\" class=\"w-full h-[90px]\" sizes=\"100vw\" srcset=\"https://cdn.shopify.com/shopifycloud/brochure/assets/cms/logo-soup/en/rebecca-minkoff-3d13302faef2bb4815be8aa24b005dc5969f51f8b46eabf5cc397b526f2b5e8e.svg\" loading=\"lazy\"></div></div><div class=\"h-3xl w-full\">',\n",
              "  'label': 'this is a basic landing page with a email sign up'},\n",
              " {'id': 'edb75c48-35c',\n",
              "  'html': '</div></div><div class=\"h-3xl w-full\"></div></section><section class=\"relative bg-transparent text-center [&amp;>div:first-child]:h-12 [&amp;>div:nth-child(3)]:h-12 [@media(max-width:640px)]:[&amp;>div:first-child]:h-8 [@media(max-width:640px)]:[&amp;>div:nth-child(3)]:h-8\" data-section-name=\"conversion\" data-section-index=\"6\" data-component-name=\"conversion\" id=\"cGFnZTpjR0ZuWlRveE1EcGxiZz09OmVuOnNlY3Rpb246Y29udmVyc2lvbl8y\"><div class=\"h-4xl w-full\"></div><div class=\"container\"><div class=\"gap-y-0 md:items-center flex flex-wrap default:gap-x-gutter\"><div class=\"basis-full md:basis-full\"><h2 class=\"font-bold text-t2 mb-sm richtext\">\"Shopify is better than any other platform we\\'ve played with, and we\\'ve played with them all.\"</h2></div><div class=\"basis-full md:basis-full\"><div class=\"md:mx-24\"><div class=\"h-md w-full\"></div><p class=\"text-body-lg mb-xl\">Jonathon Bayme, CEO of Theory11',\n",
              "  'label': 'this is a basic landing page with a email sign up'},\n",
              " {'id': 'edb75c48-35c',\n",
              "  'html': '</p></div></div></div></div><div class=\"h-4xl w-full\"></div></section><section class=\"relative text-center relative text-white bg-color-[#054a49] bg-free-trial-conversion-last md:bg-free-trial-conversion-last-md bg-no-repeat bg-position-[top_20%_left] before:absolute default:before:content-free-trial-conversion-last-before default:before:-top-[70px] default:before:-right-1 default:[@media(max-width:640px)]:before:-right-[29px] [@media(max-width:640px)]:before:scale-70 after:absolute default:after:content-free-trial-conversion-last-after default:after:-bottom-[70px] default:after:left-[35px] default:[@media(max-width:640px)]:after:-left-[22px] [@media(max-width:640px)]:after:scale-70\" data-section-name=\"conversion\" data-section-index=\"7\" data-component-name=\"conversion\" id=\"cGFnZTpjR0ZuWlRveE1EcGxiZz09OmVuOnNlY3Rpb246Y29udmVyc2lvbl8z\"><div class=\"h-4xl w-full\"></div><div class=\"container\"><div class=\"gap-y-0 md:items-center flex flex-wrap default:gap-x-gutter\"><div class=\"basis-full md:basis-full\"><h2 class=\"font-bold text-t2 mb-sm richtext\">Build your dream business for $1/month</h2></div><div class=\"basis-full md:basis-full\"><div class=\"md:mx-24\"><div class=\"h-md w-full\"></div><p class=\"text-body-lg text-body-lg mb-xl\">Start your free trial and enjoy 3 months of Shopify for $1/month on select plans.',\n",
              "  'label': 'this is a basic landing page with a email sign up'},\n",
              " {'id': 'edb75c48-35c',\n",
              "  'html': '</p></div></div><div class=\"basis-full md:basis-full\"><div class=\"flex justify-center\"><h3 class=\"sr-only\">Start free trial</h3><form action=\"https://accounts.shopify.com/store-create\" novalidate=\"\" class=\"[&amp;_button]:text-black [&amp;_button]:bg-white [&amp;_button]:hover:text-black [&amp;_button]:hover:bg-shade-30 flex w-full flex-col justify-center items-center\"><input type=\"hidden\" name=\"locale\" value=\"en\"><input type=\"hidden\" name=\"language\" value=\"en\"><input type=\"hidden\" name=\"signup_page\" value=\"https://www.shopify.com/free-trial?irclickid=1VmXxiWJQxyNWXX1ttVyI1-pUkA38Wz4ex9xVk0&amp;irgwc=1&amp;partner=415312&amp;affpt=excluded\"><input type=\"hidden\" name=\"signup_types[]\" value=\"paid_trial_experience\"><input type=\"hidden\" name=\"signup_currency\" value=\"USD\"><div data-component-name=\"email-form-input-wrapper\" class=\"box-border flex h-16 w-full items-center justify-between rounded-full border-2 pl-6 pr-1 sm:w-[498px] bg-transparent border border-white [&amp;_input[type=&quot;email&quot;]]:text-white [&amp;_input[type=&quot;email&quot;]]:placeholder:text-shade-30 bg-white\"><input class=\"text-shade-70 h-14 w-full bg-transparent sm:w-72 outline-none\" type=\"email\" spellcheck=\"false\" autocomplete=\"email\" placeholder=\"Enter your email address\"><div class=\"hidden sm:block\"><button class=\"text-shopifysans font-bold inline-block leading-none overflow-hidden max-w-full transition-all focus-visible:outline-4 focus-visible:outline-focus focus-visible:outline-offset-[-2px] border-solid border-2 rounded-[30px] focus-visible:outline-none tracking-ff-tight border-[transparent] text-white bg-shade-100 hover:bg-shade-70 active:bg-shade-50 disabled:bg-shade-20 disabled:text-shade-30 text-body-base px-[1.75rem] py-[1.1875rem] whitespace-nowrap\" name=\"button\" style=\"padding-top:16px;padding-bottom:16px\" type=\"submit\" data-component-name=\"start-free-trial\">Start free trial</button></div></div><div class=\"block w-full sm:hidden\"><button class=\"text-shopifysans font-bold inline-block leading-none overflow-hidden max-w-full transition-all focus-visible:outline-4 focus-visible:outline-focus focus-visible:outline-offset-[-2px] border-solid border-2 rounded-[30px] focus-visible:outline-none tracking-ff-tight border-[transparent] text-white bg-shade-100 hover:bg-shade-70 active:bg-shade-50 disabled:bg-shade-20 disabled:text-shade-30 text-body-base px-[1.75rem] py-[1.1875rem] whitespace-nowrap\" name=\"button\" style=\"width:100%;margin-top:1rem\" type=\"submit\" data-component-name=\"start-free-trial\">Start free trial</button></div></form></div></div><div class=\"basis-full md:basis-full\"><small class=\"block mt-5 text-body-sm w-full sm:w-[498px] mx-auto richtext\">Try Shopify free for 3 days, no credit card&nbsp;required. By entering your email, you agree to receive marketing emails&nbsp;from&nbsp;Shopify.</small></div></div></div><div class=\"h-4xl w-full\"></div></section><section class=\"\" data-section-name=\"faq\" data-section-index=\"8\" data-component-name=\"faq\" id=\"cGFnZTpjR0ZuWlRveE1EcGxiZz09OmVuOnNlY3Rpb246ZmFx\"><div class=\"container grid grid-cols-4 sm:grid-cols-8 md:grid-cols-12 gap-x-gutter gap-y-0\"><div class=\"col-span-8 col-start-1\"><div class=\"h-3xl w-full\"></div><h2 class=\"font-bold text-t2\">FAQ</h2><div class=\"h-2xl w-full\"></div></div>',\n",
              "  'label': 'this is a basic landing page with a email sign up'},\n",
              " {'id': 'edb75c48-35c',\n",
              "  'html': '</div><h2 class=\"font-bold text-t2\">FAQ</h2><div class=\"h-2xl w-full\"></div></div></div><div itemscope=\"\" itemtype=\"https://schema.org/FAQPage\"><div class=\"container grid grid-cols-4 sm:grid-cols-8 md:grid-cols-12 gap-x-gutter gap-y-0\"><div class=\"col-span-9 sm:col-span-6 md:col-span-9 col-start-1 sm:col-start-2 md:col-start-3\"><ul class=\"\" id=\"faq\"><li class=\"mb-4 border-0 last:border-0 border-b border-solid border-legacy-gray-30 pb-2 leading-[1.6] border-shade-25 list-none py-xl first:pt-0 mb-0 pt-8 pb-8 md:p-10 border-b-2 border-shade-20 md:last:border-0\" data-component-name=\"aq--0\" itemscope=\"\" itemprop=\"mainEntity\" itemtype=\"https://schema.org/Question\"><h3><button aria-controls=\"faq-0\" aria-expanded=\"false\" class=\"flex w-full cursor-pointer items-center justify-between gap-2 border-0 p-0 after:w-4 after:h-4 after:ml-4 after:mb-4 flex-none group after:hidden text-black hover:text-shade-70 active:text-shade-50\" data-component-name=\"faq-btn-0-hide\" id=\"faq-btn-0\" type=\"button\"><div class=\"w-full text-left flex justify-between align-center relative pr-16\"><span class=\"text-left font-bold text-2xl leading-[1.625rem] md:text-[2rem] md:leading-9\" itemprop=\"name\">What is Shopify and how does it work?</span><span class=\"absolute right-0 top-0\" aria-hidden=\"true\"><svg xmlns=\"http://www.w3.org/2000/svg\" viewBox=\"0 0 20 20\" class=\"rounded-full p-1.5 w-[44px] h-[44px] bg-white text-black group-hover:bg-shade-30 group-active:bg-shade-50 group-focus-visible:outline group-focus-visible:outline-2 group-focus-visible:outline-focus\"><path d=\"M10 4a1 1 0 0 0-1 1v4H5a1 1 0 1 0 0 2h4v4a1 1 0 1 0 2 0v-4h4a1 1 0 1 0 0-2h-4V5a1 1 0 0 0-1-1Z\" fill=\"currentColor\"></path></svg></span></div></button></h3><div aria-hidden=\"true\" class=\"after:content-[&quot;&quot;] overflow-hidden after:[transition:height_400ms_linear,max-height_0s_400ms_linear] [&amp;>*]:[transition:margin-bottom_400ms_cubic-bezier(1,0,1,1),visibility_0s_400ms,max-height_0s_400ms] after:h-0 after:max-h-[50px] [&amp;>*]:max-h-0 [&amp;>*]:invisible [&amp;>*]:-mb-[2000px]\" id=\"faq-0\" aria-labelledby=\"faq-btn-0\" role=\"region\"><div itemprop=\"acceptedAnswer\" itemscope=\"\" itemtype=\"https://schema.org/Answer\"><div class=\"richtext mt-sm mr-16 md:w-4/5 text-xl leading-7 md:text-[1.125rem] md:leading-[1.625rem] richtext\" itemprop=\"text\"><p>Shopify is a complete commerce platform that lets you start, grow, and manage a business.',\n",
              "  'label': 'this is a basic landing page with a email sign up'},\n",
              " {'id': 'edb75c48-35c',\n",
              "  'html': '</p>\\n\\n<p>With Shopify, you can:</p>\\n\\n<ul>\\n<li>Create and customize an online store</li>\\n<li>Sell in multiple places, including web, mobile, social media, online marketplaces, brick-and-mortar locations, and pop-up shops</li>\\n<li>Manage products, inventory, payments, and shipping</li>\\n</ul>\\n\\n<p><br>\\nShopify is completely cloud-based and hosted, which means you don\\'t have to worry about upgrading or maintaining software or web\\nservers. This gives you the flexibility to access and run your business from almost anywhere, including your mobile device.</p>\\n</div></div></div></li><li class=\"mb-4 border-0 last:border-0 border-b border-solid border-legacy-gray-30 pb-2 leading-[1.6] border-shade-25 list-none py-xl first:pt-0 mb-0 pt-8 pb-8 md:p-10 border-b-2 border-shade-20 md:last:border-0\" data-component-name=\"aq--1\" itemscope=\"\" itemprop=\"mainEntity\" itemtype=\"https://schema.org/Question\"><h3><button aria-controls=\"faq-1\" aria-expanded=\"false\" class=\"flex w-full cursor-pointer items-center justify-between gap-2 border-0 p-0 after:w-4 after:h-4 after:ml-4 after:mb-4 flex-none group after:hidden text-black hover:text-shade-70 active:text-shade-50\" data-component-name=\"faq-btn-1-hide\" id=\"faq-btn-1\" type=\"button\"><div class=\"w-full text-left flex justify-between align-center relative pr-16\"><span class=\"text-left font-bold text-2xl leading-[1.625rem] md:text-[2rem] md:leading-9\" itemprop=\"name\">How much does Shopify cost?</span><span class=\"absolute right-0 top-0\" aria-hidden=\"true\"><svg xmlns=\"http://www.w3.org/2000/svg\" viewBox=\"0 0 20 20\" class=\"rounded-full p-1.5 w-[44px] h-[44px] bg-white text-black group-hover:bg-shade-30 group-active:bg-shade-50 group-focus-visible:outline group-focus-visible:outline-2 group-focus-visible:outline-focus\"><path d=\"M10 4a1 1 0 0 0-1 1v4H5a1 1 0 1 0 0 2h4v4a1 1 0 1 0 2 0v-4h4a1 1 0 1 0 0-2h-4V5a1 1 0 0 0-1-1Z\" fill=\"currentColor\"></path></svg></span></div></button></h3><div aria-hidden=\"true\" class=\"after:content-[&quot;&quot;] overflow-hidden after:[transition:height_400ms_linear,max-height_0s_400ms_linear] [&amp;>*]:[transition:margin-bottom_400ms_cubic-bezier(1,0,1,1),visibility_0s_400ms,max-height_0s_400ms] after:h-0 after:max-h-[50px] [&amp;>*]:max-h-0 [&amp;>*]:invisible [&amp;>*]:-mb-[2000px]\" id=\"faq-1\" aria-labelledby=\"faq-btn-1\" role=\"region\"><div itemprop=\"acceptedAnswer\" itemscope=\"\" itemtype=\"https://schema.org/Answer\"><div class=\"richtext mt-sm mr-16 md:w-4/5 text-xl leading-7 md:text-[1.125rem] md:leading-[1.625rem] richtext\" itemprop=\"text\"><p>Try Shopify free for 3 days, no credit card required.</p>\\n\\n<p>After your trial expires, choose a pricing plan that suits the size and stage of your business.',\n",
              "  'label': 'this is a basic landing page with a email sign up'},\n",
              " {'id': 'edb75c48-35c',\n",
              "  'html': '</p>\\n\\n<p>After your trial expires, choose a pricing plan that suits the size and stage of your business.</p>\\n</div></div></div></li><li class=\"mb-4 border-0 last:border-0 border-b border-solid border-legacy-gray-30 pb-2 leading-[1.6] border-shade-25 list-none py-xl first:pt-0 mb-0 pt-8 pb-8 md:p-10 border-b-2 border-shade-20 md:last:border-0\" data-component-name=\"aq--2\" itemscope=\"\" itemprop=\"mainEntity\" itemtype=\"https://schema.org/Question\"><h3><button aria-controls=\"faq-2\" aria-expanded=\"false\" class=\"flex w-full cursor-pointer items-center justify-between gap-2 border-0 p-0 after:w-4 after:h-4 after:ml-4 after:mb-4 flex-none group after:hidden text-black hover:text-shade-70 active:text-shade-50\" data-component-name=\"faq-btn-2-hide\" id=\"faq-btn-2\" type=\"button\"><div class=\"w-full text-left flex justify-between align-center relative pr-16\"><span class=\"text-left font-bold text-2xl leading-[1.625rem] md:text-[2rem] md:leading-9\" itemprop=\"name\">Can I use my own domain name with Shopify?</span><span class=\"absolute right-0 top-0\" aria-hidden=\"true\"><svg xmlns=\"http://www.w3.org/2000/svg\" viewBox=\"0 0 20 20\" class=\"rounded-full p-1.5 w-[44px] h-[44px] bg-white text-black group-hover:bg-shade-30 group-active:bg-shade-50 group-focus-visible:outline group-focus-visible:outline-2 group-focus-visible:outline-focus\"><path d=\"M10 4a1 1 0 0 0-1 1v4H5a1 1 0 1 0 0 2h4v4a1 1 0 1 0 2 0v-4h4a1 1 0 1 0 0-2h-4V5a1 1 0 0 0-1-1Z\" fill=\"currentColor\"></path></svg></span></div></button></h3><div aria-hidden=\"true\" class=\"after:content-[&quot;&quot;] overflow-hidden after:[transition:height_400ms_linear,max-height_0s_400ms_linear] [&amp;>*]:[transition:margin-bottom_400ms_cubic-bezier(1,0,1,1),visibility_0s_400ms,max-height_0s_400ms] after:h-0 after:max-h-[50px] [&amp;>*]:max-h-0 [&amp;>*]:invisible [&amp;>*]:-mb-[2000px]\" id=\"faq-2\" aria-labelledby=\"faq-btn-2\" role=\"region\"><div itemprop=\"acceptedAnswer\" itemscope=\"\" itemtype=\"https://schema.org/Answer\"><div class=\"richtext mt-sm mr-16 md:w-4/5 text-xl leading-7 md:text-[1.125rem] md:leading-[1.625rem] richtext\" itemprop=\"text\"><p>Yes, you can use your own domain name with Shopify.</p>\\n\\n<p>If you have an existing domain name, you can connect it to Shopify from your store\\'s admin.</p>\\n\\n<p>If you don\\'t have a domain name yet, you can either buy one through Shopify or a third-party provider.',\n",
              "  'label': 'this is a basic landing page with a email sign up'},\n",
              " {'id': 'edb75c48-35c',\n",
              "  'html': '</p>\\n\\n<p>If you have an existing domain name, you can connect it to Shopify from your store\\'s admin.</p>\\n\\n<p>If you don\\'t have a domain name yet, you can either buy one through Shopify or a third-party provider.</p>\\n</div></div></div></li><li class=\"mb-4 border-0 last:border-0 border-b border-solid border-legacy-gray-30 pb-2 leading-[1.6] border-shade-25 list-none py-xl first:pt-0 mb-0 pt-8 pb-8 md:p-10 border-b-2 border-shade-20 md:last:border-0\" data-component-name=\"aq--3\" itemscope=\"\" itemprop=\"mainEntity\" itemtype=\"https://schema.org/Question\"><h3><button aria-controls=\"faq-3\" aria-expanded=\"false\" class=\"flex w-full cursor-pointer items-center justify-between gap-2 border-0 p-0 after:w-4 after:h-4 after:ml-4 after:mb-4 flex-none group after:hidden text-black hover:text-shade-70 active:text-shade-50\" data-component-name=\"faq-btn-3-hide\" id=\"faq-btn-3\" type=\"button\"><div class=\"w-full text-left flex justify-between align-center relative pr-16\"><span class=\"text-left font-bold text-2xl leading-[1.625rem] md:text-[2rem] md:leading-9\" itemprop=\"name\">Do I need to be a designer or developer to use Shopify?</span><span class=\"absolute right-0 top-0\" aria-hidden=\"true\"><svg xmlns=\"http://www.w3.org/2000/svg\" viewBox=\"0 0 20 20\" class=\"rounded-full p-1.5 w-[44px] h-[44px] bg-white text-black group-hover:bg-shade-30 group-active:bg-shade-50 group-focus-visible:outline group-focus-visible:outline-2 group-focus-visible:outline-focus\"><path d=\"M10 4a1 1 0 0 0-1 1v4H5a1 1 0 1 0 0 2h4v4a1 1 0 1 0 2 0v-4h4a1 1 0 1 0 0-2h-4V5a1 1 0 0 0-1-1Z\" fill=\"currentColor\"></path></svg></span></div></button></h3><div aria-hidden=\"true\" class=\"after:content-[&quot;&quot;] overflow-hidden after:[transition:height_400ms_linear,max-height_0s_400ms_linear] [&amp;>*]:[transition:margin-bottom_400ms_cubic-bezier(1,0,1,1),visibility_0s_400ms,max-height_0s_400ms] after:h-0 after:max-h-[50px] [&amp;>*]:max-h-0 [&amp;>*]:invisible [&amp;>*]:-mb-[2000px]\" id=\"faq-3\" aria-labelledby=\"faq-btn-3\" role=\"region\"><div itemprop=\"acceptedAnswer\" itemscope=\"\" itemtype=\"https://schema.org/Answer\"><div class=\"richtext mt-sm mr-16 md:w-4/5 text-xl leading-7 md:text-[1.125rem] md:leading-[1.625rem] richtext\" itemprop=\"text\"><p>No, you don\\'t need to be a designer or developer to use Shopify.</p>\\n\\n<p>Signing up for Shopify allows you to:</p>\\n\\n<ul>\\n<li>Customize the look and feel of your store with the online store builder and themes.</li>\\n<li>Add features and functionality to your store with apps.</li>\\n</ul>\\n\\n<p><br>\\nIf you need extra help, you can contact our support team, or visit the Shopify Expert Marketplace to search for and hire a certified Shopify expert.',\n",
              "  'label': 'this is a basic landing page with a email sign up'},\n",
              " {'id': 'edb75c48-35c',\n",
              "  'html': '</p>\\n</div></div></div></li></ul></div></div></div><div class=\"h-3xl w-full\"></div></section></main><section class=\"bg-[#f1fff9] [&amp;_[data-spacer-size=&quot;5xl&quot;]]:h-[3.75rem]\" data-section-name=\"footer\" data-section-index=\"1\" data-component-name=\"footer\"><div class=\"container flex justify-end\"><a class=\"ml-3 sm:ml-8 md:ml-12 lg:ml-28 link text-shade-100 active:text-shade-70 text-body-base\" data-component-name=\"\" href=\"/legal/terms\">Terms of Service</a><a class=\"ml-3 sm:ml-8 md:ml-12 lg:ml-28 link text-shade-100 active:text-shade-70 text-body-base\" data-component-name=\"\" href=\"/legal/privacy\">Privacy Policy</a></div><div class=\"h-5xl w-full\"></div></section>',\n",
              "  'label': 'this is a basic landing page with a email sign up'},\n",
              " {'id': 'edb75c48-35c',\n",
              "  'html': '</div><link rel=\"modulepreload\" href=\"https://cdn.shopify.com/shopifycloud/brochure2/production/manifest-AE3C9449.js\"><link rel=\"modulepreload\" href=\"https://cdn.shopify.com/shopifycloud/brochure2/production/entry.client-YNVSJRDU.js\"><link rel=\"modulepreload\" href=\"https://cdn.shopify.com/shopifycloud/brochure2/production/_shared/chunk-GVJ6UA5N.js\"><link rel=\"modulepreload\" href=\"https://cdn.shopify.com/shopifycloud/brochure2/production/_shared/chunk-ERIQFGIH.js\"><link rel=\"modulepreload\" href=\"https://cdn.shopify.com/shopifycloud/brochure2/production/_shared/chunk-BPJIXTBL.js\"><link rel=\"modulepreload\" href=\"https://cdn.shopify.com/shopifycloud/brochure2/production/_shared/chunk-PBVTETL2.js\"><link rel=\"modulepreload\" href=\"https://cdn.shopify.com/shopifycloud/brochure2/production/_shared/chunk-X3NLMQZL.js\"><link rel=\"modulepreload\" href=\"https://cdn.shopify.com/shopifycloud/brochure2/production/_shared/chunk-G6AF7AEJ.js\"><link rel=\"modulepreload\" href=\"https://cdn.shopify.com/shopifycloud/brochure2/production/_shared/chunk-2TDZ4XAI.js\"><link rel=\"modulepreload\" href=\"https://cdn.shopify.com/shopifycloud/brochure2/production/_shared/chunk-IJG6PW7Q.js\"><link rel=\"modulepreload\" href=\"https://cdn.shopify.com/shopifycloud/brochure2/production/_shared/chunk-HAZWQ5TO.js\"><link rel=\"modulepreload\" href=\"https://cdn.shopify.com/shopifycloud/brochure2/production/_shared/chunk-OFYQ3KFD.js\"><link rel=\"modulepreload\" href=\"https://cdn.shopify.com/shopifycloud/brochure2/production/_shared/chunk-QATMHRIX.js\"><link rel=\"modulepreload\" href=\"https://cdn.shopify.com/shopifycloud/brochure2/production/_shared/chunk-ERVKZKIC.js\"><link rel=\"modulepreload\" href=\"https://cdn.shopify.com/shopifycloud/brochure2/production/_shared/chunk-J3544FYU.js\"><link rel=\"modulepreload\" href=\"https://cdn.shopify.com/shopifycloud/brochure2/production/_shared/chunk-JKT4EDFW.js\"><link rel=\"modulepreload\" href=\"https://cdn.shopify.com/shopifycloud/brochure2/production/_shared/chunk-RRT2VQNF.js\"><link rel=\"modulepreload\" href=\"https://cdn.shopify.com/shopifycloud/brochure2/production/_shared/chunk-II7EGU2L.js\"><link rel=\"modulepreload\" href=\"https://cdn.shopify.com/shopifycloud/brochure2/production/_shared/chunk-NUXZZKHI.js\"><link rel=\"modulepreload\" href=\"https://cdn.shopify.com/shopifycloud/brochure2/production/_shared/chunk-LX5442J3.js\"><link rel=\"modulepreload\" href=\"https://cdn.shopify.com/shopifycloud/brochure2/production/_shared/chunk-53ZRKCHW.js\"><link rel=\"modulepreload\" href=\"https://cdn.shopify.com/shopifycloud/brochure2/production/_shared/chunk-4LECWZEA.js\"><link rel=\"modulepreload\" href=\"https://cdn.shopify.com/shopifycloud/brochure2/production/_shared/chunk-PM6MLRIE.js\"><link rel=\"modulepreload\" href=\"https://cdn.shopify.com/shopifycloud/brochure2/production/_shared/chunk-T3MDJAQA.js\"><link rel=\"modulepreload\" href=\"https://cdn.shopify.com/shopifycloud/brochure2/production/_shared/chunk-SI2MSZTT.js\"><link rel=\"modulepreload\" href=\"https://cdn.shopify.com/shopifycloud/brochure2/production/_shared/chunk-YOH3Z5Y5.js\"><link rel=\"modulepreload\" href=\"https://cdn.shopify.com/shopifycloud/brochure2/production/_shared/chunk-QRNUYMQ3.js\"><link rel=\"modulepreload\" href=\"https://cdn.shopify.com/shopifycloud/brochure2/production/_shared/chunk-ISVTTWWX.js\"><link rel=\"modulepreload\" href=\"https://cdn.shopify.com/shopifycloud/brochure2/production/_shared/chunk-ZCVW3Z3X.js\"><link rel=\"modulepreload\" href=\"https://cdn.shopify.com/shopifycloud/brochure2/production/_shared/chunk-EGRJ2UQY.js\"><link rel=\"modulepreload\" href=\"https://cdn.shopify.com/shopifycloud/brochure2/production/_shared/chunk-YVBRZSFT.js\"><link rel=\"modulepreload\" href=\"https://cdn.shopify.com/shopifycloud/brochure2/production/_shared/chunk-7BXW6HE3.js\"><link rel=\"modulepreload\" href=\"https://cdn.shopify.com/shopifycloud/brochure2/production/_shared/chunk-SWDUGQXD.js\"><link rel=\"modulepreload\" href=\"https://cdn.shopify.com/shopifycloud/brochure2/production/_shared/chunk-BSYPH6KI.js\"><link rel=\"modulepreload\" href=\"https://cdn.shopify.com/shopifycloud/brochure2/production/root-KLYSP5WN.js\"><link rel=\"modulepreload\" href=\"https://cdn.shopify.com/shopifycloud/brochure2/production/_shared/chunk-VLBG3UGY.js\"><link rel=\"modulepreload\" href=\"https://cdn.shopify.com/shopifycloud/brochure2/production/_shared/chunk-PQ3VOT4U.js\"><link rel=\"modulepreload\" href=\"https://cdn.shopify.com/shopifycloud/brochure2/production/routes/($locale)/free-trial/index-336QPWK7.js\">',\n",
              "  'label': 'this is a basic landing page with a email sign up'}]"
            ]
          },
          "metadata": {},
          "execution_count": 31
        }
      ],
      "source": [
        "documents[0:16]"
      ]
    },
    {
      "cell_type": "code",
      "execution_count": null,
      "metadata": {
        "colab": {
          "base_uri": "https://localhost:8080/",
          "height": 206
        },
        "id": "SEaMxq6F8d2S",
        "outputId": "aabed071-0a36-4a37-d25d-75b0a50c54be"
      },
      "outputs": [
        {
          "output_type": "execute_result",
          "data": {
            "text/plain": [
              "             id                                               html  \\\n",
              "0  edb75c48-35c  <div class=\"absolute top-2 left-2 z-50\"><a cla...   \n",
              "1  edb75c48-35c  </p><button type=\"button\" aria-label=\"Close an...   \n",
              "2  edb75c48-35c  </div><div data-partial-name=\"shopifyLogoTitle...   \n",
              "3  edb75c48-35c  </div><div class=\"h-lg w-full\"></div><h1 class...   \n",
              "4  edb75c48-35c  </p><div class=\"h-lg w-full\"></div><div class=...   \n",
              "\n",
              "                                               label  \n",
              "0  this is a basic landing page with a email sign up  \n",
              "1  this is a basic landing page with a email sign up  \n",
              "2  this is a basic landing page with a email sign up  \n",
              "3  this is a basic landing page with a email sign up  \n",
              "4  this is a basic landing page with a email sign up  "
            ],
            "text/html": [
              "\n",
              "  <div id=\"df-3fe146e3-959e-4670-a5a0-714e9eb720ac\" class=\"colab-df-container\">\n",
              "    <div>\n",
              "<style scoped>\n",
              "    .dataframe tbody tr th:only-of-type {\n",
              "        vertical-align: middle;\n",
              "    }\n",
              "\n",
              "    .dataframe tbody tr th {\n",
              "        vertical-align: top;\n",
              "    }\n",
              "\n",
              "    .dataframe thead th {\n",
              "        text-align: right;\n",
              "    }\n",
              "</style>\n",
              "<table border=\"1\" class=\"dataframe\">\n",
              "  <thead>\n",
              "    <tr style=\"text-align: right;\">\n",
              "      <th></th>\n",
              "      <th>id</th>\n",
              "      <th>html</th>\n",
              "      <th>label</th>\n",
              "    </tr>\n",
              "  </thead>\n",
              "  <tbody>\n",
              "    <tr>\n",
              "      <th>0</th>\n",
              "      <td>edb75c48-35c</td>\n",
              "      <td>&lt;div class=\"absolute top-2 left-2 z-50\"&gt;&lt;a cla...</td>\n",
              "      <td>this is a basic landing page with a email sign up</td>\n",
              "    </tr>\n",
              "    <tr>\n",
              "      <th>1</th>\n",
              "      <td>edb75c48-35c</td>\n",
              "      <td>&lt;/p&gt;&lt;button type=\"button\" aria-label=\"Close an...</td>\n",
              "      <td>this is a basic landing page with a email sign up</td>\n",
              "    </tr>\n",
              "    <tr>\n",
              "      <th>2</th>\n",
              "      <td>edb75c48-35c</td>\n",
              "      <td>&lt;/div&gt;&lt;div data-partial-name=\"shopifyLogoTitle...</td>\n",
              "      <td>this is a basic landing page with a email sign up</td>\n",
              "    </tr>\n",
              "    <tr>\n",
              "      <th>3</th>\n",
              "      <td>edb75c48-35c</td>\n",
              "      <td>&lt;/div&gt;&lt;div class=\"h-lg w-full\"&gt;&lt;/div&gt;&lt;h1 class...</td>\n",
              "      <td>this is a basic landing page with a email sign up</td>\n",
              "    </tr>\n",
              "    <tr>\n",
              "      <th>4</th>\n",
              "      <td>edb75c48-35c</td>\n",
              "      <td>&lt;/p&gt;&lt;div class=\"h-lg w-full\"&gt;&lt;/div&gt;&lt;div class=...</td>\n",
              "      <td>this is a basic landing page with a email sign up</td>\n",
              "    </tr>\n",
              "  </tbody>\n",
              "</table>\n",
              "</div>\n",
              "    <div class=\"colab-df-buttons\">\n",
              "\n",
              "  <div class=\"colab-df-container\">\n",
              "    <button class=\"colab-df-convert\" onclick=\"convertToInteractive('df-3fe146e3-959e-4670-a5a0-714e9eb720ac')\"\n",
              "            title=\"Convert this dataframe to an interactive table.\"\n",
              "            style=\"display:none;\">\n",
              "\n",
              "  <svg xmlns=\"http://www.w3.org/2000/svg\" height=\"24px\" viewBox=\"0 -960 960 960\">\n",
              "    <path d=\"M120-120v-720h720v720H120Zm60-500h600v-160H180v160Zm220 220h160v-160H400v160Zm0 220h160v-160H400v160ZM180-400h160v-160H180v160Zm440 0h160v-160H620v160ZM180-180h160v-160H180v160Zm440 0h160v-160H620v160Z\"/>\n",
              "  </svg>\n",
              "    </button>\n",
              "\n",
              "  <style>\n",
              "    .colab-df-container {\n",
              "      display:flex;\n",
              "      gap: 12px;\n",
              "    }\n",
              "\n",
              "    .colab-df-convert {\n",
              "      background-color: #E8F0FE;\n",
              "      border: none;\n",
              "      border-radius: 50%;\n",
              "      cursor: pointer;\n",
              "      display: none;\n",
              "      fill: #1967D2;\n",
              "      height: 32px;\n",
              "      padding: 0 0 0 0;\n",
              "      width: 32px;\n",
              "    }\n",
              "\n",
              "    .colab-df-convert:hover {\n",
              "      background-color: #E2EBFA;\n",
              "      box-shadow: 0px 1px 2px rgba(60, 64, 67, 0.3), 0px 1px 3px 1px rgba(60, 64, 67, 0.15);\n",
              "      fill: #174EA6;\n",
              "    }\n",
              "\n",
              "    .colab-df-buttons div {\n",
              "      margin-bottom: 4px;\n",
              "    }\n",
              "\n",
              "    [theme=dark] .colab-df-convert {\n",
              "      background-color: #3B4455;\n",
              "      fill: #D2E3FC;\n",
              "    }\n",
              "\n",
              "    [theme=dark] .colab-df-convert:hover {\n",
              "      background-color: #434B5C;\n",
              "      box-shadow: 0px 1px 3px 1px rgba(0, 0, 0, 0.15);\n",
              "      filter: drop-shadow(0px 1px 2px rgba(0, 0, 0, 0.3));\n",
              "      fill: #FFFFFF;\n",
              "    }\n",
              "  </style>\n",
              "\n",
              "    <script>\n",
              "      const buttonEl =\n",
              "        document.querySelector('#df-3fe146e3-959e-4670-a5a0-714e9eb720ac button.colab-df-convert');\n",
              "      buttonEl.style.display =\n",
              "        google.colab.kernel.accessAllowed ? 'block' : 'none';\n",
              "\n",
              "      async function convertToInteractive(key) {\n",
              "        const element = document.querySelector('#df-3fe146e3-959e-4670-a5a0-714e9eb720ac');\n",
              "        const dataTable =\n",
              "          await google.colab.kernel.invokeFunction('convertToInteractive',\n",
              "                                                    [key], {});\n",
              "        if (!dataTable) return;\n",
              "\n",
              "        const docLinkHtml = 'Like what you see? Visit the ' +\n",
              "          '<a target=\"_blank\" href=https://colab.research.google.com/notebooks/data_table.ipynb>data table notebook</a>'\n",
              "          + ' to learn more about interactive tables.';\n",
              "        element.innerHTML = '';\n",
              "        dataTable['output_type'] = 'display_data';\n",
              "        await google.colab.output.renderOutput(dataTable, element);\n",
              "        const docLink = document.createElement('div');\n",
              "        docLink.innerHTML = docLinkHtml;\n",
              "        element.appendChild(docLink);\n",
              "      }\n",
              "    </script>\n",
              "  </div>\n",
              "\n",
              "\n",
              "<div id=\"df-7a22aba6-8e0f-4235-9de8-68e877e71c2b\">\n",
              "  <button class=\"colab-df-quickchart\" onclick=\"quickchart('df-7a22aba6-8e0f-4235-9de8-68e877e71c2b')\"\n",
              "            title=\"Suggest charts\"\n",
              "            style=\"display:none;\">\n",
              "\n",
              "<svg xmlns=\"http://www.w3.org/2000/svg\" height=\"24px\"viewBox=\"0 0 24 24\"\n",
              "     width=\"24px\">\n",
              "    <g>\n",
              "        <path d=\"M19 3H5c-1.1 0-2 .9-2 2v14c0 1.1.9 2 2 2h14c1.1 0 2-.9 2-2V5c0-1.1-.9-2-2-2zM9 17H7v-7h2v7zm4 0h-2V7h2v10zm4 0h-2v-4h2v4z\"/>\n",
              "    </g>\n",
              "</svg>\n",
              "  </button>\n",
              "\n",
              "<style>\n",
              "  .colab-df-quickchart {\n",
              "      --bg-color: #E8F0FE;\n",
              "      --fill-color: #1967D2;\n",
              "      --hover-bg-color: #E2EBFA;\n",
              "      --hover-fill-color: #174EA6;\n",
              "      --disabled-fill-color: #AAA;\n",
              "      --disabled-bg-color: #DDD;\n",
              "  }\n",
              "\n",
              "  [theme=dark] .colab-df-quickchart {\n",
              "      --bg-color: #3B4455;\n",
              "      --fill-color: #D2E3FC;\n",
              "      --hover-bg-color: #434B5C;\n",
              "      --hover-fill-color: #FFFFFF;\n",
              "      --disabled-bg-color: #3B4455;\n",
              "      --disabled-fill-color: #666;\n",
              "  }\n",
              "\n",
              "  .colab-df-quickchart {\n",
              "    background-color: var(--bg-color);\n",
              "    border: none;\n",
              "    border-radius: 50%;\n",
              "    cursor: pointer;\n",
              "    display: none;\n",
              "    fill: var(--fill-color);\n",
              "    height: 32px;\n",
              "    padding: 0;\n",
              "    width: 32px;\n",
              "  }\n",
              "\n",
              "  .colab-df-quickchart:hover {\n",
              "    background-color: var(--hover-bg-color);\n",
              "    box-shadow: 0 1px 2px rgba(60, 64, 67, 0.3), 0 1px 3px 1px rgba(60, 64, 67, 0.15);\n",
              "    fill: var(--button-hover-fill-color);\n",
              "  }\n",
              "\n",
              "  .colab-df-quickchart-complete:disabled,\n",
              "  .colab-df-quickchart-complete:disabled:hover {\n",
              "    background-color: var(--disabled-bg-color);\n",
              "    fill: var(--disabled-fill-color);\n",
              "    box-shadow: none;\n",
              "  }\n",
              "\n",
              "  .colab-df-spinner {\n",
              "    border: 2px solid var(--fill-color);\n",
              "    border-color: transparent;\n",
              "    border-bottom-color: var(--fill-color);\n",
              "    animation:\n",
              "      spin 1s steps(1) infinite;\n",
              "  }\n",
              "\n",
              "  @keyframes spin {\n",
              "    0% {\n",
              "      border-color: transparent;\n",
              "      border-bottom-color: var(--fill-color);\n",
              "      border-left-color: var(--fill-color);\n",
              "    }\n",
              "    20% {\n",
              "      border-color: transparent;\n",
              "      border-left-color: var(--fill-color);\n",
              "      border-top-color: var(--fill-color);\n",
              "    }\n",
              "    30% {\n",
              "      border-color: transparent;\n",
              "      border-left-color: var(--fill-color);\n",
              "      border-top-color: var(--fill-color);\n",
              "      border-right-color: var(--fill-color);\n",
              "    }\n",
              "    40% {\n",
              "      border-color: transparent;\n",
              "      border-right-color: var(--fill-color);\n",
              "      border-top-color: var(--fill-color);\n",
              "    }\n",
              "    60% {\n",
              "      border-color: transparent;\n",
              "      border-right-color: var(--fill-color);\n",
              "    }\n",
              "    80% {\n",
              "      border-color: transparent;\n",
              "      border-right-color: var(--fill-color);\n",
              "      border-bottom-color: var(--fill-color);\n",
              "    }\n",
              "    90% {\n",
              "      border-color: transparent;\n",
              "      border-bottom-color: var(--fill-color);\n",
              "    }\n",
              "  }\n",
              "</style>\n",
              "\n",
              "  <script>\n",
              "    async function quickchart(key) {\n",
              "      const quickchartButtonEl =\n",
              "        document.querySelector('#' + key + ' button');\n",
              "      quickchartButtonEl.disabled = true;  // To prevent multiple clicks.\n",
              "      quickchartButtonEl.classList.add('colab-df-spinner');\n",
              "      try {\n",
              "        const charts = await google.colab.kernel.invokeFunction(\n",
              "            'suggestCharts', [key], {});\n",
              "      } catch (error) {\n",
              "        console.error('Error during call to suggestCharts:', error);\n",
              "      }\n",
              "      quickchartButtonEl.classList.remove('colab-df-spinner');\n",
              "      quickchartButtonEl.classList.add('colab-df-quickchart-complete');\n",
              "    }\n",
              "    (() => {\n",
              "      let quickchartButtonEl =\n",
              "        document.querySelector('#df-7a22aba6-8e0f-4235-9de8-68e877e71c2b button');\n",
              "      quickchartButtonEl.style.display =\n",
              "        google.colab.kernel.accessAllowed ? 'block' : 'none';\n",
              "    })();\n",
              "  </script>\n",
              "</div>\n",
              "\n",
              "    </div>\n",
              "  </div>\n"
            ]
          },
          "metadata": {},
          "execution_count": 32
        }
      ],
      "source": [
        "import pandas as pd\n",
        "\n",
        "formated_df = pd.DataFrame(documents)\n",
        "\n",
        "formated_df.head()"
      ]
    },
    {
      "cell_type": "code",
      "execution_count": null,
      "metadata": {
        "id": "MVNAhQuG8-Yn"
      },
      "outputs": [],
      "source": [
        "formated_df.to_csv('formated_df' , index=False)"
      ]
    },
    {
      "cell_type": "code",
      "execution_count": null,
      "metadata": {
        "colab": {
          "base_uri": "https://localhost:8080/"
        },
        "id": "NZeLaUnHn9J7",
        "outputId": "6a71bdd1-8b9e-48be-fd8c-faf4cb3602ed"
      },
      "outputs": [
        {
          "output_type": "execute_result",
          "data": {
            "text/plain": [
              "DatasetDict({\n",
              "    train: Dataset({\n",
              "        features: ['html', 'label'],\n",
              "        num_rows: 43\n",
              "    })\n",
              "})"
            ]
          },
          "metadata": {},
          "execution_count": 34
        }
      ],
      "source": [
        "dataset"
      ]
    },
    {
      "cell_type": "code",
      "execution_count": null,
      "metadata": {
        "id": "RHmbUw-MqyPw"
      },
      "outputs": [],
      "source": [
        "# prompt: Using dataframe df: convert the dataframe into dictionary\n",
        "\n",
        "a= formated_df.to_dict('records')\n",
        "\n",
        "dict_ = {}\n",
        "\n",
        "for row in a:\n",
        "  dict_[row['id']] = row"
      ]
    },
    {
      "cell_type": "code",
      "execution_count": null,
      "metadata": {
        "id": "wLidkGJOyYb1"
      },
      "outputs": [],
      "source": [
        "dict_.keys()\n"
      ]
    },
    {
      "cell_type": "code",
      "execution_count": null,
      "metadata": {
        "id": "MIQRlvdSyoKy"
      },
      "outputs": [],
      "source": [
        "formated_dict_dataset = dict_"
      ]
    },
    {
      "cell_type": "code",
      "execution_count": null,
      "metadata": {
        "id": "ZjHDOR0ezPAl"
      },
      "outputs": [],
      "source": [
        "# for key , value in formated_dict_dataset.items():\n",
        "#   print(value['html'])"
      ]
    },
    {
      "cell_type": "code",
      "execution_count": null,
      "metadata": {
        "id": "vvOhLMtL_TNi"
      },
      "outputs": [],
      "source": [
        "for key, value in formated_dict_dataset.items():\n",
        "    print(f\"Key: {key}, Value: {value}\")"
      ]
    },
    {
      "cell_type": "code",
      "execution_count": null,
      "metadata": {
        "id": "kQHP4sQP1nSl"
      },
      "outputs": [],
      "source": [
        "keys_list = [key for key in formated_dict_dataset.keys()]\n",
        "\n",
        "print(keys_list)\n",
        "\n",
        "keys_list[0]"
      ]
    },
    {
      "cell_type": "code",
      "execution_count": null,
      "metadata": {
        "id": "YVPZgZH3zxlO"
      },
      "outputs": [],
      "source": [
        "formated_dict_dataset['a661d5e7-cb1']['html']"
      ]
    },
    {
      "cell_type": "code",
      "execution_count": null,
      "metadata": {
        "id": "ljiDbebK0m6z"
      },
      "outputs": [],
      "source": [
        "html_token_counts= [len(tokenizer.tokenize(formated_dict_dataset[example]['html'])) for example in formated_dict_dataset.keys()]\n",
        "query_token_count = [len(tokenizer.tokenize(formated_dict_dataset[example]['label'])) for example in formated_dict_dataset.keys()]\n",
        "\n",
        "\n",
        "import seaborn as sns\n",
        "def plot_distribution(token_counts, title):\n",
        "  sns.set_style('whitegrid')\n",
        "  plt.figure(figsize=(15,6))\n",
        "  plt.hist(token_counts , bins=50 , color='red' , edgecolor='black')\n",
        "  plt.title(title, fontsize=14)\n",
        "  plt.xlabel('No. of tokens' , fontsize=14)\n",
        "  plt.ylabel('No. of examples ' , fontsize=14)\n",
        "  plt.xticks(fontsize=12)\n",
        "  plt.yticks(fontsize=12)\n",
        "  plt.tight_layout()\n",
        "  plt.show()\n",
        "\n",
        "plot_distribution(html_token_counts , 'Distribution of token counts for the html only')\n",
        "plot_distribution(query_token_count , 'Distribution of token counts for the Label/Query only')"
      ]
    },
    {
      "cell_type": "code",
      "execution_count": null,
      "metadata": {
        "id": "ANINFF1hOU1o"
      },
      "outputs": [],
      "source": [
        "combined_counts = [str(inst) + str(output) for inst ,  ouptut in zip(html_token_counts ,query_token_count )]"
      ]
    },
    {
      "cell_type": "code",
      "execution_count": null,
      "metadata": {
        "id": "ILTs19SBOqwy"
      },
      "outputs": [],
      "source": [
        "plot_distribution(combined_counts , 'Distribution of token counts for html + query only')"
      ]
    },
    {
      "cell_type": "markdown",
      "metadata": {
        "id": "1Z4BdGYxPJoa"
      },
      "source": [
        "## Filter out the rows more than 4096 tokens"
      ]
    },
    {
      "cell_type": "markdown",
      "metadata": {
        "id": "AS4wWjZU62L0"
      },
      "source": [
        "## Train Test Split"
      ]
    },
    {
      "cell_type": "code",
      "execution_count": null,
      "metadata": {
        "id": "nE-kkf2w67gB"
      },
      "outputs": [],
      "source": [
        "len(formated_df)"
      ]
    },
    {
      "cell_type": "code",
      "execution_count": null,
      "metadata": {
        "id": "LZik8V61BVvK"
      },
      "outputs": [],
      "source": [
        "from sklearn.model_selection import train_test_split\n",
        "\n",
        "train_data, test_data = train_test_split(formated_df, test_size=0.2, random_state=42)"
      ]
    },
    {
      "cell_type": "code",
      "execution_count": null,
      "metadata": {
        "id": "32WXAnNJBVrj"
      },
      "outputs": [],
      "source": [
        "train_data.head()"
      ]
    },
    {
      "cell_type": "code",
      "execution_count": null,
      "metadata": {
        "id": "0ydXNwvPBw2x"
      },
      "outputs": [],
      "source": [
        "test_data.head()"
      ]
    },
    {
      "cell_type": "code",
      "execution_count": null,
      "metadata": {
        "id": "43Ptrn3AB3JK"
      },
      "outputs": [],
      "source": [
        "train_data.shape , test_data.shape"
      ]
    },
    {
      "cell_type": "markdown",
      "metadata": {
        "id": "Nm8DwBzK6b_U"
      },
      "source": [
        "## Tokenization"
      ]
    },
    {
      "cell_type": "markdown",
      "source": [
        "### Formatting prompts\n",
        "Then create a `formatting_func` to structure training examples as prompts."
      ],
      "metadata": {
        "id": "lJKQpxyfFgtf"
      }
    },
    {
      "cell_type": "code",
      "execution_count": null,
      "metadata": {
        "id": "V7citJXp0mxN"
      },
      "outputs": [],
      "source": [
        "# def formatting_func(prompt):\n",
        "#     text = f\"### <s>[INST] Using this information : {prompt['key']['html']} answer the Question : {prompt['output']} [/INST]\"\n",
        "#     return text\n",
        "def formatting_func(example):\n",
        "    text = f\"### Question: {example['input']}\\n ### Answer: {example['output']}\"\n",
        "    return text\n"
      ]
    },
    {
      "cell_type": "code",
      "execution_count": null,
      "metadata": {
        "id": "haSUDD9HyRgf"
      },
      "outputs": [],
      "source": [
        "tokenizer = AutoTokenizer.from_pretrained(\n",
        "    base_model_id,\n",
        "    padding_side=\"left\",\n",
        "    add_eos_token=True,\n",
        ")\n",
        "tokenizer.pad_token = tokenizer.eos_token\n",
        "\n",
        "def generate_and_tokenize_prompt(prompt):\n",
        "    return tokenizer(formatting_func(prompt))"
      ]
    },
    {
      "cell_type": "code",
      "execution_count": null,
      "metadata": {
        "id": "BAqoo0vVCIB6"
      },
      "outputs": [],
      "source": [
        "def tokenize(prompt):\n",
        "    result = tokenizer(\n",
        "        prompt,\n",
        "        truncation=True,\n",
        "        max_length=512,\n",
        "        padding=\"max_length\",\n",
        "    )\n",
        "    result[\"labels\"] = result[\"input_ids\"].copy()\n",
        "    return result"
      ]
    },
    {
      "cell_type": "code",
      "execution_count": null,
      "metadata": {
        "id": "cEynxvlcCD3I"
      },
      "outputs": [],
      "source": [
        "# def tokenize(prompt):\n",
        "#     result = tokenizer(prompt)\n",
        "#     result[\"labels\"] = result[\"input_ids\"].copy()\n",
        "#     return result"
      ]
    },
    {
      "cell_type": "code",
      "execution_count": null,
      "metadata": {
        "id": "fQ6C0oNUCYYp"
      },
      "outputs": [],
      "source": [
        "def generate_and_tokenize_prompt(data_point):\n",
        "\n",
        "  full_prompt = f\"\"\"Generate HTML code for a webpage based on the given prompt given. The prompts/labels is as follows:\n",
        "\n",
        "\n",
        "  \"{data_point['label']}\"\n",
        "\n",
        "  Provide HTML,css, js code that accurately represents the given prompt and description. Make sure to include any necessary elements, classes, or attributes mentioned in the prompt along the code and explaination, also maintain the poper format.\n",
        "\n",
        "  \"\"\"\n",
        "  return tokenize(full_prompt)\n"
      ]
    },
    {
      "cell_type": "code",
      "execution_count": null,
      "metadata": {
        "id": "p1Rkn5lCDU-E"
      },
      "outputs": [],
      "source": [
        "from datasets import Dataset\n",
        "\n",
        "train_dataset = Dataset.from_dict(train_data)\n",
        "test_dataset = Dataset.from_dict(test_data)"
      ]
    },
    {
      "cell_type": "code",
      "execution_count": null,
      "metadata": {
        "id": "RKK1bke6ERwU"
      },
      "outputs": [],
      "source": [
        "train_dataset"
      ]
    },
    {
      "cell_type": "markdown",
      "metadata": {
        "id": "WHnKLcq4yRgg"
      },
      "source": [
        "Reformat the prompt and tokenize each sample:"
      ]
    },
    {
      "cell_type": "code",
      "execution_count": null,
      "metadata": {
        "id": "RMsXvwZBdz_V"
      },
      "outputs": [],
      "source": [
        "len(train_dataset['label'])"
      ]
    },
    {
      "cell_type": "code",
      "execution_count": null,
      "metadata": {
        "id": "BhsASXXDeEfJ"
      },
      "outputs": [],
      "source": [
        "train_dataset.map(generate_and_tokenize_prompt)"
      ]
    },
    {
      "cell_type": "code",
      "execution_count": null,
      "metadata": {
        "id": "S3iLAwLh3m19"
      },
      "outputs": [],
      "source": [
        "tokenized_train_dataset = train_dataset.map(generate_and_tokenize_prompt)\n",
        "tokenized_val_dataset = test_dataset.map(generate_and_tokenize_prompt)\n"
      ]
    },
    {
      "cell_type": "code",
      "execution_count": null,
      "metadata": {
        "id": "FFSpaIJifU5w"
      },
      "outputs": [],
      "source": [
        "# tokenized_train_dataset['labels'][0]"
      ]
    },
    {
      "cell_type": "code",
      "execution_count": null,
      "metadata": {
        "id": "2JegM0zTfTXS"
      },
      "outputs": [],
      "source": [
        "tokenized_train_dataset = tokenized_train_dataset.remove_columns([\"label\" , 'html' ,'id'])"
      ]
    },
    {
      "cell_type": "code",
      "source": [
        "tokenized_val_dataset = tokenized_val_dataset.remove_columns([\"label\" , 'html' ,'id'])"
      ],
      "metadata": {
        "id": "-IGTw4oaz06e"
      },
      "execution_count": null,
      "outputs": []
    },
    {
      "cell_type": "code",
      "source": [
        "tokenized_val_dataset"
      ],
      "metadata": {
        "id": "UebZX62t0CVr"
      },
      "execution_count": null,
      "outputs": []
    },
    {
      "cell_type": "markdown",
      "metadata": {
        "id": "O6ewk27p3m19"
      },
      "source": [
        "Let's get a distribution of our dataset lengths, so we can determine the appropriate `max_length` for our input tensors."
      ]
    },
    {
      "cell_type": "code",
      "execution_count": null,
      "metadata": {
        "id": "BA8M9yfC3m19"
      },
      "outputs": [],
      "source": [
        "import matplotlib.pyplot as plt\n",
        "\n",
        "def plot_data_lengths(tokenized_train_dataset, tokenized_val_dataset):\n",
        "    lengths = [len(x['input_ids']) for x in tokenized_train_dataset]\n",
        "    lengths += [len(x['input_ids']) for x in tokenized_val_dataset]\n",
        "    print(len(lengths))\n",
        "\n",
        "    # Plotting the histogram\n",
        "    plt.figure(figsize=(10, 6))\n",
        "    plt.hist(lengths, bins=50, alpha=0.7, color='blue')\n",
        "    plt.xlabel('Length of input_ids')\n",
        "    plt.ylabel('Frequency')\n",
        "    plt.title('Distribution of Lengths of input_ids')\n",
        "    plt.show()\n",
        "\n",
        "plot_data_lengths(tokenized_train_dataset, tokenized_val_dataset)"
      ]
    },
    {
      "cell_type": "markdown",
      "metadata": {
        "id": "nBk4Qp_vyRgh"
      },
      "source": [
        "From here, you can choose where you'd like to set the `max_length` to be. You can truncate and pad training examples to fit them to your chosen size.\n"
      ]
    },
    {
      "cell_type": "code",
      "execution_count": null,
      "metadata": {
        "id": "OKHhvxK83m19"
      },
      "outputs": [],
      "source": [
        "print(tokenized_train_dataset[1]['input_ids'])"
      ]
    },
    {
      "cell_type": "markdown",
      "metadata": {
        "id": "I6LRa2Zm3m19"
      },
      "source": [
        "Now all the samples should be the same length, `max_length`."
      ]
    },
    {
      "cell_type": "code",
      "execution_count": null,
      "metadata": {
        "id": "I55Yo3yy3m19"
      },
      "outputs": [],
      "source": [
        "plot_data_lengths(tokenized_train_dataset, tokenized_val_dataset)"
      ]
    },
    {
      "cell_type": "markdown",
      "metadata": {
        "id": "jP3R4enP3m19"
      },
      "source": [
        "### How does the base model do?"
      ]
    },
    {
      "cell_type": "code",
      "execution_count": null,
      "metadata": {
        "id": "gOxnx-cAyRgi"
      },
      "outputs": [],
      "source": [
        "eval_prompt = \"\"\"Given a user query, generate HTML code for the webpage. Ensure that the HTML is well-formatted and neatly spaced.\n",
        "\n",
        "### User Query/prompt:\n",
        "Generate a HTML code snippet for a form that includes fields for entering name, place, and age\n",
        "\n",
        "### Meaning representation:\n",
        "\"\"\""
      ]
    },
    {
      "cell_type": "code",
      "execution_count": null,
      "metadata": {
        "id": "NidIuFXMyRgi"
      },
      "outputs": [],
      "source": [
        "# Re-init the tokenizer so it doesn't add padding or eos token\n",
        "eval_tokenizer = AutoTokenizer.from_pretrained(\n",
        "    base_model_id,\n",
        "    add_bos_token=True,\n",
        ")"
      ]
    },
    {
      "cell_type": "code",
      "execution_count": null,
      "metadata": {
        "id": "SgATKdMjRMmq"
      },
      "outputs": [],
      "source": [
        "device = \"cuda\"\n",
        "model_input = eval_tokenizer(eval_prompt, return_tensors=\"pt\").to(device)"
      ]
    },
    {
      "cell_type": "code",
      "execution_count": null,
      "metadata": {
        "id": "JByD9ysCRMi8"
      },
      "outputs": [],
      "source": [
        "model.eval()\n",
        "with torch.no_grad():\n",
        "    print(eval_tokenizer.decode(model.generate(**model_input, max_new_tokens=128)[0], skip_special_tokens=True))"
      ]
    },
    {
      "cell_type": "markdown",
      "source": [
        "## FINETUNING"
      ],
      "metadata": {
        "id": "0QcM9pvAHDe9"
      }
    },
    {
      "cell_type": "markdown",
      "metadata": {
        "id": "AapDoyfAyRgi"
      },
      "source": [
        "###  Set Up LoRA"
      ]
    },
    {
      "cell_type": "markdown",
      "metadata": {
        "id": "Mp2gMi1ZzGET"
      },
      "source": [
        "Now, to start our fine-tuning, we have to apply some preprocessing to the model to prepare it for training. For that use the `prepare_model_for_kbit_training` method from PEFT."
      ]
    },
    {
      "cell_type": "code",
      "execution_count": null,
      "metadata": {
        "id": "mFUHx8T2RL0B"
      },
      "outputs": [],
      "source": [
        "from peft import prepare_model_for_kbit_training\n",
        "model.gradient_checkpointing_enable()\n",
        "model = prepare_model_for_kbit_training(model)\n",
        "\n",
        "def print_trainable_parameters(model):\n",
        "    \"\"\"\n",
        "    Prints the number of trainable parameters in the model.\n",
        "    \"\"\"\n",
        "    trainable_params = 0\n",
        "    all_param = 0\n",
        "    for _, param in model.named_parameters():\n",
        "        all_param += param.numel()\n",
        "        if param.requires_grad:\n",
        "            trainable_params += param.numel()\n",
        "    print(\n",
        "        f\"trainable params: {trainable_params} || all params: {all_param} || trainable%: {100 * trainable_params / all_param}\"\n",
        "    )\n"
      ]
    },
    {
      "cell_type": "markdown",
      "metadata": {
        "id": "cUYEpEK-yRgj"
      },
      "source": [
        "Let's print the model to examine its layers, as we will apply QLoRA to all the linear layers of the model. Those layers are `q_proj`, `k_proj`, `v_proj`, `o_proj`, `gate_proj`, `up_proj`, `down_proj`, and `lm_head`."
      ]
    },
    {
      "cell_type": "code",
      "execution_count": null,
      "metadata": {
        "id": "XshGNsbxyRgj",
        "scrolled": true
      },
      "outputs": [],
      "source": [
        "print(model)"
      ]
    },
    {
      "cell_type": "markdown",
      "metadata": {
        "id": "I6mTLuQJyRgj"
      },
      "source": [
        "Here we define the LoRA config.\n",
        "\n",
        "`r` is the rank of the low-rank matrix used in the adapters, which thus controls the number of parameters trained. A higher rank will allow for more expressivity, but there is a compute tradeoff.\n",
        "\n",
        "`alpha` is the scaling factor for the learned weights. The weight matrix is scaled by `alpha/r`, and thus a higher value for `alpha` assigns more weight to the LoRA activations.\n",
        "\n",
        "The values used in the QLoRA paper were `r=64` and `lora_alpha=16`, and these are said to generalize well, but we will use `r=32` and `lora_alpha=64` so that we have more emphasis on the new fine-tuned data while also reducing computational complexity."
      ]
    },
    {
      "cell_type": "code",
      "execution_count": null,
      "metadata": {
        "id": "2kgH6BzATIdL"
      },
      "outputs": [],
      "source": [
        "# from peft import LoraConfig, get_peft_model , TaskType\n",
        "\n",
        "# config = LoraConfig(\n",
        "#     r=16,\n",
        "#     lora_alpha=32,\n",
        "#     target_modules=[\n",
        "#         \"q_proj\",\n",
        "#         \"k_proj\",\n",
        "#         \"v_proj\",\n",
        "#         ],\n",
        "#     bias=\"none\",\n",
        "#     lora_dropout=0.05,  # Conventional\n",
        "#     task_type= TaskType.CAUSAL_LM,\n",
        "# )\n",
        "\n",
        "# model = get_peft_model(model, config)\n",
        "# print_trainable_parameters(model)"
      ]
    },
    {
      "cell_type": "code",
      "execution_count": null,
      "metadata": {
        "id": "wxD6luAHTrwq"
      },
      "outputs": [],
      "source": [
        "# from transformers import TrainingArguments\n",
        "\n",
        "# project = \"figr-finetune\"\n",
        "# base_model_name = \"mistral\"\n",
        "# run_name = base_model_name + \"-\" + project\n",
        "# output_dir = \"./\" + run_name\n",
        "\n",
        "\n",
        "# training_args = TrainingArguments(\n",
        "#     output_dir= output_dir,\n",
        "#     per_device_train_batch_size=1,\n",
        "#     gradient_accumulation_steps=4,\n",
        "#     learning_rate = 2e-4,\n",
        "#     fp16=True,\n",
        "#     optim='paged_adamw_8bit' ,\n",
        "#     lr_scheduler_type = 'cosine',\n",
        "#     warmup_ratio=0.05,\n",
        "# )"
      ]
    },
    {
      "cell_type": "code",
      "execution_count": null,
      "metadata": {
        "id": "SXPORtB0Trty"
      },
      "outputs": [],
      "source": [
        "# from trl import SFTTrainer\n",
        "\n",
        "# trainer = SFTTrainer(\n",
        "#     model = model,\n",
        "#     train_dataset = tokenized_train_dataset,\n",
        "#     peft_config = config,\n",
        "#     # dataset_text_field = 'formatetext',\n",
        "#     formatting_func = formatting_func,\n",
        "#     tokenizer = tokenizer,\n",
        "#     args = training_args,\n",
        "#     max_seq_length = 4096\n",
        "# )"
      ]
    },
    {
      "cell_type": "markdown",
      "metadata": {
        "id": "05H5MIfjyRgc"
      },
      "source": [
        "## Accelerator\n",
        "\n"
      ]
    },
    {
      "cell_type": "code",
      "execution_count": null,
      "metadata": {
        "id": "TEzYBadkyRgd"
      },
      "outputs": [],
      "source": [
        "from accelerate import FullyShardedDataParallelPlugin, Accelerator\n",
        "from torch.distributed.fsdp.fully_sharded_data_parallel import FullOptimStateDictConfig, FullStateDictConfig\n",
        "\n",
        "fsdp_plugin = FullyShardedDataParallelPlugin(\n",
        "    state_dict_config=FullStateDictConfig(offload_to_cpu=True, rank0_only=False),\n",
        "    optim_state_dict_config=FullOptimStateDictConfig(offload_to_cpu=True, rank0_only=False),\n",
        ")\n",
        "\n",
        "accelerator = Accelerator(fsdp_plugin=fsdp_plugin)"
      ]
    },
    {
      "cell_type": "code",
      "execution_count": null,
      "metadata": {
        "id": "yxSbpKQSLY6B"
      },
      "outputs": [],
      "source": [
        "model = accelerator.prepare_model(model)"
      ]
    },
    {
      "cell_type": "code",
      "execution_count": null,
      "metadata": {
        "id": "mplKUXTXU-Qd"
      },
      "outputs": [],
      "source": [
        "from peft import LoraConfig, get_peft_model\n",
        "\n",
        "config = LoraConfig(\n",
        "    r=32,\n",
        "    lora_alpha=64,\n",
        "    target_modules=[\n",
        "        \"q_proj\",\n",
        "        \"k_proj\",\n",
        "        \"v_proj\",\n",
        "        \"o_proj\",\n",
        "        \"gate_proj\",\n",
        "        \"up_proj\",\n",
        "        \"down_proj\",\n",
        "        \"lm_head\",\n",
        "    ],\n",
        "    bias=\"none\",\n",
        "    lora_dropout=0.05,  # Conventional\n",
        "    task_type=\"CAUSAL_LM\",\n",
        ")\n",
        "\n",
        "model = get_peft_model(model, config)\n",
        "print_trainable_parameters(model)"
      ]
    },
    {
      "cell_type": "markdown",
      "metadata": {
        "id": "-9KNTJZkyRgn"
      },
      "source": [
        "\n",
        "*Let's use Weights & Biases to track our training metrics*."
      ]
    },
    {
      "cell_type": "code",
      "source": [
        "#(bug fix (colab))\n",
        "\n",
        "import locale\n",
        "\n",
        "print(locale.getpreferredencoding())\n",
        "\n",
        "\n",
        "def getpreferredencoding(do_setlocale = True):\n",
        "  return \"UTF-8\"\n",
        "\n",
        "locale.getpreferredencoding = getpreferredencoding"
      ],
      "metadata": {
        "id": "FJiypVFi0oX0"
      },
      "execution_count": null,
      "outputs": []
    },
    {
      "cell_type": "code",
      "execution_count": null,
      "metadata": {
        "id": "DDqUNyIoyRgo"
      },
      "outputs": [],
      "source": [
        "import wandb, os\n",
        "wandb.login()\n",
        "\n",
        "wandb_project = \"figr-mistral-finetune_01\"\n",
        "if len(wandb_project) > 0:\n",
        "    os.environ[\"WANDB_PROJECT\"] = wandb_project"
      ]
    },
    {
      "cell_type": "markdown",
      "metadata": {
        "id": "_0MOtwf3zdZp"
      },
      "source": [
        "## Run Training!"
      ]
    },
    {
      "cell_type": "code",
      "execution_count": null,
      "metadata": {
        "id": "c_L1131GyRgo"
      },
      "outputs": [],
      "source": [
        "if torch.cuda.device_count() > 1: # If more than 1 GPU\n",
        "    model.is_parallelizable = True\n",
        "    model.model_parallel = True"
      ]
    },
    {
      "cell_type": "code",
      "execution_count": null,
      "metadata": {
        "id": "jq0nX33BmfaC"
      },
      "outputs": [],
      "source": [
        "import transformers\n",
        "from datetime import datetime\n",
        "\n",
        "project = \"figr-finetune-2\"\n",
        "base_model_name = \"mistral\"\n",
        "run_name = base_model_name + \"-\" + project\n",
        "output_dir = \"./\" + run_name\n",
        "\n",
        "\n",
        "\n",
        "trainer = transformers.Trainer(\n",
        "    model=model,\n",
        "    train_dataset=tokenized_train_dataset,\n",
        "    eval_dataset=tokenized_val_dataset,\n",
        "    args=transformers.TrainingArguments(\n",
        "        output_dir=output_dir,\n",
        "        warmup_steps=5,\n",
        "        per_device_train_batch_size=2,\n",
        "        gradient_accumulation_steps=4,\n",
        "        max_steps=300,\n",
        "        learning_rate=2.5e-5, # Want about 10x smaller than the Mistral learning rate\n",
        "        logging_steps=50,\n",
        "        fp16=True,\n",
        "        optim=\"paged_adamw_8bit\",\n",
        "        logging_dir=\"./logs\",        # Directory for storing logs\n",
        "        save_strategy=\"steps\",       # Save the model checkpoint every logging step\n",
        "        save_steps=50,                # Save checkpoints every 50 steps\n",
        "        evaluation_strategy=\"steps\", # Evaluate the model every logging step\n",
        "        eval_steps=50,               # Evaluate and save checkpoints every 50 steps\n",
        "        do_eval=True,                # Perform evaluation at the end of training\n",
        "        report_to=\"wandb\",           # Comment this out if you don't want to use weights & baises\n",
        "        run_name=f\"{run_name}-{datetime.now().strftime('%Y-%m-%d-%H-%M')}\"          # Name of the W&B run (optional)\n",
        "    ),\n",
        "    data_collator=transformers.DataCollatorForLanguageModeling(tokenizer, mlm=False),\n",
        ")\n",
        "model.config.use_cache = False  # silence the warnings. Please re-enable for inference!\n",
        "\n",
        "\n",
        "\n",
        "\n",
        "# trainer = transformers.Trainer(\n",
        "#     model=model,\n",
        "#     train_dataset=tokenized_train_dataset,\n",
        "#     eval_dataset=tokenized_val_dataset,\n",
        "#     args=transformers.TrainingArguments(\n",
        "#         output_dir=output_dir,\n",
        "#         warmup_steps=1,\n",
        "#         per_device_train_batch_size=2,\n",
        "#         gradient_accumulation_steps=1,\n",
        "#         gradient_checkpointing=True,\n",
        "#         max_steps=50,\n",
        "#         learning_rate=2.5e-5, # Want a small lr for finetuning\n",
        "#         fp16=True,\n",
        "#         optim=\"paged_adamw_8bit\",\n",
        "#         logging_steps=25,              # When to start reporting loss\n",
        "#         logging_dir=\"./logs\",        # Directory for storing logs\n",
        "#         save_strategy=\"steps\",       # Save the model checkpoint every logging step\n",
        "#         save_steps=25,                # Save checkpoints every 50 steps\n",
        "#         evaluation_strategy=\"steps\", # Evaluate the model every logging step\n",
        "#         eval_steps=25,               # Evaluate and save checkpoints every 50 steps\n",
        "#         do_eval=True,                # Perform evaluation at the end of training\n",
        "#         # report_to=\"wandb\",           # Comment this out if you don't want to use weights & baises\n",
        "#         run_name=f\"{run_name}-{datetime.now().strftime('%Y-%m-%d-%H-%M')}\"          # Name of the W&B run (optional)\n",
        "#     ),\n",
        "#     data_collator=transformers.DataCollatorForLanguageModeling(tokenizer, mlm=False),\n",
        "# )\n",
        "\n",
        "# model.config.use_cache = False  # silence the warnings. Please re-enable for inference!\n"
      ]
    },
    {
      "cell_type": "code",
      "execution_count": null,
      "metadata": {
        "id": "7xRMjWbNegRR"
      },
      "outputs": [],
      "source": [
        "trainer.train()"
      ]
    },
    {
      "cell_type": "markdown",
      "source": [
        "#### Using pytorch"
      ],
      "metadata": {
        "id": "qQU8hDEUDgQZ"
      }
    },
    {
      "cell_type": "code",
      "source": [
        "# import torch\n",
        "# from torch.utils.data import DataLoader\n",
        "# from transformers import AdamW\n",
        "# from datetime import datetime\n",
        "\n",
        "# device = torch.device(\"cuda\" if torch.cuda.is_available() else \"cpu\")\n",
        "\n",
        "# model.to(device)\n",
        "# optimizer = AdamW(model.parameters(), lr=2.5e-5)\n",
        "# num_epochs = 3\n",
        "\n",
        "# for epoch in range(num_epochs):\n",
        "#     model.train()\n",
        "#     for batch in DataLoader(tokenized_train_dataset, batch_size=2, shuffle=True):\n",
        "#         inputs = {k: v.to(device) for k, v in batch.items()}\n",
        "#         outputs = model(**inputs)\n",
        "#         loss = outputs.loss\n",
        "#         loss.backward()\n",
        "#         optimizer.step()\n",
        "#         optimizer.zero_grad()\n",
        "\n",
        "#     # Validation\n",
        "#     model.eval()\n",
        "#     total_eval_loss = 0\n",
        "#     with torch.no_grad():\n",
        "#         for batch in DataLoader(tokenized_val_dataset, batch_size=2, shuffle=False):\n",
        "#             inputs = {k: v.to(device) for k, v in batch.items()}\n",
        "#             outputs = model(**inputs)\n",
        "#             total_eval_loss += outputs.loss.item()\n",
        "\n",
        "#     average_eval_loss = total_eval_loss / len(tokenized_val_dataset)\n",
        "\n",
        "#     # Logging\n",
        "#     print(f\"Epoch {epoch + 1}/{num_epochs}, Loss: {average_eval_loss}\")\n",
        "\n",
        "# # to save the trained model\n",
        "# output_dir = \"./\" + run_name\n",
        "# model.save_pretrained(output_dir)\n",
        "# tokenizer.save_pretrained(output_dir)\n"
      ],
      "metadata": {
        "id": "sGaQpE_eDLYE"
      },
      "execution_count": 1,
      "outputs": []
    },
    {
      "cell_type": "markdown",
      "metadata": {
        "id": "0D57XqcsyRgo"
      },
      "source": [
        "### Try the Trained Model!\n"
      ]
    },
    {
      "cell_type": "code",
      "source": [
        "!huggingface-cli login"
      ],
      "metadata": {
        "id": "QtM2qGaw2vu7"
      },
      "execution_count": null,
      "outputs": []
    },
    {
      "cell_type": "code",
      "execution_count": null,
      "metadata": {
        "id": "SKSnF016yRgp"
      },
      "outputs": [],
      "source": [
        "import torch\n",
        "from transformers import AutoTokenizer, AutoModelForCausalLM, BitsAndBytesConfig\n",
        "\n",
        "base_model_id = \"mistralai/Mistral-7B-v0.1\"\n",
        "bnb_config = BitsAndBytesConfig(\n",
        "    load_in_4bit=True,\n",
        "    bnb_4bit_use_double_quant=True,\n",
        "    bnb_4bit_quant_type=\"nf4\",\n",
        "    bnb_4bit_compute_dtype=torch.bfloat16\n",
        ")\n",
        "\n",
        "base_model = AutoModelForCausalLM.from_pretrained(\n",
        "    base_model_id,  # Mistral, same as before\n",
        "    quantization_config=bnb_config,  # Same quantization config as before\n",
        "    device_map=\"auto\",\n",
        "    trust_remote_code=True,\n",
        "    use_auth_token=True\n",
        ")\n",
        "\n",
        "eval_tokenizer = AutoTokenizer.from_pretrained(base_model_id, add_bos_token=True, trust_remote_code=True)"
      ]
    },
    {
      "cell_type": "markdown",
      "metadata": {
        "id": "_BxOhAiqyRgp"
      },
      "source": [
        "## Model evaluation (wandb)\n",
        "You can view system metrics and model performance by going to wandb.ai and checking the recent run."
      ]
    },
    {
      "cell_type": "code",
      "source": [
        "import wandb\n",
        "trainer.model.save_pretrained(\"mistral-figr-finetune/checkpoint-50\")\n",
        "wandb.finish()\n",
        "model.config.use_cache = True"
      ],
      "metadata": {
        "id": "bMDK-ACH7oKm"
      },
      "execution_count": null,
      "outputs": []
    },
    {
      "cell_type": "code",
      "source": [
        "import wandb\n",
        "trainer.model.save_pretrained(\"mistral-figr-finetune/checkpoint-50\")\n",
        "wandb.finish()\n",
        "model.config.use_cache = True"
      ],
      "metadata": {
        "id": "y1xne7dJJ63s"
      },
      "execution_count": null,
      "outputs": []
    },
    {
      "cell_type": "markdown",
      "source": [
        "## Copy model to drive"
      ],
      "metadata": {
        "id": "qCt_M-crIz6K"
      }
    },
    {
      "cell_type": "code",
      "source": [
        "!cp -r /content/mistral-figr-finetune-2  /content/drive/MyDrive\n",
        "!cp -r /content/HuggingAlgorithms  /content/drive/MyDrive\n",
        "\n",
        "!cp -r /content/logs  /content/drive/MyDrive\n"
      ],
      "metadata": {
        "id": "9PFB1dHN8JIw"
      },
      "execution_count": null,
      "outputs": []
    },
    {
      "cell_type": "code",
      "source": [
        "from google.colab import drive\n",
        "drive.mount('/content/drive')"
      ],
      "metadata": {
        "id": "QkUhp9Tq8kBY"
      },
      "execution_count": null,
      "outputs": []
    },
    {
      "cell_type": "code",
      "source": [
        "!cp /content/HuggingAlgorithms /content/drive\n"
      ],
      "metadata": {
        "id": "lmNEboIg84_Z"
      },
      "execution_count": null,
      "outputs": []
    },
    {
      "cell_type": "code",
      "execution_count": null,
      "metadata": {
        "id": "GwsiqhWuyRgp"
      },
      "outputs": [],
      "source": [
        "from peft import PeftModel\n",
        "\n",
        "ft_model = PeftModel.from_pretrained(base_model, \"mistral-figr-finetune/checkpoint-50\")"
      ]
    },
    {
      "cell_type": "markdown",
      "metadata": {
        "id": "UUehsaVNyRgp"
      },
      "source": [
        "Let's try the same `eval_prompt` and thus `model_input` as above, and see if the new finetuned model performs better."
      ]
    },
    {
      "cell_type": "code",
      "execution_count": null,
      "metadata": {
        "id": "lMkVNEUvyRgp"
      },
      "outputs": [],
      "source": [
        "eval_prompt = \"Generate a html code for the adding button\"\n",
        "model_input = eval_tokenizer(eval_prompt, return_tensors=\"pt\").to(\"cuda\")\n",
        "\n",
        "ft_model.eval()\n",
        "with torch.no_grad():\n",
        "    print(eval_tokenizer.decode(ft_model.generate(**model_input, max_new_tokens=100, repetition_penalty=1.15)[0], skip_special_tokens=True))"
      ]
    },
    {
      "cell_type": "code",
      "source": [
        "with torch.no_grad():\n",
        "    # Generate HTML code using the fine-tuned model\n",
        "    generated_html = ft_model.generate(**model_input, max_new_tokens=100, repetition_penalty=1.15)\n",
        "\n",
        "    # Decode and print the generated HTML code, skipping special tokens\n",
        "    print(eval_tokenizer.decode(generated_html[0], skip_special_tokens=True))\n"
      ],
      "metadata": {
        "id": "Ohcr3EyX4mTm"
      },
      "execution_count": null,
      "outputs": []
    },
    {
      "cell_type": "markdown",
      "source": [
        "\n",
        "\n",
        "**END**\n",
        "\n"
      ],
      "metadata": {
        "id": "zFtiJvg4D-im"
      }
    }
  ],
  "metadata": {
    "accelerator": "GPU",
    "colab": {
      "provenance": []
    },
    "kernelspec": {
      "display_name": "Python 3",
      "name": "python3"
    },
    "language_info": {
      "codemirror_mode": {
        "name": "ipython",
        "version": 3
      },
      "file_extension": ".py",
      "mimetype": "text/x-python",
      "name": "python",
      "nbconvert_exporter": "python",
      "pygments_lexer": "ipython3",
      "version": "3.10.12"
    },
    "widgets": {
      "application/vnd.jupyter.widget-state+json": {
        "f00e6f2177ad43e0940a485249ee5638": {
          "model_module": "@jupyter-widgets/controls",
          "model_name": "HBoxModel",
          "model_module_version": "2.0.0",
          "state": {
            "_dom_classes": [],
            "_model_module": "@jupyter-widgets/controls",
            "_model_module_version": "2.0.0",
            "_model_name": "HBoxModel",
            "_view_count": null,
            "_view_module": "@jupyter-widgets/controls",
            "_view_module_version": "2.0.0",
            "_view_name": "HBoxView",
            "box_style": "",
            "children": [
              "IPY_MODEL_9300f28d2a814b7a8249ce775fdddf3f",
              "IPY_MODEL_0c0c95ac84bd46f3b9e0c2dafd243770",
              "IPY_MODEL_926463d60c754ddf97cc866ca6854532"
            ],
            "layout": "IPY_MODEL_f61a735055264c8db23bad6358d8310b",
            "tabbable": null,
            "tooltip": null
          }
        },
        "9300f28d2a814b7a8249ce775fdddf3f": {
          "model_module": "@jupyter-widgets/controls",
          "model_name": "HTMLModel",
          "model_module_version": "2.0.0",
          "state": {
            "_dom_classes": [],
            "_model_module": "@jupyter-widgets/controls",
            "_model_module_version": "2.0.0",
            "_model_name": "HTMLModel",
            "_view_count": null,
            "_view_module": "@jupyter-widgets/controls",
            "_view_module_version": "2.0.0",
            "_view_name": "HTMLView",
            "description": "",
            "description_allow_html": false,
            "layout": "IPY_MODEL_51d863f9e00c439da1b4287c7e2df721",
            "placeholder": "​",
            "style": "IPY_MODEL_db586ec1b10b497bb02bdec304b5212c",
            "tabbable": null,
            "tooltip": null,
            "value": "model.safetensors.index.json: 100%"
          }
        },
        "0c0c95ac84bd46f3b9e0c2dafd243770": {
          "model_module": "@jupyter-widgets/controls",
          "model_name": "FloatProgressModel",
          "model_module_version": "2.0.0",
          "state": {
            "_dom_classes": [],
            "_model_module": "@jupyter-widgets/controls",
            "_model_module_version": "2.0.0",
            "_model_name": "FloatProgressModel",
            "_view_count": null,
            "_view_module": "@jupyter-widgets/controls",
            "_view_module_version": "2.0.0",
            "_view_name": "ProgressView",
            "bar_style": "success",
            "description": "",
            "description_allow_html": false,
            "layout": "IPY_MODEL_271017fc88c240b4ad7036a8e1b55bd3",
            "max": 25125,
            "min": 0,
            "orientation": "horizontal",
            "style": "IPY_MODEL_82ab891d0199481bb62a75b30365b3db",
            "tabbable": null,
            "tooltip": null,
            "value": 25125
          }
        },
        "926463d60c754ddf97cc866ca6854532": {
          "model_module": "@jupyter-widgets/controls",
          "model_name": "HTMLModel",
          "model_module_version": "2.0.0",
          "state": {
            "_dom_classes": [],
            "_model_module": "@jupyter-widgets/controls",
            "_model_module_version": "2.0.0",
            "_model_name": "HTMLModel",
            "_view_count": null,
            "_view_module": "@jupyter-widgets/controls",
            "_view_module_version": "2.0.0",
            "_view_name": "HTMLView",
            "description": "",
            "description_allow_html": false,
            "layout": "IPY_MODEL_413bed58396c49e4b8d59a2465c1fea3",
            "placeholder": "​",
            "style": "IPY_MODEL_59ebe33845d34da6b15e582cce4a8308",
            "tabbable": null,
            "tooltip": null,
            "value": " 25.1k/25.1k [00:00&lt;00:00, 908kB/s]"
          }
        },
        "f61a735055264c8db23bad6358d8310b": {
          "model_module": "@jupyter-widgets/base",
          "model_name": "LayoutModel",
          "model_module_version": "2.0.0",
          "state": {
            "_model_module": "@jupyter-widgets/base",
            "_model_module_version": "2.0.0",
            "_model_name": "LayoutModel",
            "_view_count": null,
            "_view_module": "@jupyter-widgets/base",
            "_view_module_version": "2.0.0",
            "_view_name": "LayoutView",
            "align_content": null,
            "align_items": null,
            "align_self": null,
            "border_bottom": null,
            "border_left": null,
            "border_right": null,
            "border_top": null,
            "bottom": null,
            "display": null,
            "flex": null,
            "flex_flow": null,
            "grid_area": null,
            "grid_auto_columns": null,
            "grid_auto_flow": null,
            "grid_auto_rows": null,
            "grid_column": null,
            "grid_gap": null,
            "grid_row": null,
            "grid_template_areas": null,
            "grid_template_columns": null,
            "grid_template_rows": null,
            "height": null,
            "justify_content": null,
            "justify_items": null,
            "left": null,
            "margin": null,
            "max_height": null,
            "max_width": null,
            "min_height": null,
            "min_width": null,
            "object_fit": null,
            "object_position": null,
            "order": null,
            "overflow": null,
            "padding": null,
            "right": null,
            "top": null,
            "visibility": null,
            "width": null
          }
        },
        "51d863f9e00c439da1b4287c7e2df721": {
          "model_module": "@jupyter-widgets/base",
          "model_name": "LayoutModel",
          "model_module_version": "2.0.0",
          "state": {
            "_model_module": "@jupyter-widgets/base",
            "_model_module_version": "2.0.0",
            "_model_name": "LayoutModel",
            "_view_count": null,
            "_view_module": "@jupyter-widgets/base",
            "_view_module_version": "2.0.0",
            "_view_name": "LayoutView",
            "align_content": null,
            "align_items": null,
            "align_self": null,
            "border_bottom": null,
            "border_left": null,
            "border_right": null,
            "border_top": null,
            "bottom": null,
            "display": null,
            "flex": null,
            "flex_flow": null,
            "grid_area": null,
            "grid_auto_columns": null,
            "grid_auto_flow": null,
            "grid_auto_rows": null,
            "grid_column": null,
            "grid_gap": null,
            "grid_row": null,
            "grid_template_areas": null,
            "grid_template_columns": null,
            "grid_template_rows": null,
            "height": null,
            "justify_content": null,
            "justify_items": null,
            "left": null,
            "margin": null,
            "max_height": null,
            "max_width": null,
            "min_height": null,
            "min_width": null,
            "object_fit": null,
            "object_position": null,
            "order": null,
            "overflow": null,
            "padding": null,
            "right": null,
            "top": null,
            "visibility": null,
            "width": null
          }
        },
        "db586ec1b10b497bb02bdec304b5212c": {
          "model_module": "@jupyter-widgets/controls",
          "model_name": "HTMLStyleModel",
          "model_module_version": "2.0.0",
          "state": {
            "_model_module": "@jupyter-widgets/controls",
            "_model_module_version": "2.0.0",
            "_model_name": "HTMLStyleModel",
            "_view_count": null,
            "_view_module": "@jupyter-widgets/base",
            "_view_module_version": "2.0.0",
            "_view_name": "StyleView",
            "background": null,
            "description_width": "",
            "font_size": null,
            "text_color": null
          }
        },
        "271017fc88c240b4ad7036a8e1b55bd3": {
          "model_module": "@jupyter-widgets/base",
          "model_name": "LayoutModel",
          "model_module_version": "2.0.0",
          "state": {
            "_model_module": "@jupyter-widgets/base",
            "_model_module_version": "2.0.0",
            "_model_name": "LayoutModel",
            "_view_count": null,
            "_view_module": "@jupyter-widgets/base",
            "_view_module_version": "2.0.0",
            "_view_name": "LayoutView",
            "align_content": null,
            "align_items": null,
            "align_self": null,
            "border_bottom": null,
            "border_left": null,
            "border_right": null,
            "border_top": null,
            "bottom": null,
            "display": null,
            "flex": null,
            "flex_flow": null,
            "grid_area": null,
            "grid_auto_columns": null,
            "grid_auto_flow": null,
            "grid_auto_rows": null,
            "grid_column": null,
            "grid_gap": null,
            "grid_row": null,
            "grid_template_areas": null,
            "grid_template_columns": null,
            "grid_template_rows": null,
            "height": null,
            "justify_content": null,
            "justify_items": null,
            "left": null,
            "margin": null,
            "max_height": null,
            "max_width": null,
            "min_height": null,
            "min_width": null,
            "object_fit": null,
            "object_position": null,
            "order": null,
            "overflow": null,
            "padding": null,
            "right": null,
            "top": null,
            "visibility": null,
            "width": null
          }
        },
        "82ab891d0199481bb62a75b30365b3db": {
          "model_module": "@jupyter-widgets/controls",
          "model_name": "ProgressStyleModel",
          "model_module_version": "2.0.0",
          "state": {
            "_model_module": "@jupyter-widgets/controls",
            "_model_module_version": "2.0.0",
            "_model_name": "ProgressStyleModel",
            "_view_count": null,
            "_view_module": "@jupyter-widgets/base",
            "_view_module_version": "2.0.0",
            "_view_name": "StyleView",
            "bar_color": null,
            "description_width": ""
          }
        },
        "413bed58396c49e4b8d59a2465c1fea3": {
          "model_module": "@jupyter-widgets/base",
          "model_name": "LayoutModel",
          "model_module_version": "2.0.0",
          "state": {
            "_model_module": "@jupyter-widgets/base",
            "_model_module_version": "2.0.0",
            "_model_name": "LayoutModel",
            "_view_count": null,
            "_view_module": "@jupyter-widgets/base",
            "_view_module_version": "2.0.0",
            "_view_name": "LayoutView",
            "align_content": null,
            "align_items": null,
            "align_self": null,
            "border_bottom": null,
            "border_left": null,
            "border_right": null,
            "border_top": null,
            "bottom": null,
            "display": null,
            "flex": null,
            "flex_flow": null,
            "grid_area": null,
            "grid_auto_columns": null,
            "grid_auto_flow": null,
            "grid_auto_rows": null,
            "grid_column": null,
            "grid_gap": null,
            "grid_row": null,
            "grid_template_areas": null,
            "grid_template_columns": null,
            "grid_template_rows": null,
            "height": null,
            "justify_content": null,
            "justify_items": null,
            "left": null,
            "margin": null,
            "max_height": null,
            "max_width": null,
            "min_height": null,
            "min_width": null,
            "object_fit": null,
            "object_position": null,
            "order": null,
            "overflow": null,
            "padding": null,
            "right": null,
            "top": null,
            "visibility": null,
            "width": null
          }
        },
        "59ebe33845d34da6b15e582cce4a8308": {
          "model_module": "@jupyter-widgets/controls",
          "model_name": "HTMLStyleModel",
          "model_module_version": "2.0.0",
          "state": {
            "_model_module": "@jupyter-widgets/controls",
            "_model_module_version": "2.0.0",
            "_model_name": "HTMLStyleModel",
            "_view_count": null,
            "_view_module": "@jupyter-widgets/base",
            "_view_module_version": "2.0.0",
            "_view_name": "StyleView",
            "background": null,
            "description_width": "",
            "font_size": null,
            "text_color": null
          }
        },
        "8412101bfd47432f8b937877325c4b06": {
          "model_module": "@jupyter-widgets/base",
          "model_name": "LayoutModel",
          "model_module_version": "2.0.0",
          "state": {
            "_model_module": "@jupyter-widgets/base",
            "_model_module_version": "2.0.0",
            "_model_name": "LayoutModel",
            "_view_count": null,
            "_view_module": "@jupyter-widgets/base",
            "_view_module_version": "2.0.0",
            "_view_name": "LayoutView",
            "align_content": null,
            "align_items": null,
            "align_self": null,
            "border_bottom": null,
            "border_left": null,
            "border_right": null,
            "border_top": null,
            "bottom": null,
            "display": null,
            "flex": null,
            "flex_flow": null,
            "grid_area": null,
            "grid_auto_columns": null,
            "grid_auto_flow": null,
            "grid_auto_rows": null,
            "grid_column": null,
            "grid_gap": null,
            "grid_row": null,
            "grid_template_areas": null,
            "grid_template_columns": null,
            "grid_template_rows": null,
            "height": null,
            "justify_content": null,
            "justify_items": null,
            "left": null,
            "margin": null,
            "max_height": null,
            "max_width": null,
            "min_height": null,
            "min_width": null,
            "object_fit": null,
            "object_position": null,
            "order": null,
            "overflow": null,
            "padding": null,
            "right": null,
            "top": null,
            "visibility": null,
            "width": null
          }
        },
        "db1f1a2c6a0a496fb37991197b6a2a20": {
          "model_module": "@jupyter-widgets/controls",
          "model_name": "ProgressStyleModel",
          "model_module_version": "2.0.0",
          "state": {
            "_model_module": "@jupyter-widgets/controls",
            "_model_module_version": "2.0.0",
            "_model_name": "ProgressStyleModel",
            "_view_count": null,
            "_view_module": "@jupyter-widgets/base",
            "_view_module_version": "2.0.0",
            "_view_name": "StyleView",
            "bar_color": null,
            "description_width": ""
          }
        },
        "b83c8b6e0988411a99d751e15b52ea31": {
          "model_module": "@jupyter-widgets/base",
          "model_name": "LayoutModel",
          "model_module_version": "2.0.0",
          "state": {
            "_model_module": "@jupyter-widgets/base",
            "_model_module_version": "2.0.0",
            "_model_name": "LayoutModel",
            "_view_count": null,
            "_view_module": "@jupyter-widgets/base",
            "_view_module_version": "2.0.0",
            "_view_name": "LayoutView",
            "align_content": null,
            "align_items": null,
            "align_self": null,
            "border_bottom": null,
            "border_left": null,
            "border_right": null,
            "border_top": null,
            "bottom": null,
            "display": null,
            "flex": null,
            "flex_flow": null,
            "grid_area": null,
            "grid_auto_columns": null,
            "grid_auto_flow": null,
            "grid_auto_rows": null,
            "grid_column": null,
            "grid_gap": null,
            "grid_row": null,
            "grid_template_areas": null,
            "grid_template_columns": null,
            "grid_template_rows": null,
            "height": null,
            "justify_content": null,
            "justify_items": null,
            "left": null,
            "margin": null,
            "max_height": null,
            "max_width": null,
            "min_height": null,
            "min_width": null,
            "object_fit": null,
            "object_position": null,
            "order": null,
            "overflow": null,
            "padding": null,
            "right": null,
            "top": null,
            "visibility": null,
            "width": null
          }
        },
        "216ad25ec9c8463799b9aa3bcd17f151": {
          "model_module": "@jupyter-widgets/controls",
          "model_name": "HTMLStyleModel",
          "model_module_version": "2.0.0",
          "state": {
            "_model_module": "@jupyter-widgets/controls",
            "_model_module_version": "2.0.0",
            "_model_name": "HTMLStyleModel",
            "_view_count": null,
            "_view_module": "@jupyter-widgets/base",
            "_view_module_version": "2.0.0",
            "_view_name": "StyleView",
            "background": null,
            "description_width": "",
            "font_size": null,
            "text_color": null
          }
        },
        "53474573a02f4a039a146ca55b709ef5": {
          "model_module": "@jupyter-widgets/base",
          "model_name": "LayoutModel",
          "model_module_version": "2.0.0",
          "state": {
            "_model_module": "@jupyter-widgets/base",
            "_model_module_version": "2.0.0",
            "_model_name": "LayoutModel",
            "_view_count": null,
            "_view_module": "@jupyter-widgets/base",
            "_view_module_version": "2.0.0",
            "_view_name": "LayoutView",
            "align_content": null,
            "align_items": null,
            "align_self": null,
            "border_bottom": null,
            "border_left": null,
            "border_right": null,
            "border_top": null,
            "bottom": null,
            "display": null,
            "flex": null,
            "flex_flow": null,
            "grid_area": null,
            "grid_auto_columns": null,
            "grid_auto_flow": null,
            "grid_auto_rows": null,
            "grid_column": null,
            "grid_gap": null,
            "grid_row": null,
            "grid_template_areas": null,
            "grid_template_columns": null,
            "grid_template_rows": null,
            "height": null,
            "justify_content": null,
            "justify_items": null,
            "left": null,
            "margin": null,
            "max_height": null,
            "max_width": null,
            "min_height": null,
            "min_width": null,
            "object_fit": null,
            "object_position": null,
            "order": null,
            "overflow": null,
            "padding": null,
            "right": null,
            "top": null,
            "visibility": null,
            "width": null
          }
        },
        "f1e7733e021c4b439a7b0c86d853f3cc": {
          "model_module": "@jupyter-widgets/controls",
          "model_name": "HTMLStyleModel",
          "model_module_version": "2.0.0",
          "state": {
            "_model_module": "@jupyter-widgets/controls",
            "_model_module_version": "2.0.0",
            "_model_name": "HTMLStyleModel",
            "_view_count": null,
            "_view_module": "@jupyter-widgets/base",
            "_view_module_version": "2.0.0",
            "_view_name": "StyleView",
            "background": null,
            "description_width": "",
            "font_size": null,
            "text_color": null
          }
        },
        "336464e871de4bb3b0e854887fab1043": {
          "model_module": "@jupyter-widgets/controls",
          "model_name": "HTMLModel",
          "model_module_version": "2.0.0",
          "state": {
            "_dom_classes": [],
            "_model_module": "@jupyter-widgets/controls",
            "_model_module_version": "2.0.0",
            "_model_name": "HTMLModel",
            "_view_count": null,
            "_view_module": "@jupyter-widgets/controls",
            "_view_module_version": "2.0.0",
            "_view_name": "HTMLView",
            "description": "",
            "description_allow_html": false,
            "layout": "IPY_MODEL_b83c8b6e0988411a99d751e15b52ea31",
            "placeholder": "​",
            "style": "IPY_MODEL_216ad25ec9c8463799b9aa3bcd17f151",
            "tabbable": null,
            "tooltip": null,
            "value": "Downloading shards: 100%"
          }
        },
        "099a40deed0e4c2f895d76319acb5105": {
          "model_module": "@jupyter-widgets/controls",
          "model_name": "FloatProgressModel",
          "model_module_version": "2.0.0",
          "state": {
            "_dom_classes": [],
            "_model_module": "@jupyter-widgets/controls",
            "_model_module_version": "2.0.0",
            "_model_name": "FloatProgressModel",
            "_view_count": null,
            "_view_module": "@jupyter-widgets/controls",
            "_view_module_version": "2.0.0",
            "_view_name": "ProgressView",
            "bar_style": "success",
            "description": "",
            "description_allow_html": false,
            "layout": "IPY_MODEL_8412101bfd47432f8b937877325c4b06",
            "max": 2,
            "min": 0,
            "orientation": "horizontal",
            "style": "IPY_MODEL_db1f1a2c6a0a496fb37991197b6a2a20",
            "tabbable": null,
            "tooltip": null,
            "value": 2
          }
        },
        "aeaaaa3a8e7c4aafa0fd0ecfd3439d3b": {
          "model_module": "@jupyter-widgets/controls",
          "model_name": "HTMLModel",
          "model_module_version": "2.0.0",
          "state": {
            "_dom_classes": [],
            "_model_module": "@jupyter-widgets/controls",
            "_model_module_version": "2.0.0",
            "_model_name": "HTMLModel",
            "_view_count": null,
            "_view_module": "@jupyter-widgets/controls",
            "_view_module_version": "2.0.0",
            "_view_name": "HTMLView",
            "description": "",
            "description_allow_html": false,
            "layout": "IPY_MODEL_53474573a02f4a039a146ca55b709ef5",
            "placeholder": "​",
            "style": "IPY_MODEL_f1e7733e021c4b439a7b0c86d853f3cc",
            "tabbable": null,
            "tooltip": null,
            "value": " 2/2 [01:51&lt;00:00, 51.29s/it]"
          }
        },
        "ce884e6083654eb0817af81bf4f45a6b": {
          "model_module": "@jupyter-widgets/base",
          "model_name": "LayoutModel",
          "model_module_version": "2.0.0",
          "state": {
            "_model_module": "@jupyter-widgets/base",
            "_model_module_version": "2.0.0",
            "_model_name": "LayoutModel",
            "_view_count": null,
            "_view_module": "@jupyter-widgets/base",
            "_view_module_version": "2.0.0",
            "_view_name": "LayoutView",
            "align_content": null,
            "align_items": null,
            "align_self": null,
            "border_bottom": null,
            "border_left": null,
            "border_right": null,
            "border_top": null,
            "bottom": null,
            "display": null,
            "flex": null,
            "flex_flow": null,
            "grid_area": null,
            "grid_auto_columns": null,
            "grid_auto_flow": null,
            "grid_auto_rows": null,
            "grid_column": null,
            "grid_gap": null,
            "grid_row": null,
            "grid_template_areas": null,
            "grid_template_columns": null,
            "grid_template_rows": null,
            "height": null,
            "justify_content": null,
            "justify_items": null,
            "left": null,
            "margin": null,
            "max_height": null,
            "max_width": null,
            "min_height": null,
            "min_width": null,
            "object_fit": null,
            "object_position": null,
            "order": null,
            "overflow": null,
            "padding": null,
            "right": null,
            "top": null,
            "visibility": null,
            "width": null
          }
        },
        "74b78eb36d9145929cd78d6f6ba24bcf": {
          "model_module": "@jupyter-widgets/controls",
          "model_name": "HBoxModel",
          "model_module_version": "2.0.0",
          "state": {
            "_dom_classes": [],
            "_model_module": "@jupyter-widgets/controls",
            "_model_module_version": "2.0.0",
            "_model_name": "HBoxModel",
            "_view_count": null,
            "_view_module": "@jupyter-widgets/controls",
            "_view_module_version": "2.0.0",
            "_view_name": "HBoxView",
            "box_style": "",
            "children": [
              "IPY_MODEL_336464e871de4bb3b0e854887fab1043",
              "IPY_MODEL_099a40deed0e4c2f895d76319acb5105",
              "IPY_MODEL_aeaaaa3a8e7c4aafa0fd0ecfd3439d3b"
            ],
            "layout": "IPY_MODEL_ce884e6083654eb0817af81bf4f45a6b",
            "tabbable": null,
            "tooltip": null
          }
        },
        "ca1b1b38318b4543a494315d5193ad36": {
          "model_module": "@jupyter-widgets/base",
          "model_name": "LayoutModel",
          "model_module_version": "2.0.0",
          "state": {
            "_model_module": "@jupyter-widgets/base",
            "_model_module_version": "2.0.0",
            "_model_name": "LayoutModel",
            "_view_count": null,
            "_view_module": "@jupyter-widgets/base",
            "_view_module_version": "2.0.0",
            "_view_name": "LayoutView",
            "align_content": null,
            "align_items": null,
            "align_self": null,
            "border_bottom": null,
            "border_left": null,
            "border_right": null,
            "border_top": null,
            "bottom": null,
            "display": null,
            "flex": null,
            "flex_flow": null,
            "grid_area": null,
            "grid_auto_columns": null,
            "grid_auto_flow": null,
            "grid_auto_rows": null,
            "grid_column": null,
            "grid_gap": null,
            "grid_row": null,
            "grid_template_areas": null,
            "grid_template_columns": null,
            "grid_template_rows": null,
            "height": null,
            "justify_content": null,
            "justify_items": null,
            "left": null,
            "margin": null,
            "max_height": null,
            "max_width": null,
            "min_height": null,
            "min_width": null,
            "object_fit": null,
            "object_position": null,
            "order": null,
            "overflow": null,
            "padding": null,
            "right": null,
            "top": null,
            "visibility": null,
            "width": null
          }
        },
        "2a00fa6edf624791892647565dede0a2": {
          "model_module": "@jupyter-widgets/controls",
          "model_name": "ProgressStyleModel",
          "model_module_version": "2.0.0",
          "state": {
            "_model_module": "@jupyter-widgets/controls",
            "_model_module_version": "2.0.0",
            "_model_name": "ProgressStyleModel",
            "_view_count": null,
            "_view_module": "@jupyter-widgets/base",
            "_view_module_version": "2.0.0",
            "_view_name": "StyleView",
            "bar_color": null,
            "description_width": ""
          }
        },
        "fef50dfa3b6e4436bb1ad1a53c6e86e5": {
          "model_module": "@jupyter-widgets/base",
          "model_name": "LayoutModel",
          "model_module_version": "2.0.0",
          "state": {
            "_model_module": "@jupyter-widgets/base",
            "_model_module_version": "2.0.0",
            "_model_name": "LayoutModel",
            "_view_count": null,
            "_view_module": "@jupyter-widgets/base",
            "_view_module_version": "2.0.0",
            "_view_name": "LayoutView",
            "align_content": null,
            "align_items": null,
            "align_self": null,
            "border_bottom": null,
            "border_left": null,
            "border_right": null,
            "border_top": null,
            "bottom": null,
            "display": null,
            "flex": null,
            "flex_flow": null,
            "grid_area": null,
            "grid_auto_columns": null,
            "grid_auto_flow": null,
            "grid_auto_rows": null,
            "grid_column": null,
            "grid_gap": null,
            "grid_row": null,
            "grid_template_areas": null,
            "grid_template_columns": null,
            "grid_template_rows": null,
            "height": null,
            "justify_content": null,
            "justify_items": null,
            "left": null,
            "margin": null,
            "max_height": null,
            "max_width": null,
            "min_height": null,
            "min_width": null,
            "object_fit": null,
            "object_position": null,
            "order": null,
            "overflow": null,
            "padding": null,
            "right": null,
            "top": null,
            "visibility": null,
            "width": null
          }
        },
        "54adeb5015a741e3a4d83f357adb8322": {
          "model_module": "@jupyter-widgets/controls",
          "model_name": "HTMLStyleModel",
          "model_module_version": "2.0.0",
          "state": {
            "_model_module": "@jupyter-widgets/controls",
            "_model_module_version": "2.0.0",
            "_model_name": "HTMLStyleModel",
            "_view_count": null,
            "_view_module": "@jupyter-widgets/base",
            "_view_module_version": "2.0.0",
            "_view_name": "StyleView",
            "background": null,
            "description_width": "",
            "font_size": null,
            "text_color": null
          }
        },
        "2a7bcb0a360c4d91aad03b52affc0b48": {
          "model_module": "@jupyter-widgets/base",
          "model_name": "LayoutModel",
          "model_module_version": "2.0.0",
          "state": {
            "_model_module": "@jupyter-widgets/base",
            "_model_module_version": "2.0.0",
            "_model_name": "LayoutModel",
            "_view_count": null,
            "_view_module": "@jupyter-widgets/base",
            "_view_module_version": "2.0.0",
            "_view_name": "LayoutView",
            "align_content": null,
            "align_items": null,
            "align_self": null,
            "border_bottom": null,
            "border_left": null,
            "border_right": null,
            "border_top": null,
            "bottom": null,
            "display": null,
            "flex": null,
            "flex_flow": null,
            "grid_area": null,
            "grid_auto_columns": null,
            "grid_auto_flow": null,
            "grid_auto_rows": null,
            "grid_column": null,
            "grid_gap": null,
            "grid_row": null,
            "grid_template_areas": null,
            "grid_template_columns": null,
            "grid_template_rows": null,
            "height": null,
            "justify_content": null,
            "justify_items": null,
            "left": null,
            "margin": null,
            "max_height": null,
            "max_width": null,
            "min_height": null,
            "min_width": null,
            "object_fit": null,
            "object_position": null,
            "order": null,
            "overflow": null,
            "padding": null,
            "right": null,
            "top": null,
            "visibility": null,
            "width": null
          }
        },
        "2a16a31d9ce947fba8fad980ef97e21e": {
          "model_module": "@jupyter-widgets/controls",
          "model_name": "HTMLStyleModel",
          "model_module_version": "2.0.0",
          "state": {
            "_model_module": "@jupyter-widgets/controls",
            "_model_module_version": "2.0.0",
            "_model_name": "HTMLStyleModel",
            "_view_count": null,
            "_view_module": "@jupyter-widgets/base",
            "_view_module_version": "2.0.0",
            "_view_name": "StyleView",
            "background": null,
            "description_width": "",
            "font_size": null,
            "text_color": null
          }
        },
        "28e672c91e0a48ca8b63674e6b68d176": {
          "model_module": "@jupyter-widgets/controls",
          "model_name": "HTMLModel",
          "model_module_version": "2.0.0",
          "state": {
            "_dom_classes": [],
            "_model_module": "@jupyter-widgets/controls",
            "_model_module_version": "2.0.0",
            "_model_name": "HTMLModel",
            "_view_count": null,
            "_view_module": "@jupyter-widgets/controls",
            "_view_module_version": "2.0.0",
            "_view_name": "HTMLView",
            "description": "",
            "description_allow_html": false,
            "layout": "IPY_MODEL_fef50dfa3b6e4436bb1ad1a53c6e86e5",
            "placeholder": "​",
            "style": "IPY_MODEL_54adeb5015a741e3a4d83f357adb8322",
            "tabbable": null,
            "tooltip": null,
            "value": "model-00001-of-00002.safetensors: 100%"
          }
        },
        "603b69da0a9a47098a43ed358b9001cd": {
          "model_module": "@jupyter-widgets/controls",
          "model_name": "FloatProgressModel",
          "model_module_version": "2.0.0",
          "state": {
            "_dom_classes": [],
            "_model_module": "@jupyter-widgets/controls",
            "_model_module_version": "2.0.0",
            "_model_name": "FloatProgressModel",
            "_view_count": null,
            "_view_module": "@jupyter-widgets/controls",
            "_view_module_version": "2.0.0",
            "_view_name": "ProgressView",
            "bar_style": "success",
            "description": "",
            "description_allow_html": false,
            "layout": "IPY_MODEL_ca1b1b38318b4543a494315d5193ad36",
            "max": 9942981696,
            "min": 0,
            "orientation": "horizontal",
            "style": "IPY_MODEL_2a00fa6edf624791892647565dede0a2",
            "tabbable": null,
            "tooltip": null,
            "value": 9942981696
          }
        },
        "7f314121d5aa47c598391562efe327da": {
          "model_module": "@jupyter-widgets/controls",
          "model_name": "HTMLModel",
          "model_module_version": "2.0.0",
          "state": {
            "_dom_classes": [],
            "_model_module": "@jupyter-widgets/controls",
            "_model_module_version": "2.0.0",
            "_model_name": "HTMLModel",
            "_view_count": null,
            "_view_module": "@jupyter-widgets/controls",
            "_view_module_version": "2.0.0",
            "_view_name": "HTMLView",
            "description": "",
            "description_allow_html": false,
            "layout": "IPY_MODEL_2a7bcb0a360c4d91aad03b52affc0b48",
            "placeholder": "​",
            "style": "IPY_MODEL_2a16a31d9ce947fba8fad980ef97e21e",
            "tabbable": null,
            "tooltip": null,
            "value": " 9.94G/9.94G [01:20&lt;00:00, 186MB/s]"
          }
        },
        "c8786b8d3a1646c2a3d4c40fbf0062d7": {
          "model_module": "@jupyter-widgets/base",
          "model_name": "LayoutModel",
          "model_module_version": "2.0.0",
          "state": {
            "_model_module": "@jupyter-widgets/base",
            "_model_module_version": "2.0.0",
            "_model_name": "LayoutModel",
            "_view_count": null,
            "_view_module": "@jupyter-widgets/base",
            "_view_module_version": "2.0.0",
            "_view_name": "LayoutView",
            "align_content": null,
            "align_items": null,
            "align_self": null,
            "border_bottom": null,
            "border_left": null,
            "border_right": null,
            "border_top": null,
            "bottom": null,
            "display": null,
            "flex": null,
            "flex_flow": null,
            "grid_area": null,
            "grid_auto_columns": null,
            "grid_auto_flow": null,
            "grid_auto_rows": null,
            "grid_column": null,
            "grid_gap": null,
            "grid_row": null,
            "grid_template_areas": null,
            "grid_template_columns": null,
            "grid_template_rows": null,
            "height": null,
            "justify_content": null,
            "justify_items": null,
            "left": null,
            "margin": null,
            "max_height": null,
            "max_width": null,
            "min_height": null,
            "min_width": null,
            "object_fit": null,
            "object_position": null,
            "order": null,
            "overflow": null,
            "padding": null,
            "right": null,
            "top": null,
            "visibility": null,
            "width": null
          }
        },
        "e7c30a4ff985403db53f3656922496c1": {
          "model_module": "@jupyter-widgets/controls",
          "model_name": "HBoxModel",
          "model_module_version": "2.0.0",
          "state": {
            "_dom_classes": [],
            "_model_module": "@jupyter-widgets/controls",
            "_model_module_version": "2.0.0",
            "_model_name": "HBoxModel",
            "_view_count": null,
            "_view_module": "@jupyter-widgets/controls",
            "_view_module_version": "2.0.0",
            "_view_name": "HBoxView",
            "box_style": "",
            "children": [
              "IPY_MODEL_28e672c91e0a48ca8b63674e6b68d176",
              "IPY_MODEL_603b69da0a9a47098a43ed358b9001cd",
              "IPY_MODEL_7f314121d5aa47c598391562efe327da"
            ],
            "layout": "IPY_MODEL_c8786b8d3a1646c2a3d4c40fbf0062d7",
            "tabbable": null,
            "tooltip": null
          }
        },
        "15da3c87bf4f4774bc6e563068dcab5b": {
          "model_module": "@jupyter-widgets/base",
          "model_name": "LayoutModel",
          "model_module_version": "2.0.0",
          "state": {
            "_model_module": "@jupyter-widgets/base",
            "_model_module_version": "2.0.0",
            "_model_name": "LayoutModel",
            "_view_count": null,
            "_view_module": "@jupyter-widgets/base",
            "_view_module_version": "2.0.0",
            "_view_name": "LayoutView",
            "align_content": null,
            "align_items": null,
            "align_self": null,
            "border_bottom": null,
            "border_left": null,
            "border_right": null,
            "border_top": null,
            "bottom": null,
            "display": null,
            "flex": null,
            "flex_flow": null,
            "grid_area": null,
            "grid_auto_columns": null,
            "grid_auto_flow": null,
            "grid_auto_rows": null,
            "grid_column": null,
            "grid_gap": null,
            "grid_row": null,
            "grid_template_areas": null,
            "grid_template_columns": null,
            "grid_template_rows": null,
            "height": null,
            "justify_content": null,
            "justify_items": null,
            "left": null,
            "margin": null,
            "max_height": null,
            "max_width": null,
            "min_height": null,
            "min_width": null,
            "object_fit": null,
            "object_position": null,
            "order": null,
            "overflow": null,
            "padding": null,
            "right": null,
            "top": null,
            "visibility": null,
            "width": null
          }
        },
        "efc33ad845024cb6a988e9c00b5943bb": {
          "model_module": "@jupyter-widgets/controls",
          "model_name": "ProgressStyleModel",
          "model_module_version": "2.0.0",
          "state": {
            "_model_module": "@jupyter-widgets/controls",
            "_model_module_version": "2.0.0",
            "_model_name": "ProgressStyleModel",
            "_view_count": null,
            "_view_module": "@jupyter-widgets/base",
            "_view_module_version": "2.0.0",
            "_view_name": "StyleView",
            "bar_color": null,
            "description_width": ""
          }
        },
        "928cf9514568447cbd079b2b00763ba7": {
          "model_module": "@jupyter-widgets/base",
          "model_name": "LayoutModel",
          "model_module_version": "2.0.0",
          "state": {
            "_model_module": "@jupyter-widgets/base",
            "_model_module_version": "2.0.0",
            "_model_name": "LayoutModel",
            "_view_count": null,
            "_view_module": "@jupyter-widgets/base",
            "_view_module_version": "2.0.0",
            "_view_name": "LayoutView",
            "align_content": null,
            "align_items": null,
            "align_self": null,
            "border_bottom": null,
            "border_left": null,
            "border_right": null,
            "border_top": null,
            "bottom": null,
            "display": null,
            "flex": null,
            "flex_flow": null,
            "grid_area": null,
            "grid_auto_columns": null,
            "grid_auto_flow": null,
            "grid_auto_rows": null,
            "grid_column": null,
            "grid_gap": null,
            "grid_row": null,
            "grid_template_areas": null,
            "grid_template_columns": null,
            "grid_template_rows": null,
            "height": null,
            "justify_content": null,
            "justify_items": null,
            "left": null,
            "margin": null,
            "max_height": null,
            "max_width": null,
            "min_height": null,
            "min_width": null,
            "object_fit": null,
            "object_position": null,
            "order": null,
            "overflow": null,
            "padding": null,
            "right": null,
            "top": null,
            "visibility": null,
            "width": null
          }
        },
        "0de11959050d49c29e5358ad92b3bd86": {
          "model_module": "@jupyter-widgets/controls",
          "model_name": "HTMLStyleModel",
          "model_module_version": "2.0.0",
          "state": {
            "_model_module": "@jupyter-widgets/controls",
            "_model_module_version": "2.0.0",
            "_model_name": "HTMLStyleModel",
            "_view_count": null,
            "_view_module": "@jupyter-widgets/base",
            "_view_module_version": "2.0.0",
            "_view_name": "StyleView",
            "background": null,
            "description_width": "",
            "font_size": null,
            "text_color": null
          }
        },
        "5170bcedbb0f4a439feb4c07e3be8b7e": {
          "model_module": "@jupyter-widgets/base",
          "model_name": "LayoutModel",
          "model_module_version": "2.0.0",
          "state": {
            "_model_module": "@jupyter-widgets/base",
            "_model_module_version": "2.0.0",
            "_model_name": "LayoutModel",
            "_view_count": null,
            "_view_module": "@jupyter-widgets/base",
            "_view_module_version": "2.0.0",
            "_view_name": "LayoutView",
            "align_content": null,
            "align_items": null,
            "align_self": null,
            "border_bottom": null,
            "border_left": null,
            "border_right": null,
            "border_top": null,
            "bottom": null,
            "display": null,
            "flex": null,
            "flex_flow": null,
            "grid_area": null,
            "grid_auto_columns": null,
            "grid_auto_flow": null,
            "grid_auto_rows": null,
            "grid_column": null,
            "grid_gap": null,
            "grid_row": null,
            "grid_template_areas": null,
            "grid_template_columns": null,
            "grid_template_rows": null,
            "height": null,
            "justify_content": null,
            "justify_items": null,
            "left": null,
            "margin": null,
            "max_height": null,
            "max_width": null,
            "min_height": null,
            "min_width": null,
            "object_fit": null,
            "object_position": null,
            "order": null,
            "overflow": null,
            "padding": null,
            "right": null,
            "top": null,
            "visibility": null,
            "width": null
          }
        },
        "eebf9c4809054933947a9461eb81f321": {
          "model_module": "@jupyter-widgets/controls",
          "model_name": "HTMLStyleModel",
          "model_module_version": "2.0.0",
          "state": {
            "_model_module": "@jupyter-widgets/controls",
            "_model_module_version": "2.0.0",
            "_model_name": "HTMLStyleModel",
            "_view_count": null,
            "_view_module": "@jupyter-widgets/base",
            "_view_module_version": "2.0.0",
            "_view_name": "StyleView",
            "background": null,
            "description_width": "",
            "font_size": null,
            "text_color": null
          }
        },
        "0c1d5430247e4078bafd20ab81018eaf": {
          "model_module": "@jupyter-widgets/controls",
          "model_name": "HTMLModel",
          "model_module_version": "2.0.0",
          "state": {
            "_dom_classes": [],
            "_model_module": "@jupyter-widgets/controls",
            "_model_module_version": "2.0.0",
            "_model_name": "HTMLModel",
            "_view_count": null,
            "_view_module": "@jupyter-widgets/controls",
            "_view_module_version": "2.0.0",
            "_view_name": "HTMLView",
            "description": "",
            "description_allow_html": false,
            "layout": "IPY_MODEL_928cf9514568447cbd079b2b00763ba7",
            "placeholder": "​",
            "style": "IPY_MODEL_0de11959050d49c29e5358ad92b3bd86",
            "tabbable": null,
            "tooltip": null,
            "value": "model-00002-of-00002.safetensors: 100%"
          }
        },
        "355a8712a2c244a8ac87c7f3a15c86f3": {
          "model_module": "@jupyter-widgets/controls",
          "model_name": "FloatProgressModel",
          "model_module_version": "2.0.0",
          "state": {
            "_dom_classes": [],
            "_model_module": "@jupyter-widgets/controls",
            "_model_module_version": "2.0.0",
            "_model_name": "FloatProgressModel",
            "_view_count": null,
            "_view_module": "@jupyter-widgets/controls",
            "_view_module_version": "2.0.0",
            "_view_name": "ProgressView",
            "bar_style": "success",
            "description": "",
            "description_allow_html": false,
            "layout": "IPY_MODEL_15da3c87bf4f4774bc6e563068dcab5b",
            "max": 4540516344,
            "min": 0,
            "orientation": "horizontal",
            "style": "IPY_MODEL_efc33ad845024cb6a988e9c00b5943bb",
            "tabbable": null,
            "tooltip": null,
            "value": 4540516344
          }
        },
        "d992591fcffc4fb399de78f94d9521d4": {
          "model_module": "@jupyter-widgets/controls",
          "model_name": "HTMLModel",
          "model_module_version": "2.0.0",
          "state": {
            "_dom_classes": [],
            "_model_module": "@jupyter-widgets/controls",
            "_model_module_version": "2.0.0",
            "_model_name": "HTMLModel",
            "_view_count": null,
            "_view_module": "@jupyter-widgets/controls",
            "_view_module_version": "2.0.0",
            "_view_name": "HTMLView",
            "description": "",
            "description_allow_html": false,
            "layout": "IPY_MODEL_5170bcedbb0f4a439feb4c07e3be8b7e",
            "placeholder": "​",
            "style": "IPY_MODEL_eebf9c4809054933947a9461eb81f321",
            "tabbable": null,
            "tooltip": null,
            "value": " 4.54G/4.54G [00:30&lt;00:00, 173MB/s]"
          }
        },
        "6dce3239093f4b0dab7e717c8075eaba": {
          "model_module": "@jupyter-widgets/base",
          "model_name": "LayoutModel",
          "model_module_version": "2.0.0",
          "state": {
            "_model_module": "@jupyter-widgets/base",
            "_model_module_version": "2.0.0",
            "_model_name": "LayoutModel",
            "_view_count": null,
            "_view_module": "@jupyter-widgets/base",
            "_view_module_version": "2.0.0",
            "_view_name": "LayoutView",
            "align_content": null,
            "align_items": null,
            "align_self": null,
            "border_bottom": null,
            "border_left": null,
            "border_right": null,
            "border_top": null,
            "bottom": null,
            "display": null,
            "flex": null,
            "flex_flow": null,
            "grid_area": null,
            "grid_auto_columns": null,
            "grid_auto_flow": null,
            "grid_auto_rows": null,
            "grid_column": null,
            "grid_gap": null,
            "grid_row": null,
            "grid_template_areas": null,
            "grid_template_columns": null,
            "grid_template_rows": null,
            "height": null,
            "justify_content": null,
            "justify_items": null,
            "left": null,
            "margin": null,
            "max_height": null,
            "max_width": null,
            "min_height": null,
            "min_width": null,
            "object_fit": null,
            "object_position": null,
            "order": null,
            "overflow": null,
            "padding": null,
            "right": null,
            "top": null,
            "visibility": null,
            "width": null
          }
        },
        "8a256ea2c26b471d95d8712540563bf5": {
          "model_module": "@jupyter-widgets/controls",
          "model_name": "HBoxModel",
          "model_module_version": "2.0.0",
          "state": {
            "_dom_classes": [],
            "_model_module": "@jupyter-widgets/controls",
            "_model_module_version": "2.0.0",
            "_model_name": "HBoxModel",
            "_view_count": null,
            "_view_module": "@jupyter-widgets/controls",
            "_view_module_version": "2.0.0",
            "_view_name": "HBoxView",
            "box_style": "",
            "children": [
              "IPY_MODEL_0c1d5430247e4078bafd20ab81018eaf",
              "IPY_MODEL_355a8712a2c244a8ac87c7f3a15c86f3",
              "IPY_MODEL_d992591fcffc4fb399de78f94d9521d4"
            ],
            "layout": "IPY_MODEL_6dce3239093f4b0dab7e717c8075eaba",
            "tabbable": null,
            "tooltip": null
          }
        },
        "76a8de8b7dd74f13b56ecf8815e0e383": {
          "model_module": "@jupyter-widgets/base",
          "model_name": "LayoutModel",
          "model_module_version": "2.0.0",
          "state": {
            "_model_module": "@jupyter-widgets/base",
            "_model_module_version": "2.0.0",
            "_model_name": "LayoutModel",
            "_view_count": null,
            "_view_module": "@jupyter-widgets/base",
            "_view_module_version": "2.0.0",
            "_view_name": "LayoutView",
            "align_content": null,
            "align_items": null,
            "align_self": null,
            "border_bottom": null,
            "border_left": null,
            "border_right": null,
            "border_top": null,
            "bottom": null,
            "display": null,
            "flex": null,
            "flex_flow": null,
            "grid_area": null,
            "grid_auto_columns": null,
            "grid_auto_flow": null,
            "grid_auto_rows": null,
            "grid_column": null,
            "grid_gap": null,
            "grid_row": null,
            "grid_template_areas": null,
            "grid_template_columns": null,
            "grid_template_rows": null,
            "height": null,
            "justify_content": null,
            "justify_items": null,
            "left": null,
            "margin": null,
            "max_height": null,
            "max_width": null,
            "min_height": null,
            "min_width": null,
            "object_fit": null,
            "object_position": null,
            "order": null,
            "overflow": null,
            "padding": null,
            "right": null,
            "top": null,
            "visibility": null,
            "width": null
          }
        },
        "05e432bf92fd415aa85a27ec5923304f": {
          "model_module": "@jupyter-widgets/controls",
          "model_name": "ProgressStyleModel",
          "model_module_version": "2.0.0",
          "state": {
            "_model_module": "@jupyter-widgets/controls",
            "_model_module_version": "2.0.0",
            "_model_name": "ProgressStyleModel",
            "_view_count": null,
            "_view_module": "@jupyter-widgets/base",
            "_view_module_version": "2.0.0",
            "_view_name": "StyleView",
            "bar_color": null,
            "description_width": ""
          }
        },
        "35c64e8469934313a47f8ea5c8254659": {
          "model_module": "@jupyter-widgets/base",
          "model_name": "LayoutModel",
          "model_module_version": "2.0.0",
          "state": {
            "_model_module": "@jupyter-widgets/base",
            "_model_module_version": "2.0.0",
            "_model_name": "LayoutModel",
            "_view_count": null,
            "_view_module": "@jupyter-widgets/base",
            "_view_module_version": "2.0.0",
            "_view_name": "LayoutView",
            "align_content": null,
            "align_items": null,
            "align_self": null,
            "border_bottom": null,
            "border_left": null,
            "border_right": null,
            "border_top": null,
            "bottom": null,
            "display": null,
            "flex": null,
            "flex_flow": null,
            "grid_area": null,
            "grid_auto_columns": null,
            "grid_auto_flow": null,
            "grid_auto_rows": null,
            "grid_column": null,
            "grid_gap": null,
            "grid_row": null,
            "grid_template_areas": null,
            "grid_template_columns": null,
            "grid_template_rows": null,
            "height": null,
            "justify_content": null,
            "justify_items": null,
            "left": null,
            "margin": null,
            "max_height": null,
            "max_width": null,
            "min_height": null,
            "min_width": null,
            "object_fit": null,
            "object_position": null,
            "order": null,
            "overflow": null,
            "padding": null,
            "right": null,
            "top": null,
            "visibility": null,
            "width": null
          }
        },
        "616bab5a2c3146dea48fc05c1b72f737": {
          "model_module": "@jupyter-widgets/controls",
          "model_name": "HTMLStyleModel",
          "model_module_version": "2.0.0",
          "state": {
            "_model_module": "@jupyter-widgets/controls",
            "_model_module_version": "2.0.0",
            "_model_name": "HTMLStyleModel",
            "_view_count": null,
            "_view_module": "@jupyter-widgets/base",
            "_view_module_version": "2.0.0",
            "_view_name": "StyleView",
            "background": null,
            "description_width": "",
            "font_size": null,
            "text_color": null
          }
        },
        "22593a5566e64857abeabba418e7efe1": {
          "model_module": "@jupyter-widgets/base",
          "model_name": "LayoutModel",
          "model_module_version": "2.0.0",
          "state": {
            "_model_module": "@jupyter-widgets/base",
            "_model_module_version": "2.0.0",
            "_model_name": "LayoutModel",
            "_view_count": null,
            "_view_module": "@jupyter-widgets/base",
            "_view_module_version": "2.0.0",
            "_view_name": "LayoutView",
            "align_content": null,
            "align_items": null,
            "align_self": null,
            "border_bottom": null,
            "border_left": null,
            "border_right": null,
            "border_top": null,
            "bottom": null,
            "display": null,
            "flex": null,
            "flex_flow": null,
            "grid_area": null,
            "grid_auto_columns": null,
            "grid_auto_flow": null,
            "grid_auto_rows": null,
            "grid_column": null,
            "grid_gap": null,
            "grid_row": null,
            "grid_template_areas": null,
            "grid_template_columns": null,
            "grid_template_rows": null,
            "height": null,
            "justify_content": null,
            "justify_items": null,
            "left": null,
            "margin": null,
            "max_height": null,
            "max_width": null,
            "min_height": null,
            "min_width": null,
            "object_fit": null,
            "object_position": null,
            "order": null,
            "overflow": null,
            "padding": null,
            "right": null,
            "top": null,
            "visibility": null,
            "width": null
          }
        },
        "8d36c86d4cdd42ddb36ff0b58f5adc4f": {
          "model_module": "@jupyter-widgets/controls",
          "model_name": "HTMLStyleModel",
          "model_module_version": "2.0.0",
          "state": {
            "_model_module": "@jupyter-widgets/controls",
            "_model_module_version": "2.0.0",
            "_model_name": "HTMLStyleModel",
            "_view_count": null,
            "_view_module": "@jupyter-widgets/base",
            "_view_module_version": "2.0.0",
            "_view_name": "StyleView",
            "background": null,
            "description_width": "",
            "font_size": null,
            "text_color": null
          }
        },
        "ae65c70a5d224bdb9bc89a18e6dbd1dc": {
          "model_module": "@jupyter-widgets/controls",
          "model_name": "HTMLModel",
          "model_module_version": "2.0.0",
          "state": {
            "_dom_classes": [],
            "_model_module": "@jupyter-widgets/controls",
            "_model_module_version": "2.0.0",
            "_model_name": "HTMLModel",
            "_view_count": null,
            "_view_module": "@jupyter-widgets/controls",
            "_view_module_version": "2.0.0",
            "_view_name": "HTMLView",
            "description": "",
            "description_allow_html": false,
            "layout": "IPY_MODEL_35c64e8469934313a47f8ea5c8254659",
            "placeholder": "​",
            "style": "IPY_MODEL_616bab5a2c3146dea48fc05c1b72f737",
            "tabbable": null,
            "tooltip": null,
            "value": "Loading checkpoint shards: 100%"
          }
        },
        "8da1f23199d74ea1b226b437a8d6ad69": {
          "model_module": "@jupyter-widgets/controls",
          "model_name": "FloatProgressModel",
          "model_module_version": "2.0.0",
          "state": {
            "_dom_classes": [],
            "_model_module": "@jupyter-widgets/controls",
            "_model_module_version": "2.0.0",
            "_model_name": "FloatProgressModel",
            "_view_count": null,
            "_view_module": "@jupyter-widgets/controls",
            "_view_module_version": "2.0.0",
            "_view_name": "ProgressView",
            "bar_style": "success",
            "description": "",
            "description_allow_html": false,
            "layout": "IPY_MODEL_76a8de8b7dd74f13b56ecf8815e0e383",
            "max": 2,
            "min": 0,
            "orientation": "horizontal",
            "style": "IPY_MODEL_05e432bf92fd415aa85a27ec5923304f",
            "tabbable": null,
            "tooltip": null,
            "value": 2
          }
        },
        "ff2bed372c7448c79cf3562f9e11d90a": {
          "model_module": "@jupyter-widgets/controls",
          "model_name": "HTMLModel",
          "model_module_version": "2.0.0",
          "state": {
            "_dom_classes": [],
            "_model_module": "@jupyter-widgets/controls",
            "_model_module_version": "2.0.0",
            "_model_name": "HTMLModel",
            "_view_count": null,
            "_view_module": "@jupyter-widgets/controls",
            "_view_module_version": "2.0.0",
            "_view_name": "HTMLView",
            "description": "",
            "description_allow_html": false,
            "layout": "IPY_MODEL_22593a5566e64857abeabba418e7efe1",
            "placeholder": "​",
            "style": "IPY_MODEL_8d36c86d4cdd42ddb36ff0b58f5adc4f",
            "tabbable": null,
            "tooltip": null,
            "value": " 2/2 [01:07&lt;00:00, 31.76s/it]"
          }
        },
        "29555acfc08840b38d1559a122565a9c": {
          "model_module": "@jupyter-widgets/base",
          "model_name": "LayoutModel",
          "model_module_version": "2.0.0",
          "state": {
            "_model_module": "@jupyter-widgets/base",
            "_model_module_version": "2.0.0",
            "_model_name": "LayoutModel",
            "_view_count": null,
            "_view_module": "@jupyter-widgets/base",
            "_view_module_version": "2.0.0",
            "_view_name": "LayoutView",
            "align_content": null,
            "align_items": null,
            "align_self": null,
            "border_bottom": null,
            "border_left": null,
            "border_right": null,
            "border_top": null,
            "bottom": null,
            "display": null,
            "flex": null,
            "flex_flow": null,
            "grid_area": null,
            "grid_auto_columns": null,
            "grid_auto_flow": null,
            "grid_auto_rows": null,
            "grid_column": null,
            "grid_gap": null,
            "grid_row": null,
            "grid_template_areas": null,
            "grid_template_columns": null,
            "grid_template_rows": null,
            "height": null,
            "justify_content": null,
            "justify_items": null,
            "left": null,
            "margin": null,
            "max_height": null,
            "max_width": null,
            "min_height": null,
            "min_width": null,
            "object_fit": null,
            "object_position": null,
            "order": null,
            "overflow": null,
            "padding": null,
            "right": null,
            "top": null,
            "visibility": null,
            "width": null
          }
        },
        "8e58842f155948e19a670a419ed8c027": {
          "model_module": "@jupyter-widgets/controls",
          "model_name": "HBoxModel",
          "model_module_version": "2.0.0",
          "state": {
            "_dom_classes": [],
            "_model_module": "@jupyter-widgets/controls",
            "_model_module_version": "2.0.0",
            "_model_name": "HBoxModel",
            "_view_count": null,
            "_view_module": "@jupyter-widgets/controls",
            "_view_module_version": "2.0.0",
            "_view_name": "HBoxView",
            "box_style": "",
            "children": [
              "IPY_MODEL_ae65c70a5d224bdb9bc89a18e6dbd1dc",
              "IPY_MODEL_8da1f23199d74ea1b226b437a8d6ad69",
              "IPY_MODEL_ff2bed372c7448c79cf3562f9e11d90a"
            ],
            "layout": "IPY_MODEL_29555acfc08840b38d1559a122565a9c",
            "tabbable": null,
            "tooltip": null
          }
        },
        "de81d397c25b4a14873c10161bc643a4": {
          "model_module": "@jupyter-widgets/base",
          "model_name": "LayoutModel",
          "model_module_version": "2.0.0",
          "state": {
            "_model_module": "@jupyter-widgets/base",
            "_model_module_version": "2.0.0",
            "_model_name": "LayoutModel",
            "_view_count": null,
            "_view_module": "@jupyter-widgets/base",
            "_view_module_version": "2.0.0",
            "_view_name": "LayoutView",
            "align_content": null,
            "align_items": null,
            "align_self": null,
            "border_bottom": null,
            "border_left": null,
            "border_right": null,
            "border_top": null,
            "bottom": null,
            "display": null,
            "flex": null,
            "flex_flow": null,
            "grid_area": null,
            "grid_auto_columns": null,
            "grid_auto_flow": null,
            "grid_auto_rows": null,
            "grid_column": null,
            "grid_gap": null,
            "grid_row": null,
            "grid_template_areas": null,
            "grid_template_columns": null,
            "grid_template_rows": null,
            "height": null,
            "justify_content": null,
            "justify_items": null,
            "left": null,
            "margin": null,
            "max_height": null,
            "max_width": null,
            "min_height": null,
            "min_width": null,
            "object_fit": null,
            "object_position": null,
            "order": null,
            "overflow": null,
            "padding": null,
            "right": null,
            "top": null,
            "visibility": null,
            "width": null
          }
        },
        "bede2bfd4c5344bea962326e4fa958a0": {
          "model_module": "@jupyter-widgets/controls",
          "model_name": "ProgressStyleModel",
          "model_module_version": "2.0.0",
          "state": {
            "_model_module": "@jupyter-widgets/controls",
            "_model_module_version": "2.0.0",
            "_model_name": "ProgressStyleModel",
            "_view_count": null,
            "_view_module": "@jupyter-widgets/base",
            "_view_module_version": "2.0.0",
            "_view_name": "StyleView",
            "bar_color": null,
            "description_width": ""
          }
        },
        "63140855b90947b6a9eb3dc3b2bd1e29": {
          "model_module": "@jupyter-widgets/base",
          "model_name": "LayoutModel",
          "model_module_version": "2.0.0",
          "state": {
            "_model_module": "@jupyter-widgets/base",
            "_model_module_version": "2.0.0",
            "_model_name": "LayoutModel",
            "_view_count": null,
            "_view_module": "@jupyter-widgets/base",
            "_view_module_version": "2.0.0",
            "_view_name": "LayoutView",
            "align_content": null,
            "align_items": null,
            "align_self": null,
            "border_bottom": null,
            "border_left": null,
            "border_right": null,
            "border_top": null,
            "bottom": null,
            "display": null,
            "flex": null,
            "flex_flow": null,
            "grid_area": null,
            "grid_auto_columns": null,
            "grid_auto_flow": null,
            "grid_auto_rows": null,
            "grid_column": null,
            "grid_gap": null,
            "grid_row": null,
            "grid_template_areas": null,
            "grid_template_columns": null,
            "grid_template_rows": null,
            "height": null,
            "justify_content": null,
            "justify_items": null,
            "left": null,
            "margin": null,
            "max_height": null,
            "max_width": null,
            "min_height": null,
            "min_width": null,
            "object_fit": null,
            "object_position": null,
            "order": null,
            "overflow": null,
            "padding": null,
            "right": null,
            "top": null,
            "visibility": null,
            "width": null
          }
        },
        "004ec65ff2a64aca83aed1534695256b": {
          "model_module": "@jupyter-widgets/controls",
          "model_name": "HTMLStyleModel",
          "model_module_version": "2.0.0",
          "state": {
            "_model_module": "@jupyter-widgets/controls",
            "_model_module_version": "2.0.0",
            "_model_name": "HTMLStyleModel",
            "_view_count": null,
            "_view_module": "@jupyter-widgets/base",
            "_view_module_version": "2.0.0",
            "_view_name": "StyleView",
            "background": null,
            "description_width": "",
            "font_size": null,
            "text_color": null
          }
        },
        "4c4e78db952a495a8f3072c49b1f74e1": {
          "model_module": "@jupyter-widgets/base",
          "model_name": "LayoutModel",
          "model_module_version": "2.0.0",
          "state": {
            "_model_module": "@jupyter-widgets/base",
            "_model_module_version": "2.0.0",
            "_model_name": "LayoutModel",
            "_view_count": null,
            "_view_module": "@jupyter-widgets/base",
            "_view_module_version": "2.0.0",
            "_view_name": "LayoutView",
            "align_content": null,
            "align_items": null,
            "align_self": null,
            "border_bottom": null,
            "border_left": null,
            "border_right": null,
            "border_top": null,
            "bottom": null,
            "display": null,
            "flex": null,
            "flex_flow": null,
            "grid_area": null,
            "grid_auto_columns": null,
            "grid_auto_flow": null,
            "grid_auto_rows": null,
            "grid_column": null,
            "grid_gap": null,
            "grid_row": null,
            "grid_template_areas": null,
            "grid_template_columns": null,
            "grid_template_rows": null,
            "height": null,
            "justify_content": null,
            "justify_items": null,
            "left": null,
            "margin": null,
            "max_height": null,
            "max_width": null,
            "min_height": null,
            "min_width": null,
            "object_fit": null,
            "object_position": null,
            "order": null,
            "overflow": null,
            "padding": null,
            "right": null,
            "top": null,
            "visibility": null,
            "width": null
          }
        },
        "b383a0d1d96543f682886075059a2a8b": {
          "model_module": "@jupyter-widgets/controls",
          "model_name": "HTMLStyleModel",
          "model_module_version": "2.0.0",
          "state": {
            "_model_module": "@jupyter-widgets/controls",
            "_model_module_version": "2.0.0",
            "_model_name": "HTMLStyleModel",
            "_view_count": null,
            "_view_module": "@jupyter-widgets/base",
            "_view_module_version": "2.0.0",
            "_view_name": "StyleView",
            "background": null,
            "description_width": "",
            "font_size": null,
            "text_color": null
          }
        },
        "520326d8d5b24533af1c185ca995f7ae": {
          "model_module": "@jupyter-widgets/controls",
          "model_name": "HTMLModel",
          "model_module_version": "2.0.0",
          "state": {
            "_dom_classes": [],
            "_model_module": "@jupyter-widgets/controls",
            "_model_module_version": "2.0.0",
            "_model_name": "HTMLModel",
            "_view_count": null,
            "_view_module": "@jupyter-widgets/controls",
            "_view_module_version": "2.0.0",
            "_view_name": "HTMLView",
            "description": "",
            "description_allow_html": false,
            "layout": "IPY_MODEL_63140855b90947b6a9eb3dc3b2bd1e29",
            "placeholder": "​",
            "style": "IPY_MODEL_004ec65ff2a64aca83aed1534695256b",
            "tabbable": null,
            "tooltip": null,
            "value": "generation_config.json: 100%"
          }
        },
        "405f7b63f46f4929bf52b2f44a831103": {
          "model_module": "@jupyter-widgets/controls",
          "model_name": "FloatProgressModel",
          "model_module_version": "2.0.0",
          "state": {
            "_dom_classes": [],
            "_model_module": "@jupyter-widgets/controls",
            "_model_module_version": "2.0.0",
            "_model_name": "FloatProgressModel",
            "_view_count": null,
            "_view_module": "@jupyter-widgets/controls",
            "_view_module_version": "2.0.0",
            "_view_name": "ProgressView",
            "bar_style": "success",
            "description": "",
            "description_allow_html": false,
            "layout": "IPY_MODEL_de81d397c25b4a14873c10161bc643a4",
            "max": 116,
            "min": 0,
            "orientation": "horizontal",
            "style": "IPY_MODEL_bede2bfd4c5344bea962326e4fa958a0",
            "tabbable": null,
            "tooltip": null,
            "value": 116
          }
        },
        "ae9a4d9ffbde4056a9f2002bb7ddc613": {
          "model_module": "@jupyter-widgets/controls",
          "model_name": "HTMLModel",
          "model_module_version": "2.0.0",
          "state": {
            "_dom_classes": [],
            "_model_module": "@jupyter-widgets/controls",
            "_model_module_version": "2.0.0",
            "_model_name": "HTMLModel",
            "_view_count": null,
            "_view_module": "@jupyter-widgets/controls",
            "_view_module_version": "2.0.0",
            "_view_name": "HTMLView",
            "description": "",
            "description_allow_html": false,
            "layout": "IPY_MODEL_4c4e78db952a495a8f3072c49b1f74e1",
            "placeholder": "​",
            "style": "IPY_MODEL_b383a0d1d96543f682886075059a2a8b",
            "tabbable": null,
            "tooltip": null,
            "value": " 116/116 [00:00&lt;00:00, 5.57kB/s]"
          }
        },
        "dc287df30ea943c7b503b3ceff967f2a": {
          "model_module": "@jupyter-widgets/base",
          "model_name": "LayoutModel",
          "model_module_version": "2.0.0",
          "state": {
            "_model_module": "@jupyter-widgets/base",
            "_model_module_version": "2.0.0",
            "_model_name": "LayoutModel",
            "_view_count": null,
            "_view_module": "@jupyter-widgets/base",
            "_view_module_version": "2.0.0",
            "_view_name": "LayoutView",
            "align_content": null,
            "align_items": null,
            "align_self": null,
            "border_bottom": null,
            "border_left": null,
            "border_right": null,
            "border_top": null,
            "bottom": null,
            "display": null,
            "flex": null,
            "flex_flow": null,
            "grid_area": null,
            "grid_auto_columns": null,
            "grid_auto_flow": null,
            "grid_auto_rows": null,
            "grid_column": null,
            "grid_gap": null,
            "grid_row": null,
            "grid_template_areas": null,
            "grid_template_columns": null,
            "grid_template_rows": null,
            "height": null,
            "justify_content": null,
            "justify_items": null,
            "left": null,
            "margin": null,
            "max_height": null,
            "max_width": null,
            "min_height": null,
            "min_width": null,
            "object_fit": null,
            "object_position": null,
            "order": null,
            "overflow": null,
            "padding": null,
            "right": null,
            "top": null,
            "visibility": null,
            "width": null
          }
        },
        "07ddc9e2cef44717bdd06a0a4bf5e274": {
          "model_module": "@jupyter-widgets/controls",
          "model_name": "HBoxModel",
          "model_module_version": "2.0.0",
          "state": {
            "_dom_classes": [],
            "_model_module": "@jupyter-widgets/controls",
            "_model_module_version": "2.0.0",
            "_model_name": "HBoxModel",
            "_view_count": null,
            "_view_module": "@jupyter-widgets/controls",
            "_view_module_version": "2.0.0",
            "_view_name": "HBoxView",
            "box_style": "",
            "children": [
              "IPY_MODEL_520326d8d5b24533af1c185ca995f7ae",
              "IPY_MODEL_405f7b63f46f4929bf52b2f44a831103",
              "IPY_MODEL_ae9a4d9ffbde4056a9f2002bb7ddc613"
            ],
            "layout": "IPY_MODEL_dc287df30ea943c7b503b3ceff967f2a",
            "tabbable": null,
            "tooltip": null
          }
        },
        "de545d47d61444e1b7d5d7c869ed0d22": {
          "model_module": "@jupyter-widgets/controls",
          "model_name": "HBoxModel",
          "model_module_version": "2.0.0",
          "state": {
            "_dom_classes": [],
            "_model_module": "@jupyter-widgets/controls",
            "_model_module_version": "2.0.0",
            "_model_name": "HBoxModel",
            "_view_count": null,
            "_view_module": "@jupyter-widgets/controls",
            "_view_module_version": "2.0.0",
            "_view_name": "HBoxView",
            "box_style": "",
            "children": [
              "IPY_MODEL_7b40b71e50c5446799848c02d88ee8f9",
              "IPY_MODEL_700b51e557724c0a948a9a713bb2db4d",
              "IPY_MODEL_be260137e5054b01a76344b11c85ef09"
            ],
            "layout": "IPY_MODEL_ec350955f1ce4d4986f44a8d27db9e04",
            "tabbable": null,
            "tooltip": null
          }
        },
        "7b40b71e50c5446799848c02d88ee8f9": {
          "model_module": "@jupyter-widgets/controls",
          "model_name": "HTMLModel",
          "model_module_version": "2.0.0",
          "state": {
            "_dom_classes": [],
            "_model_module": "@jupyter-widgets/controls",
            "_model_module_version": "2.0.0",
            "_model_name": "HTMLModel",
            "_view_count": null,
            "_view_module": "@jupyter-widgets/controls",
            "_view_module_version": "2.0.0",
            "_view_name": "HTMLView",
            "description": "",
            "description_allow_html": false,
            "layout": "IPY_MODEL_edda9b8caa1c466d98af3a61cf9bbe9d",
            "placeholder": "​",
            "style": "IPY_MODEL_8de4cabd0d2d4e649351950a816d1c1e",
            "tabbable": null,
            "tooltip": null,
            "value": "tokenizer_config.json: 100%"
          }
        },
        "700b51e557724c0a948a9a713bb2db4d": {
          "model_module": "@jupyter-widgets/controls",
          "model_name": "FloatProgressModel",
          "model_module_version": "2.0.0",
          "state": {
            "_dom_classes": [],
            "_model_module": "@jupyter-widgets/controls",
            "_model_module_version": "2.0.0",
            "_model_name": "FloatProgressModel",
            "_view_count": null,
            "_view_module": "@jupyter-widgets/controls",
            "_view_module_version": "2.0.0",
            "_view_name": "ProgressView",
            "bar_style": "success",
            "description": "",
            "description_allow_html": false,
            "layout": "IPY_MODEL_0fca115832704ed7ab126f08cd186f58",
            "max": 967,
            "min": 0,
            "orientation": "horizontal",
            "style": "IPY_MODEL_c45d28d5d2eb47059c47b43b1fa182ec",
            "tabbable": null,
            "tooltip": null,
            "value": 967
          }
        },
        "be260137e5054b01a76344b11c85ef09": {
          "model_module": "@jupyter-widgets/controls",
          "model_name": "HTMLModel",
          "model_module_version": "2.0.0",
          "state": {
            "_dom_classes": [],
            "_model_module": "@jupyter-widgets/controls",
            "_model_module_version": "2.0.0",
            "_model_name": "HTMLModel",
            "_view_count": null,
            "_view_module": "@jupyter-widgets/controls",
            "_view_module_version": "2.0.0",
            "_view_name": "HTMLView",
            "description": "",
            "description_allow_html": false,
            "layout": "IPY_MODEL_e31416dafe5c4d89a4e953fd52942800",
            "placeholder": "​",
            "style": "IPY_MODEL_07bbab63e474438f99b6ec0c855649e0",
            "tabbable": null,
            "tooltip": null,
            "value": " 967/967 [00:00&lt;00:00, 32.8kB/s]"
          }
        },
        "ec350955f1ce4d4986f44a8d27db9e04": {
          "model_module": "@jupyter-widgets/base",
          "model_name": "LayoutModel",
          "model_module_version": "2.0.0",
          "state": {
            "_model_module": "@jupyter-widgets/base",
            "_model_module_version": "2.0.0",
            "_model_name": "LayoutModel",
            "_view_count": null,
            "_view_module": "@jupyter-widgets/base",
            "_view_module_version": "2.0.0",
            "_view_name": "LayoutView",
            "align_content": null,
            "align_items": null,
            "align_self": null,
            "border_bottom": null,
            "border_left": null,
            "border_right": null,
            "border_top": null,
            "bottom": null,
            "display": null,
            "flex": null,
            "flex_flow": null,
            "grid_area": null,
            "grid_auto_columns": null,
            "grid_auto_flow": null,
            "grid_auto_rows": null,
            "grid_column": null,
            "grid_gap": null,
            "grid_row": null,
            "grid_template_areas": null,
            "grid_template_columns": null,
            "grid_template_rows": null,
            "height": null,
            "justify_content": null,
            "justify_items": null,
            "left": null,
            "margin": null,
            "max_height": null,
            "max_width": null,
            "min_height": null,
            "min_width": null,
            "object_fit": null,
            "object_position": null,
            "order": null,
            "overflow": null,
            "padding": null,
            "right": null,
            "top": null,
            "visibility": null,
            "width": null
          }
        },
        "edda9b8caa1c466d98af3a61cf9bbe9d": {
          "model_module": "@jupyter-widgets/base",
          "model_name": "LayoutModel",
          "model_module_version": "2.0.0",
          "state": {
            "_model_module": "@jupyter-widgets/base",
            "_model_module_version": "2.0.0",
            "_model_name": "LayoutModel",
            "_view_count": null,
            "_view_module": "@jupyter-widgets/base",
            "_view_module_version": "2.0.0",
            "_view_name": "LayoutView",
            "align_content": null,
            "align_items": null,
            "align_self": null,
            "border_bottom": null,
            "border_left": null,
            "border_right": null,
            "border_top": null,
            "bottom": null,
            "display": null,
            "flex": null,
            "flex_flow": null,
            "grid_area": null,
            "grid_auto_columns": null,
            "grid_auto_flow": null,
            "grid_auto_rows": null,
            "grid_column": null,
            "grid_gap": null,
            "grid_row": null,
            "grid_template_areas": null,
            "grid_template_columns": null,
            "grid_template_rows": null,
            "height": null,
            "justify_content": null,
            "justify_items": null,
            "left": null,
            "margin": null,
            "max_height": null,
            "max_width": null,
            "min_height": null,
            "min_width": null,
            "object_fit": null,
            "object_position": null,
            "order": null,
            "overflow": null,
            "padding": null,
            "right": null,
            "top": null,
            "visibility": null,
            "width": null
          }
        },
        "8de4cabd0d2d4e649351950a816d1c1e": {
          "model_module": "@jupyter-widgets/controls",
          "model_name": "HTMLStyleModel",
          "model_module_version": "2.0.0",
          "state": {
            "_model_module": "@jupyter-widgets/controls",
            "_model_module_version": "2.0.0",
            "_model_name": "HTMLStyleModel",
            "_view_count": null,
            "_view_module": "@jupyter-widgets/base",
            "_view_module_version": "2.0.0",
            "_view_name": "StyleView",
            "background": null,
            "description_width": "",
            "font_size": null,
            "text_color": null
          }
        },
        "0fca115832704ed7ab126f08cd186f58": {
          "model_module": "@jupyter-widgets/base",
          "model_name": "LayoutModel",
          "model_module_version": "2.0.0",
          "state": {
            "_model_module": "@jupyter-widgets/base",
            "_model_module_version": "2.0.0",
            "_model_name": "LayoutModel",
            "_view_count": null,
            "_view_module": "@jupyter-widgets/base",
            "_view_module_version": "2.0.0",
            "_view_name": "LayoutView",
            "align_content": null,
            "align_items": null,
            "align_self": null,
            "border_bottom": null,
            "border_left": null,
            "border_right": null,
            "border_top": null,
            "bottom": null,
            "display": null,
            "flex": null,
            "flex_flow": null,
            "grid_area": null,
            "grid_auto_columns": null,
            "grid_auto_flow": null,
            "grid_auto_rows": null,
            "grid_column": null,
            "grid_gap": null,
            "grid_row": null,
            "grid_template_areas": null,
            "grid_template_columns": null,
            "grid_template_rows": null,
            "height": null,
            "justify_content": null,
            "justify_items": null,
            "left": null,
            "margin": null,
            "max_height": null,
            "max_width": null,
            "min_height": null,
            "min_width": null,
            "object_fit": null,
            "object_position": null,
            "order": null,
            "overflow": null,
            "padding": null,
            "right": null,
            "top": null,
            "visibility": null,
            "width": null
          }
        },
        "c45d28d5d2eb47059c47b43b1fa182ec": {
          "model_module": "@jupyter-widgets/controls",
          "model_name": "ProgressStyleModel",
          "model_module_version": "2.0.0",
          "state": {
            "_model_module": "@jupyter-widgets/controls",
            "_model_module_version": "2.0.0",
            "_model_name": "ProgressStyleModel",
            "_view_count": null,
            "_view_module": "@jupyter-widgets/base",
            "_view_module_version": "2.0.0",
            "_view_name": "StyleView",
            "bar_color": null,
            "description_width": ""
          }
        },
        "e31416dafe5c4d89a4e953fd52942800": {
          "model_module": "@jupyter-widgets/base",
          "model_name": "LayoutModel",
          "model_module_version": "2.0.0",
          "state": {
            "_model_module": "@jupyter-widgets/base",
            "_model_module_version": "2.0.0",
            "_model_name": "LayoutModel",
            "_view_count": null,
            "_view_module": "@jupyter-widgets/base",
            "_view_module_version": "2.0.0",
            "_view_name": "LayoutView",
            "align_content": null,
            "align_items": null,
            "align_self": null,
            "border_bottom": null,
            "border_left": null,
            "border_right": null,
            "border_top": null,
            "bottom": null,
            "display": null,
            "flex": null,
            "flex_flow": null,
            "grid_area": null,
            "grid_auto_columns": null,
            "grid_auto_flow": null,
            "grid_auto_rows": null,
            "grid_column": null,
            "grid_gap": null,
            "grid_row": null,
            "grid_template_areas": null,
            "grid_template_columns": null,
            "grid_template_rows": null,
            "height": null,
            "justify_content": null,
            "justify_items": null,
            "left": null,
            "margin": null,
            "max_height": null,
            "max_width": null,
            "min_height": null,
            "min_width": null,
            "object_fit": null,
            "object_position": null,
            "order": null,
            "overflow": null,
            "padding": null,
            "right": null,
            "top": null,
            "visibility": null,
            "width": null
          }
        },
        "07bbab63e474438f99b6ec0c855649e0": {
          "model_module": "@jupyter-widgets/controls",
          "model_name": "HTMLStyleModel",
          "model_module_version": "2.0.0",
          "state": {
            "_model_module": "@jupyter-widgets/controls",
            "_model_module_version": "2.0.0",
            "_model_name": "HTMLStyleModel",
            "_view_count": null,
            "_view_module": "@jupyter-widgets/base",
            "_view_module_version": "2.0.0",
            "_view_name": "StyleView",
            "background": null,
            "description_width": "",
            "font_size": null,
            "text_color": null
          }
        },
        "956440284eee415db8e0337b87b5de06": {
          "model_module": "@jupyter-widgets/base",
          "model_name": "LayoutModel",
          "model_module_version": "2.0.0",
          "state": {
            "_model_module": "@jupyter-widgets/base",
            "_model_module_version": "2.0.0",
            "_model_name": "LayoutModel",
            "_view_count": null,
            "_view_module": "@jupyter-widgets/base",
            "_view_module_version": "2.0.0",
            "_view_name": "LayoutView",
            "align_content": null,
            "align_items": null,
            "align_self": null,
            "border_bottom": null,
            "border_left": null,
            "border_right": null,
            "border_top": null,
            "bottom": null,
            "display": null,
            "flex": null,
            "flex_flow": null,
            "grid_area": null,
            "grid_auto_columns": null,
            "grid_auto_flow": null,
            "grid_auto_rows": null,
            "grid_column": null,
            "grid_gap": null,
            "grid_row": null,
            "grid_template_areas": null,
            "grid_template_columns": null,
            "grid_template_rows": null,
            "height": null,
            "justify_content": null,
            "justify_items": null,
            "left": null,
            "margin": null,
            "max_height": null,
            "max_width": null,
            "min_height": null,
            "min_width": null,
            "object_fit": null,
            "object_position": null,
            "order": null,
            "overflow": null,
            "padding": null,
            "right": null,
            "top": null,
            "visibility": null,
            "width": null
          }
        },
        "2830f206cedf4622a87eb343b9648568": {
          "model_module": "@jupyter-widgets/controls",
          "model_name": "ProgressStyleModel",
          "model_module_version": "2.0.0",
          "state": {
            "_model_module": "@jupyter-widgets/controls",
            "_model_module_version": "2.0.0",
            "_model_name": "ProgressStyleModel",
            "_view_count": null,
            "_view_module": "@jupyter-widgets/base",
            "_view_module_version": "2.0.0",
            "_view_name": "StyleView",
            "bar_color": null,
            "description_width": ""
          }
        },
        "432b4e8c64eb43feb20457b73b3383a7": {
          "model_module": "@jupyter-widgets/base",
          "model_name": "LayoutModel",
          "model_module_version": "2.0.0",
          "state": {
            "_model_module": "@jupyter-widgets/base",
            "_model_module_version": "2.0.0",
            "_model_name": "LayoutModel",
            "_view_count": null,
            "_view_module": "@jupyter-widgets/base",
            "_view_module_version": "2.0.0",
            "_view_name": "LayoutView",
            "align_content": null,
            "align_items": null,
            "align_self": null,
            "border_bottom": null,
            "border_left": null,
            "border_right": null,
            "border_top": null,
            "bottom": null,
            "display": null,
            "flex": null,
            "flex_flow": null,
            "grid_area": null,
            "grid_auto_columns": null,
            "grid_auto_flow": null,
            "grid_auto_rows": null,
            "grid_column": null,
            "grid_gap": null,
            "grid_row": null,
            "grid_template_areas": null,
            "grid_template_columns": null,
            "grid_template_rows": null,
            "height": null,
            "justify_content": null,
            "justify_items": null,
            "left": null,
            "margin": null,
            "max_height": null,
            "max_width": null,
            "min_height": null,
            "min_width": null,
            "object_fit": null,
            "object_position": null,
            "order": null,
            "overflow": null,
            "padding": null,
            "right": null,
            "top": null,
            "visibility": null,
            "width": null
          }
        },
        "9c20b77c3621428d96e9c60f6bbf0192": {
          "model_module": "@jupyter-widgets/controls",
          "model_name": "HTMLStyleModel",
          "model_module_version": "2.0.0",
          "state": {
            "_model_module": "@jupyter-widgets/controls",
            "_model_module_version": "2.0.0",
            "_model_name": "HTMLStyleModel",
            "_view_count": null,
            "_view_module": "@jupyter-widgets/base",
            "_view_module_version": "2.0.0",
            "_view_name": "StyleView",
            "background": null,
            "description_width": "",
            "font_size": null,
            "text_color": null
          }
        },
        "77ac287a66784060b76f0e10803106f5": {
          "model_module": "@jupyter-widgets/base",
          "model_name": "LayoutModel",
          "model_module_version": "2.0.0",
          "state": {
            "_model_module": "@jupyter-widgets/base",
            "_model_module_version": "2.0.0",
            "_model_name": "LayoutModel",
            "_view_count": null,
            "_view_module": "@jupyter-widgets/base",
            "_view_module_version": "2.0.0",
            "_view_name": "LayoutView",
            "align_content": null,
            "align_items": null,
            "align_self": null,
            "border_bottom": null,
            "border_left": null,
            "border_right": null,
            "border_top": null,
            "bottom": null,
            "display": null,
            "flex": null,
            "flex_flow": null,
            "grid_area": null,
            "grid_auto_columns": null,
            "grid_auto_flow": null,
            "grid_auto_rows": null,
            "grid_column": null,
            "grid_gap": null,
            "grid_row": null,
            "grid_template_areas": null,
            "grid_template_columns": null,
            "grid_template_rows": null,
            "height": null,
            "justify_content": null,
            "justify_items": null,
            "left": null,
            "margin": null,
            "max_height": null,
            "max_width": null,
            "min_height": null,
            "min_width": null,
            "object_fit": null,
            "object_position": null,
            "order": null,
            "overflow": null,
            "padding": null,
            "right": null,
            "top": null,
            "visibility": null,
            "width": null
          }
        },
        "7f4c4fd8c719416d87949435aeefdd0f": {
          "model_module": "@jupyter-widgets/controls",
          "model_name": "HTMLStyleModel",
          "model_module_version": "2.0.0",
          "state": {
            "_model_module": "@jupyter-widgets/controls",
            "_model_module_version": "2.0.0",
            "_model_name": "HTMLStyleModel",
            "_view_count": null,
            "_view_module": "@jupyter-widgets/base",
            "_view_module_version": "2.0.0",
            "_view_name": "StyleView",
            "background": null,
            "description_width": "",
            "font_size": null,
            "text_color": null
          }
        },
        "6cc78e71777545dc82d9d90d22c54c62": {
          "model_module": "@jupyter-widgets/controls",
          "model_name": "HTMLModel",
          "model_module_version": "2.0.0",
          "state": {
            "_dom_classes": [],
            "_model_module": "@jupyter-widgets/controls",
            "_model_module_version": "2.0.0",
            "_model_name": "HTMLModel",
            "_view_count": null,
            "_view_module": "@jupyter-widgets/controls",
            "_view_module_version": "2.0.0",
            "_view_name": "HTMLView",
            "description": "",
            "description_allow_html": false,
            "layout": "IPY_MODEL_432b4e8c64eb43feb20457b73b3383a7",
            "placeholder": "​",
            "style": "IPY_MODEL_9c20b77c3621428d96e9c60f6bbf0192",
            "tabbable": null,
            "tooltip": null,
            "value": "tokenizer.model: 100%"
          }
        },
        "eed935756d8c4e28a44fd2131573bb3e": {
          "model_module": "@jupyter-widgets/controls",
          "model_name": "FloatProgressModel",
          "model_module_version": "2.0.0",
          "state": {
            "_dom_classes": [],
            "_model_module": "@jupyter-widgets/controls",
            "_model_module_version": "2.0.0",
            "_model_name": "FloatProgressModel",
            "_view_count": null,
            "_view_module": "@jupyter-widgets/controls",
            "_view_module_version": "2.0.0",
            "_view_name": "ProgressView",
            "bar_style": "success",
            "description": "",
            "description_allow_html": false,
            "layout": "IPY_MODEL_956440284eee415db8e0337b87b5de06",
            "max": 493443,
            "min": 0,
            "orientation": "horizontal",
            "style": "IPY_MODEL_2830f206cedf4622a87eb343b9648568",
            "tabbable": null,
            "tooltip": null,
            "value": 493443
          }
        },
        "55df6fdbb62b4c37891bdcd8e6469008": {
          "model_module": "@jupyter-widgets/controls",
          "model_name": "HTMLModel",
          "model_module_version": "2.0.0",
          "state": {
            "_dom_classes": [],
            "_model_module": "@jupyter-widgets/controls",
            "_model_module_version": "2.0.0",
            "_model_name": "HTMLModel",
            "_view_count": null,
            "_view_module": "@jupyter-widgets/controls",
            "_view_module_version": "2.0.0",
            "_view_name": "HTMLView",
            "description": "",
            "description_allow_html": false,
            "layout": "IPY_MODEL_77ac287a66784060b76f0e10803106f5",
            "placeholder": "​",
            "style": "IPY_MODEL_7f4c4fd8c719416d87949435aeefdd0f",
            "tabbable": null,
            "tooltip": null,
            "value": " 493k/493k [00:00&lt;00:00, 15.2MB/s]"
          }
        },
        "368a7ba092e346c6b488e011a88673f6": {
          "model_module": "@jupyter-widgets/base",
          "model_name": "LayoutModel",
          "model_module_version": "2.0.0",
          "state": {
            "_model_module": "@jupyter-widgets/base",
            "_model_module_version": "2.0.0",
            "_model_name": "LayoutModel",
            "_view_count": null,
            "_view_module": "@jupyter-widgets/base",
            "_view_module_version": "2.0.0",
            "_view_name": "LayoutView",
            "align_content": null,
            "align_items": null,
            "align_self": null,
            "border_bottom": null,
            "border_left": null,
            "border_right": null,
            "border_top": null,
            "bottom": null,
            "display": null,
            "flex": null,
            "flex_flow": null,
            "grid_area": null,
            "grid_auto_columns": null,
            "grid_auto_flow": null,
            "grid_auto_rows": null,
            "grid_column": null,
            "grid_gap": null,
            "grid_row": null,
            "grid_template_areas": null,
            "grid_template_columns": null,
            "grid_template_rows": null,
            "height": null,
            "justify_content": null,
            "justify_items": null,
            "left": null,
            "margin": null,
            "max_height": null,
            "max_width": null,
            "min_height": null,
            "min_width": null,
            "object_fit": null,
            "object_position": null,
            "order": null,
            "overflow": null,
            "padding": null,
            "right": null,
            "top": null,
            "visibility": null,
            "width": null
          }
        },
        "5abd283671544ae8b46d14090a343424": {
          "model_module": "@jupyter-widgets/controls",
          "model_name": "HBoxModel",
          "model_module_version": "2.0.0",
          "state": {
            "_dom_classes": [],
            "_model_module": "@jupyter-widgets/controls",
            "_model_module_version": "2.0.0",
            "_model_name": "HBoxModel",
            "_view_count": null,
            "_view_module": "@jupyter-widgets/controls",
            "_view_module_version": "2.0.0",
            "_view_name": "HBoxView",
            "box_style": "",
            "children": [
              "IPY_MODEL_6cc78e71777545dc82d9d90d22c54c62",
              "IPY_MODEL_eed935756d8c4e28a44fd2131573bb3e",
              "IPY_MODEL_55df6fdbb62b4c37891bdcd8e6469008"
            ],
            "layout": "IPY_MODEL_368a7ba092e346c6b488e011a88673f6",
            "tabbable": null,
            "tooltip": null
          }
        },
        "a599901f1a0e438aa8978e2456556976": {
          "model_module": "@jupyter-widgets/base",
          "model_name": "LayoutModel",
          "model_module_version": "2.0.0",
          "state": {
            "_model_module": "@jupyter-widgets/base",
            "_model_module_version": "2.0.0",
            "_model_name": "LayoutModel",
            "_view_count": null,
            "_view_module": "@jupyter-widgets/base",
            "_view_module_version": "2.0.0",
            "_view_name": "LayoutView",
            "align_content": null,
            "align_items": null,
            "align_self": null,
            "border_bottom": null,
            "border_left": null,
            "border_right": null,
            "border_top": null,
            "bottom": null,
            "display": null,
            "flex": null,
            "flex_flow": null,
            "grid_area": null,
            "grid_auto_columns": null,
            "grid_auto_flow": null,
            "grid_auto_rows": null,
            "grid_column": null,
            "grid_gap": null,
            "grid_row": null,
            "grid_template_areas": null,
            "grid_template_columns": null,
            "grid_template_rows": null,
            "height": null,
            "justify_content": null,
            "justify_items": null,
            "left": null,
            "margin": null,
            "max_height": null,
            "max_width": null,
            "min_height": null,
            "min_width": null,
            "object_fit": null,
            "object_position": null,
            "order": null,
            "overflow": null,
            "padding": null,
            "right": null,
            "top": null,
            "visibility": null,
            "width": null
          }
        },
        "00464f5250c542fb8b4e84d3ec0ce16d": {
          "model_module": "@jupyter-widgets/controls",
          "model_name": "ProgressStyleModel",
          "model_module_version": "2.0.0",
          "state": {
            "_model_module": "@jupyter-widgets/controls",
            "_model_module_version": "2.0.0",
            "_model_name": "ProgressStyleModel",
            "_view_count": null,
            "_view_module": "@jupyter-widgets/base",
            "_view_module_version": "2.0.0",
            "_view_name": "StyleView",
            "bar_color": null,
            "description_width": ""
          }
        },
        "93e2f54f90974947b666a3657c028de4": {
          "model_module": "@jupyter-widgets/base",
          "model_name": "LayoutModel",
          "model_module_version": "2.0.0",
          "state": {
            "_model_module": "@jupyter-widgets/base",
            "_model_module_version": "2.0.0",
            "_model_name": "LayoutModel",
            "_view_count": null,
            "_view_module": "@jupyter-widgets/base",
            "_view_module_version": "2.0.0",
            "_view_name": "LayoutView",
            "align_content": null,
            "align_items": null,
            "align_self": null,
            "border_bottom": null,
            "border_left": null,
            "border_right": null,
            "border_top": null,
            "bottom": null,
            "display": null,
            "flex": null,
            "flex_flow": null,
            "grid_area": null,
            "grid_auto_columns": null,
            "grid_auto_flow": null,
            "grid_auto_rows": null,
            "grid_column": null,
            "grid_gap": null,
            "grid_row": null,
            "grid_template_areas": null,
            "grid_template_columns": null,
            "grid_template_rows": null,
            "height": null,
            "justify_content": null,
            "justify_items": null,
            "left": null,
            "margin": null,
            "max_height": null,
            "max_width": null,
            "min_height": null,
            "min_width": null,
            "object_fit": null,
            "object_position": null,
            "order": null,
            "overflow": null,
            "padding": null,
            "right": null,
            "top": null,
            "visibility": null,
            "width": null
          }
        },
        "1e5bc37945c148c79c22f19044524746": {
          "model_module": "@jupyter-widgets/controls",
          "model_name": "HTMLStyleModel",
          "model_module_version": "2.0.0",
          "state": {
            "_model_module": "@jupyter-widgets/controls",
            "_model_module_version": "2.0.0",
            "_model_name": "HTMLStyleModel",
            "_view_count": null,
            "_view_module": "@jupyter-widgets/base",
            "_view_module_version": "2.0.0",
            "_view_name": "StyleView",
            "background": null,
            "description_width": "",
            "font_size": null,
            "text_color": null
          }
        },
        "3746d80b7cd845e4b507708d64b9c21e": {
          "model_module": "@jupyter-widgets/base",
          "model_name": "LayoutModel",
          "model_module_version": "2.0.0",
          "state": {
            "_model_module": "@jupyter-widgets/base",
            "_model_module_version": "2.0.0",
            "_model_name": "LayoutModel",
            "_view_count": null,
            "_view_module": "@jupyter-widgets/base",
            "_view_module_version": "2.0.0",
            "_view_name": "LayoutView",
            "align_content": null,
            "align_items": null,
            "align_self": null,
            "border_bottom": null,
            "border_left": null,
            "border_right": null,
            "border_top": null,
            "bottom": null,
            "display": null,
            "flex": null,
            "flex_flow": null,
            "grid_area": null,
            "grid_auto_columns": null,
            "grid_auto_flow": null,
            "grid_auto_rows": null,
            "grid_column": null,
            "grid_gap": null,
            "grid_row": null,
            "grid_template_areas": null,
            "grid_template_columns": null,
            "grid_template_rows": null,
            "height": null,
            "justify_content": null,
            "justify_items": null,
            "left": null,
            "margin": null,
            "max_height": null,
            "max_width": null,
            "min_height": null,
            "min_width": null,
            "object_fit": null,
            "object_position": null,
            "order": null,
            "overflow": null,
            "padding": null,
            "right": null,
            "top": null,
            "visibility": null,
            "width": null
          }
        },
        "0f2bf968b45646a1b05f9defc414aaad": {
          "model_module": "@jupyter-widgets/controls",
          "model_name": "HTMLStyleModel",
          "model_module_version": "2.0.0",
          "state": {
            "_model_module": "@jupyter-widgets/controls",
            "_model_module_version": "2.0.0",
            "_model_name": "HTMLStyleModel",
            "_view_count": null,
            "_view_module": "@jupyter-widgets/base",
            "_view_module_version": "2.0.0",
            "_view_name": "StyleView",
            "background": null,
            "description_width": "",
            "font_size": null,
            "text_color": null
          }
        },
        "8b1a6654675e47cbbb6909af95e1bf10": {
          "model_module": "@jupyter-widgets/controls",
          "model_name": "HTMLModel",
          "model_module_version": "2.0.0",
          "state": {
            "_dom_classes": [],
            "_model_module": "@jupyter-widgets/controls",
            "_model_module_version": "2.0.0",
            "_model_name": "HTMLModel",
            "_view_count": null,
            "_view_module": "@jupyter-widgets/controls",
            "_view_module_version": "2.0.0",
            "_view_name": "HTMLView",
            "description": "",
            "description_allow_html": false,
            "layout": "IPY_MODEL_93e2f54f90974947b666a3657c028de4",
            "placeholder": "​",
            "style": "IPY_MODEL_1e5bc37945c148c79c22f19044524746",
            "tabbable": null,
            "tooltip": null,
            "value": "tokenizer.json: 100%"
          }
        },
        "d22f4486414340b484b5a47f2598e54f": {
          "model_module": "@jupyter-widgets/controls",
          "model_name": "FloatProgressModel",
          "model_module_version": "2.0.0",
          "state": {
            "_dom_classes": [],
            "_model_module": "@jupyter-widgets/controls",
            "_model_module_version": "2.0.0",
            "_model_name": "FloatProgressModel",
            "_view_count": null,
            "_view_module": "@jupyter-widgets/controls",
            "_view_module_version": "2.0.0",
            "_view_name": "ProgressView",
            "bar_style": "success",
            "description": "",
            "description_allow_html": false,
            "layout": "IPY_MODEL_a599901f1a0e438aa8978e2456556976",
            "max": 1795303,
            "min": 0,
            "orientation": "horizontal",
            "style": "IPY_MODEL_00464f5250c542fb8b4e84d3ec0ce16d",
            "tabbable": null,
            "tooltip": null,
            "value": 1795303
          }
        },
        "ec61d0130cdb4f46bd113113abe0874c": {
          "model_module": "@jupyter-widgets/controls",
          "model_name": "HTMLModel",
          "model_module_version": "2.0.0",
          "state": {
            "_dom_classes": [],
            "_model_module": "@jupyter-widgets/controls",
            "_model_module_version": "2.0.0",
            "_model_name": "HTMLModel",
            "_view_count": null,
            "_view_module": "@jupyter-widgets/controls",
            "_view_module_version": "2.0.0",
            "_view_name": "HTMLView",
            "description": "",
            "description_allow_html": false,
            "layout": "IPY_MODEL_3746d80b7cd845e4b507708d64b9c21e",
            "placeholder": "​",
            "style": "IPY_MODEL_0f2bf968b45646a1b05f9defc414aaad",
            "tabbable": null,
            "tooltip": null,
            "value": " 1.80M/1.80M [00:01&lt;00:00, 1.47MB/s]"
          }
        },
        "1dd4cd0adc864b2c84d194dc2ed20620": {
          "model_module": "@jupyter-widgets/base",
          "model_name": "LayoutModel",
          "model_module_version": "2.0.0",
          "state": {
            "_model_module": "@jupyter-widgets/base",
            "_model_module_version": "2.0.0",
            "_model_name": "LayoutModel",
            "_view_count": null,
            "_view_module": "@jupyter-widgets/base",
            "_view_module_version": "2.0.0",
            "_view_name": "LayoutView",
            "align_content": null,
            "align_items": null,
            "align_self": null,
            "border_bottom": null,
            "border_left": null,
            "border_right": null,
            "border_top": null,
            "bottom": null,
            "display": null,
            "flex": null,
            "flex_flow": null,
            "grid_area": null,
            "grid_auto_columns": null,
            "grid_auto_flow": null,
            "grid_auto_rows": null,
            "grid_column": null,
            "grid_gap": null,
            "grid_row": null,
            "grid_template_areas": null,
            "grid_template_columns": null,
            "grid_template_rows": null,
            "height": null,
            "justify_content": null,
            "justify_items": null,
            "left": null,
            "margin": null,
            "max_height": null,
            "max_width": null,
            "min_height": null,
            "min_width": null,
            "object_fit": null,
            "object_position": null,
            "order": null,
            "overflow": null,
            "padding": null,
            "right": null,
            "top": null,
            "visibility": null,
            "width": null
          }
        },
        "db085226c2fc4a2d855b4816308ad5cf": {
          "model_module": "@jupyter-widgets/controls",
          "model_name": "HBoxModel",
          "model_module_version": "2.0.0",
          "state": {
            "_dom_classes": [],
            "_model_module": "@jupyter-widgets/controls",
            "_model_module_version": "2.0.0",
            "_model_name": "HBoxModel",
            "_view_count": null,
            "_view_module": "@jupyter-widgets/controls",
            "_view_module_version": "2.0.0",
            "_view_name": "HBoxView",
            "box_style": "",
            "children": [
              "IPY_MODEL_8b1a6654675e47cbbb6909af95e1bf10",
              "IPY_MODEL_d22f4486414340b484b5a47f2598e54f",
              "IPY_MODEL_ec61d0130cdb4f46bd113113abe0874c"
            ],
            "layout": "IPY_MODEL_1dd4cd0adc864b2c84d194dc2ed20620",
            "tabbable": null,
            "tooltip": null
          }
        },
        "92b9a5360d01436b86f6a92200257a4e": {
          "model_module": "@jupyter-widgets/base",
          "model_name": "LayoutModel",
          "model_module_version": "2.0.0",
          "state": {
            "_model_module": "@jupyter-widgets/base",
            "_model_module_version": "2.0.0",
            "_model_name": "LayoutModel",
            "_view_count": null,
            "_view_module": "@jupyter-widgets/base",
            "_view_module_version": "2.0.0",
            "_view_name": "LayoutView",
            "align_content": null,
            "align_items": null,
            "align_self": null,
            "border_bottom": null,
            "border_left": null,
            "border_right": null,
            "border_top": null,
            "bottom": null,
            "display": null,
            "flex": null,
            "flex_flow": null,
            "grid_area": null,
            "grid_auto_columns": null,
            "grid_auto_flow": null,
            "grid_auto_rows": null,
            "grid_column": null,
            "grid_gap": null,
            "grid_row": null,
            "grid_template_areas": null,
            "grid_template_columns": null,
            "grid_template_rows": null,
            "height": null,
            "justify_content": null,
            "justify_items": null,
            "left": null,
            "margin": null,
            "max_height": null,
            "max_width": null,
            "min_height": null,
            "min_width": null,
            "object_fit": null,
            "object_position": null,
            "order": null,
            "overflow": null,
            "padding": null,
            "right": null,
            "top": null,
            "visibility": null,
            "width": null
          }
        },
        "dbc857d924a54048851d27fa5518c768": {
          "model_module": "@jupyter-widgets/controls",
          "model_name": "ProgressStyleModel",
          "model_module_version": "2.0.0",
          "state": {
            "_model_module": "@jupyter-widgets/controls",
            "_model_module_version": "2.0.0",
            "_model_name": "ProgressStyleModel",
            "_view_count": null,
            "_view_module": "@jupyter-widgets/base",
            "_view_module_version": "2.0.0",
            "_view_name": "StyleView",
            "bar_color": null,
            "description_width": ""
          }
        },
        "d4b076e868504f2e91bcecf17592d6f1": {
          "model_module": "@jupyter-widgets/base",
          "model_name": "LayoutModel",
          "model_module_version": "2.0.0",
          "state": {
            "_model_module": "@jupyter-widgets/base",
            "_model_module_version": "2.0.0",
            "_model_name": "LayoutModel",
            "_view_count": null,
            "_view_module": "@jupyter-widgets/base",
            "_view_module_version": "2.0.0",
            "_view_name": "LayoutView",
            "align_content": null,
            "align_items": null,
            "align_self": null,
            "border_bottom": null,
            "border_left": null,
            "border_right": null,
            "border_top": null,
            "bottom": null,
            "display": null,
            "flex": null,
            "flex_flow": null,
            "grid_area": null,
            "grid_auto_columns": null,
            "grid_auto_flow": null,
            "grid_auto_rows": null,
            "grid_column": null,
            "grid_gap": null,
            "grid_row": null,
            "grid_template_areas": null,
            "grid_template_columns": null,
            "grid_template_rows": null,
            "height": null,
            "justify_content": null,
            "justify_items": null,
            "left": null,
            "margin": null,
            "max_height": null,
            "max_width": null,
            "min_height": null,
            "min_width": null,
            "object_fit": null,
            "object_position": null,
            "order": null,
            "overflow": null,
            "padding": null,
            "right": null,
            "top": null,
            "visibility": null,
            "width": null
          }
        },
        "7e002f38bc304d229ad0ee1f2f0716e1": {
          "model_module": "@jupyter-widgets/controls",
          "model_name": "HTMLStyleModel",
          "model_module_version": "2.0.0",
          "state": {
            "_model_module": "@jupyter-widgets/controls",
            "_model_module_version": "2.0.0",
            "_model_name": "HTMLStyleModel",
            "_view_count": null,
            "_view_module": "@jupyter-widgets/base",
            "_view_module_version": "2.0.0",
            "_view_name": "StyleView",
            "background": null,
            "description_width": "",
            "font_size": null,
            "text_color": null
          }
        },
        "63d3d06c970a4a74a0e6ecbbaf576b4e": {
          "model_module": "@jupyter-widgets/base",
          "model_name": "LayoutModel",
          "model_module_version": "2.0.0",
          "state": {
            "_model_module": "@jupyter-widgets/base",
            "_model_module_version": "2.0.0",
            "_model_name": "LayoutModel",
            "_view_count": null,
            "_view_module": "@jupyter-widgets/base",
            "_view_module_version": "2.0.0",
            "_view_name": "LayoutView",
            "align_content": null,
            "align_items": null,
            "align_self": null,
            "border_bottom": null,
            "border_left": null,
            "border_right": null,
            "border_top": null,
            "bottom": null,
            "display": null,
            "flex": null,
            "flex_flow": null,
            "grid_area": null,
            "grid_auto_columns": null,
            "grid_auto_flow": null,
            "grid_auto_rows": null,
            "grid_column": null,
            "grid_gap": null,
            "grid_row": null,
            "grid_template_areas": null,
            "grid_template_columns": null,
            "grid_template_rows": null,
            "height": null,
            "justify_content": null,
            "justify_items": null,
            "left": null,
            "margin": null,
            "max_height": null,
            "max_width": null,
            "min_height": null,
            "min_width": null,
            "object_fit": null,
            "object_position": null,
            "order": null,
            "overflow": null,
            "padding": null,
            "right": null,
            "top": null,
            "visibility": null,
            "width": null
          }
        },
        "cce1d25898aa473887975fafaaf812ae": {
          "model_module": "@jupyter-widgets/controls",
          "model_name": "HTMLStyleModel",
          "model_module_version": "2.0.0",
          "state": {
            "_model_module": "@jupyter-widgets/controls",
            "_model_module_version": "2.0.0",
            "_model_name": "HTMLStyleModel",
            "_view_count": null,
            "_view_module": "@jupyter-widgets/base",
            "_view_module_version": "2.0.0",
            "_view_name": "StyleView",
            "background": null,
            "description_width": "",
            "font_size": null,
            "text_color": null
          }
        },
        "6fc34dd761c64c17920b5cc2c6be2493": {
          "model_module": "@jupyter-widgets/controls",
          "model_name": "HTMLModel",
          "model_module_version": "2.0.0",
          "state": {
            "_dom_classes": [],
            "_model_module": "@jupyter-widgets/controls",
            "_model_module_version": "2.0.0",
            "_model_name": "HTMLModel",
            "_view_count": null,
            "_view_module": "@jupyter-widgets/controls",
            "_view_module_version": "2.0.0",
            "_view_name": "HTMLView",
            "description": "",
            "description_allow_html": false,
            "layout": "IPY_MODEL_d4b076e868504f2e91bcecf17592d6f1",
            "placeholder": "​",
            "style": "IPY_MODEL_7e002f38bc304d229ad0ee1f2f0716e1",
            "tabbable": null,
            "tooltip": null,
            "value": "special_tokens_map.json: 100%"
          }
        },
        "acb3ab32965b4b038ad7d89719e22dda": {
          "model_module": "@jupyter-widgets/controls",
          "model_name": "FloatProgressModel",
          "model_module_version": "2.0.0",
          "state": {
            "_dom_classes": [],
            "_model_module": "@jupyter-widgets/controls",
            "_model_module_version": "2.0.0",
            "_model_name": "FloatProgressModel",
            "_view_count": null,
            "_view_module": "@jupyter-widgets/controls",
            "_view_module_version": "2.0.0",
            "_view_name": "ProgressView",
            "bar_style": "success",
            "description": "",
            "description_allow_html": false,
            "layout": "IPY_MODEL_92b9a5360d01436b86f6a92200257a4e",
            "max": 72,
            "min": 0,
            "orientation": "horizontal",
            "style": "IPY_MODEL_dbc857d924a54048851d27fa5518c768",
            "tabbable": null,
            "tooltip": null,
            "value": 72
          }
        },
        "f35ca22f21984eb69eaca6e73e8f0bac": {
          "model_module": "@jupyter-widgets/controls",
          "model_name": "HTMLModel",
          "model_module_version": "2.0.0",
          "state": {
            "_dom_classes": [],
            "_model_module": "@jupyter-widgets/controls",
            "_model_module_version": "2.0.0",
            "_model_name": "HTMLModel",
            "_view_count": null,
            "_view_module": "@jupyter-widgets/controls",
            "_view_module_version": "2.0.0",
            "_view_name": "HTMLView",
            "description": "",
            "description_allow_html": false,
            "layout": "IPY_MODEL_63d3d06c970a4a74a0e6ecbbaf576b4e",
            "placeholder": "​",
            "style": "IPY_MODEL_cce1d25898aa473887975fafaaf812ae",
            "tabbable": null,
            "tooltip": null,
            "value": " 72.0/72.0 [00:00&lt;00:00, 5.33kB/s]"
          }
        },
        "31d6683f41f541618247b56c0849221c": {
          "model_module": "@jupyter-widgets/base",
          "model_name": "LayoutModel",
          "model_module_version": "2.0.0",
          "state": {
            "_model_module": "@jupyter-widgets/base",
            "_model_module_version": "2.0.0",
            "_model_name": "LayoutModel",
            "_view_count": null,
            "_view_module": "@jupyter-widgets/base",
            "_view_module_version": "2.0.0",
            "_view_name": "LayoutView",
            "align_content": null,
            "align_items": null,
            "align_self": null,
            "border_bottom": null,
            "border_left": null,
            "border_right": null,
            "border_top": null,
            "bottom": null,
            "display": null,
            "flex": null,
            "flex_flow": null,
            "grid_area": null,
            "grid_auto_columns": null,
            "grid_auto_flow": null,
            "grid_auto_rows": null,
            "grid_column": null,
            "grid_gap": null,
            "grid_row": null,
            "grid_template_areas": null,
            "grid_template_columns": null,
            "grid_template_rows": null,
            "height": null,
            "justify_content": null,
            "justify_items": null,
            "left": null,
            "margin": null,
            "max_height": null,
            "max_width": null,
            "min_height": null,
            "min_width": null,
            "object_fit": null,
            "object_position": null,
            "order": null,
            "overflow": null,
            "padding": null,
            "right": null,
            "top": null,
            "visibility": null,
            "width": null
          }
        },
        "0f8a783c9599410388be5d1d85573cc9": {
          "model_module": "@jupyter-widgets/controls",
          "model_name": "HBoxModel",
          "model_module_version": "2.0.0",
          "state": {
            "_dom_classes": [],
            "_model_module": "@jupyter-widgets/controls",
            "_model_module_version": "2.0.0",
            "_model_name": "HBoxModel",
            "_view_count": null,
            "_view_module": "@jupyter-widgets/controls",
            "_view_module_version": "2.0.0",
            "_view_name": "HBoxView",
            "box_style": "",
            "children": [
              "IPY_MODEL_6fc34dd761c64c17920b5cc2c6be2493",
              "IPY_MODEL_acb3ab32965b4b038ad7d89719e22dda",
              "IPY_MODEL_f35ca22f21984eb69eaca6e73e8f0bac"
            ],
            "layout": "IPY_MODEL_31d6683f41f541618247b56c0849221c",
            "tabbable": null,
            "tooltip": null
          }
        }
      }
    }
  },
  "nbformat": 4,
  "nbformat_minor": 0
}